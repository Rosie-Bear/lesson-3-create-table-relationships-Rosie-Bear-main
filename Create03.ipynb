{
    "metadata": {
        "kernelspec": {
            "name": "SQL",
            "display_name": "SQL",
            "language": "sql"
        },
        "language_info": {
            "name": "sql",
            "version": ""
        }
    },
    "nbformat_minor": 2,
    "nbformat": 4,
    "cells": [
        {
            "cell_type": "markdown",
            "source": [
                "# Relationships Between Tables\n",
                "\n",
                "## **Getting Started**\n",
                "\n",
                "This week we will be learning how to how to pull data from multiple tables.\n",
                "\n",
                "**Before beginning:** It is recommended that you open/download the _guitar store ERD_ that is available in Github so you can review it during the assignment."
            ],
            "metadata": {
                "azdata_cell_guid": "de8f1dca-9954-446d-8f2d-4f06e0d72827"
            },
            "attachments": {}
        },
        {
            "cell_type": "markdown",
            "source": [
                "## **Joins**\n",
                "\n",
                "Joins are how we relate tables during query execution to obtain a specific result. Joins are different from relationships in the sense that relationships exist for the purpose of maintaining data integrity between tables. The relationship that exist in the _guitar store_ database between _Categories_ and _Products_ is in place to ensure that there are no products that don't have a corresponding record in the _Categories_ table. To return related data between these tables we can use the JOIN statement in our SQL."
            ],
            "metadata": {
                "azdata_cell_guid": "dbb7343c-a44c-4df2-bcb7-a87c72b4c28e"
            },
            "attachments": {}
        },
        {
            "cell_type": "markdown",
            "source": [
                "During this exercise, we will be using the _Products_ and _Categories_ tables. Run the below code cells (2) to see the structure and data in each table."
            ],
            "metadata": {
                "azdata_cell_guid": "7d964553-c7cd-4841-a8c3-75b42be87144"
            },
            "attachments": {}
        },
        {
            "cell_type": "code",
            "source": [
                "--Select all records form gs_products\n",
                "SELECT *\n",
                "FROM gs_products"
            ],
            "metadata": {
                "azdata_cell_guid": "b207d7e2-2ec8-46c4-a0a3-4653cdbce79e",
                "language": "sql",
                "tags": []
            },
            "outputs": [],
            "execution_count": null
        },
        {
            "cell_type": "code",
            "source": [
                "--Select all records form gs_categories\n",
                "SELECT *\n",
                "FROM gs_categories"
            ],
            "metadata": {
                "language": "sql",
                "azdata_cell_guid": "f6030f7a-63d7-4dbe-a088-8d079174e189",
                "tags": []
            },
            "outputs": [],
            "execution_count": null
        },
        {
            "cell_type": "markdown",
            "source": [
                "We can tell from the results of our queries and the _guitar shop_ ERD that instead of storing the category name inside of the product table, we store a category ID and use a relationship/join to look for that category ID in the categories table. There are two main reasons we do this:\n",
                "\n",
                "- It takes more space to store the word \"Basses\" than the integer 2. Please see the storage sizes below. This is a massive difference. Instead of storing the word \"Basses\" everytime that we need it, we can store it one time in the category table and use the ID it was assigned to pull it into our result.\n",
                "    - 2 in binary: 10\n",
                "    - \"Basses\" in binary: 01100010 01100001 01110011 01110011 01100101 01110011\n",
                "    - So, it takes 24 times as much storage to store the word \"Basses\" than it does to store the number 2.\n",
                "- The other reason is that it helps us preserve data integrity. Due to referencial integrity, anything we put in Products.CategoryID must have a matching value in Categories.CategoryID. This prevents erraneous values from sneaking in like \"Bassses\", \"Bases\", etc..."
            ],
            "metadata": {
                "language": "sql",
                "azdata_cell_guid": "d0f79bf4-8a8d-490c-b06d-c78a4962b994"
            },
            "attachments": {}
        },
        {
            "cell_type": "markdown",
            "source": [
                "### **Inner Join**\n",
                "\n",
                "Using the JOIN statement in SQL to pull data from multiple tables results in an _inner join._ An inner join will only return records/rows of the selected fields from tables where the joined fields are equal. For example, _Categories_ and _Products_ can be joined on _CategoryID_ since that field is a FK in the _Products_ table. In the below code cell we are selecting all records from both tables where the join fields are equal."
            ],
            "metadata": {
                "language": "sql",
                "azdata_cell_guid": "81b23cd6-1ae2-45ab-8805-b869f70c5063"
            },
            "attachments": {}
        },
        {
            "cell_type": "code",
            "source": [
                "--Return all records from products where there is a match in categories\n",
                "SELECT p.*, c.*\n",
                "FROM gs_products as p \n",
                "JOIN gs_categories as c ON p.category_id = c.category_id"
            ],
            "metadata": {
                "language": "sql",
                "azdata_cell_guid": "1d27e5e8-89fd-4d1e-b81f-a67085115aad"
            },
            "outputs": [],
            "execution_count": null
        },
        {
            "cell_type": "markdown",
            "source": [
                "When running the above code cell we can see that the result returns all fields from both tables in the order that we entered them into the select statatement. The below code cell contains a query that will just pull in a few fields from each table to evaluate our join."
            ],
            "metadata": {
                "language": "sql",
                "azdata_cell_guid": "cfa7a92a-80c2-40ef-92de-c1d09334b31b"
            },
            "attachments": {}
        },
        {
            "cell_type": "code",
            "source": [
                "--Return specific columns from products where there is a match in categories\n",
                "SELECT p.product_id, p.product_code, p.category_id AS products_category_id, c.category_id AS categories_category_id, c.category_name\n",
                "FROM gs_products AS p\n",
                "JOIN gs_categories AS c ON p.category_id = c.category_id"
            ],
            "metadata": {
                "language": "sql",
                "azdata_cell_guid": "e79c0b9f-3b1a-4917-a67b-935d83daf337",
                "tags": []
            },
            "outputs": [],
            "execution_count": null
        },
        {
            "cell_type": "markdown",
            "source": [
                "The above result shows us that we are brining in data from the categories table where Categories.CategoryID matches Products.CategoryID. We know from our earlier example that Category ID 2 is \"Basses\", so \"Basses\" is returned as the CategoryName for any products with a 2 in the categoryID. We can also use a WHERE clause to limit the return of data in the products table when joining on the categories table."
            ],
            "metadata": {
                "language": "sql",
                "azdata_cell_guid": "5054626d-dbe3-46d9-b4b5-145d9b9860d1"
            },
            "attachments": {}
        },
        {
            "cell_type": "code",
            "source": [
                "--Return all records from products where the product is a Base\n",
                "SELECT *\n",
                "FROM gs_products AS p\n",
                "JOIN gs_categories AS c ON p.category_id = c.category_id\n",
                "WHERE c.category_name = 'Basses'"
            ],
            "metadata": {
                "language": "sql",
                "azdata_cell_guid": "4a670a8b-e997-4685-b5b8-3b67df3f0fb0"
            },
            "outputs": [],
            "execution_count": null
        },
        {
            "cell_type": "markdown",
            "source": [
                "The above code cell returns all products where the category name is \"Basses\".  Even though we aren't brining in any of the data from the categories table into our select statement, we can still refernce it in our from clause through a join and filter it with criteria in our where clause."
            ],
            "metadata": {
                "language": "sql",
                "azdata_cell_guid": "4232c4f2-a895-492c-852e-6ed470ae36e5"
            },
            "attachments": {}
        },
        {
            "cell_type": "markdown",
            "source": [
                "✏️ **Practice**\n",
                "\n",
                "Edit the below code cell so that the query ruturns all data from the products table that are in the _guitar_ category by using a join."
            ],
            "metadata": {
                "language": "sql",
                "azdata_cell_guid": "fa22bead-81ec-458c-9392-8463fd5fa0fb"
            },
            "attachments": {}
        },
        {
            "cell_type": "code",
            "source": [
                "SELECT *\n",
                "FROM gs_products AS p\n",
                "JOIN gs_categories AS c ON p.category_id = c.category_id"
            ],
            "metadata": {
                "language": "sql",
                "azdata_cell_guid": "4f7e6b71-bd8f-4dc9-828a-67c24dd3dfb9",
                "tags": []
            },
            "outputs": [
                {
                    "output_type": "display_data",
                    "data": {
                        "text/html": "(10 rows affected)"
                    },
                    "metadata": {}
                },
                {
                    "output_type": "display_data",
                    "data": {
                        "text/html": "Total execution time: 00:00:00.118"
                    },
                    "metadata": {}
                },
                {
                    "output_type": "execute_result",
                    "metadata": {},
                    "execution_count": 1,
                    "data": {
                        "application/vnd.dataresource+json": {
                            "schema": {
                                "fields": [
                                    {
                                        "name": "product_id"
                                    },
                                    {
                                        "name": "category_id"
                                    },
                                    {
                                        "name": "product_code"
                                    },
                                    {
                                        "name": "product_name"
                                    },
                                    {
                                        "name": "product_description"
                                    },
                                    {
                                        "name": "list_price"
                                    },
                                    {
                                        "name": "discount_percent"
                                    },
                                    {
                                        "name": "date_added"
                                    },
                                    {
                                        "name": "category_id"
                                    },
                                    {
                                        "name": "category_name"
                                    }
                                ]
                            },
                            "data": [
                                {
                                    "product_id": "1",
                                    "category_id": "1",
                                    "product_code": "strat",
                                    "product_name": "Fender Stratocaster",
                                    "product_description": "The Fender Stratocaster is the electric guitar design that changed the world. New features include a tinted neck, parchment pickguard and control knobs, and a '70s-style logo. Includes select alder body, 21-fret maple neck with your choice of a rosewood or maple fretboard, 3 single-coil pickups, vintage-style tremolo, and die-cast tuning keys. This guitar features a thicker bridge block for increased sustain and a more stable point of contact with the strings. At this low price, why play anything but the real thing?\\r\\n\\r\\nFeatures:\\r\\n\\r\\n* New features:\\r\\n* Thicker bridge block\\r\\n* 3-ply parchment pick guard\\r\\n* Tinted neck",
                                    "list_price": "699.00",
                                    "discount_percent": "30.00",
                                    "date_added": "2015-10-30 09:32:40.000",
                                    "category_name": "Guitars"
                                },
                                {
                                    "product_id": "2",
                                    "category_id": "1",
                                    "product_code": "les_paul",
                                    "product_name": "Gibson Les Paul",
                                    "product_description": "This Les Paul guitar offers a carved top and humbucking pickups. It has a simple yet elegant design. Cutting-yet-rich tone?the hallmark of the Les Paul?pours out of the 490R and 498T Alnico II magnet humbucker pickups, which are mounted on a carved maple top with a mahogany back. The faded finish models are equipped with BurstBucker Pro pickups and a mahogany top. This guitar includes a Gibson hardshell case (Faded and satin finish models come with a gig bag) and a limited lifetime warranty.\\r\\n\\r\\nFeatures:\\r\\n\\r\\n* Carved maple top and mahogany back (Mahogany top on faded finish models)\\r\\n* Mahogany neck, '59 Rounded Les Paul\\r\\n* Rosewood fingerboard (Ebony on Alpine white)\\r\\n* Tune-O-Matic bridge with stopbar\\r\\n* Chrome or gold hardware\\r\\n* 490R and 498T Alnico 2 magnet humbucker pickups (BurstBucker Pro on faded finish models)\\r\\n* 2 volume and 2 tone knobs, 3-way switch",
                                    "list_price": "1199.00",
                                    "discount_percent": "30.00",
                                    "date_added": "2015-12-05 16:33:13.000",
                                    "category_name": "Guitars"
                                },
                                {
                                    "product_id": "3",
                                    "category_id": "1",
                                    "product_code": "sg",
                                    "product_name": "Gibson SG",
                                    "product_description": "This Gibson SG electric guitar takes the best of the '62 original and adds the longer and sturdier neck joint of the late '60s models. All the classic features you'd expect from a historic guitar. Hot humbuckers go from rich, sweet lightning to warm, tingling waves of sustain. A silky-fast rosewood fretboard plays like a dream. The original-style beveled mahogany body looks like a million bucks. Plus, Tune-O-Matic bridge and chrome hardware. Limited lifetime warranty. Includes hardshell case.\\r\\n\\r\\nFeatures:\\r\\n\\r\\n* Double-cutaway beveled mahogany body\\r\\n* Set mahogany neck with rounded '50s profile\\r\\n* Bound rosewood fingerboard with trapezoid inlays\\r\\n* Tune-O-Matic bridge with stopbar tailpiece\\r\\n* Chrome hardware\\r\\n* 490R humbucker in the neck position\\r\\n* 498T humbucker in the bridge position\\r\\n* 2 volume knobs, 2 tone knobs, 3-way switch\\r\\n* 24-3/4\" scale",
                                    "list_price": "2517.00",
                                    "discount_percent": "52.00",
                                    "date_added": "2016-02-04 11:04:31.000",
                                    "category_name": "Guitars"
                                },
                                {
                                    "product_id": "4",
                                    "category_id": "1",
                                    "product_code": "fg700s",
                                    "product_name": "Yamaha FG700S",
                                    "product_description": "The Yamaha FG700S solid top acoustic guitar has the ultimate combo for projection and pure tone. The expertly braced spruce top speaks clearly atop the rosewood body. It has a rosewood fingerboard, rosewood bridge, die-cast tuners, body and neck binding, and a tortoise pickguard.\\r\\n\\r\\nFeatures:\\r\\n\\r\\n* Solid Sitka spruce top\\r\\n* Rosewood back and sides\\r\\n* Rosewood fingerboard\\r\\n* Rosewood bridge\\r\\n* White/black body and neck binding\\r\\n* Die-cast tuners\\r\\n* Tortoise pickguard\\r\\n* Limited lifetime warranty",
                                    "list_price": "489.99",
                                    "discount_percent": "38.00",
                                    "date_added": "2016-06-01 11:12:59.000",
                                    "category_name": "Guitars"
                                },
                                {
                                    "product_id": "5",
                                    "category_id": "1",
                                    "product_code": "washburn",
                                    "product_name": "Washburn D10S",
                                    "product_description": "The Washburn D10S acoustic guitar is superbly crafted with a solid spruce top and mahogany back and sides for exceptional tone. A mahogany neck and rosewood fingerboard make fretwork a breeze, while chrome Grover-style machines keep you perfectly tuned. The Washburn D10S comes with a limited lifetime warranty.\\r\\n\\r\\nFeatures:\\r\\n\\r\\n    * Spruce top\\r\\n    * Mahogany back, sides\\r\\n    * Mahogany neck Rosewood fingerboard\\r\\n    * Chrome Grover-style machines",
                                    "list_price": "299.00",
                                    "discount_percent": "0.00",
                                    "date_added": "2016-07-30 13:58:35.000",
                                    "category_name": "Guitars"
                                },
                                {
                                    "product_id": "6",
                                    "category_id": "1",
                                    "product_code": "rodriguez",
                                    "product_name": "Rodriguez Caballero 11",
                                    "product_description": "Featuring a carefully chosen, solid Canadian cedar top and laminated bubinga back and sides, the Caballero 11 classical guitar is a beauty to behold and play. The headstock and fretboard are of Indian rosewood. Nickel-plated tuners and Silver-plated frets are installed to last a lifetime. The body binding and wood rosette are exquisite.\\r\\n\\r\\nThe Rodriguez Guitar is hand crafted and glued to create precise balances. From the invisible careful sanding, even inside the body, that ensures the finished instrument's purity of tone, to the beautifully unique rosette inlays around the soundhole and on the back of the neck, each guitar is a credit to its luthier and worthy of being handed down from one generation to another.\\r\\n\\r\\nThe tone, resonance and beauty of fine guitars are all dependent upon the wood from which they are made. The wood used in the construction of Rodriguez guitars is carefully chosen and aged to guarantee the highest quality. No wood is purchased before the tree has been cut down, and at least 2 years must elapse before the tree is turned into lumber. The wood has to be well cut from the log. The grain must be close and absolutely vertical. The shop is totally free from humidity.",
                                    "list_price": "415.00",
                                    "discount_percent": "39.00",
                                    "date_added": "2016-07-30 14:12:41.000",
                                    "category_name": "Guitars"
                                },
                                {
                                    "product_id": "7",
                                    "category_id": "2",
                                    "product_code": "precision",
                                    "product_name": "Fender Precision",
                                    "product_description": "The Fender Precision bass guitar delivers the sound, look, and feel today's bass players demand. This bass features that classic P-Bass old-school design. Each Precision bass boasts contemporary features and refinements that make it an excellent value. Featuring an alder body and a split single-coil pickup, this classic electric bass guitar lives up to its Fender legacy.\\r\\n\\r\\nFeatures:\\r\\n\\r\\n* Body: Alder\\r\\n* Neck: Maple, modern C shape, tinted satin urethane finish\\r\\n* Fingerboard: Rosewood or maple (depending on color)\\r\\n* 9-1/2\" Radius (241 mm)\\r\\n* Frets: 20 Medium-jumbo frets\\r\\n* Pickups: 1 Standard Precision Bass split single-coil pickup (Mid)\\r\\n* Controls: Volume, Tone\\r\\n* Bridge: Standard vintage style with single groove saddles\\r\\n* Machine heads: Standard\\r\\n* Hardware: Chrome\\r\\n* Pickguard: 3-Ply Parchment\\r\\n* Scale Length: 34\" (864 mm)\\r\\n* Width at Nut: 1-5/8\" (41.3 mm)\\r\\n* Unique features: Knurled chrome P Bass knobs, Fender transition logo",
                                    "list_price": "799.99",
                                    "discount_percent": "30.00",
                                    "date_added": "2016-06-01 11:29:35.000",
                                    "category_name": "Basses"
                                },
                                {
                                    "product_id": "8",
                                    "category_id": "2",
                                    "product_code": "hofner",
                                    "product_name": "Hofner Icon",
                                    "product_description": "With authentic details inspired by the original, the Hofner Icon makes the legendary violin bass available to the rest of us. Don't get the idea that this a just a \"nowhere man\" look-alike. This quality instrument features a real spruce top and beautiful flamed maple back and sides. The semi-hollow body and set neck will give you the warm, round tone you expect from the violin bass.\\r\\n\\r\\nFeatures:\\r\\n\\r\\n* Authentic details inspired by the original\\r\\n* Spruce top\\r\\n* Flamed maple back and sides\\r\\n* Set neck\\r\\n* Rosewood fretboard\\r\\n* 30\" scale\\r\\n* 22 frets\\r\\n* Dot inlay",
                                    "list_price": "499.99",
                                    "discount_percent": "25.00",
                                    "date_added": "2016-07-30 14:18:33.000",
                                    "category_name": "Basses"
                                },
                                {
                                    "product_id": "9",
                                    "category_id": "3",
                                    "product_code": "ludwig",
                                    "product_name": "Ludwig 5-piece Drum Set with Cymbals",
                                    "product_description": "This product includes a Ludwig 5-piece drum set and a Zildjian starter cymbal pack.\\r\\n\\r\\nWith the Ludwig drum set, you get famous Ludwig quality. This set features a bass drum, two toms, a floor tom, and a snare?each with a wrapped finish. Drum hardware includes LA214FP bass pedal, snare stand, cymbal stand, hi-hat stand, and a throne.\\r\\n\\r\\nWith the Zildjian cymbal pack, you get a 14\" crash, 18\" crash/ride, and a pair of 13\" hi-hats. Sound grooves and round hammer strikes in a simple circular pattern on the top surface of these cymbals magnify the basic sound of the distinctive alloy.\\r\\n\\r\\nFeatures:\\r\\n\\r\\n* Famous Ludwig quality\\r\\n* Wrapped finishes\\r\\n* 22\" x 16\" kick drum\\r\\n* 12\" x 10\" and 13\" x 11\" toms\\r\\n* 16\" x 16\" floor tom\\r\\n* 14\" x 6-1/2\" snare drum kick pedal\\r\\n* Snare stand\\r\\n* Straight cymbal stand hi-hat stand\\r\\n* FREE throne",
                                    "list_price": "699.99",
                                    "discount_percent": "30.00",
                                    "date_added": "2016-07-30 12:46:40.000",
                                    "category_name": "Drums"
                                },
                                {
                                    "product_id": "10",
                                    "category_id": "3",
                                    "product_code": "tama",
                                    "product_name": "Tama 5-Piece Drum Set with Cymbals",
                                    "product_description": "The Tama 5-piece Drum Set is the most affordable Tama drum kit ever to incorporate so many high-end features.\\r\\n\\r\\nWith over 40 years of experience, Tama knows what drummers really want. Which is why, no matter how long you've been playing the drums, no matter what budget you have to work with, Tama has the set you need, want, and can afford. Every aspect of the modern drum kit was exhaustively examined and reexamined and then improved before it was accepted as part of the Tama design. Which is why, if you start playing Tama now as a beginner, you'll still enjoy playing it when you've achieved pro-status. That's how good these groundbreaking new drums are.\\r\\n\\r\\nOnly Tama comes with a complete set of genuine Meinl HCS cymbals. These high-quality brass cymbals are made in Germany and are sonically matched so they sound great together. They are even lathed for a more refined tonal character. The set includes 14\" hi-hats, 16\" crash cymbal, and a 20\" ride cymbal.\\r\\n\\r\\nFeatures:\\r\\n\\r\\n* 100% poplar 6-ply/7.5mm shells\\r\\n* Precise bearing edges\\r\\n* 100% glued finishes\\r\\n* Original small lugs\\r\\n* Drum heads\\r\\n* Accu-tune bass drum hoops\\r\\n* Spur brackets\\r\\n* Tom holder\\r\\n* Tom brackets",
                                    "list_price": "799.99",
                                    "discount_percent": "15.00",
                                    "date_added": "2016-07-30 13:14:15.000",
                                    "category_name": "Drums"
                                }
                            ]
                        },
                        "text/html": [
                            "<table>",
                            "<tr><th>product_id</th><th>category_id</th><th>product_code</th><th>product_name</th><th>product_description</th><th>list_price</th><th>discount_percent</th><th>date_added</th><th>category_id</th><th>category_name</th></tr>",
                            "<tr><td>1</td><td>1</td><td>strat</td><td>Fender Stratocaster</td><td>The Fender Stratocaster is the electric guitar design that changed the world. New features include a tinted neck, parchment pickguard and control knobs, and a &#39;70s-style logo. Includes select alder body, 21-fret maple neck with your choice of a rosewood or maple fretboard, 3 single-coil pickups, vintage-style tremolo, and die-cast tuning keys. This guitar features a thicker bridge block for increased sustain and a more stable point of contact with the strings. At this low price, why play anything but the real thing?\\r\\n\\r\\nFeatures:\\r\\n\\r\\n* New features:\\r\\n* Thicker bridge block\\r\\n* 3-ply parchment pick guard\\r\\n* Tinted neck</td><td>699.00</td><td>30.00</td><td>2015-10-30 09:32:40.000</td><td>1</td><td>Guitars</td></tr>",
                            "<tr><td>2</td><td>1</td><td>les_paul</td><td>Gibson Les Paul</td><td>This Les Paul guitar offers a carved top and humbucking pickups. It has a simple yet elegant design. Cutting-yet-rich tone?the hallmark of the Les Paul?pours out of the 490R and 498T Alnico II magnet humbucker pickups, which are mounted on a carved maple top with a mahogany back. The faded finish models are equipped with BurstBucker Pro pickups and a mahogany top. This guitar includes a Gibson hardshell case (Faded and satin finish models come with a gig bag) and a limited lifetime warranty.\\r\\n\\r\\nFeatures:\\r\\n\\r\\n* Carved maple top and mahogany back (Mahogany top on faded finish models)\\r\\n* Mahogany neck, &#39;59 Rounded Les Paul\\r\\n* Rosewood fingerboard (Ebony on Alpine white)\\r\\n* Tune-O-Matic bridge with stopbar\\r\\n* Chrome or gold hardware\\r\\n* 490R and 498T Alnico 2 magnet humbucker pickups (BurstBucker Pro on faded finish models)\\r\\n* 2 volume and 2 tone knobs, 3-way switch</td><td>1199.00</td><td>30.00</td><td>2015-12-05 16:33:13.000</td><td>1</td><td>Guitars</td></tr>",
                            "<tr><td>3</td><td>1</td><td>sg</td><td>Gibson SG</td><td>This Gibson SG electric guitar takes the best of the &#39;62 original and adds the longer and sturdier neck joint of the late &#39;60s models. All the classic features you&#39;d expect from a historic guitar. Hot humbuckers go from rich, sweet lightning to warm, tingling waves of sustain. A silky-fast rosewood fretboard plays like a dream. The original-style beveled mahogany body looks like a million bucks. Plus, Tune-O-Matic bridge and chrome hardware. Limited lifetime warranty. Includes hardshell case.\\r\\n\\r\\nFeatures:\\r\\n\\r\\n* Double-cutaway beveled mahogany body\\r\\n* Set mahogany neck with rounded &#39;50s profile\\r\\n* Bound rosewood fingerboard with trapezoid inlays\\r\\n* Tune-O-Matic bridge with stopbar tailpiece\\r\\n* Chrome hardware\\r\\n* 490R humbucker in the neck position\\r\\n* 498T humbucker in the bridge position\\r\\n* 2 volume knobs, 2 tone knobs, 3-way switch\\r\\n* 24-3/4&quot; scale</td><td>2517.00</td><td>52.00</td><td>2016-02-04 11:04:31.000</td><td>1</td><td>Guitars</td></tr>",
                            "<tr><td>4</td><td>1</td><td>fg700s</td><td>Yamaha FG700S</td><td>The Yamaha FG700S solid top acoustic guitar has the ultimate combo for projection and pure tone. The expertly braced spruce top speaks clearly atop the rosewood body. It has a rosewood fingerboard, rosewood bridge, die-cast tuners, body and neck binding, and a tortoise pickguard.\\r\\n\\r\\nFeatures:\\r\\n\\r\\n* Solid Sitka spruce top\\r\\n* Rosewood back and sides\\r\\n* Rosewood fingerboard\\r\\n* Rosewood bridge\\r\\n* White/black body and neck binding\\r\\n* Die-cast tuners\\r\\n* Tortoise pickguard\\r\\n* Limited lifetime warranty</td><td>489.99</td><td>38.00</td><td>2016-06-01 11:12:59.000</td><td>1</td><td>Guitars</td></tr>",
                            "<tr><td>5</td><td>1</td><td>washburn</td><td>Washburn D10S</td><td>The Washburn D10S acoustic guitar is superbly crafted with a solid spruce top and mahogany back and sides for exceptional tone. A mahogany neck and rosewood fingerboard make fretwork a breeze, while chrome Grover-style machines keep you perfectly tuned. The Washburn D10S comes with a limited lifetime warranty.\\r\\n\\r\\nFeatures:\\r\\n\\r\\n    * Spruce top\\r\\n    * Mahogany back, sides\\r\\n    * Mahogany neck Rosewood fingerboard\\r\\n    * Chrome Grover-style machines</td><td>299.00</td><td>0.00</td><td>2016-07-30 13:58:35.000</td><td>1</td><td>Guitars</td></tr>",
                            "<tr><td>6</td><td>1</td><td>rodriguez</td><td>Rodriguez Caballero 11</td><td>Featuring a carefully chosen, solid Canadian cedar top and laminated bubinga back and sides, the Caballero 11 classical guitar is a beauty to behold and play. The headstock and fretboard are of Indian rosewood. Nickel-plated tuners and Silver-plated frets are installed to last a lifetime. The body binding and wood rosette are exquisite.\\r\\n\\r\\nThe Rodriguez Guitar is hand crafted and glued to create precise balances. From the invisible careful sanding, even inside the body, that ensures the finished instrument&#39;s purity of tone, to the beautifully unique rosette inlays around the soundhole and on the back of the neck, each guitar is a credit to its luthier and worthy of being handed down from one generation to another.\\r\\n\\r\\nThe tone, resonance and beauty of fine guitars are all dependent upon the wood from which they are made. The wood used in the construction of Rodriguez guitars is carefully chosen and aged to guarantee the highest quality. No wood is purchased before the tree has been cut down, and at least 2 years must elapse before the tree is turned into lumber. The wood has to be well cut from the log. The grain must be close and absolutely vertical. The shop is totally free from humidity.</td><td>415.00</td><td>39.00</td><td>2016-07-30 14:12:41.000</td><td>1</td><td>Guitars</td></tr>",
                            "<tr><td>7</td><td>2</td><td>precision</td><td>Fender Precision</td><td>The Fender Precision bass guitar delivers the sound, look, and feel today&#39;s bass players demand. This bass features that classic P-Bass old-school design. Each Precision bass boasts contemporary features and refinements that make it an excellent value. Featuring an alder body and a split single-coil pickup, this classic electric bass guitar lives up to its Fender legacy.\\r\\n\\r\\nFeatures:\\r\\n\\r\\n* Body: Alder\\r\\n* Neck: Maple, modern C shape, tinted satin urethane finish\\r\\n* Fingerboard: Rosewood or maple (depending on color)\\r\\n* 9-1/2&quot; Radius (241 mm)\\r\\n* Frets: 20 Medium-jumbo frets\\r\\n* Pickups: 1 Standard Precision Bass split single-coil pickup (Mid)\\r\\n* Controls: Volume, Tone\\r\\n* Bridge: Standard vintage style with single groove saddles\\r\\n* Machine heads: Standard\\r\\n* Hardware: Chrome\\r\\n* Pickguard: 3-Ply Parchment\\r\\n* Scale Length: 34&quot; (864 mm)\\r\\n* Width at Nut: 1-5/8&quot; (41.3 mm)\\r\\n* Unique features: Knurled chrome P Bass knobs, Fender transition logo</td><td>799.99</td><td>30.00</td><td>2016-06-01 11:29:35.000</td><td>2</td><td>Basses</td></tr>",
                            "<tr><td>8</td><td>2</td><td>hofner</td><td>Hofner Icon</td><td>With authentic details inspired by the original, the Hofner Icon makes the legendary violin bass available to the rest of us. Don&#39;t get the idea that this a just a &quot;nowhere man&quot; look-alike. This quality instrument features a real spruce top and beautiful flamed maple back and sides. The semi-hollow body and set neck will give you the warm, round tone you expect from the violin bass.\\r\\n\\r\\nFeatures:\\r\\n\\r\\n* Authentic details inspired by the original\\r\\n* Spruce top\\r\\n* Flamed maple back and sides\\r\\n* Set neck\\r\\n* Rosewood fretboard\\r\\n* 30&quot; scale\\r\\n* 22 frets\\r\\n* Dot inlay</td><td>499.99</td><td>25.00</td><td>2016-07-30 14:18:33.000</td><td>2</td><td>Basses</td></tr>",
                            "<tr><td>9</td><td>3</td><td>ludwig</td><td>Ludwig 5-piece Drum Set with Cymbals</td><td>This product includes a Ludwig 5-piece drum set and a Zildjian starter cymbal pack.\\r\\n\\r\\nWith the Ludwig drum set, you get famous Ludwig quality. This set features a bass drum, two toms, a floor tom, and a snare?each with a wrapped finish. Drum hardware includes LA214FP bass pedal, snare stand, cymbal stand, hi-hat stand, and a throne.\\r\\n\\r\\nWith the Zildjian cymbal pack, you get a 14&quot; crash, 18&quot; crash/ride, and a pair of 13&quot; hi-hats. Sound grooves and round hammer strikes in a simple circular pattern on the top surface of these cymbals magnify the basic sound of the distinctive alloy.\\r\\n\\r\\nFeatures:\\r\\n\\r\\n* Famous Ludwig quality\\r\\n* Wrapped finishes\\r\\n* 22&quot; x 16&quot; kick drum\\r\\n* 12&quot; x 10&quot; and 13&quot; x 11&quot; toms\\r\\n* 16&quot; x 16&quot; floor tom\\r\\n* 14&quot; x 6-1/2&quot; snare drum kick pedal\\r\\n* Snare stand\\r\\n* Straight cymbal stand hi-hat stand\\r\\n* FREE throne</td><td>699.99</td><td>30.00</td><td>2016-07-30 12:46:40.000</td><td>3</td><td>Drums</td></tr>",
                            "<tr><td>10</td><td>3</td><td>tama</td><td>Tama 5-Piece Drum Set with Cymbals</td><td>The Tama 5-piece Drum Set is the most affordable Tama drum kit ever to incorporate so many high-end features.\\r\\n\\r\\nWith over 40 years of experience, Tama knows what drummers really want. Which is why, no matter how long you&#39;ve been playing the drums, no matter what budget you have to work with, Tama has the set you need, want, and can afford. Every aspect of the modern drum kit was exhaustively examined and reexamined and then improved before it was accepted as part of the Tama design. Which is why, if you start playing Tama now as a beginner, you&#39;ll still enjoy playing it when you&#39;ve achieved pro-status. That&#39;s how good these groundbreaking new drums are.\\r\\n\\r\\nOnly Tama comes with a complete set of genuine Meinl HCS cymbals. These high-quality brass cymbals are made in Germany and are sonically matched so they sound great together. They are even lathed for a more refined tonal character. The set includes 14&quot; hi-hats, 16&quot; crash cymbal, and a 20&quot; ride cymbal.\\r\\n\\r\\nFeatures:\\r\\n\\r\\n* 100% poplar 6-ply/7.5mm shells\\r\\n* Precise bearing edges\\r\\n* 100% glued finishes\\r\\n* Original small lugs\\r\\n* Drum heads\\r\\n* Accu-tune bass drum hoops\\r\\n* Spur brackets\\r\\n* Tom holder\\r\\n* Tom brackets</td><td>799.99</td><td>15.00</td><td>2016-07-30 13:14:15.000</td><td>3</td><td>Drums</td></tr>",
                            "</table>"
                        ]
                    }
                }
            ],
            "execution_count": 1
        },
        {
            "cell_type": "markdown",
            "source": [
                "**Expected Result**\n",
                "\n",
                ""
            ],
            "metadata": {
                "language": "sql",
                "azdata_cell_guid": "f4f41f02-8445-411e-9eb1-3839645a80b5"
            },
            "attachments": {}
        },
        {
            "cell_type": "markdown",
            "source": [
                "### **Left/Right Joins**\n",
                "\n",
                "While inner joins return all records from both tables where there is a match in the joining fields, a left or right join will return all records from the specified table, and only matching records from the joined table. Using the next few code cells, we will build a query that shows all customers who have never placed an order using a left join. Before we do so, run the code cells (2) below to view the data and structure of the customers and orders tables."
            ],
            "metadata": {
                "language": "sql",
                "azdata_cell_guid": "4ba82893-31cd-4ad0-8e9d-e2b823c0b56b"
            },
            "attachments": {}
        },
        {
            "cell_type": "code",
            "source": [
                "--Return all records from customers\n",
                "SELECT *\n",
                "FROM gs_customers"
            ],
            "metadata": {
                "language": "sql",
                "azdata_cell_guid": "7c31b2b6-cb82-439a-b65f-02e9f016e888"
            },
            "outputs": [],
            "execution_count": null
        },
        {
            "cell_type": "code",
            "source": [
                "--Return all records from orders\n",
                "SELECT *\n",
                "FROM gs_orders"
            ],
            "metadata": {
                "language": "sql",
                "azdata_cell_guid": "faa74784-afde-41bf-a015-3d65fe6a3bbc"
            },
            "outputs": [],
            "execution_count": null
        },
        {
            "cell_type": "markdown",
            "source": [
                "We can see from the above queries that there are 486 customers and 41 orders. Let's start working on our \"Customers without orders\" query by creating a query that joins the two tables in customerID to see which customers have placed an order."
            ],
            "metadata": {
                "language": "sql",
                "azdata_cell_guid": "8390c21b-ce9a-4fb4-b09a-9819267a10c6"
            },
            "attachments": {}
        },
        {
            "cell_type": "code",
            "source": [
                "--Return all customers who appear in the orders table\n",
                "SELECT c.*, o.*\n",
                "FROM gs_customers as c\n",
                "JOIN gs_orders as o ON c.customer_id = o.customer_id"
            ],
            "metadata": {
                "language": "sql",
                "azdata_cell_guid": "ce6a6d0a-e9d6-4d92-a6d3-a9f4f517373f"
            },
            "outputs": [],
            "execution_count": null
        },
        {
            "cell_type": "markdown",
            "source": [
                "The above code cell only returns 41 records, which makes sense since that is how many orders were placed, but we definitely aren't seeing all of our customers since our first set of queries showed 485 different customers. We can use a left join to pull those customers back in. The way that this works is that we are telling the query to return all records from the \"left\" side of the join statement, so we will leave customers on the left side for now."
            ],
            "metadata": {
                "language": "sql",
                "azdata_cell_guid": "2037f657-d0af-49e0-8308-3c4fa5e3f8ee"
            },
            "attachments": {}
        },
        {
            "cell_type": "code",
            "source": [
                "--Use left join to show all customers as well as order information for customers that have ordered\n",
                "SELECT c.*, o.*\n",
                "FROM gs_customers as c\n",
                "LEFT JOIN gs_orders as o ON c.customer_id = o.customer_id"
            ],
            "metadata": {
                "language": "sql",
                "azdata_cell_guid": "78a4ca46-ae07-4684-a741-320ec246b519"
            },
            "outputs": [],
            "execution_count": null
        },
        {
            "cell_type": "markdown",
            "source": [
                "We can see that the query is now showing information for all customers regardless of if they placed an order or not, and there are a few duplicates for customers who placed multiple orders. Please scroll down to customer 37, and then scroll over to view the order data. Notice that all of their order data is Null because they never placed an order. Since there were no orders placed for these customers, there is nothing for the orders table to return here.\n",
                "\n",
                "What would happen if we made this a right join instead?"
            ],
            "metadata": {
                "language": "sql",
                "azdata_cell_guid": "0eb65da2-dfef-4ee9-bec8-4f8fde948728"
            },
            "attachments": {}
        },
        {
            "cell_type": "code",
            "source": [
                "--Use a right join to show all orders as well as customer information if there is a match\n",
                "SELECT c.*, o.*\n",
                "FROM gs_customers as c\n",
                "RIGHT JOIN gs_orders as o ON c.customer_id = o.customer_id"
            ],
            "metadata": {
                "language": "sql",
                "azdata_cell_guid": "c8fb4bf8-ccca-4808-b3f8-16b758714a81"
            },
            "outputs": [],
            "execution_count": null
        },
        {
            "cell_type": "markdown",
            "source": [
                "We are back to seeing 41 records and we don't see as many Null values. This is because we are now showing all records on the right side of the join statement (orders) and only those on the left side that have a related record."
            ],
            "metadata": {
                "language": "sql",
                "azdata_cell_guid": "91e62e7d-680e-4aa2-a83a-0b10600ec201"
            },
            "attachments": {}
        },
        {
            "cell_type": "markdown",
            "source": [
                "Putting together everything that we have learned, we now know enough to create a query that shows which customers haven't placed an order.\n",
                "\n",
                "- Show all customers- Left join between customers and orders\n",
                "- Only show customers who don't have an order- set criteria to Null for order data\n",
                "\n",
                "Let's incoroporate this into our next query."
            ],
            "metadata": {
                "language": "sql",
                "azdata_cell_guid": "58b7d883-1076-4fe3-9f4d-439aabb84c18"
            },
            "attachments": {}
        },
        {
            "cell_type": "code",
            "source": [
                "--Use left join to show only customers who have never placed an order\n",
                "SELECT c.*, o.*\n",
                "FROM gs_customers as c\n",
                "LEFT JOIN gs_orders as o ON c.customer_id = o.customer_id\n",
                "WHERE o.customer_id is NULL"
            ],
            "metadata": {
                "language": "sql",
                "azdata_cell_guid": "a9949979-8e45-44a9-b7ce-227052aca7e0"
            },
            "outputs": [],
            "execution_count": null
        },
        {
            "cell_type": "markdown",
            "source": [
                "By adding a where clause to only show Nulls from Orders.CustomerID we were able to filter out any customers that had related data in the orders table, or in other words, had placed an order. Now we know that there are 450 customers in our database that have yet to place an order."
            ],
            "metadata": {
                "language": "sql",
                "azdata_cell_guid": "773def1d-db7b-4ee9-9b72-b88defe3cd2e"
            },
            "attachments": {}
        },
        {
            "cell_type": "markdown",
            "source": [
                "✏️ **Practice**\n",
                "\n",
                "Edit the below query to show all customers who do not have an address in the addresses table."
            ],
            "metadata": {
                "language": "sql",
                "azdata_cell_guid": "210b7850-6716-4d78-940e-85c1349841f0"
            },
            "attachments": {}
        },
        {
            "cell_type": "code",
            "source": [
                "SELECT c.*\n",
                "FROM gs_customers AS c\n",
                "JOIN gs_addresses AS a ON c.customer_id = a.customer_id\n",
                "WHERE a.line1 is NULL"
            ],
            "metadata": {
                "language": "sql",
                "azdata_cell_guid": "fef1aba7-8dab-4e05-9ed5-550aa86ef36a"
            },
            "outputs": [
                {
                    "output_type": "display_data",
                    "data": {
                        "text/html": "(512 rows affected)"
                    },
                    "metadata": {}
                },
                {
                    "output_type": "display_data",
                    "data": {
                        "text/html": "Total execution time: 00:00:00.057"
                    },
                    "metadata": {}
                },
                {
                    "output_type": "execute_result",
                    "metadata": {},
                    "execution_count": 5,
                    "data": {
                        "application/vnd.dataresource+json": {
                            "schema": {
                                "fields": [
                                    {
                                        "name": "address_id"
                                    },
                                    {
                                        "name": "customer_id"
                                    },
                                    {
                                        "name": "line1"
                                    },
                                    {
                                        "name": "line2"
                                    },
                                    {
                                        "name": "city"
                                    },
                                    {
                                        "name": "state_code"
                                    },
                                    {
                                        "name": "zip_code"
                                    },
                                    {
                                        "name": "phone"
                                    },
                                    {
                                        "name": "disabled_address"
                                    }
                                ]
                            },
                            "data": [
                                {
                                    "address_id": "1",
                                    "customer_id": "1",
                                    "line1": "100 East Ridgewood Ave.",
                                    "line2": "",
                                    "city": "Paramus",
                                    "state_code": "NJ",
                                    "zip_code": "07652",
                                    "phone": "201-653-4472",
                                    "disabled_address": "0"
                                },
                                {
                                    "address_id": "2",
                                    "customer_id": "1",
                                    "line1": "21 Rosewood Rd.",
                                    "line2": "",
                                    "city": "Woodcliff Lake",
                                    "state_code": "NJ",
                                    "zip_code": "07677",
                                    "phone": "201-653-4472",
                                    "disabled_address": "0"
                                },
                                {
                                    "address_id": "3",
                                    "customer_id": "2",
                                    "line1": "16285 Wendell St.",
                                    "line2": "",
                                    "city": "Omaha",
                                    "state_code": "NE",
                                    "zip_code": "68135",
                                    "phone": "402-896-2576",
                                    "disabled_address": "0"
                                },
                                {
                                    "address_id": "4",
                                    "customer_id": "3",
                                    "line1": "19270 NW Cornell Rd.",
                                    "line2": "",
                                    "city": "Beaverton",
                                    "state_code": "OR",
                                    "zip_code": "97006",
                                    "phone": "503-654-1291",
                                    "disabled_address": "0"
                                },
                                {
                                    "address_id": "5",
                                    "customer_id": "4",
                                    "line1": "186 Vermont St.",
                                    "line2": "Apt. 2",
                                    "city": "San Francisco",
                                    "state_code": "CA",
                                    "zip_code": "94110",
                                    "phone": "415-292-6651",
                                    "disabled_address": "0"
                                },
                                {
                                    "address_id": "6",
                                    "customer_id": "4",
                                    "line1": "1374 46th Ave.",
                                    "line2": "",
                                    "city": "San Francisco",
                                    "state_code": "CA",
                                    "zip_code": "94129",
                                    "phone": "415-292-6651",
                                    "disabled_address": "0"
                                },
                                {
                                    "address_id": "7",
                                    "customer_id": "5",
                                    "line1": "6982 Palm Ave.",
                                    "line2": "",
                                    "city": "Fresno",
                                    "state_code": "CA",
                                    "zip_code": "93711",
                                    "phone": "559-431-2398",
                                    "disabled_address": "0"
                                },
                                {
                                    "address_id": "8",
                                    "customer_id": "6",
                                    "line1": "23 Mountain View St.",
                                    "line2": "",
                                    "city": "Denver",
                                    "state_code": "CO",
                                    "zip_code": "80208",
                                    "phone": "303-912-3852",
                                    "disabled_address": "0"
                                },
                                {
                                    "address_id": "9",
                                    "customer_id": "7",
                                    "line1": "7361 N. 41st St.",
                                    "line2": "Apt. B",
                                    "city": "New York",
                                    "state_code": "NY",
                                    "zip_code": "10012",
                                    "phone": "212-335-2093",
                                    "disabled_address": "0"
                                },
                                {
                                    "address_id": "10",
                                    "customer_id": "7",
                                    "line1": "3829 Broadway Ave.",
                                    "line2": "Suite 2",
                                    "city": "New York",
                                    "state_code": "NY",
                                    "zip_code": "10012",
                                    "phone": "212-239-1208",
                                    "disabled_address": "0"
                                },
                                {
                                    "address_id": "11",
                                    "customer_id": "8",
                                    "line1": "2381 Buena Vista St.",
                                    "line2": "",
                                    "city": "Los Angeles",
                                    "state_code": "CA",
                                    "zip_code": "90023",
                                    "phone": "213-772-5033",
                                    "disabled_address": "0"
                                },
                                {
                                    "address_id": "12",
                                    "customer_id": "8",
                                    "line1": "291 W. Hollywood Blvd.",
                                    "line2": "",
                                    "city": "Los Angeles",
                                    "state_code": "CA",
                                    "zip_code": "90024",
                                    "phone": "213-391-2938",
                                    "disabled_address": "0"
                                },
                                {
                                    "address_id": "13",
                                    "customer_id": "9",
                                    "line1": "96950 Hidden Ln",
                                    "line2": "",
                                    "city": "Aberdeen",
                                    "state_code": "MD",
                                    "zip_code": "21001",
                                    "phone": "410-259-2118",
                                    "disabled_address": "0"
                                },
                                {
                                    "address_id": "14",
                                    "customer_id": "10",
                                    "line1": "6980 Dorsett Rd",
                                    "line2": "",
                                    "city": "Abilene",
                                    "state_code": "KS",
                                    "zip_code": "67410",
                                    "phone": "785-219-7724",
                                    "disabled_address": "0"
                                },
                                {
                                    "address_id": "15",
                                    "customer_id": "11",
                                    "line1": "33 State St",
                                    "line2": "",
                                    "city": "Abilene",
                                    "state_code": "TX",
                                    "zip_code": "79601",
                                    "phone": "325-667-7868",
                                    "disabled_address": "0"
                                },
                                {
                                    "address_id": "16",
                                    "customer_id": "11",
                                    "line1": "5 E Truman Rd",
                                    "line2": "",
                                    "city": "Abilene",
                                    "state_code": "TX",
                                    "zip_code": "79602",
                                    "phone": "325-740-3778",
                                    "disabled_address": "0"
                                },
                                {
                                    "address_id": "17",
                                    "customer_id": "12",
                                    "line1": "8284 Hart St",
                                    "line2": "",
                                    "city": "Abilene",
                                    "state_code": "KS",
                                    "zip_code": "67410",
                                    "phone": "785-253-7049",
                                    "disabled_address": "0"
                                },
                                {
                                    "address_id": "18",
                                    "customer_id": "13",
                                    "line1": "9387 Charcot Ave",
                                    "line2": "",
                                    "city": "Absecon",
                                    "state_code": "NJ",
                                    "zip_code": "8201",
                                    "phone": "609-234-8376",
                                    "disabled_address": "0"
                                },
                                {
                                    "address_id": "19",
                                    "customer_id": "14",
                                    "line1": "3777 E Richmond St #900",
                                    "line2": "",
                                    "city": "Akron",
                                    "state_code": "OH",
                                    "zip_code": "44302",
                                    "phone": "330-700-2312",
                                    "disabled_address": "0"
                                },
                                {
                                    "address_id": "20",
                                    "customer_id": "15",
                                    "line1": "74 S Westgate St",
                                    "line2": "",
                                    "city": "Albany",
                                    "state_code": "NY",
                                    "zip_code": "12204",
                                    "phone": "518-448-8982",
                                    "disabled_address": "0"
                                },
                                {
                                    "address_id": "21",
                                    "customer_id": "15",
                                    "line1": "9390 S Howell Ave",
                                    "line2": "",
                                    "city": "Albany",
                                    "state_code": "GA",
                                    "zip_code": "31701",
                                    "phone": "229-365-9658",
                                    "disabled_address": "0"
                                },
                                {
                                    "address_id": "22",
                                    "customer_id": "16",
                                    "line1": "89992 E 15th St",
                                    "line2": "",
                                    "city": "Alliance",
                                    "state_code": "NE",
                                    "zip_code": "69301",
                                    "phone": "308-250-6987",
                                    "disabled_address": "0"
                                },
                                {
                                    "address_id": "23",
                                    "customer_id": "17",
                                    "line1": "812 S Haven St",
                                    "line2": "",
                                    "city": "Amarillo",
                                    "state_code": "TX",
                                    "zip_code": "79109",
                                    "phone": "806-558-5848",
                                    "disabled_address": "0"
                                },
                                {
                                    "address_id": "24",
                                    "customer_id": "18",
                                    "line1": "72119 S Walker Ave #63",
                                    "line2": "",
                                    "city": "Anaheim",
                                    "state_code": "CA",
                                    "zip_code": "92801",
                                    "phone": "714-663-9740",
                                    "disabled_address": "0"
                                },
                                {
                                    "address_id": "25",
                                    "customer_id": "19",
                                    "line1": "639 Main St",
                                    "line2": "",
                                    "city": "Anchorage",
                                    "state_code": "AK",
                                    "zip_code": "99501",
                                    "phone": "907-921-2010",
                                    "disabled_address": "0"
                                },
                                {
                                    "address_id": "26",
                                    "customer_id": "19",
                                    "line1": "18 Fountain St",
                                    "line2": "",
                                    "city": "Anchorage",
                                    "state_code": "AK",
                                    "zip_code": "99515",
                                    "phone": "907-873-2882",
                                    "disabled_address": "0"
                                },
                                {
                                    "address_id": "27",
                                    "customer_id": "20",
                                    "line1": "1747 Calle Amanecer #2",
                                    "line2": "",
                                    "city": "Anchorage",
                                    "state_code": "AK",
                                    "zip_code": "99501",
                                    "phone": "907-914-9482",
                                    "disabled_address": "0"
                                },
                                {
                                    "address_id": "28",
                                    "customer_id": "21",
                                    "line1": "735 Crawford Dr",
                                    "line2": "",
                                    "city": "Anchorage",
                                    "state_code": "AK",
                                    "zip_code": "99501",
                                    "phone": "907-770-3542",
                                    "disabled_address": "0"
                                },
                                {
                                    "address_id": "29",
                                    "customer_id": "22",
                                    "line1": "560 Civic Center Dr",
                                    "line2": "",
                                    "city": "Ann Arbor",
                                    "state_code": "MI",
                                    "zip_code": "48103",
                                    "phone": "734-408-8174",
                                    "disabled_address": "0"
                                },
                                {
                                    "address_id": "30",
                                    "customer_id": "23",
                                    "line1": "747 Leonis Blvd",
                                    "line2": "",
                                    "city": "Annandale",
                                    "state_code": "VA",
                                    "zip_code": "22003",
                                    "phone": "703-874-4248",
                                    "disabled_address": "0"
                                },
                                {
                                    "address_id": "31",
                                    "customer_id": "24",
                                    "line1": "70099 E North Ave",
                                    "line2": "",
                                    "city": "Arlington",
                                    "state_code": "TX",
                                    "zip_code": "76013",
                                    "phone": "817-947-9480",
                                    "disabled_address": "0"
                                },
                                {
                                    "address_id": "32",
                                    "customer_id": "25",
                                    "line1": "73 W Barstow Ave",
                                    "line2": "",
                                    "city": "Arlington Heights",
                                    "state_code": "IL",
                                    "zip_code": "60004",
                                    "phone": "847-613-5866",
                                    "disabled_address": "0"
                                },
                                {
                                    "address_id": "33",
                                    "customer_id": "26",
                                    "line1": "3 Mcauley Dr",
                                    "line2": "",
                                    "city": "Ashland",
                                    "state_code": "OH",
                                    "zip_code": "44805",
                                    "phone": "419-800-6759",
                                    "disabled_address": "0"
                                },
                                {
                                    "address_id": "34",
                                    "customer_id": "27",
                                    "line1": "6 S 33rd St",
                                    "line2": "",
                                    "city": "Aston",
                                    "state_code": "PA",
                                    "zip_code": "19014",
                                    "phone": "610-492-4643",
                                    "disabled_address": "0"
                                },
                                {
                                    "address_id": "35",
                                    "customer_id": "28",
                                    "line1": "92 Broadway",
                                    "line2": "",
                                    "city": "Astoria",
                                    "state_code": "NY",
                                    "zip_code": "11103",
                                    "phone": "718-728-5051",
                                    "disabled_address": "0"
                                },
                                {
                                    "address_id": "36",
                                    "customer_id": "29",
                                    "line1": "45 2nd Ave #9759",
                                    "line2": "",
                                    "city": "Atlanta",
                                    "state_code": "GA",
                                    "zip_code": "30328",
                                    "phone": "770-531-2842",
                                    "disabled_address": "0"
                                },
                                {
                                    "address_id": "37",
                                    "customer_id": "29",
                                    "line1": "26 Montgomery St",
                                    "line2": "",
                                    "city": "Atlanta",
                                    "state_code": "GA",
                                    "zip_code": "30328",
                                    "phone": "770-930-9967",
                                    "disabled_address": "0"
                                },
                                {
                                    "address_id": "38",
                                    "customer_id": "30",
                                    "line1": "187 Market St",
                                    "line2": "",
                                    "city": "Atlanta",
                                    "state_code": "GA",
                                    "zip_code": "30342",
                                    "phone": "404-607-8435",
                                    "disabled_address": "0"
                                },
                                {
                                    "address_id": "39",
                                    "customer_id": "31",
                                    "line1": "82 Winsor St #54",
                                    "line2": "",
                                    "city": "Atlanta",
                                    "state_code": "GA",
                                    "zip_code": "30340",
                                    "phone": "770-584-4119",
                                    "disabled_address": "0"
                                },
                                {
                                    "address_id": "40",
                                    "customer_id": "32",
                                    "line1": "92 Main St",
                                    "line2": "",
                                    "city": "Atlantic City",
                                    "state_code": "NJ",
                                    "zip_code": "8401",
                                    "phone": "609-263-9243",
                                    "disabled_address": "0"
                                },
                                {
                                    "address_id": "41",
                                    "customer_id": "32",
                                    "line1": "506 S Hacienda Dr",
                                    "line2": "",
                                    "city": "Atlantic City",
                                    "state_code": "NJ",
                                    "zip_code": "8401",
                                    "phone": "609-854-7156",
                                    "disabled_address": "0"
                                },
                                {
                                    "address_id": "42",
                                    "customer_id": "33",
                                    "line1": "59 N Groesbeck Hwy",
                                    "line2": "",
                                    "city": "Austin",
                                    "state_code": "TX",
                                    "zip_code": "78731",
                                    "phone": "512-861-3814",
                                    "disabled_address": "0"
                                },
                                {
                                    "address_id": "43",
                                    "customer_id": "33",
                                    "line1": "2026 N Plankinton Ave #3",
                                    "line2": "",
                                    "city": "Austin",
                                    "state_code": "TX",
                                    "zip_code": "78754",
                                    "phone": "512-693-8345",
                                    "disabled_address": "0"
                                },
                                {
                                    "address_id": "44",
                                    "customer_id": "34",
                                    "line1": "3125 Packer Ave #9851",
                                    "line2": "",
                                    "city": "Austin",
                                    "state_code": "TX",
                                    "zip_code": "78753",
                                    "phone": "512-742-1149",
                                    "disabled_address": "0"
                                },
                                {
                                    "address_id": "45",
                                    "customer_id": "35",
                                    "line1": "228 Runamuck Pl #2808",
                                    "line2": "",
                                    "city": "Baltimore",
                                    "state_code": "MD",
                                    "zip_code": "21224",
                                    "phone": "410-804-4694",
                                    "disabled_address": "0"
                                },
                                {
                                    "address_id": "46",
                                    "customer_id": "36",
                                    "line1": "6 Kains Ave",
                                    "line2": "",
                                    "city": "Baltimore",
                                    "state_code": "MD",
                                    "zip_code": "21215",
                                    "phone": "410-957-6903",
                                    "disabled_address": "0"
                                },
                                {
                                    "address_id": "47",
                                    "customer_id": "37",
                                    "line1": "2 S Biscayne Blvd",
                                    "line2": "",
                                    "city": "Baltimore",
                                    "state_code": "MD",
                                    "zip_code": "21230",
                                    "phone": "410-773-3862",
                                    "disabled_address": "0"
                                },
                                {
                                    "address_id": "48",
                                    "customer_id": "38",
                                    "line1": "4 Iwaena St",
                                    "line2": "",
                                    "city": "Baltimore",
                                    "state_code": "MD",
                                    "zip_code": "21202",
                                    "phone": "410-429-4888",
                                    "disabled_address": "0"
                                },
                                {
                                    "address_id": "49",
                                    "customer_id": "39",
                                    "line1": "2 W Scyene Rd #3",
                                    "line2": "",
                                    "city": "Baltimore",
                                    "state_code": "MD",
                                    "zip_code": "21217",
                                    "phone": "410-522-7621",
                                    "disabled_address": "0"
                                },
                                {
                                    "address_id": "50",
                                    "customer_id": "40",
                                    "line1": "37855 Nolan Rd",
                                    "line2": "",
                                    "city": "Bangor",
                                    "state_code": "ME",
                                    "zip_code": "4401",
                                    "phone": "207-233-6185",
                                    "disabled_address": "0"
                                },
                                {
                                    "address_id": "51",
                                    "customer_id": "40",
                                    "line1": "34 Saint George Ave #2",
                                    "line2": "",
                                    "city": "Bangor",
                                    "state_code": "ME",
                                    "zip_code": "4401",
                                    "phone": "207-748-3722",
                                    "disabled_address": "0"
                                },
                                {
                                    "address_id": "52",
                                    "customer_id": "41",
                                    "line1": "95 Main Ave #2",
                                    "line2": "",
                                    "city": "Barberton",
                                    "state_code": "OH",
                                    "zip_code": "44203",
                                    "phone": "330-566-8898",
                                    "disabled_address": "0"
                                },
                                {
                                    "address_id": "53",
                                    "customer_id": "42",
                                    "line1": "70 W Main St",
                                    "line2": "",
                                    "city": "Beachwood",
                                    "state_code": "OH",
                                    "zip_code": "44122",
                                    "phone": "216-733-8494",
                                    "disabled_address": "0"
                                },
                                {
                                    "address_id": "54",
                                    "customer_id": "43",
                                    "line1": "3 Elmwood Dr",
                                    "line2": "",
                                    "city": "Beaverton",
                                    "state_code": "OR",
                                    "zip_code": "97005",
                                    "phone": "503-707-5812",
                                    "disabled_address": "0"
                                },
                                {
                                    "address_id": "55",
                                    "customer_id": "44",
                                    "line1": "34 Raritan Center Pky",
                                    "line2": "",
                                    "city": "Bellflower",
                                    "state_code": "CA",
                                    "zip_code": "90706",
                                    "phone": "562-719-7922",
                                    "disabled_address": "0"
                                },
                                {
                                    "address_id": "56",
                                    "customer_id": "45",
                                    "line1": "64 Lakeview Ave",
                                    "line2": "",
                                    "city": "Beloit",
                                    "state_code": "WI",
                                    "zip_code": "53511",
                                    "phone": "608-942-8836",
                                    "disabled_address": "0"
                                },
                                {
                                    "address_id": "57",
                                    "customer_id": "46",
                                    "line1": "2887 Knowlton St #5435",
                                    "line2": "",
                                    "city": "Berkeley",
                                    "state_code": "CA",
                                    "zip_code": "94710",
                                    "phone": "510-942-5916",
                                    "disabled_address": "0"
                                },
                                {
                                    "address_id": "58",
                                    "customer_id": "47",
                                    "line1": "429 Tiger Ln",
                                    "line2": "",
                                    "city": "Beverly Hills",
                                    "state_code": "CA",
                                    "zip_code": "90212",
                                    "phone": "310-969-7230",
                                    "disabled_address": "0"
                                },
                                {
                                    "address_id": "59",
                                    "customer_id": "47",
                                    "line1": "598 43rd St",
                                    "line2": "",
                                    "city": "Beverly Hills",
                                    "state_code": "CA",
                                    "zip_code": "90210",
                                    "phone": "310-652-2379",
                                    "disabled_address": "0"
                                },
                                {
                                    "address_id": "60",
                                    "customer_id": "48",
                                    "line1": "5 Elmwood Park Blvd",
                                    "line2": "",
                                    "city": "Biloxi",
                                    "state_code": "MS",
                                    "zip_code": "39530",
                                    "phone": "228-432-4635",
                                    "disabled_address": "0"
                                },
                                {
                                    "address_id": "61",
                                    "customer_id": "49",
                                    "line1": "9506 Edgemore Ave",
                                    "line2": "",
                                    "city": "Bladensburg",
                                    "state_code": "MD",
                                    "zip_code": "20710",
                                    "phone": "301-591-3034",
                                    "disabled_address": "0"
                                },
                                {
                                    "address_id": "62",
                                    "customer_id": "50",
                                    "line1": "539 Coldwater Canyon Ave",
                                    "line2": "",
                                    "city": "Bloomfield",
                                    "state_code": "NJ",
                                    "zip_code": "7003",
                                    "phone": "973-473-5108",
                                    "disabled_address": "0"
                                },
                                {
                                    "address_id": "63",
                                    "customer_id": "51",
                                    "line1": "772 W River Dr",
                                    "line2": "",
                                    "city": "Bloomington",
                                    "state_code": "IN",
                                    "zip_code": "47404",
                                    "phone": "812-442-8544",
                                    "disabled_address": "0"
                                },
                                {
                                    "address_id": "64",
                                    "customer_id": "52",
                                    "line1": "70 Euclid Ave #722",
                                    "line2": "",
                                    "city": "Bohemia",
                                    "state_code": "NY",
                                    "zip_code": "11716",
                                    "phone": "631-291-4976",
                                    "disabled_address": "0"
                                },
                                {
                                    "address_id": "65",
                                    "customer_id": "53",
                                    "line1": "74 W College St",
                                    "line2": "",
                                    "city": "Boise",
                                    "state_code": "ID",
                                    "zip_code": "83707",
                                    "phone": "208-737-8439",
                                    "disabled_address": "0"
                                },
                                {
                                    "address_id": "66",
                                    "customer_id": "53",
                                    "line1": "9635 S Main St",
                                    "line2": "",
                                    "city": "Boise",
                                    "state_code": "ID",
                                    "zip_code": "83704",
                                    "phone": "208-690-3315",
                                    "disabled_address": "0"
                                },
                                {
                                    "address_id": "67",
                                    "customer_id": "54",
                                    "line1": "67 Rv Cent",
                                    "line2": "",
                                    "city": "Boise",
                                    "state_code": "ID",
                                    "zip_code": "83709",
                                    "phone": "208-206-9848",
                                    "disabled_address": "0"
                                },
                                {
                                    "address_id": "68",
                                    "customer_id": "55",
                                    "line1": "38938 Park Blvd",
                                    "line2": "",
                                    "city": "Boston",
                                    "state_code": "MA",
                                    "zip_code": "2128",
                                    "phone": "617-997-5771",
                                    "disabled_address": "0"
                                },
                                {
                                    "address_id": "69",
                                    "customer_id": "55",
                                    "line1": "8 County Center Dr #647",
                                    "line2": "",
                                    "city": "Boston",
                                    "state_code": "MA",
                                    "zip_code": "2210",
                                    "phone": "617-697-6024",
                                    "disabled_address": "0"
                                },
                                {
                                    "address_id": "70",
                                    "customer_id": "56",
                                    "line1": "5 S Colorado Blvd #449",
                                    "line2": "",
                                    "city": "Bothell",
                                    "state_code": "WA",
                                    "zip_code": "98021",
                                    "phone": "425-700-3751",
                                    "disabled_address": "0"
                                },
                                {
                                    "address_id": "71",
                                    "customer_id": "57",
                                    "line1": "4 Webbs Chapel Rd",
                                    "line2": "",
                                    "city": "Boulder",
                                    "state_code": "CO",
                                    "zip_code": "80303",
                                    "phone": "303-521-9860",
                                    "disabled_address": "0"
                                },
                                {
                                    "address_id": "72",
                                    "customer_id": "58",
                                    "line1": "8590 Lake Lizzie Dr",
                                    "line2": "",
                                    "city": "Bowling Green",
                                    "state_code": "OH",
                                    "zip_code": "43402",
                                    "phone": "419-417-4674",
                                    "disabled_address": "0"
                                },
                                {
                                    "address_id": "73",
                                    "customer_id": "59",
                                    "line1": "70295 Pioneer Ct",
                                    "line2": "",
                                    "city": "Brandon",
                                    "state_code": "FL",
                                    "zip_code": "33511",
                                    "phone": "813-744-7100",
                                    "disabled_address": "0"
                                },
                                {
                                    "address_id": "74",
                                    "customer_id": "60",
                                    "line1": "8 W Cerritos Ave #54",
                                    "line2": "",
                                    "city": "Bridgeport",
                                    "state_code": "NJ",
                                    "zip_code": "8014",
                                    "phone": "856-264-4130",
                                    "disabled_address": "0"
                                },
                                {
                                    "address_id": "75",
                                    "customer_id": "61",
                                    "line1": "46314 Route 130",
                                    "line2": "",
                                    "city": "Bridgeport",
                                    "state_code": "CT",
                                    "zip_code": "6610",
                                    "phone": "203-918-3939",
                                    "disabled_address": "0"
                                },
                                {
                                    "address_id": "76",
                                    "customer_id": "62",
                                    "line1": "50 E Wacker Dr",
                                    "line2": "",
                                    "city": "Bridgewater",
                                    "state_code": "NJ",
                                    "zip_code": "8807",
                                    "phone": "908-602-5258",
                                    "disabled_address": "0"
                                },
                                {
                                    "address_id": "77",
                                    "customer_id": "63",
                                    "line1": "3732 Sherman Ave",
                                    "line2": "",
                                    "city": "Bridgewater",
                                    "state_code": "NJ",
                                    "zip_code": "8807",
                                    "phone": "908-670-4712",
                                    "disabled_address": "0"
                                },
                                {
                                    "address_id": "78",
                                    "customer_id": "64",
                                    "line1": "4 B Blue Ridge Blvd",
                                    "line2": "",
                                    "city": "Brighton",
                                    "state_code": "MI",
                                    "zip_code": "48116",
                                    "phone": "810-374-9840",
                                    "disabled_address": "0"
                                },
                                {
                                    "address_id": "79",
                                    "customer_id": "65",
                                    "line1": "6 Gilson St",
                                    "line2": "",
                                    "city": "Bronx",
                                    "state_code": "NY",
                                    "zip_code": "10468",
                                    "phone": "718-478-8568",
                                    "disabled_address": "0"
                                },
                                {
                                    "address_id": "80",
                                    "customer_id": "66",
                                    "line1": "617 Nw 36th Ave",
                                    "line2": "",
                                    "city": "Brook Park",
                                    "state_code": "OH",
                                    "zip_code": "44142",
                                    "phone": "216-871-6876",
                                    "disabled_address": "0"
                                },
                                {
                                    "address_id": "81",
                                    "customer_id": "67",
                                    "line1": "25657 Live Oak St",
                                    "line2": "",
                                    "city": "Brooklyn",
                                    "state_code": "NY",
                                    "zip_code": "11226",
                                    "phone": "718-280-4183",
                                    "disabled_address": "0"
                                },
                                {
                                    "address_id": "82",
                                    "customer_id": "68",
                                    "line1": "4 Kohler Memorial Dr",
                                    "line2": "",
                                    "city": "Brooklyn",
                                    "state_code": "NY",
                                    "zip_code": "11230",
                                    "phone": "718-732-9475",
                                    "disabled_address": "0"
                                },
                                {
                                    "address_id": "83",
                                    "customer_id": "68",
                                    "line1": "64 Newman Springs Rd E",
                                    "line2": "",
                                    "city": "Brooklyn",
                                    "state_code": "NY",
                                    "zip_code": "11219",
                                    "phone": "718-853-3740",
                                    "disabled_address": "0"
                                },
                                {
                                    "address_id": "84",
                                    "customer_id": "69",
                                    "line1": "61047 Mayfield Ave",
                                    "line2": "",
                                    "city": "Brooklyn",
                                    "state_code": "NY",
                                    "zip_code": "11223",
                                    "phone": "718-394-4974",
                                    "disabled_address": "0"
                                },
                                {
                                    "address_id": "85",
                                    "customer_id": "70",
                                    "line1": "49 N Mays St",
                                    "line2": "",
                                    "city": "Broussard",
                                    "state_code": "LA",
                                    "zip_code": "70518",
                                    "phone": "337-991-8070",
                                    "disabled_address": "0"
                                },
                                {
                                    "address_id": "86",
                                    "customer_id": "71",
                                    "line1": "8116 Mount Vernon Ave",
                                    "line2": "",
                                    "city": "Bucyrus",
                                    "state_code": "OH",
                                    "zip_code": "44820",
                                    "phone": "419-488-6648",
                                    "disabled_address": "0"
                                },
                                {
                                    "address_id": "87",
                                    "customer_id": "72",
                                    "line1": "42754 S Ash Ave",
                                    "line2": "",
                                    "city": "Buffalo",
                                    "state_code": "NY",
                                    "zip_code": "14228",
                                    "phone": "716-854-9845",
                                    "disabled_address": "0"
                                },
                                {
                                    "address_id": "88",
                                    "customer_id": "73",
                                    "line1": "4800 Black Horse Pike",
                                    "line2": "",
                                    "city": "Burlingame",
                                    "state_code": "CA",
                                    "zip_code": "94010",
                                    "phone": "650-216-5075",
                                    "disabled_address": "0"
                                },
                                {
                                    "address_id": "89",
                                    "customer_id": "74",
                                    "line1": "33 Lewis Rd #46",
                                    "line2": "",
                                    "city": "Burlington",
                                    "state_code": "NC",
                                    "zip_code": "27215",
                                    "phone": "336-467-3095",
                                    "disabled_address": "0"
                                },
                                {
                                    "address_id": "90",
                                    "customer_id": "75",
                                    "line1": "9 Tower Ave",
                                    "line2": "",
                                    "city": "Burlington",
                                    "state_code": "KY",
                                    "zip_code": "41005",
                                    "phone": "859-308-4286",
                                    "disabled_address": "0"
                                },
                                {
                                    "address_id": "91",
                                    "customer_id": "76",
                                    "line1": "170 Wyoming Ave",
                                    "line2": "",
                                    "city": "Burnsville",
                                    "state_code": "MN",
                                    "zip_code": "55337",
                                    "phone": "952-938-9457",
                                    "disabled_address": "0"
                                },
                                {
                                    "address_id": "92",
                                    "customer_id": "77",
                                    "line1": "7061 N 2nd St",
                                    "line2": "",
                                    "city": "Burnsville",
                                    "state_code": "MN",
                                    "zip_code": "55337",
                                    "phone": "952-314-5871",
                                    "disabled_address": "0"
                                },
                                {
                                    "address_id": "93",
                                    "customer_id": "78",
                                    "line1": "3829 Ventura Blvd",
                                    "line2": "",
                                    "city": "Butte",
                                    "state_code": "MT",
                                    "zip_code": "59701",
                                    "phone": "406-374-7752",
                                    "disabled_address": "0"
                                },
                                {
                                    "address_id": "94",
                                    "customer_id": "79",
                                    "line1": "17 Morena Blvd",
                                    "line2": "",
                                    "city": "Camarillo",
                                    "state_code": "CA",
                                    "zip_code": "93012",
                                    "phone": "805-609-1531",
                                    "disabled_address": "0"
                                },
                                {
                                    "address_id": "95",
                                    "customer_id": "80",
                                    "line1": "25 Se 176th Pl",
                                    "line2": "",
                                    "city": "Cambridge",
                                    "state_code": "MA",
                                    "zip_code": "2138",
                                    "phone": "617-544-2541",
                                    "disabled_address": "0"
                                },
                                {
                                    "address_id": "96",
                                    "customer_id": "81",
                                    "line1": "1 Garfield Ave #7",
                                    "line2": "",
                                    "city": "Canton",
                                    "state_code": "OH",
                                    "zip_code": "44707",
                                    "phone": "330-618-2579",
                                    "disabled_address": "0"
                                },
                                {
                                    "address_id": "97",
                                    "customer_id": "82",
                                    "line1": "94 W Dodge Rd",
                                    "line2": "",
                                    "city": "Carson City",
                                    "state_code": "NV",
                                    "zip_code": "89701",
                                    "phone": "775-578-1214",
                                    "disabled_address": "0"
                                },
                                {
                                    "address_id": "98",
                                    "customer_id": "83",
                                    "line1": "13252 Lighthouse Ave",
                                    "line2": "",
                                    "city": "Cathedral City",
                                    "state_code": "CA",
                                    "zip_code": "92234",
                                    "phone": "760-745-2649",
                                    "disabled_address": "0"
                                },
                                {
                                    "address_id": "99",
                                    "customer_id": "84",
                                    "line1": "6 S Broadway St",
                                    "line2": "",
                                    "city": "Cedar Grove",
                                    "state_code": "NJ",
                                    "zip_code": "7009",
                                    "phone": "973-582-5469",
                                    "disabled_address": "0"
                                },
                                {
                                    "address_id": "100",
                                    "customer_id": "85",
                                    "line1": "98 Connecticut Ave Nw",
                                    "line2": "",
                                    "city": "Chagrin Falls",
                                    "state_code": "OH",
                                    "zip_code": "44023",
                                    "phone": "440-579-7763",
                                    "disabled_address": "0"
                                },
                                {
                                    "address_id": "101",
                                    "customer_id": "86",
                                    "line1": "1088 Pinehurst St",
                                    "line2": "",
                                    "city": "Chapel Hill",
                                    "state_code": "NC",
                                    "zip_code": "27514",
                                    "phone": "919-715-3791",
                                    "disabled_address": "0"
                                },
                                {
                                    "address_id": "102",
                                    "customer_id": "87",
                                    "line1": "501 N 19th Ave",
                                    "line2": "",
                                    "city": "Cherry Hill",
                                    "state_code": "NJ",
                                    "zip_code": "8002",
                                    "phone": "856-702-3676",
                                    "disabled_address": "0"
                                },
                                {
                                    "address_id": "103",
                                    "customer_id": "87",
                                    "line1": "43496 Commercial Dr #29",
                                    "line2": "",
                                    "city": "Cherry Hill",
                                    "state_code": "NJ",
                                    "zip_code": "8003",
                                    "phone": "856-513-7024",
                                    "disabled_address": "0"
                                },
                                {
                                    "address_id": "104",
                                    "customer_id": "88",
                                    "line1": "38773 Gravois Ave",
                                    "line2": "",
                                    "city": "Cheyenne",
                                    "state_code": "WY",
                                    "zip_code": "82001",
                                    "phone": "307-816-7115",
                                    "disabled_address": "0"
                                },
                                {
                                    "address_id": "105",
                                    "customer_id": "89",
                                    "line1": "7 Eads St",
                                    "line2": "",
                                    "city": "Chicago",
                                    "state_code": "IL",
                                    "zip_code": "60632",
                                    "phone": "773-924-8565",
                                    "disabled_address": "0"
                                },
                                {
                                    "address_id": "106",
                                    "customer_id": "90",
                                    "line1": "4284 Dorigo Ln",
                                    "line2": "",
                                    "city": "Chicago",
                                    "state_code": "IL",
                                    "zip_code": "60647",
                                    "phone": "773-352-3437",
                                    "disabled_address": "0"
                                },
                                {
                                    "address_id": "107",
                                    "customer_id": "91",
                                    "line1": "4 Warehouse Point Rd #7",
                                    "line2": "",
                                    "city": "Chicago",
                                    "state_code": "IL",
                                    "zip_code": "60638",
                                    "phone": "773-539-1058",
                                    "disabled_address": "0"
                                },
                                {
                                    "address_id": "108",
                                    "customer_id": "92",
                                    "line1": "137 Pioneer Way",
                                    "line2": "",
                                    "city": "Chicago",
                                    "state_code": "IL",
                                    "zip_code": "60604",
                                    "phone": "312-512-2338",
                                    "disabled_address": "0"
                                },
                                {
                                    "address_id": "109",
                                    "customer_id": "93",
                                    "line1": "9 Murfreesboro Rd",
                                    "line2": "",
                                    "city": "Chicago",
                                    "state_code": "IL",
                                    "zip_code": "60623",
                                    "phone": "773-297-9391",
                                    "disabled_address": "0"
                                },
                                {
                                    "address_id": "110",
                                    "customer_id": "94",
                                    "line1": "45 E Acacia Ct",
                                    "line2": "",
                                    "city": "Chicago",
                                    "state_code": "IL",
                                    "zip_code": "60624",
                                    "phone": "773-359-6109",
                                    "disabled_address": "0"
                                },
                                {
                                    "address_id": "111",
                                    "customer_id": "95",
                                    "line1": "72 Beechwood Ter",
                                    "line2": "",
                                    "city": "Chicago",
                                    "state_code": "IL",
                                    "zip_code": "60657",
                                    "phone": "773-857-2231",
                                    "disabled_address": "0"
                                },
                                {
                                    "address_id": "112",
                                    "customer_id": "96",
                                    "line1": "72 Mannix Dr",
                                    "line2": "",
                                    "city": "Cincinnati",
                                    "state_code": "OH",
                                    "zip_code": "45203",
                                    "phone": "513-418-1566",
                                    "disabled_address": "0"
                                },
                                {
                                    "address_id": "113",
                                    "customer_id": "97",
                                    "line1": "868 State St #38",
                                    "line2": "",
                                    "city": "Cincinnati",
                                    "state_code": "OH",
                                    "zip_code": "45251",
                                    "phone": "513-747-9603",
                                    "disabled_address": "0"
                                },
                                {
                                    "address_id": "114",
                                    "customer_id": "98",
                                    "line1": "7 Tarrytown Rd",
                                    "line2": "",
                                    "city": "Cincinnati",
                                    "state_code": "OH",
                                    "zip_code": "45217",
                                    "phone": "513-863-9471",
                                    "disabled_address": "0"
                                },
                                {
                                    "address_id": "115",
                                    "customer_id": "99",
                                    "line1": "83 County Road 437 #8581",
                                    "line2": "",
                                    "city": "Clarks Summit",
                                    "state_code": "PA",
                                    "zip_code": "18411",
                                    "phone": "570-469-8401",
                                    "disabled_address": "0"
                                },
                                {
                                    "address_id": "116",
                                    "customer_id": "100",
                                    "line1": "2845 Boulder Crescent St",
                                    "line2": "",
                                    "city": "Cleveland",
                                    "state_code": "OH",
                                    "zip_code": "44103",
                                    "phone": "216-270-9653",
                                    "disabled_address": "0"
                                },
                                {
                                    "address_id": "117",
                                    "customer_id": "101",
                                    "line1": "80 Pittsford Victor Rd #9",
                                    "line2": "",
                                    "city": "Cleveland",
                                    "state_code": "OH",
                                    "zip_code": "44103",
                                    "phone": "216-937-5320",
                                    "disabled_address": "0"
                                },
                                {
                                    "address_id": "118",
                                    "customer_id": "102",
                                    "line1": "82 Us Highway 46",
                                    "line2": "",
                                    "city": "Clifton",
                                    "state_code": "NJ",
                                    "zip_code": "7011",
                                    "phone": "973-644-2974",
                                    "disabled_address": "0"
                                },
                                {
                                    "address_id": "119",
                                    "customer_id": "103",
                                    "line1": "47857 Coney Island Ave",
                                    "line2": "",
                                    "city": "Clinton",
                                    "state_code": "MD",
                                    "zip_code": "20735",
                                    "phone": "301-392-6698",
                                    "disabled_address": "0"
                                },
                                {
                                    "address_id": "120",
                                    "customer_id": "104",
                                    "line1": "31 Douglas Blvd #950",
                                    "line2": "",
                                    "city": "Clovis",
                                    "state_code": "NM",
                                    "zip_code": "88101",
                                    "phone": "505-950-1763",
                                    "disabled_address": "0"
                                },
                                {
                                    "address_id": "121",
                                    "customer_id": "105",
                                    "line1": "383 Gunderman Rd #197",
                                    "line2": "",
                                    "city": "Coatesville",
                                    "state_code": "PA",
                                    "zip_code": "19320",
                                    "phone": "610-752-2683",
                                    "disabled_address": "0"
                                },
                                {
                                    "address_id": "122",
                                    "customer_id": "106",
                                    "line1": "8597 W National Ave",
                                    "line2": "",
                                    "city": "Cocoa",
                                    "state_code": "FL",
                                    "zip_code": "32922",
                                    "phone": "321-632-4668",
                                    "disabled_address": "0"
                                },
                                {
                                    "address_id": "123",
                                    "customer_id": "107",
                                    "line1": "9 Vanowen St",
                                    "line2": "",
                                    "city": "College Station",
                                    "state_code": "TX",
                                    "zip_code": "77840",
                                    "phone": "979-809-5770",
                                    "disabled_address": "0"
                                },
                                {
                                    "address_id": "124",
                                    "customer_id": "108",
                                    "line1": "8 Us Highway 22",
                                    "line2": "",
                                    "city": "Colorado Springs",
                                    "state_code": "CO",
                                    "zip_code": "80937",
                                    "phone": "719-547-9543",
                                    "disabled_address": "0"
                                },
                                {
                                    "address_id": "125",
                                    "customer_id": "109",
                                    "line1": "721 Interstate 45 S",
                                    "line2": "",
                                    "city": "Colorado Springs",
                                    "state_code": "CO",
                                    "zip_code": "80919",
                                    "phone": "719-223-2074",
                                    "disabled_address": "0"
                                },
                                {
                                    "address_id": "126",
                                    "customer_id": "110",
                                    "line1": "98839 Hawthorne Blvd #6101",
                                    "line2": "",
                                    "city": "Columbia",
                                    "state_code": "SC",
                                    "zip_code": "29201",
                                    "phone": "803-681-3678",
                                    "disabled_address": "0"
                                },
                                {
                                    "address_id": "127",
                                    "customer_id": "111",
                                    "line1": "6882 Torresdale Ave",
                                    "line2": "",
                                    "city": "Columbia",
                                    "state_code": "SC",
                                    "zip_code": "29201",
                                    "phone": "803-975-3405",
                                    "disabled_address": "0"
                                },
                                {
                                    "address_id": "128",
                                    "customer_id": "112",
                                    "line1": "74874 Atlantic Ave",
                                    "line2": "",
                                    "city": "Columbus",
                                    "state_code": "OH",
                                    "zip_code": "43215",
                                    "phone": "614-648-3265",
                                    "disabled_address": "0"
                                },
                                {
                                    "address_id": "129",
                                    "customer_id": "113",
                                    "line1": "20932 Hedley St",
                                    "line2": "",
                                    "city": "Concord",
                                    "state_code": "CA",
                                    "zip_code": "94520",
                                    "phone": "925-522-7798",
                                    "disabled_address": "0"
                                },
                                {
                                    "address_id": "130",
                                    "customer_id": "114",
                                    "line1": "523 Marquette Ave",
                                    "line2": "",
                                    "city": "Concord",
                                    "state_code": "MA",
                                    "zip_code": "1742",
                                    "phone": "978-289-7717",
                                    "disabled_address": "0"
                                },
                                {
                                    "address_id": "131",
                                    "customer_id": "115",
                                    "line1": "386 9th Ave N",
                                    "line2": "",
                                    "city": "Conroe",
                                    "state_code": "TX",
                                    "zip_code": "77301",
                                    "phone": "936-597-3614",
                                    "disabled_address": "0"
                                },
                                {
                                    "address_id": "132",
                                    "customer_id": "116",
                                    "line1": "77132 Coon Rapids Blvd Nw",
                                    "line2": "",
                                    "city": "Conroe",
                                    "state_code": "TX",
                                    "zip_code": "77301",
                                    "phone": "936-988-8171",
                                    "disabled_address": "0"
                                },
                                {
                                    "address_id": "133",
                                    "customer_id": "117",
                                    "line1": "80312 W 32nd St",
                                    "line2": "",
                                    "city": "Conroe",
                                    "state_code": "TX",
                                    "zip_code": "77301",
                                    "phone": "936-937-2334",
                                    "disabled_address": "0"
                                },
                                {
                                    "address_id": "134",
                                    "customer_id": "118",
                                    "line1": "8728 S Broad St",
                                    "line2": "",
                                    "city": "Coram",
                                    "state_code": "NY",
                                    "zip_code": "11727",
                                    "phone": "631-288-2866",
                                    "disabled_address": "0"
                                },
                                {
                                    "address_id": "135",
                                    "customer_id": "119",
                                    "line1": "26659 N 13th St",
                                    "line2": "",
                                    "city": "Costa Mesa",
                                    "state_code": "CA",
                                    "zip_code": "92626",
                                    "phone": "949-903-3898",
                                    "disabled_address": "0"
                                },
                                {
                                    "address_id": "136",
                                    "customer_id": "120",
                                    "line1": "189 Village Park Rd",
                                    "line2": "",
                                    "city": "Crestview",
                                    "state_code": "FL",
                                    "zip_code": "32536",
                                    "phone": "850-330-8079",
                                    "disabled_address": "0"
                                },
                                {
                                    "address_id": "137",
                                    "customer_id": "121",
                                    "line1": "177 S Rider Trl #52",
                                    "line2": "",
                                    "city": "Crystal River",
                                    "state_code": "FL",
                                    "zip_code": "34429",
                                    "phone": "352-947-6152",
                                    "disabled_address": "0"
                                },
                                {
                                    "address_id": "138",
                                    "customer_id": "122",
                                    "line1": "627 Walford Ave",
                                    "line2": "",
                                    "city": "Dallas",
                                    "state_code": "TX",
                                    "zip_code": "75227",
                                    "phone": "214-225-5850",
                                    "disabled_address": "0"
                                },
                                {
                                    "address_id": "139",
                                    "customer_id": "123",
                                    "line1": "99586 Main St",
                                    "line2": "",
                                    "city": "Dallas",
                                    "state_code": "TX",
                                    "zip_code": "75207",
                                    "phone": "214-529-1949",
                                    "disabled_address": "0"
                                },
                                {
                                    "address_id": "140",
                                    "customer_id": "124",
                                    "line1": "75684 S Withlapopka Dr #32",
                                    "line2": "",
                                    "city": "Dallas",
                                    "state_code": "TX",
                                    "zip_code": "75227",
                                    "phone": "214-785-6750",
                                    "disabled_address": "0"
                                },
                                {
                                    "address_id": "141",
                                    "customer_id": "125",
                                    "line1": "8 S Haven St",
                                    "line2": "",
                                    "city": "Daytona Beach",
                                    "state_code": "FL",
                                    "zip_code": "32114",
                                    "phone": "386-208-6976",
                                    "disabled_address": "0"
                                },
                                {
                                    "address_id": "142",
                                    "customer_id": "126",
                                    "line1": "7116 Western Ave",
                                    "line2": "",
                                    "city": "Dearborn",
                                    "state_code": "MI",
                                    "zip_code": "48126",
                                    "phone": "313-390-7855",
                                    "disabled_address": "0"
                                },
                                {
                                    "address_id": "143",
                                    "customer_id": "127",
                                    "line1": "3270 Dequindre Rd",
                                    "line2": "",
                                    "city": "Deer Park",
                                    "state_code": "NY",
                                    "zip_code": "11729",
                                    "phone": "631-295-9879",
                                    "disabled_address": "0"
                                },
                                {
                                    "address_id": "144",
                                    "customer_id": "128",
                                    "line1": "866 34th Ave",
                                    "line2": "",
                                    "city": "Denver",
                                    "state_code": "CO",
                                    "zip_code": "80231",
                                    "phone": "303-692-3118",
                                    "disabled_address": "0"
                                },
                                {
                                    "address_id": "145",
                                    "customer_id": "129",
                                    "line1": "669 Packerland Dr #1438",
                                    "line2": "",
                                    "city": "Denver",
                                    "state_code": "CO",
                                    "zip_code": "80212",
                                    "phone": "303-794-1341",
                                    "disabled_address": "0"
                                },
                                {
                                    "address_id": "146",
                                    "customer_id": "130",
                                    "line1": "7563 Cornwall Rd #4462",
                                    "line2": "",
                                    "city": "Denver",
                                    "state_code": "PA",
                                    "zip_code": "17517",
                                    "phone": "717-583-1497",
                                    "disabled_address": "0"
                                },
                                {
                                    "address_id": "147",
                                    "customer_id": "131",
                                    "line1": "76598 Rd  I 95 #1",
                                    "line2": "",
                                    "city": "Denver",
                                    "state_code": "CO",
                                    "zip_code": "80216",
                                    "phone": "303-845-5408",
                                    "disabled_address": "0"
                                },
                                {
                                    "address_id": "148",
                                    "customer_id": "132",
                                    "line1": "78 Maryland Dr #146",
                                    "line2": "",
                                    "city": "Denville",
                                    "state_code": "NJ",
                                    "zip_code": "7834",
                                    "phone": "973-491-8723",
                                    "disabled_address": "0"
                                },
                                {
                                    "address_id": "149",
                                    "customer_id": "133",
                                    "line1": "29 Cherry St #7073",
                                    "line2": "",
                                    "city": "Des Moines",
                                    "state_code": "IA",
                                    "zip_code": "50315",
                                    "phone": "515-372-1738",
                                    "disabled_address": "0"
                                },
                                {
                                    "address_id": "150",
                                    "customer_id": "134",
                                    "line1": "5384 Southwyck Blvd",
                                    "line2": "",
                                    "city": "Douglasville",
                                    "state_code": "GA",
                                    "zip_code": "30135",
                                    "phone": "770-802-4003",
                                    "disabled_address": "0"
                                },
                                {
                                    "address_id": "151",
                                    "customer_id": "135",
                                    "line1": "4 Ralph Ct",
                                    "line2": "",
                                    "city": "Dunellen",
                                    "state_code": "NJ",
                                    "zip_code": "8812",
                                    "phone": "732-782-6701",
                                    "disabled_address": "0"
                                },
                                {
                                    "address_id": "152",
                                    "customer_id": "136",
                                    "line1": "2167 Sierra Rd",
                                    "line2": "",
                                    "city": "East Lansing",
                                    "state_code": "MI",
                                    "zip_code": "48823",
                                    "phone": "517-867-8077",
                                    "disabled_address": "0"
                                },
                                {
                                    "address_id": "153",
                                    "customer_id": "137",
                                    "line1": "2 Cedar Ave #84",
                                    "line2": "",
                                    "city": "Easton",
                                    "state_code": "MD",
                                    "zip_code": "21601",
                                    "phone": "410-235-8738",
                                    "disabled_address": "0"
                                },
                                {
                                    "address_id": "154",
                                    "customer_id": "138",
                                    "line1": "9 N 14th St",
                                    "line2": "",
                                    "city": "El Cajon",
                                    "state_code": "CA",
                                    "zip_code": "92020",
                                    "phone": "619-695-8086",
                                    "disabled_address": "0"
                                },
                                {
                                    "address_id": "155",
                                    "customer_id": "139",
                                    "line1": "395 S 6th St #2",
                                    "line2": "",
                                    "city": "El Cajon",
                                    "state_code": "CA",
                                    "zip_code": "92020",
                                    "phone": "619-935-6661",
                                    "disabled_address": "0"
                                },
                                {
                                    "address_id": "156",
                                    "customer_id": "140",
                                    "line1": "87 Sierra Rd",
                                    "line2": "",
                                    "city": "El Monte",
                                    "state_code": "CA",
                                    "zip_code": "91731",
                                    "phone": "626-638-4241",
                                    "disabled_address": "0"
                                },
                                {
                                    "address_id": "157",
                                    "customer_id": "141",
                                    "line1": "92899 Kalakaua Ave",
                                    "line2": "",
                                    "city": "El Paso",
                                    "state_code": "TX",
                                    "zip_code": "79925",
                                    "phone": "915-300-6100",
                                    "disabled_address": "0"
                                },
                                {
                                    "address_id": "158",
                                    "customer_id": "142",
                                    "line1": "35 E Main St #43",
                                    "line2": "",
                                    "city": "Elk Grove Village",
                                    "state_code": "IL",
                                    "zip_code": "60007",
                                    "phone": "847-740-5304",
                                    "disabled_address": "0"
                                },
                                {
                                    "address_id": "159",
                                    "customer_id": "143",
                                    "line1": "2 Sw Nyberg Rd",
                                    "line2": "",
                                    "city": "Elkhart",
                                    "state_code": "IN",
                                    "zip_code": "46514",
                                    "phone": "574-330-1884",
                                    "disabled_address": "0"
                                },
                                {
                                    "address_id": "160",
                                    "customer_id": "144",
                                    "line1": "28 S 7th St #2824",
                                    "line2": "",
                                    "city": "Englewood",
                                    "state_code": "NJ",
                                    "zip_code": "7631",
                                    "phone": "201-772-4377",
                                    "disabled_address": "0"
                                },
                                {
                                    "address_id": "161",
                                    "customer_id": "145",
                                    "line1": "17 Jersey Ave",
                                    "line2": "",
                                    "city": "Englewood",
                                    "state_code": "CO",
                                    "zip_code": "80110",
                                    "phone": "303-997-7760",
                                    "disabled_address": "0"
                                },
                                {
                                    "address_id": "162",
                                    "customer_id": "146",
                                    "line1": "7 W 32nd St",
                                    "line2": "",
                                    "city": "Erie",
                                    "state_code": "PA",
                                    "zip_code": "16502",
                                    "phone": "814-420-3553",
                                    "disabled_address": "0"
                                },
                                {
                                    "address_id": "163",
                                    "customer_id": "147",
                                    "line1": "555 Main St",
                                    "line2": "",
                                    "city": "Erie",
                                    "state_code": "PA",
                                    "zip_code": "16502",
                                    "phone": "814-299-2877",
                                    "disabled_address": "0"
                                },
                                {
                                    "address_id": "164",
                                    "customer_id": "148",
                                    "line1": "1 N San Saba",
                                    "line2": "",
                                    "city": "Erie",
                                    "state_code": "PA",
                                    "zip_code": "16501",
                                    "phone": "814-481-1700",
                                    "disabled_address": "0"
                                },
                                {
                                    "address_id": "165",
                                    "customer_id": "149",
                                    "line1": "3989 Portage Tr",
                                    "line2": "",
                                    "city": "Escondido",
                                    "state_code": "CA",
                                    "zip_code": "92025",
                                    "phone": "760-465-4762",
                                    "disabled_address": "0"
                                },
                                {
                                    "address_id": "166",
                                    "customer_id": "150",
                                    "line1": "105 Richmond Valley Rd",
                                    "line2": "",
                                    "city": "Escondido",
                                    "state_code": "CA",
                                    "zip_code": "92025",
                                    "phone": "760-261-4786",
                                    "disabled_address": "0"
                                },
                                {
                                    "address_id": "167",
                                    "customer_id": "151",
                                    "line1": "12270 Caton Center Dr",
                                    "line2": "",
                                    "city": "Eugene",
                                    "state_code": "OR",
                                    "zip_code": "97401",
                                    "phone": "541-801-5717",
                                    "disabled_address": "0"
                                },
                                {
                                    "address_id": "168",
                                    "customer_id": "152",
                                    "line1": "461 Prospect Pl #316",
                                    "line2": "",
                                    "city": "Euless",
                                    "state_code": "TX",
                                    "zip_code": "76040",
                                    "phone": "817-451-3518",
                                    "disabled_address": "0"
                                },
                                {
                                    "address_id": "169",
                                    "customer_id": "153",
                                    "line1": "37 Alabama Ave",
                                    "line2": "",
                                    "city": "Evanston",
                                    "state_code": "IL",
                                    "zip_code": "60201",
                                    "phone": "847-957-4614",
                                    "disabled_address": "0"
                                },
                                {
                                    "address_id": "170",
                                    "customer_id": "154",
                                    "line1": "1048 Main St",
                                    "line2": "",
                                    "city": "Fairbanks",
                                    "state_code": "AK",
                                    "zip_code": "99708",
                                    "phone": "907-335-6568",
                                    "disabled_address": "0"
                                },
                                {
                                    "address_id": "171",
                                    "customer_id": "155",
                                    "line1": "20 S Babcock St",
                                    "line2": "",
                                    "city": "Fairbanks",
                                    "state_code": "AK",
                                    "zip_code": "99712",
                                    "phone": "907-227-6777",
                                    "disabled_address": "0"
                                },
                                {
                                    "address_id": "172",
                                    "customer_id": "156",
                                    "line1": "48 Lenox St",
                                    "line2": "",
                                    "city": "Fairfax",
                                    "state_code": "VA",
                                    "zip_code": "22030",
                                    "phone": "703-938-7939",
                                    "disabled_address": "0"
                                },
                                {
                                    "address_id": "173",
                                    "customer_id": "157",
                                    "line1": "9 Waydell St",
                                    "line2": "",
                                    "city": "Fairfield",
                                    "state_code": "NJ",
                                    "zip_code": "7004",
                                    "phone": "973-976-8627",
                                    "disabled_address": "0"
                                },
                                {
                                    "address_id": "174",
                                    "customer_id": "158",
                                    "line1": "87 Imperial Ct #79",
                                    "line2": "",
                                    "city": "Fargo",
                                    "state_code": "ND",
                                    "zip_code": "58102",
                                    "phone": "701-421-7080",
                                    "disabled_address": "0"
                                },
                                {
                                    "address_id": "175",
                                    "customer_id": "159",
                                    "line1": "1482 College Ave",
                                    "line2": "",
                                    "city": "Fayetteville",
                                    "state_code": "NC",
                                    "zip_code": "28301",
                                    "phone": "910-200-7912",
                                    "disabled_address": "0"
                                },
                                {
                                    "address_id": "176",
                                    "customer_id": "160",
                                    "line1": "61 13 Stoneridge #835",
                                    "line2": "",
                                    "city": "Findlay",
                                    "state_code": "OH",
                                    "zip_code": "45840",
                                    "phone": "419-254-4591",
                                    "disabled_address": "0"
                                },
                                {
                                    "address_id": "177",
                                    "customer_id": "161",
                                    "line1": "76 Brooks St #9",
                                    "line2": "",
                                    "city": "Flemington",
                                    "state_code": "NJ",
                                    "zip_code": "8822",
                                    "phone": "908-470-4661",
                                    "disabled_address": "0"
                                },
                                {
                                    "address_id": "178",
                                    "customer_id": "162",
                                    "line1": "7 S Beverly Dr",
                                    "line2": "",
                                    "city": "Fort Wayne",
                                    "state_code": "IN",
                                    "zip_code": "46802",
                                    "phone": "260-382-4869",
                                    "disabled_address": "0"
                                },
                                {
                                    "address_id": "179",
                                    "customer_id": "163",
                                    "line1": "2 S 15th St",
                                    "line2": "",
                                    "city": "Fort Worth",
                                    "state_code": "TX",
                                    "zip_code": "76107",
                                    "phone": "817-819-7799",
                                    "disabled_address": "0"
                                },
                                {
                                    "address_id": "180",
                                    "customer_id": "164",
                                    "line1": "2 W Mount Royal Ave",
                                    "line2": "",
                                    "city": "Fortville",
                                    "state_code": "IN",
                                    "zip_code": "46040",
                                    "phone": "317-887-8486",
                                    "disabled_address": "0"
                                },
                                {
                                    "address_id": "181",
                                    "customer_id": "165",
                                    "line1": "7163 W Clark Rd",
                                    "line2": "",
                                    "city": "Freehold",
                                    "state_code": "NJ",
                                    "zip_code": "7728",
                                    "phone": "732-724-7251",
                                    "disabled_address": "0"
                                },
                                {
                                    "address_id": "182",
                                    "customer_id": "166",
                                    "line1": "455 N Main Ave",
                                    "line2": "",
                                    "city": "Garden City",
                                    "state_code": "NY",
                                    "zip_code": "11530",
                                    "phone": "516-376-4230",
                                    "disabled_address": "0"
                                },
                                {
                                    "address_id": "183",
                                    "customer_id": "167",
                                    "line1": "16452 Greenwich St",
                                    "line2": "",
                                    "city": "Garden City",
                                    "state_code": "NY",
                                    "zip_code": "11530",
                                    "phone": "516-407-9573",
                                    "disabled_address": "0"
                                },
                                {
                                    "address_id": "184",
                                    "customer_id": "168",
                                    "line1": "47154 Whipple Ave Nw",
                                    "line2": "",
                                    "city": "Gardena",
                                    "state_code": "CA",
                                    "zip_code": "90247",
                                    "phone": "310-968-1219",
                                    "disabled_address": "0"
                                },
                                {
                                    "address_id": "185",
                                    "customer_id": "169",
                                    "line1": "47939 Porter Ave",
                                    "line2": "",
                                    "city": "Gardena",
                                    "state_code": "CA",
                                    "zip_code": "90248",
                                    "phone": "310-694-8466",
                                    "disabled_address": "0"
                                },
                                {
                                    "address_id": "186",
                                    "customer_id": "170",
                                    "line1": "2972 Lafayette Ave",
                                    "line2": "",
                                    "city": "Gardena",
                                    "state_code": "CA",
                                    "zip_code": "90248",
                                    "phone": "310-499-4200",
                                    "disabled_address": "0"
                                },
                                {
                                    "address_id": "187",
                                    "customer_id": "171",
                                    "line1": "35433 Blake St #588",
                                    "line2": "",
                                    "city": "Gardena",
                                    "state_code": "CA",
                                    "zip_code": "90248",
                                    "phone": "310-955-5788",
                                    "disabled_address": "0"
                                },
                                {
                                    "address_id": "188",
                                    "customer_id": "172",
                                    "line1": "22 Spruce St #595",
                                    "line2": "",
                                    "city": "Gardena",
                                    "state_code": "CA",
                                    "zip_code": "90248",
                                    "phone": "310-936-2258",
                                    "disabled_address": "0"
                                },
                                {
                                    "address_id": "189",
                                    "customer_id": "173",
                                    "line1": "2853 S Central Expy",
                                    "line2": "",
                                    "city": "Glen Burnie",
                                    "state_code": "MD",
                                    "zip_code": "21061",
                                    "phone": "410-937-4543",
                                    "disabled_address": "0"
                                },
                                {
                                    "address_id": "190",
                                    "customer_id": "174",
                                    "line1": "79 S Howell Ave",
                                    "line2": "",
                                    "city": "Grand Rapids",
                                    "state_code": "MI",
                                    "zip_code": "49546",
                                    "phone": "616-568-4113",
                                    "disabled_address": "0"
                                },
                                {
                                    "address_id": "191",
                                    "customer_id": "175",
                                    "line1": "33 N Michigan Ave",
                                    "line2": "",
                                    "city": "Green Bay",
                                    "state_code": "WI",
                                    "zip_code": "54301",
                                    "phone": "920-355-1610",
                                    "disabled_address": "0"
                                },
                                {
                                    "address_id": "192",
                                    "customer_id": "176",
                                    "line1": "9 Plainsboro Rd #598",
                                    "line2": "",
                                    "city": "Greensboro",
                                    "state_code": "NC",
                                    "zip_code": "27409",
                                    "phone": "336-364-6037",
                                    "disabled_address": "0"
                                },
                                {
                                    "address_id": "193",
                                    "customer_id": "177",
                                    "line1": "88827 Frankford Ave",
                                    "line2": "",
                                    "city": "Greensboro",
                                    "state_code": "NC",
                                    "zip_code": "27401",
                                    "phone": "336-564-1492",
                                    "disabled_address": "0"
                                },
                                {
                                    "address_id": "194",
                                    "customer_id": "178",
                                    "line1": "4646 Kaahumanu St",
                                    "line2": "",
                                    "city": "Hackensack",
                                    "state_code": "NJ",
                                    "zip_code": "7601",
                                    "phone": "201-995-3149",
                                    "disabled_address": "0"
                                },
                                {
                                    "address_id": "195",
                                    "customer_id": "179",
                                    "line1": "34 Center St",
                                    "line2": "",
                                    "city": "Hamilton",
                                    "state_code": "OH",
                                    "zip_code": "45011",
                                    "phone": "513-549-4561",
                                    "disabled_address": "0"
                                },
                                {
                                    "address_id": "196",
                                    "customer_id": "180",
                                    "line1": "287 Youngstown Warren Rd",
                                    "line2": "",
                                    "city": "Hampstead",
                                    "state_code": "MD",
                                    "zip_code": "21074",
                                    "phone": "410-863-8263",
                                    "disabled_address": "0"
                                },
                                {
                                    "address_id": "197",
                                    "customer_id": "181",
                                    "line1": "3387 Ryan Dr",
                                    "line2": "",
                                    "city": "Hanover",
                                    "state_code": "MD",
                                    "zip_code": "21076",
                                    "phone": "410-912-6032",
                                    "disabled_address": "0"
                                },
                                {
                                    "address_id": "198",
                                    "customer_id": "182",
                                    "line1": "2 W Beverly Blvd",
                                    "line2": "",
                                    "city": "Harrisburg",
                                    "state_code": "PA",
                                    "zip_code": "17110",
                                    "phone": "717-632-5831",
                                    "disabled_address": "0"
                                },
                                {
                                    "address_id": "199",
                                    "customer_id": "183",
                                    "line1": "88 Sw 28th Ter",
                                    "line2": "",
                                    "city": "Harrison",
                                    "state_code": "NJ",
                                    "zip_code": "7029",
                                    "phone": "973-903-4175",
                                    "disabled_address": "0"
                                },
                                {
                                    "address_id": "200",
                                    "customer_id": "184",
                                    "line1": "2500 Pringle Rd Se #508",
                                    "line2": "",
                                    "city": "Hatfield",
                                    "state_code": "PA",
                                    "zip_code": "19440",
                                    "phone": "215-351-8523",
                                    "disabled_address": "0"
                                },
                                {
                                    "address_id": "201",
                                    "customer_id": "185",
                                    "line1": "8100 Jacksonville Rd #7",
                                    "line2": "",
                                    "city": "Hays",
                                    "state_code": "KS",
                                    "zip_code": "67601",
                                    "phone": "785-616-1685",
                                    "disabled_address": "0"
                                },
                                {
                                    "address_id": "202",
                                    "customer_id": "186",
                                    "line1": "69 Marquette Ave",
                                    "line2": "",
                                    "city": "Hayward",
                                    "state_code": "CA",
                                    "zip_code": "94545",
                                    "phone": "510-901-7640",
                                    "disabled_address": "0"
                                },
                                {
                                    "address_id": "203",
                                    "customer_id": "186",
                                    "line1": "38 Pleasant Hill Rd",
                                    "line2": "",
                                    "city": "Hayward",
                                    "state_code": "CA",
                                    "zip_code": "94545",
                                    "phone": "510-441-4055",
                                    "disabled_address": "0"
                                },
                                {
                                    "address_id": "204",
                                    "customer_id": "187",
                                    "line1": "2184 Worth St",
                                    "line2": "",
                                    "city": "Hayward",
                                    "state_code": "CA",
                                    "zip_code": "94545",
                                    "phone": "510-509-3496",
                                    "disabled_address": "0"
                                },
                                {
                                    "address_id": "205",
                                    "customer_id": "188",
                                    "line1": "99 Tank Farm Rd",
                                    "line2": "",
                                    "city": "Hazleton",
                                    "state_code": "PA",
                                    "zip_code": "18201",
                                    "phone": "570-355-1665",
                                    "disabled_address": "0"
                                },
                                {
                                    "address_id": "206",
                                    "customer_id": "189",
                                    "line1": "60 Old Dover Rd",
                                    "line2": "",
                                    "city": "Hialeah",
                                    "state_code": "FL",
                                    "zip_code": "33014",
                                    "phone": "305-302-1135",
                                    "disabled_address": "0"
                                },
                                {
                                    "address_id": "207",
                                    "customer_id": "190",
                                    "line1": "2 Flynn Rd",
                                    "line2": "",
                                    "city": "Hicksville",
                                    "state_code": "NY",
                                    "zip_code": "11801",
                                    "phone": "516-732-6649",
                                    "disabled_address": "0"
                                },
                                {
                                    "address_id": "208",
                                    "customer_id": "191",
                                    "line1": "4 10th St W",
                                    "line2": "",
                                    "city": "High Point",
                                    "state_code": "NC",
                                    "zip_code": "27263",
                                    "phone": "336-497-4407",
                                    "disabled_address": "0"
                                },
                                {
                                    "address_id": "209",
                                    "customer_id": "192",
                                    "line1": "18 Waterloo Geneva Rd",
                                    "line2": "",
                                    "city": "Highland Park",
                                    "state_code": "IL",
                                    "zip_code": "60035",
                                    "phone": "847-265-6609",
                                    "disabled_address": "0"
                                },
                                {
                                    "address_id": "210",
                                    "customer_id": "193",
                                    "line1": "303 N Radcliffe St",
                                    "line2": "",
                                    "city": "Hilo",
                                    "state_code": "HI",
                                    "zip_code": "96720",
                                    "phone": "808-746-1865",
                                    "disabled_address": "0"
                                },
                                {
                                    "address_id": "211",
                                    "customer_id": "194",
                                    "line1": "5161 Dorsett Rd",
                                    "line2": "",
                                    "city": "Homestead",
                                    "state_code": "FL",
                                    "zip_code": "33030",
                                    "phone": "305-575-8481",
                                    "disabled_address": "0"
                                },
                                {
                                    "address_id": "212",
                                    "customer_id": "195",
                                    "line1": "9 Wales Rd Ne #914",
                                    "line2": "",
                                    "city": "Homosassa",
                                    "state_code": "FL",
                                    "zip_code": "34448",
                                    "phone": "352-990-5946",
                                    "disabled_address": "0"
                                },
                                {
                                    "address_id": "213",
                                    "customer_id": "196",
                                    "line1": "185 Blackstone Bldge",
                                    "line2": "",
                                    "city": "Honolulu",
                                    "state_code": "HI",
                                    "zip_code": "96817",
                                    "phone": "808-475-2310",
                                    "disabled_address": "0"
                                },
                                {
                                    "address_id": "214",
                                    "customer_id": "196",
                                    "line1": "7 Benton Dr",
                                    "line2": "",
                                    "city": "Honolulu",
                                    "state_code": "HI",
                                    "zip_code": "96819",
                                    "phone": "808-240-5168",
                                    "disabled_address": "0"
                                },
                                {
                                    "address_id": "215",
                                    "customer_id": "197",
                                    "line1": "2 Lighthouse Ave",
                                    "line2": "",
                                    "city": "Hopkins",
                                    "state_code": "MN",
                                    "zip_code": "55343",
                                    "phone": "952-479-2375",
                                    "disabled_address": "0"
                                },
                                {
                                    "address_id": "216",
                                    "customer_id": "198",
                                    "line1": "6651 Municipal Rd",
                                    "line2": "",
                                    "city": "Houma",
                                    "state_code": "LA",
                                    "zip_code": "70360",
                                    "phone": "985-261-5783",
                                    "disabled_address": "0"
                                },
                                {
                                    "address_id": "217",
                                    "customer_id": "199",
                                    "line1": "14302 Pennsylvania Ave",
                                    "line2": "",
                                    "city": "Huntingdon Valley",
                                    "state_code": "PA",
                                    "zip_code": "19006",
                                    "phone": "215-417-9563",
                                    "disabled_address": "0"
                                },
                                {
                                    "address_id": "218",
                                    "customer_id": "200",
                                    "line1": "60 Fillmore Ave",
                                    "line2": "",
                                    "city": "Huntington Beach",
                                    "state_code": "CA",
                                    "zip_code": "92647",
                                    "phone": "714-698-2170",
                                    "disabled_address": "0"
                                },
                                {
                                    "address_id": "219",
                                    "customer_id": "201",
                                    "line1": "94 Chase Rd",
                                    "line2": "",
                                    "city": "Hyattsville",
                                    "state_code": "MD",
                                    "zip_code": "20785",
                                    "phone": "301-257-4883",
                                    "disabled_address": "0"
                                },
                                {
                                    "address_id": "220",
                                    "customer_id": "202",
                                    "line1": "55 Riverside Ave",
                                    "line2": "",
                                    "city": "Indianapolis",
                                    "state_code": "IN",
                                    "zip_code": "46202",
                                    "phone": "317-472-2412",
                                    "disabled_address": "0"
                                },
                                {
                                    "address_id": "221",
                                    "customer_id": "203",
                                    "line1": "55262 N French Rd",
                                    "line2": "",
                                    "city": "Indianapolis",
                                    "state_code": "IN",
                                    "zip_code": "46240",
                                    "phone": "317-787-5514",
                                    "disabled_address": "0"
                                },
                                {
                                    "address_id": "222",
                                    "customer_id": "204",
                                    "line1": "87393 E Highland Rd",
                                    "line2": "",
                                    "city": "Indianapolis",
                                    "state_code": "IN",
                                    "zip_code": "46220",
                                    "phone": "317-441-5848",
                                    "disabled_address": "0"
                                },
                                {
                                    "address_id": "223",
                                    "customer_id": "205",
                                    "line1": "6538 E Pomona St #60",
                                    "line2": "",
                                    "city": "Indianapolis",
                                    "state_code": "IN",
                                    "zip_code": "46222",
                                    "phone": "317-342-1532",
                                    "disabled_address": "0"
                                },
                                {
                                    "address_id": "224",
                                    "customer_id": "206",
                                    "line1": "618 W Yakima Ave",
                                    "line2": "",
                                    "city": "Irving",
                                    "state_code": "TX",
                                    "zip_code": "75062",
                                    "phone": "972-896-4882",
                                    "disabled_address": "0"
                                },
                                {
                                    "address_id": "225",
                                    "customer_id": "207",
                                    "line1": "4 Bloomfield Ave",
                                    "line2": "",
                                    "city": "Irving",
                                    "state_code": "TX",
                                    "zip_code": "75061",
                                    "phone": "972-821-7118",
                                    "disabled_address": "0"
                                },
                                {
                                    "address_id": "226",
                                    "customer_id": "208",
                                    "line1": "63517 Dupont St",
                                    "line2": "",
                                    "city": "Jackson",
                                    "state_code": "MS",
                                    "zip_code": "39211",
                                    "phone": "601-973-5754",
                                    "disabled_address": "0"
                                },
                                {
                                    "address_id": "227",
                                    "customer_id": "209",
                                    "line1": "11279 Loytan St",
                                    "line2": "",
                                    "city": "Jacksonville",
                                    "state_code": "FL",
                                    "zip_code": "32254",
                                    "phone": "904-514-9918",
                                    "disabled_address": "0"
                                },
                                {
                                    "address_id": "228",
                                    "customer_id": "210",
                                    "line1": "97 Airport Loop Dr",
                                    "line2": "",
                                    "city": "Jacksonville",
                                    "state_code": "FL",
                                    "zip_code": "32216",
                                    "phone": "904-627-4341",
                                    "disabled_address": "0"
                                },
                                {
                                    "address_id": "229",
                                    "customer_id": "211",
                                    "line1": "14288 Foster Ave #4121",
                                    "line2": "",
                                    "city": "Jenkintown",
                                    "state_code": "PA",
                                    "zip_code": "19046",
                                    "phone": "215-329-6386",
                                    "disabled_address": "0"
                                },
                                {
                                    "address_id": "230",
                                    "customer_id": "212",
                                    "line1": "4671 Alemany Blvd",
                                    "line2": "",
                                    "city": "Jersey City",
                                    "state_code": "NJ",
                                    "zip_code": "7304",
                                    "phone": "201-858-9960",
                                    "disabled_address": "0"
                                },
                                {
                                    "address_id": "231",
                                    "customer_id": "213",
                                    "line1": "8 Sheridan Rd",
                                    "line2": "",
                                    "city": "Jersey City",
                                    "state_code": "NJ",
                                    "zip_code": "7304",
                                    "phone": "201-412-3040",
                                    "disabled_address": "0"
                                },
                                {
                                    "address_id": "232",
                                    "customer_id": "213",
                                    "line1": "9 State Highway 57 #22",
                                    "line2": "",
                                    "city": "Jersey City",
                                    "state_code": "NJ",
                                    "zip_code": "7306",
                                    "phone": "201-772-7699",
                                    "disabled_address": "0"
                                },
                                {
                                    "address_id": "233",
                                    "customer_id": "214",
                                    "line1": "5 Williams St",
                                    "line2": "",
                                    "city": "Johnston",
                                    "state_code": "RI",
                                    "zip_code": "2919",
                                    "phone": "401-552-9059",
                                    "disabled_address": "0"
                                },
                                {
                                    "address_id": "234",
                                    "customer_id": "215",
                                    "line1": "2 A Kelley Dr",
                                    "line2": "",
                                    "city": "Katonah",
                                    "state_code": "NY",
                                    "zip_code": "10536",
                                    "phone": "914-396-2615",
                                    "disabled_address": "0"
                                },
                                {
                                    "address_id": "235",
                                    "customer_id": "216",
                                    "line1": "4 Cowesett Ave",
                                    "line2": "",
                                    "city": "Kearny",
                                    "state_code": "NJ",
                                    "zip_code": "7032",
                                    "phone": "201-969-7063",
                                    "disabled_address": "0"
                                },
                                {
                                    "address_id": "236",
                                    "customer_id": "217",
                                    "line1": "20113 4th Ave E",
                                    "line2": "",
                                    "city": "Kearny",
                                    "state_code": "NJ",
                                    "zip_code": "7032",
                                    "phone": "201-478-8540",
                                    "disabled_address": "0"
                                },
                                {
                                    "address_id": "237",
                                    "customer_id": "218",
                                    "line1": "4252 N Washington Ave #9",
                                    "line2": "",
                                    "city": "Kennedale",
                                    "state_code": "TX",
                                    "zip_code": "76060",
                                    "phone": "817-577-6151",
                                    "disabled_address": "0"
                                },
                                {
                                    "address_id": "238",
                                    "customer_id": "219",
                                    "line1": "8772 Old County Rd #5410",
                                    "line2": "",
                                    "city": "Kent",
                                    "state_code": "WA",
                                    "zip_code": "98032",
                                    "phone": "206-923-6042",
                                    "disabled_address": "0"
                                },
                                {
                                    "address_id": "239",
                                    "customer_id": "220",
                                    "line1": "3424 29th St Se",
                                    "line2": "",
                                    "city": "Kerrville",
                                    "state_code": "TX",
                                    "zip_code": "78028",
                                    "phone": "830-919-5991",
                                    "disabled_address": "0"
                                },
                                {
                                    "address_id": "240",
                                    "customer_id": "221",
                                    "line1": "810 N La Brea Ave",
                                    "line2": "",
                                    "city": "King of Prussia",
                                    "state_code": "PA",
                                    "zip_code": "19406",
                                    "phone": "610-378-7332",
                                    "disabled_address": "0"
                                },
                                {
                                    "address_id": "241",
                                    "customer_id": "222",
                                    "line1": "2371 Jerrold Ave",
                                    "line2": "",
                                    "city": "Kulpsville",
                                    "state_code": "PA",
                                    "zip_code": "19443",
                                    "phone": "215-422-8694",
                                    "disabled_address": "0"
                                },
                                {
                                    "address_id": "242",
                                    "customer_id": "223",
                                    "line1": "4 E Colonial Dr",
                                    "line2": "",
                                    "city": "La Mesa",
                                    "state_code": "CA",
                                    "zip_code": "91942",
                                    "phone": "619-666-4765",
                                    "disabled_address": "0"
                                },
                                {
                                    "address_id": "243",
                                    "customer_id": "224",
                                    "line1": "87895 Concord Rd",
                                    "line2": "",
                                    "city": "La Mesa",
                                    "state_code": "CA",
                                    "zip_code": "91942",
                                    "phone": "619-727-3892",
                                    "disabled_address": "0"
                                },
                                {
                                    "address_id": "244",
                                    "customer_id": "225",
                                    "line1": "55 Hawthorne Blvd",
                                    "line2": "",
                                    "city": "Lafayette",
                                    "state_code": "LA",
                                    "zip_code": "70506",
                                    "phone": "337-774-7564",
                                    "disabled_address": "0"
                                },
                                {
                                    "address_id": "245",
                                    "customer_id": "226",
                                    "line1": "43 Huey P Long Ave",
                                    "line2": "",
                                    "city": "Lafayette",
                                    "state_code": "LA",
                                    "zip_code": "70508",
                                    "phone": "337-751-2326",
                                    "disabled_address": "0"
                                },
                                {
                                    "address_id": "246",
                                    "customer_id": "226",
                                    "line1": "393 Hammond Dr",
                                    "line2": "",
                                    "city": "Lafayette",
                                    "state_code": "LA",
                                    "zip_code": "70506",
                                    "phone": "337-255-3427",
                                    "disabled_address": "0"
                                },
                                {
                                    "address_id": "247",
                                    "customer_id": "227",
                                    "line1": "1 Washington St",
                                    "line2": "",
                                    "city": "Lake Worth",
                                    "state_code": "FL",
                                    "zip_code": "33461",
                                    "phone": "561-951-9734",
                                    "disabled_address": "0"
                                },
                                {
                                    "address_id": "248",
                                    "customer_id": "228",
                                    "line1": "3943 N Highland Ave",
                                    "line2": "",
                                    "city": "Lancaster",
                                    "state_code": "PA",
                                    "zip_code": "17601",
                                    "phone": "717-686-7564",
                                    "disabled_address": "0"
                                },
                                {
                                    "address_id": "249",
                                    "customer_id": "229",
                                    "line1": "206 Main St #2804",
                                    "line2": "",
                                    "city": "Lansing",
                                    "state_code": "MI",
                                    "zip_code": "48933",
                                    "phone": "517-747-7664",
                                    "disabled_address": "0"
                                },
                                {
                                    "address_id": "250",
                                    "customer_id": "230",
                                    "line1": "56 E Morehead St",
                                    "line2": "",
                                    "city": "Laredo",
                                    "state_code": "TX",
                                    "zip_code": "78045",
                                    "phone": "956-841-7216",
                                    "disabled_address": "0"
                                },
                                {
                                    "address_id": "251",
                                    "customer_id": "231",
                                    "line1": "366 South Dr",
                                    "line2": "",
                                    "city": "Las Cruces",
                                    "state_code": "NM",
                                    "zip_code": "88011",
                                    "phone": "505-335-5293",
                                    "disabled_address": "0"
                                },
                                {
                                    "address_id": "252",
                                    "customer_id": "232",
                                    "line1": "3 Railway Ave #75",
                                    "line2": "",
                                    "city": "Little Falls",
                                    "state_code": "NJ",
                                    "zip_code": "7424",
                                    "phone": "973-822-8827",
                                    "disabled_address": "0"
                                },
                                {
                                    "address_id": "253",
                                    "customer_id": "233",
                                    "line1": "1844 Southern Blvd",
                                    "line2": "",
                                    "city": "Little Rock",
                                    "state_code": "AR",
                                    "zip_code": "72202",
                                    "phone": "501-409-6072",
                                    "disabled_address": "0"
                                },
                                {
                                    "address_id": "254",
                                    "customer_id": "234",
                                    "line1": "2664 Lewis Rd",
                                    "line2": "",
                                    "city": "Littleton",
                                    "state_code": "CO",
                                    "zip_code": "80126",
                                    "phone": "303-874-5160",
                                    "disabled_address": "0"
                                },
                                {
                                    "address_id": "255",
                                    "customer_id": "235",
                                    "line1": "13 S Hacienda Dr",
                                    "line2": "",
                                    "city": "Livingston",
                                    "state_code": "NJ",
                                    "zip_code": "7039",
                                    "phone": "973-563-9502",
                                    "disabled_address": "0"
                                },
                                {
                                    "address_id": "256",
                                    "customer_id": "236",
                                    "line1": "2737 Pistorio Rd #9230",
                                    "line2": "",
                                    "city": "London",
                                    "state_code": "OH",
                                    "zip_code": "43140",
                                    "phone": "740-526-5410",
                                    "disabled_address": "0"
                                },
                                {
                                    "address_id": "257",
                                    "customer_id": "237",
                                    "line1": "97 E 3rd St #9",
                                    "line2": "",
                                    "city": "Long Island City",
                                    "state_code": "NY",
                                    "zip_code": "11101",
                                    "phone": "718-613-9994",
                                    "disabled_address": "0"
                                },
                                {
                                    "address_id": "258",
                                    "customer_id": "238",
                                    "line1": "50126 N Plankinton Ave",
                                    "line2": "",
                                    "city": "Longwood",
                                    "state_code": "FL",
                                    "zip_code": "32750",
                                    "phone": "407-564-8113",
                                    "disabled_address": "0"
                                },
                                {
                                    "address_id": "259",
                                    "customer_id": "239",
                                    "line1": "25 E 75th St #69",
                                    "line2": "",
                                    "city": "Los Angeles",
                                    "state_code": "CA",
                                    "zip_code": "90034",
                                    "phone": "310-254-3084",
                                    "disabled_address": "0"
                                },
                                {
                                    "address_id": "260",
                                    "customer_id": "240",
                                    "line1": "5 Tomahawk Dr",
                                    "line2": "",
                                    "city": "Los Angeles",
                                    "state_code": "CA",
                                    "zip_code": "90006",
                                    "phone": "323-315-7314",
                                    "disabled_address": "0"
                                },
                                {
                                    "address_id": "261",
                                    "customer_id": "240",
                                    "line1": "3882 W Congress St #799",
                                    "line2": "",
                                    "city": "Los Angeles",
                                    "state_code": "CA",
                                    "zip_code": "90016",
                                    "phone": "323-842-8226",
                                    "disabled_address": "0"
                                },
                                {
                                    "address_id": "262",
                                    "customer_id": "241",
                                    "line1": "4119 Metropolitan Dr",
                                    "line2": "",
                                    "city": "Los Angeles",
                                    "state_code": "CA",
                                    "zip_code": "90021",
                                    "phone": "213-696-8004",
                                    "disabled_address": "0"
                                },
                                {
                                    "address_id": "263",
                                    "customer_id": "242",
                                    "line1": "7 W Pinhook Rd",
                                    "line2": "",
                                    "city": "Lynbrook",
                                    "state_code": "NY",
                                    "zip_code": "11563",
                                    "phone": "516-365-7266",
                                    "disabled_address": "0"
                                },
                                {
                                    "address_id": "264",
                                    "customer_id": "243",
                                    "line1": "2215 Prosperity Dr",
                                    "line2": "",
                                    "city": "Lyndhurst",
                                    "state_code": "NJ",
                                    "zip_code": "7071",
                                    "phone": "201-749-8866",
                                    "disabled_address": "0"
                                },
                                {
                                    "address_id": "265",
                                    "customer_id": "244",
                                    "line1": "762 S Main St",
                                    "line2": "",
                                    "city": "Madison",
                                    "state_code": "WI",
                                    "zip_code": "53711",
                                    "phone": "608-658-7940",
                                    "disabled_address": "0"
                                },
                                {
                                    "address_id": "266",
                                    "customer_id": "245",
                                    "line1": "4 Nw 12th St #3849",
                                    "line2": "",
                                    "city": "Madison",
                                    "state_code": "WI",
                                    "zip_code": "53717",
                                    "phone": "608-302-3387",
                                    "disabled_address": "0"
                                },
                                {
                                    "address_id": "267",
                                    "customer_id": "246",
                                    "line1": "40 Cambridge Ave",
                                    "line2": "",
                                    "city": "Madison",
                                    "state_code": "WI",
                                    "zip_code": "53715",
                                    "phone": "608-586-6912",
                                    "disabled_address": "0"
                                },
                                {
                                    "address_id": "268",
                                    "customer_id": "247",
                                    "line1": "3338 A Lockport Pl #6",
                                    "line2": "",
                                    "city": "Margate City",
                                    "state_code": "NJ",
                                    "zip_code": "8402",
                                    "phone": "609-826-4990",
                                    "disabled_address": "0"
                                },
                                {
                                    "address_id": "269",
                                    "customer_id": "248",
                                    "line1": "54169 N Main St",
                                    "line2": "",
                                    "city": "Massapequa",
                                    "state_code": "NY",
                                    "zip_code": "11758",
                                    "phone": "516-357-3362",
                                    "disabled_address": "0"
                                },
                                {
                                    "address_id": "270",
                                    "customer_id": "249",
                                    "line1": "64 5th Ave #1153",
                                    "line2": "",
                                    "city": "Mc Lean",
                                    "state_code": "VA",
                                    "zip_code": "22102",
                                    "phone": "703-475-7568",
                                    "disabled_address": "0"
                                },
                                {
                                    "address_id": "271",
                                    "customer_id": "249",
                                    "line1": "5 Cabot Rd",
                                    "line2": "",
                                    "city": "Mc Lean",
                                    "state_code": "VA",
                                    "zip_code": "22102",
                                    "phone": "703-892-2914",
                                    "disabled_address": "0"
                                },
                                {
                                    "address_id": "272",
                                    "customer_id": "250",
                                    "line1": "69734 E Carrillo St",
                                    "line2": "",
                                    "city": "Mc Minnville",
                                    "state_code": "TN",
                                    "zip_code": "37110",
                                    "phone": "931-235-7959",
                                    "disabled_address": "0"
                                },
                                {
                                    "address_id": "273",
                                    "customer_id": "251",
                                    "line1": "1 S Pine St",
                                    "line2": "",
                                    "city": "Memphis",
                                    "state_code": "TN",
                                    "zip_code": "38112",
                                    "phone": "901-573-9024",
                                    "disabled_address": "0"
                                },
                                {
                                    "address_id": "274",
                                    "customer_id": "252",
                                    "line1": "2759 Livingston Ave",
                                    "line2": "",
                                    "city": "Memphis",
                                    "state_code": "TN",
                                    "zip_code": "38118",
                                    "phone": "901-869-4314",
                                    "disabled_address": "0"
                                },
                                {
                                    "address_id": "275",
                                    "customer_id": "253",
                                    "line1": "2 W Grand Ave",
                                    "line2": "",
                                    "city": "Memphis",
                                    "state_code": "TN",
                                    "zip_code": "38112",
                                    "phone": "901-739-5892",
                                    "disabled_address": "0"
                                },
                                {
                                    "address_id": "276",
                                    "customer_id": "254",
                                    "line1": "919 Wall Blvd",
                                    "line2": "",
                                    "city": "Meridian",
                                    "state_code": "MS",
                                    "zip_code": "39307",
                                    "phone": "601-249-4511",
                                    "disabled_address": "0"
                                },
                                {
                                    "address_id": "277",
                                    "customer_id": "255",
                                    "line1": "72 Southern Blvd",
                                    "line2": "",
                                    "city": "Mesa",
                                    "state_code": "AZ",
                                    "zip_code": "85204",
                                    "phone": "480-866-6544",
                                    "disabled_address": "0"
                                },
                                {
                                    "address_id": "278",
                                    "customer_id": "256",
                                    "line1": "2 Se 3rd Ave",
                                    "line2": "",
                                    "city": "Mesquite",
                                    "state_code": "TX",
                                    "zip_code": "75149",
                                    "phone": "972-742-4000",
                                    "disabled_address": "0"
                                },
                                {
                                    "address_id": "279",
                                    "customer_id": "257",
                                    "line1": "596 Santa Maria Ave #7913",
                                    "line2": "",
                                    "city": "Mesquite",
                                    "state_code": "TX",
                                    "zip_code": "75150",
                                    "phone": "972-898-1033",
                                    "disabled_address": "0"
                                },
                                {
                                    "address_id": "280",
                                    "customer_id": "258",
                                    "line1": "426 Wolf St",
                                    "line2": "",
                                    "city": "Metairie",
                                    "state_code": "LA",
                                    "zip_code": "70002",
                                    "phone": "504-265-8174",
                                    "disabled_address": "0"
                                },
                                {
                                    "address_id": "281",
                                    "customer_id": "259",
                                    "line1": "678 3rd Ave",
                                    "line2": "",
                                    "city": "Miami",
                                    "state_code": "FL",
                                    "zip_code": "33196",
                                    "phone": "305-995-2078",
                                    "disabled_address": "0"
                                },
                                {
                                    "address_id": "282",
                                    "customer_id": "260",
                                    "line1": "32860 Sierra Rd",
                                    "line2": "",
                                    "city": "Miami",
                                    "state_code": "FL",
                                    "zip_code": "33133",
                                    "phone": "305-304-6573",
                                    "disabled_address": "0"
                                },
                                {
                                    "address_id": "283",
                                    "customer_id": "261",
                                    "line1": "23 Palo Alto Sq",
                                    "line2": "",
                                    "city": "Miami",
                                    "state_code": "FL",
                                    "zip_code": "33134",
                                    "phone": "305-287-4743",
                                    "disabled_address": "0"
                                },
                                {
                                    "address_id": "284",
                                    "customer_id": "262",
                                    "line1": "42744 Hamann Industrial Pky #82",
                                    "line2": "",
                                    "city": "Miami",
                                    "state_code": "FL",
                                    "zip_code": "33136",
                                    "phone": "305-573-1085",
                                    "disabled_address": "0"
                                },
                                {
                                    "address_id": "285",
                                    "customer_id": "263",
                                    "line1": "1644 Clove Rd",
                                    "line2": "",
                                    "city": "Miami",
                                    "state_code": "FL",
                                    "zip_code": "33155",
                                    "phone": "305-978-2069",
                                    "disabled_address": "0"
                                },
                                {
                                    "address_id": "286",
                                    "customer_id": "264",
                                    "line1": "19 Amboy Ave",
                                    "line2": "",
                                    "city": "Miami",
                                    "state_code": "FL",
                                    "zip_code": "33142",
                                    "phone": "305-306-7834",
                                    "disabled_address": "0"
                                },
                                {
                                    "address_id": "287",
                                    "customer_id": "265",
                                    "line1": "37275 St  Rt 17m M",
                                    "line2": "",
                                    "city": "Middle Island",
                                    "state_code": "NY",
                                    "zip_code": "11953",
                                    "phone": "631-677-3675",
                                    "disabled_address": "0"
                                },
                                {
                                    "address_id": "288",
                                    "customer_id": "266",
                                    "line1": "481 W Lemon St",
                                    "line2": "",
                                    "city": "Middleboro",
                                    "state_code": "MA",
                                    "zip_code": "2346",
                                    "phone": "508-315-3867",
                                    "disabled_address": "0"
                                },
                                {
                                    "address_id": "289",
                                    "customer_id": "267",
                                    "line1": "3273 State St",
                                    "line2": "",
                                    "city": "Middlesex",
                                    "state_code": "NJ",
                                    "zip_code": "8846",
                                    "phone": "732-635-3453",
                                    "disabled_address": "0"
                                },
                                {
                                    "address_id": "290",
                                    "customer_id": "268",
                                    "line1": "278 Bayview Ave",
                                    "line2": "",
                                    "city": "Milan",
                                    "state_code": "MI",
                                    "zip_code": "48160",
                                    "phone": "734-851-8571",
                                    "disabled_address": "0"
                                },
                                {
                                    "address_id": "291",
                                    "customer_id": "269",
                                    "line1": "322 New Horizon Blvd",
                                    "line2": "",
                                    "city": "Milwaukee",
                                    "state_code": "WI",
                                    "zip_code": "53207",
                                    "phone": "414-377-2880",
                                    "disabled_address": "0"
                                },
                                {
                                    "address_id": "292",
                                    "customer_id": "269",
                                    "line1": "59 Shady Ln #53",
                                    "line2": "",
                                    "city": "Milwaukee",
                                    "state_code": "WI",
                                    "zip_code": "53214",
                                    "phone": "414-573-7719",
                                    "disabled_address": "0"
                                },
                                {
                                    "address_id": "293",
                                    "customer_id": "270",
                                    "line1": "9 N College Ave #3",
                                    "line2": "",
                                    "city": "Milwaukee",
                                    "state_code": "WI",
                                    "zip_code": "53216",
                                    "phone": "414-838-3151",
                                    "disabled_address": "0"
                                },
                                {
                                    "address_id": "294",
                                    "customer_id": "271",
                                    "line1": "755 Harbor Way",
                                    "line2": "",
                                    "city": "Milwaukee",
                                    "state_code": "WI",
                                    "zip_code": "53226",
                                    "phone": "414-411-5744",
                                    "disabled_address": "0"
                                },
                                {
                                    "address_id": "295",
                                    "customer_id": "272",
                                    "line1": "1950 5th Ave",
                                    "line2": "",
                                    "city": "Milwaukee",
                                    "state_code": "WI",
                                    "zip_code": "53209",
                                    "phone": "414-660-9766",
                                    "disabled_address": "0"
                                },
                                {
                                    "address_id": "296",
                                    "customer_id": "273",
                                    "line1": "25 Minters Chapel Rd #9",
                                    "line2": "",
                                    "city": "Minneapolis",
                                    "state_code": "MN",
                                    "zip_code": "55401",
                                    "phone": "612-664-6304",
                                    "disabled_address": "0"
                                },
                                {
                                    "address_id": "297",
                                    "customer_id": "274",
                                    "line1": "53075 Sw 152nd Ter #615",
                                    "line2": "",
                                    "city": "Monroe Township",
                                    "state_code": "NJ",
                                    "zip_code": "8831",
                                    "phone": "732-904-2931",
                                    "disabled_address": "0"
                                },
                                {
                                    "address_id": "298",
                                    "customer_id": "275",
                                    "line1": "62260 Park Stre",
                                    "line2": "",
                                    "city": "Monroe Township",
                                    "state_code": "NJ",
                                    "zip_code": "8831",
                                    "phone": "732-705-6719",
                                    "disabled_address": "0"
                                },
                                {
                                    "address_id": "299",
                                    "customer_id": "276",
                                    "line1": "201 Ridgewood Rd",
                                    "line2": "",
                                    "city": "Moscow",
                                    "state_code": "ID",
                                    "zip_code": "83843",
                                    "phone": "208-793-4108",
                                    "disabled_address": "0"
                                },
                                {
                                    "address_id": "300",
                                    "customer_id": "277",
                                    "line1": "63 Smith Ln #8343",
                                    "line2": "",
                                    "city": "Moss",
                                    "state_code": "TN",
                                    "zip_code": "38575",
                                    "phone": "931-486-6946",
                                    "disabled_address": "0"
                                },
                                {
                                    "address_id": "301",
                                    "customer_id": "278",
                                    "line1": "6 Van Buren St",
                                    "line2": "",
                                    "city": "Mount Vernon",
                                    "state_code": "NY",
                                    "zip_code": "10553",
                                    "phone": "914-796-3775",
                                    "disabled_address": "0"
                                },
                                {
                                    "address_id": "302",
                                    "customer_id": "279",
                                    "line1": "2094 Montour Blvd",
                                    "line2": "",
                                    "city": "Muskegon",
                                    "state_code": "MI",
                                    "zip_code": "49442",
                                    "phone": "231-265-6940",
                                    "disabled_address": "0"
                                },
                                {
                                    "address_id": "303",
                                    "customer_id": "280",
                                    "line1": "134 Lewis Rd",
                                    "line2": "",
                                    "city": "Nashville",
                                    "state_code": "TN",
                                    "zip_code": "37211",
                                    "phone": "615-448-9249",
                                    "disabled_address": "0"
                                },
                                {
                                    "address_id": "304",
                                    "customer_id": "280",
                                    "line1": "5221 Bear Valley Rd",
                                    "line2": "",
                                    "city": "Nashville",
                                    "state_code": "TN",
                                    "zip_code": "37211",
                                    "phone": "615-825-4297",
                                    "disabled_address": "0"
                                },
                                {
                                    "address_id": "305",
                                    "customer_id": "281",
                                    "line1": "90177 N 55th Ave",
                                    "line2": "",
                                    "city": "Nashville",
                                    "state_code": "TN",
                                    "zip_code": "37211",
                                    "phone": "615-726-4537",
                                    "disabled_address": "0"
                                },
                                {
                                    "address_id": "306",
                                    "customer_id": "282",
                                    "line1": "8139 I Hwy 10 #92",
                                    "line2": "",
                                    "city": "New Bedford",
                                    "state_code": "MA",
                                    "zip_code": "2745",
                                    "phone": "508-897-7916",
                                    "disabled_address": "0"
                                },
                                {
                                    "address_id": "307",
                                    "customer_id": "283",
                                    "line1": "9122 Carpenter Ave",
                                    "line2": "",
                                    "city": "New Haven",
                                    "state_code": "CT",
                                    "zip_code": "6511",
                                    "phone": "203-840-8634",
                                    "disabled_address": "0"
                                },
                                {
                                    "address_id": "308",
                                    "customer_id": "284",
                                    "line1": "759 Eldora St",
                                    "line2": "",
                                    "city": "New Haven",
                                    "state_code": "CT",
                                    "zip_code": "6515",
                                    "phone": "203-801-8497",
                                    "disabled_address": "0"
                                },
                                {
                                    "address_id": "309",
                                    "customer_id": "285",
                                    "line1": "6649 N Blue Gum St",
                                    "line2": "",
                                    "city": "New Orleans",
                                    "state_code": "LA",
                                    "zip_code": "70116",
                                    "phone": "504-845-1427",
                                    "disabled_address": "0"
                                },
                                {
                                    "address_id": "310",
                                    "customer_id": "286",
                                    "line1": "3 Secor Rd",
                                    "line2": "",
                                    "city": "New Orleans",
                                    "state_code": "LA",
                                    "zip_code": "70112",
                                    "phone": "504-946-1807",
                                    "disabled_address": "0"
                                },
                                {
                                    "address_id": "311",
                                    "customer_id": "287",
                                    "line1": "3718 S Main St",
                                    "line2": "",
                                    "city": "New Orleans",
                                    "state_code": "LA",
                                    "zip_code": "70130",
                                    "phone": "504-635-8518",
                                    "disabled_address": "0"
                                },
                                {
                                    "address_id": "312",
                                    "customer_id": "288",
                                    "line1": "90991 Thorburn Ave",
                                    "line2": "",
                                    "city": "New York",
                                    "state_code": "NY",
                                    "zip_code": "10011",
                                    "phone": "212-934-5167",
                                    "disabled_address": "0"
                                },
                                {
                                    "address_id": "313",
                                    "customer_id": "289",
                                    "line1": "2742 Distribution Way",
                                    "line2": "",
                                    "city": "New York",
                                    "state_code": "NY",
                                    "zip_code": "10025",
                                    "phone": "212-753-2740",
                                    "disabled_address": "0"
                                },
                                {
                                    "address_id": "314",
                                    "customer_id": "290",
                                    "line1": "128 Bransten Rd",
                                    "line2": "",
                                    "city": "New York",
                                    "state_code": "NY",
                                    "zip_code": "10011",
                                    "phone": "212-569-4233",
                                    "disabled_address": "0"
                                },
                                {
                                    "address_id": "315",
                                    "customer_id": "291",
                                    "line1": "4486 W O St #1",
                                    "line2": "",
                                    "city": "New York",
                                    "state_code": "NY",
                                    "zip_code": "10003",
                                    "phone": "212-617-5063",
                                    "disabled_address": "0"
                                },
                                {
                                    "address_id": "316",
                                    "customer_id": "292",
                                    "line1": "3305 Nabell Ave #679",
                                    "line2": "",
                                    "city": "New York",
                                    "state_code": "NY",
                                    "zip_code": "10009",
                                    "phone": "212-462-9157",
                                    "disabled_address": "0"
                                },
                                {
                                    "address_id": "317",
                                    "customer_id": "293",
                                    "line1": "8 Industry Ln",
                                    "line2": "",
                                    "city": "New York",
                                    "state_code": "NY",
                                    "zip_code": "10002",
                                    "phone": "212-880-8865",
                                    "disabled_address": "0"
                                },
                                {
                                    "address_id": "318",
                                    "customer_id": "294",
                                    "line1": "229 N Forty Driv",
                                    "line2": "",
                                    "city": "New York",
                                    "state_code": "NY",
                                    "zip_code": "10011",
                                    "phone": "212-253-7448",
                                    "disabled_address": "0"
                                },
                                {
                                    "address_id": "319",
                                    "customer_id": "295",
                                    "line1": "5 Harrison Rd",
                                    "line2": "",
                                    "city": "New York",
                                    "state_code": "NY",
                                    "zip_code": "10038",
                                    "phone": "212-778-3063",
                                    "disabled_address": "0"
                                },
                                {
                                    "address_id": "320",
                                    "customer_id": "296",
                                    "line1": "38062 E Main St",
                                    "line2": "",
                                    "city": "New York",
                                    "state_code": "NY",
                                    "zip_code": "10048",
                                    "phone": "212-311-6377",
                                    "disabled_address": "0"
                                },
                                {
                                    "address_id": "321",
                                    "customer_id": "297",
                                    "line1": "25346 New Rd",
                                    "line2": "",
                                    "city": "New York",
                                    "state_code": "NY",
                                    "zip_code": "10016",
                                    "phone": "212-782-3493",
                                    "disabled_address": "0"
                                },
                                {
                                    "address_id": "322",
                                    "customer_id": "298",
                                    "line1": "7 S San Marcos Rd",
                                    "line2": "",
                                    "city": "New York",
                                    "state_code": "NY",
                                    "zip_code": "10004",
                                    "phone": "212-745-6948",
                                    "disabled_address": "0"
                                },
                                {
                                    "address_id": "323",
                                    "customer_id": "299",
                                    "line1": "87163 N Main Ave",
                                    "line2": "",
                                    "city": "New York",
                                    "state_code": "NY",
                                    "zip_code": "10013",
                                    "phone": "212-225-9676",
                                    "disabled_address": "0"
                                },
                                {
                                    "address_id": "324",
                                    "customer_id": "300",
                                    "line1": "3 Lawton St",
                                    "line2": "",
                                    "city": "New York",
                                    "state_code": "NY",
                                    "zip_code": "10013",
                                    "phone": "212-422-5427",
                                    "disabled_address": "0"
                                },
                                {
                                    "address_id": "325",
                                    "customer_id": "301",
                                    "line1": "18 3rd Ave",
                                    "line2": "",
                                    "city": "New York",
                                    "state_code": "NY",
                                    "zip_code": "10016",
                                    "phone": "212-428-9538",
                                    "disabled_address": "0"
                                },
                                {
                                    "address_id": "326",
                                    "customer_id": "302",
                                    "line1": "47565 W Grand Ave",
                                    "line2": "",
                                    "city": "Newark",
                                    "state_code": "NJ",
                                    "zip_code": "7105",
                                    "phone": "973-847-9611",
                                    "disabled_address": "0"
                                },
                                {
                                    "address_id": "327",
                                    "customer_id": "303",
                                    "line1": "6794 Lake Dr E",
                                    "line2": "",
                                    "city": "Newark",
                                    "state_code": "NJ",
                                    "zip_code": "7104",
                                    "phone": "973-796-3667",
                                    "disabled_address": "0"
                                },
                                {
                                    "address_id": "328",
                                    "customer_id": "304",
                                    "line1": "32820 Corkwood Rd",
                                    "line2": "",
                                    "city": "Newark",
                                    "state_code": "NJ",
                                    "zip_code": "7104",
                                    "phone": "973-605-6492",
                                    "disabled_address": "0"
                                },
                                {
                                    "address_id": "329",
                                    "customer_id": "305",
                                    "line1": "1610 14th St Nw",
                                    "line2": "",
                                    "city": "Newport News",
                                    "state_code": "VA",
                                    "zip_code": "23608",
                                    "phone": "757-940-1741",
                                    "disabled_address": "0"
                                },
                                {
                                    "address_id": "330",
                                    "customer_id": "306",
                                    "line1": "8977 Connecticut Ave Nw #3",
                                    "line2": "",
                                    "city": "Niles",
                                    "state_code": "MI",
                                    "zip_code": "49120",
                                    "phone": "269-431-9464",
                                    "disabled_address": "0"
                                },
                                {
                                    "address_id": "331",
                                    "customer_id": "307",
                                    "line1": "4 Carroll St",
                                    "line2": "",
                                    "city": "North Attleboro",
                                    "state_code": "MA",
                                    "zip_code": "2760",
                                    "phone": "508-618-7826",
                                    "disabled_address": "0"
                                },
                                {
                                    "address_id": "332",
                                    "customer_id": "308",
                                    "line1": "78112 Morris Ave",
                                    "line2": "",
                                    "city": "North Haven",
                                    "state_code": "CT",
                                    "zip_code": "6473",
                                    "phone": "203-564-1543",
                                    "disabled_address": "0"
                                },
                                {
                                    "address_id": "333",
                                    "customer_id": "309",
                                    "line1": "41 Steel Ct",
                                    "line2": "",
                                    "city": "Northfield",
                                    "state_code": "MN",
                                    "zip_code": "55057",
                                    "phone": "507-590-5237",
                                    "disabled_address": "0"
                                },
                                {
                                    "address_id": "334",
                                    "customer_id": "310",
                                    "line1": "70 Mechanic St",
                                    "line2": "",
                                    "city": "Northridge",
                                    "state_code": "CA",
                                    "zip_code": "91325",
                                    "phone": "818-481-5787",
                                    "disabled_address": "0"
                                },
                                {
                                    "address_id": "335",
                                    "customer_id": "311",
                                    "line1": "49440 Dearborn St",
                                    "line2": "",
                                    "city": "Norwalk",
                                    "state_code": "CT",
                                    "zip_code": "6854",
                                    "phone": "203-938-2557",
                                    "disabled_address": "0"
                                },
                                {
                                    "address_id": "336",
                                    "customer_id": "312",
                                    "line1": "1933 Packer Ave #2",
                                    "line2": "",
                                    "city": "Novato",
                                    "state_code": "CA",
                                    "zip_code": "94945",
                                    "phone": "415-926-6089",
                                    "disabled_address": "0"
                                },
                                {
                                    "address_id": "337",
                                    "customer_id": "313",
                                    "line1": "993 Washington Ave",
                                    "line2": "",
                                    "city": "Nutley",
                                    "state_code": "NJ",
                                    "zip_code": "7110",
                                    "phone": "973-986-4456",
                                    "disabled_address": "0"
                                },
                                {
                                    "address_id": "338",
                                    "customer_id": "314",
                                    "line1": "27846 Lafayette Ave",
                                    "line2": "",
                                    "city": "Oak Hill",
                                    "state_code": "FL",
                                    "zip_code": "32759",
                                    "phone": "386-599-7296",
                                    "disabled_address": "0"
                                },
                                {
                                    "address_id": "339",
                                    "customer_id": "315",
                                    "line1": "72868 Blackington Ave",
                                    "line2": "",
                                    "city": "Oakland",
                                    "state_code": "CA",
                                    "zip_code": "94606",
                                    "phone": "510-755-9274",
                                    "disabled_address": "0"
                                },
                                {
                                    "address_id": "340",
                                    "customer_id": "316",
                                    "line1": "82 N Highway 67",
                                    "line2": "",
                                    "city": "Oakley",
                                    "state_code": "CA",
                                    "zip_code": "94561",
                                    "phone": "925-541-8521",
                                    "disabled_address": "0"
                                },
                                {
                                    "address_id": "341",
                                    "customer_id": "317",
                                    "line1": "6 Ridgewood Center Dr",
                                    "line2": "",
                                    "city": "Old Forge",
                                    "state_code": "PA",
                                    "zip_code": "18518",
                                    "phone": "570-569-2356",
                                    "disabled_address": "0"
                                },
                                {
                                    "address_id": "342",
                                    "customer_id": "318",
                                    "line1": "21575 S Apple Creek Rd",
                                    "line2": "",
                                    "city": "Omaha",
                                    "state_code": "NE",
                                    "zip_code": "68124",
                                    "phone": "402-707-1602",
                                    "disabled_address": "0"
                                },
                                {
                                    "address_id": "343",
                                    "customer_id": "319",
                                    "line1": "52777 Leaders Heights Rd",
                                    "line2": "",
                                    "city": "Ontario",
                                    "state_code": "CA",
                                    "zip_code": "91761",
                                    "phone": "909-589-1693",
                                    "disabled_address": "0"
                                },
                                {
                                    "address_id": "344",
                                    "customer_id": "320",
                                    "line1": "703 Beville Rd",
                                    "line2": "",
                                    "city": "Opa Locka",
                                    "state_code": "FL",
                                    "zip_code": "33054",
                                    "phone": "305-857-5489",
                                    "disabled_address": "0"
                                },
                                {
                                    "address_id": "345",
                                    "customer_id": "321",
                                    "line1": "1 N Harlem Ave #9",
                                    "line2": "",
                                    "city": "Orange",
                                    "state_code": "NJ",
                                    "zip_code": "7050",
                                    "phone": "973-818-9788",
                                    "disabled_address": "0"
                                },
                                {
                                    "address_id": "346",
                                    "customer_id": "322",
                                    "line1": "93 Redmond Rd #492",
                                    "line2": "",
                                    "city": "Orlando",
                                    "state_code": "FL",
                                    "zip_code": "32803",
                                    "phone": "407-945-8566",
                                    "disabled_address": "0"
                                },
                                {
                                    "address_id": "347",
                                    "customer_id": "323",
                                    "line1": "7 W Wabansia Ave #227",
                                    "line2": "",
                                    "city": "Orlando",
                                    "state_code": "FL",
                                    "zip_code": "32822",
                                    "phone": "407-429-2145",
                                    "disabled_address": "0"
                                },
                                {
                                    "address_id": "348",
                                    "customer_id": "324",
                                    "line1": "2139 Santa Rosa Ave",
                                    "line2": "",
                                    "city": "Orlando",
                                    "state_code": "FL",
                                    "zip_code": "32801",
                                    "phone": "407-808-3254",
                                    "disabled_address": "0"
                                },
                                {
                                    "address_id": "349",
                                    "customer_id": "324",
                                    "line1": "75698 N Fiesta Blvd",
                                    "line2": "",
                                    "city": "Orlando",
                                    "state_code": "FL",
                                    "zip_code": "32806",
                                    "phone": "407-472-1332",
                                    "disabled_address": "0"
                                },
                                {
                                    "address_id": "350",
                                    "customer_id": "326",
                                    "line1": "63 E Aurora Dr",
                                    "line2": "",
                                    "city": "Orlando",
                                    "state_code": "FL",
                                    "zip_code": "32804",
                                    "phone": "407-557-8857",
                                    "disabled_address": "0"
                                },
                                {
                                    "address_id": "351",
                                    "customer_id": "327",
                                    "line1": "77 222 Dr",
                                    "line2": "",
                                    "city": "Oroville",
                                    "state_code": "CA",
                                    "zip_code": "95965",
                                    "phone": "530-399-3254",
                                    "disabled_address": "0"
                                },
                                {
                                    "address_id": "352",
                                    "customer_id": "328",
                                    "line1": "7219 Woodfield Rd",
                                    "line2": "",
                                    "city": "Overland Park",
                                    "state_code": "KS",
                                    "zip_code": "66204",
                                    "phone": "913-645-8918",
                                    "disabled_address": "0"
                                },
                                {
                                    "address_id": "353",
                                    "customer_id": "329",
                                    "line1": "55892 Jacksonville Rd",
                                    "line2": "",
                                    "city": "Owings Mills",
                                    "state_code": "MD",
                                    "zip_code": "21117",
                                    "phone": "410-916-8015",
                                    "disabled_address": "0"
                                },
                                {
                                    "address_id": "354",
                                    "customer_id": "330",
                                    "line1": "94290 S Buchanan St",
                                    "line2": "",
                                    "city": "Pacifica",
                                    "state_code": "CA",
                                    "zip_code": "94044",
                                    "phone": "650-749-9879",
                                    "disabled_address": "0"
                                },
                                {
                                    "address_id": "355",
                                    "customer_id": "331",
                                    "line1": "7 West Ave #1",
                                    "line2": "",
                                    "city": "Palatine",
                                    "state_code": "IL",
                                    "zip_code": "60067",
                                    "phone": "847-556-2909",
                                    "disabled_address": "0"
                                },
                                {
                                    "address_id": "356",
                                    "customer_id": "332",
                                    "line1": "3 State Route 35 S",
                                    "line2": "",
                                    "city": "Paramus",
                                    "state_code": "NJ",
                                    "zip_code": "7652",
                                    "phone": "201-247-8925",
                                    "disabled_address": "0"
                                },
                                {
                                    "address_id": "357",
                                    "customer_id": "333",
                                    "line1": "5 W 7th St",
                                    "line2": "",
                                    "city": "Parkville",
                                    "state_code": "MD",
                                    "zip_code": "21234",
                                    "phone": "410-234-2267",
                                    "disabled_address": "0"
                                },
                                {
                                    "address_id": "358",
                                    "customer_id": "334",
                                    "line1": "18 Coronado Ave #563",
                                    "line2": "",
                                    "city": "Pasadena",
                                    "state_code": "CA",
                                    "zip_code": "91106",
                                    "phone": "626-293-7678",
                                    "disabled_address": "0"
                                },
                                {
                                    "address_id": "359",
                                    "customer_id": "335",
                                    "line1": "3381 E 40th Ave",
                                    "line2": "",
                                    "city": "Passaic",
                                    "state_code": "NJ",
                                    "zip_code": "7055",
                                    "phone": "973-355-2120",
                                    "disabled_address": "0"
                                },
                                {
                                    "address_id": "360",
                                    "customer_id": "336",
                                    "line1": "2726 Charcot Ave",
                                    "line2": "",
                                    "city": "Paterson",
                                    "state_code": "NJ",
                                    "zip_code": "7501",
                                    "phone": "973-284-4048",
                                    "disabled_address": "0"
                                },
                                {
                                    "address_id": "361",
                                    "customer_id": "337",
                                    "line1": "36 Lancaster Dr Se",
                                    "line2": "",
                                    "city": "Pearl",
                                    "state_code": "MS",
                                    "zip_code": "39208",
                                    "phone": "601-637-5479",
                                    "disabled_address": "0"
                                },
                                {
                                    "address_id": "362",
                                    "customer_id": "338",
                                    "line1": "65 W Maple Ave",
                                    "line2": "",
                                    "city": "Pearl City",
                                    "state_code": "HI",
                                    "zip_code": "96782",
                                    "phone": "808-526-5863",
                                    "disabled_address": "0"
                                },
                                {
                                    "address_id": "363",
                                    "customer_id": "339",
                                    "line1": "8429 Miller Rd",
                                    "line2": "",
                                    "city": "Pelham",
                                    "state_code": "NY",
                                    "zip_code": "10803",
                                    "phone": "914-883-3061",
                                    "disabled_address": "0"
                                },
                                {
                                    "address_id": "364",
                                    "customer_id": "340",
                                    "line1": "347 Chestnut St",
                                    "line2": "",
                                    "city": "Peoria",
                                    "state_code": "AZ",
                                    "zip_code": "85381",
                                    "phone": "623-426-4907",
                                    "disabled_address": "0"
                                },
                                {
                                    "address_id": "365",
                                    "customer_id": "341",
                                    "line1": "6 Harry L Dr #6327",
                                    "line2": "",
                                    "city": "Perrysburg",
                                    "state_code": "OH",
                                    "zip_code": "43551",
                                    "phone": "419-573-2033",
                                    "disabled_address": "0"
                                },
                                {
                                    "address_id": "366",
                                    "customer_id": "342",
                                    "line1": "209 Decker Dr",
                                    "line2": "",
                                    "city": "Philadelphia",
                                    "state_code": "PA",
                                    "zip_code": "19132",
                                    "phone": "215-794-4519",
                                    "disabled_address": "0"
                                },
                                {
                                    "address_id": "367",
                                    "customer_id": "343",
                                    "line1": "3 Fort Worth Ave",
                                    "line2": "",
                                    "city": "Philadelphia",
                                    "state_code": "PA",
                                    "zip_code": "19106",
                                    "phone": "215-228-8264",
                                    "disabled_address": "0"
                                },
                                {
                                    "address_id": "368",
                                    "customer_id": "344",
                                    "line1": "63381 Jenks Ave",
                                    "line2": "",
                                    "city": "Philadelphia",
                                    "state_code": "PA",
                                    "zip_code": "19134",
                                    "phone": "215-346-4666",
                                    "disabled_address": "0"
                                },
                                {
                                    "address_id": "369",
                                    "customer_id": "345",
                                    "line1": "992 Civic Center Dr",
                                    "line2": "",
                                    "city": "Philadelphia",
                                    "state_code": "PA",
                                    "zip_code": "19123",
                                    "phone": "215-417-5612",
                                    "disabled_address": "0"
                                },
                                {
                                    "address_id": "370",
                                    "customer_id": "346",
                                    "line1": "73 Southern Blvd",
                                    "line2": "",
                                    "city": "Philadelphia",
                                    "state_code": "PA",
                                    "zip_code": "19103",
                                    "phone": "215-511-3531",
                                    "disabled_address": "0"
                                },
                                {
                                    "address_id": "371",
                                    "customer_id": "347",
                                    "line1": "4379 Highway 116",
                                    "line2": "",
                                    "city": "Philadelphia",
                                    "state_code": "PA",
                                    "zip_code": "19103",
                                    "phone": "215-483-3003",
                                    "disabled_address": "0"
                                },
                                {
                                    "address_id": "372",
                                    "customer_id": "348",
                                    "line1": "4441 Point Term Mkt",
                                    "line2": "",
                                    "city": "Philadelphia",
                                    "state_code": "PA",
                                    "zip_code": "19143",
                                    "phone": "215-829-4221",
                                    "disabled_address": "0"
                                },
                                {
                                    "address_id": "373",
                                    "customer_id": "349",
                                    "line1": "910 Rahway Ave",
                                    "line2": "",
                                    "city": "Philadelphia",
                                    "state_code": "PA",
                                    "zip_code": "19102",
                                    "phone": "215-380-8820",
                                    "disabled_address": "0"
                                },
                                {
                                    "address_id": "374",
                                    "customer_id": "350",
                                    "line1": "73 State Road 434 E",
                                    "line2": "",
                                    "city": "Phoenix",
                                    "state_code": "AZ",
                                    "zip_code": "85013",
                                    "phone": "602-953-6360",
                                    "disabled_address": "0"
                                },
                                {
                                    "address_id": "375",
                                    "customer_id": "351",
                                    "line1": "1 Huntwood Ave",
                                    "line2": "",
                                    "city": "Phoenix",
                                    "state_code": "AZ",
                                    "zip_code": "85017",
                                    "phone": "602-277-3025",
                                    "disabled_address": "0"
                                },
                                {
                                    "address_id": "376",
                                    "customer_id": "352",
                                    "line1": "96541 W Central Blvd",
                                    "line2": "",
                                    "city": "Phoenix",
                                    "state_code": "AZ",
                                    "zip_code": "85034",
                                    "phone": "602-330-6894",
                                    "disabled_address": "0"
                                },
                                {
                                    "address_id": "377",
                                    "customer_id": "353",
                                    "line1": "86350 Roszel Rd",
                                    "line2": "",
                                    "city": "Phoenix",
                                    "state_code": "AZ",
                                    "zip_code": "85012",
                                    "phone": "602-442-3092",
                                    "disabled_address": "0"
                                },
                                {
                                    "address_id": "378",
                                    "customer_id": "354",
                                    "line1": "9 W Central Ave",
                                    "line2": "",
                                    "city": "Phoenix",
                                    "state_code": "AZ",
                                    "zip_code": "85013",
                                    "phone": "602-575-3457",
                                    "disabled_address": "0"
                                },
                                {
                                    "address_id": "379",
                                    "customer_id": "355",
                                    "line1": "90131 J St",
                                    "line2": "",
                                    "city": "Pittstown",
                                    "state_code": "NJ",
                                    "zip_code": "8867",
                                    "phone": "908-448-1209",
                                    "disabled_address": "0"
                                },
                                {
                                    "address_id": "380",
                                    "customer_id": "356",
                                    "line1": "30553 Washington Rd",
                                    "line2": "",
                                    "city": "Plainfield",
                                    "state_code": "NJ",
                                    "zip_code": "7062",
                                    "phone": "908-426-8272",
                                    "disabled_address": "0"
                                },
                                {
                                    "address_id": "381",
                                    "customer_id": "357",
                                    "line1": "66552 Malone Rd",
                                    "line2": "",
                                    "city": "Plaistow",
                                    "state_code": "NH",
                                    "zip_code": "3865",
                                    "phone": "603-745-7497",
                                    "disabled_address": "0"
                                },
                                {
                                    "address_id": "382",
                                    "customer_id": "358",
                                    "line1": "13 Gunnison St",
                                    "line2": "",
                                    "city": "Plano",
                                    "state_code": "TX",
                                    "zip_code": "75075",
                                    "phone": "972-961-4968",
                                    "disabled_address": "0"
                                },
                                {
                                    "address_id": "383",
                                    "customer_id": "359",
                                    "line1": "48 Stratford Ave",
                                    "line2": "",
                                    "city": "Pomona",
                                    "state_code": "CA",
                                    "zip_code": "91768",
                                    "phone": "909-631-5703",
                                    "disabled_address": "0"
                                },
                                {
                                    "address_id": "384",
                                    "customer_id": "360",
                                    "line1": "53 W Carey St",
                                    "line2": "",
                                    "city": "Port Jervis",
                                    "state_code": "NY",
                                    "zip_code": "12771",
                                    "phone": "845-694-7919",
                                    "disabled_address": "0"
                                },
                                {
                                    "address_id": "385",
                                    "customer_id": "361",
                                    "line1": "1 Commerce Way",
                                    "line2": "",
                                    "city": "Portland",
                                    "state_code": "OR",
                                    "zip_code": "97224",
                                    "phone": "503-909-7167",
                                    "disabled_address": "0"
                                },
                                {
                                    "address_id": "386",
                                    "customer_id": "362",
                                    "line1": "4940 Pulaski Park Dr",
                                    "line2": "",
                                    "city": "Portland",
                                    "state_code": "OR",
                                    "zip_code": "97202",
                                    "phone": "503-455-3094",
                                    "disabled_address": "0"
                                },
                                {
                                    "address_id": "387",
                                    "customer_id": "363",
                                    "line1": "60480 Old Us Highway 51",
                                    "line2": "",
                                    "city": "Preston",
                                    "state_code": "MD",
                                    "zip_code": "21655",
                                    "phone": "410-724-6472",
                                    "disabled_address": "0"
                                },
                                {
                                    "address_id": "388",
                                    "customer_id": "364",
                                    "line1": "2881 Lewis Rd",
                                    "line2": "",
                                    "city": "Prineville",
                                    "state_code": "OR",
                                    "zip_code": "97754",
                                    "phone": "541-993-2611",
                                    "disabled_address": "0"
                                },
                                {
                                    "address_id": "389",
                                    "customer_id": "365",
                                    "line1": "65895 S 16th St",
                                    "line2": "",
                                    "city": "Providence",
                                    "state_code": "RI",
                                    "zip_code": "2909",
                                    "phone": "401-559-8961",
                                    "disabled_address": "0"
                                },
                                {
                                    "address_id": "390",
                                    "customer_id": "366",
                                    "line1": "201 Hawk Ct",
                                    "line2": "",
                                    "city": "Providence",
                                    "state_code": "RI",
                                    "zip_code": "2904",
                                    "phone": "401-300-8122",
                                    "disabled_address": "0"
                                },
                                {
                                    "address_id": "391",
                                    "customer_id": "367",
                                    "line1": "1 Rancho Del Mar Shopping C",
                                    "line2": "",
                                    "city": "Providence",
                                    "state_code": "RI",
                                    "zip_code": "2903",
                                    "phone": "401-885-7681",
                                    "disabled_address": "0"
                                },
                                {
                                    "address_id": "392",
                                    "customer_id": "368",
                                    "line1": "9 Hwy",
                                    "line2": "",
                                    "city": "Providence",
                                    "state_code": "RI",
                                    "zip_code": "2906",
                                    "phone": "401-893-1820",
                                    "disabled_address": "0"
                                },
                                {
                                    "address_id": "393",
                                    "customer_id": "369",
                                    "line1": "987 Main St",
                                    "line2": "",
                                    "city": "Raleigh",
                                    "state_code": "NC",
                                    "zip_code": "27601",
                                    "phone": "919-254-5987",
                                    "disabled_address": "0"
                                },
                                {
                                    "address_id": "394",
                                    "customer_id": "370",
                                    "line1": "3958 S Dupont Hwy #7",
                                    "line2": "",
                                    "city": "Ramsey",
                                    "state_code": "NJ",
                                    "zip_code": "7446",
                                    "phone": "201-365-8698",
                                    "disabled_address": "0"
                                },
                                {
                                    "address_id": "395",
                                    "customer_id": "371",
                                    "line1": "9745 W Main St",
                                    "line2": "",
                                    "city": "Randolph",
                                    "state_code": "NJ",
                                    "zip_code": "7869",
                                    "phone": "973-868-8660",
                                    "disabled_address": "0"
                                },
                                {
                                    "address_id": "396",
                                    "customer_id": "372",
                                    "line1": "73 Saint Ann St #86",
                                    "line2": "",
                                    "city": "Reno",
                                    "state_code": "NV",
                                    "zip_code": "89502",
                                    "phone": "775-848-9135",
                                    "disabled_address": "0"
                                },
                                {
                                    "address_id": "397",
                                    "customer_id": "373",
                                    "line1": "8 Mcarthur Ln",
                                    "line2": "",
                                    "city": "Richboro",
                                    "state_code": "PA",
                                    "zip_code": "18954",
                                    "phone": "215-647-2158",
                                    "disabled_address": "0"
                                },
                                {
                                    "address_id": "398",
                                    "customer_id": "374",
                                    "line1": "36 Enterprise St Se",
                                    "line2": "",
                                    "city": "Richland",
                                    "state_code": "WA",
                                    "zip_code": "99352",
                                    "phone": "509-595-6485",
                                    "disabled_address": "0"
                                },
                                {
                                    "address_id": "399",
                                    "customer_id": "375",
                                    "line1": "39 Franklin Ave",
                                    "line2": "",
                                    "city": "Richland",
                                    "state_code": "WA",
                                    "zip_code": "99352",
                                    "phone": "509-847-3352",
                                    "disabled_address": "0"
                                },
                                {
                                    "address_id": "400",
                                    "customer_id": "376",
                                    "line1": "9677 Commerce Dr",
                                    "line2": "",
                                    "city": "Richmond",
                                    "state_code": "VA",
                                    "zip_code": "23219",
                                    "phone": "804-858-1011",
                                    "disabled_address": "0"
                                },
                                {
                                    "address_id": "401",
                                    "customer_id": "377",
                                    "line1": "393 Lafayette Ave",
                                    "line2": "",
                                    "city": "Richmond",
                                    "state_code": "VA",
                                    "zip_code": "23219",
                                    "phone": "804-808-9574",
                                    "disabled_address": "0"
                                },
                                {
                                    "address_id": "402",
                                    "customer_id": "378",
                                    "line1": "45 E Liberty St",
                                    "line2": "",
                                    "city": "Ridgefield Park",
                                    "state_code": "NJ",
                                    "zip_code": "7660",
                                    "phone": "201-387-9093",
                                    "disabled_address": "0"
                                },
                                {
                                    "address_id": "403",
                                    "customer_id": "379",
                                    "line1": "2409 Alabama Rd",
                                    "line2": "",
                                    "city": "Riverside",
                                    "state_code": "CA",
                                    "zip_code": "92501",
                                    "phone": "951-248-6822",
                                    "disabled_address": "0"
                                },
                                {
                                    "address_id": "404",
                                    "customer_id": "380",
                                    "line1": "9939 N 14th St",
                                    "line2": "",
                                    "city": "Riverton",
                                    "state_code": "NJ",
                                    "zip_code": "8077",
                                    "phone": "856-828-6021",
                                    "disabled_address": "0"
                                },
                                {
                                    "address_id": "405",
                                    "customer_id": "381",
                                    "line1": "66697 Park Pl #3224",
                                    "line2": "",
                                    "city": "Riverton",
                                    "state_code": "WY",
                                    "zip_code": "82501",
                                    "phone": "307-453-7589",
                                    "disabled_address": "0"
                                },
                                {
                                    "address_id": "406",
                                    "customer_id": "382",
                                    "line1": "9581 E Arapahoe Rd",
                                    "line2": "",
                                    "city": "Rochester",
                                    "state_code": "MI",
                                    "zip_code": "48307",
                                    "phone": "248-811-5696",
                                    "disabled_address": "0"
                                },
                                {
                                    "address_id": "407",
                                    "customer_id": "383",
                                    "line1": "7140 University Ave",
                                    "line2": "",
                                    "city": "Rock Springs",
                                    "state_code": "WY",
                                    "zip_code": "82901",
                                    "phone": "307-279-3793",
                                    "disabled_address": "0"
                                },
                                {
                                    "address_id": "408",
                                    "customer_id": "384",
                                    "line1": "798 Lund Farm Way",
                                    "line2": "",
                                    "city": "Rockaway",
                                    "state_code": "NJ",
                                    "zip_code": "7866",
                                    "phone": "973-225-6259",
                                    "disabled_address": "0"
                                },
                                {
                                    "address_id": "409",
                                    "customer_id": "385",
                                    "line1": "394 Manchester Blvd",
                                    "line2": "",
                                    "city": "Rockford",
                                    "state_code": "IL",
                                    "zip_code": "61109",
                                    "phone": "815-426-5657",
                                    "disabled_address": "0"
                                },
                                {
                                    "address_id": "410",
                                    "customer_id": "386",
                                    "line1": "2140 Diamond Blvd",
                                    "line2": "",
                                    "city": "Rohnert Park",
                                    "state_code": "CA",
                                    "zip_code": "94928",
                                    "phone": "707-881-3154",
                                    "disabled_address": "0"
                                },
                                {
                                    "address_id": "411",
                                    "customer_id": "387",
                                    "line1": "26849 Jefferson Hwy",
                                    "line2": "",
                                    "city": "Rolling Meadows",
                                    "state_code": "IL",
                                    "zip_code": "60008",
                                    "phone": "847-755-9041",
                                    "disabled_address": "0"
                                },
                                {
                                    "address_id": "412",
                                    "customer_id": "388",
                                    "line1": "81 Norris Ave #525",
                                    "line2": "",
                                    "city": "Ronkonkoma",
                                    "state_code": "NY",
                                    "zip_code": "11779",
                                    "phone": "631-998-2102",
                                    "disabled_address": "0"
                                },
                                {
                                    "address_id": "413",
                                    "customer_id": "389",
                                    "line1": "433 Westminster Blvd #590",
                                    "line2": "",
                                    "city": "Roseville",
                                    "state_code": "CA",
                                    "zip_code": "95661",
                                    "phone": "916-289-4526",
                                    "disabled_address": "0"
                                },
                                {
                                    "address_id": "414",
                                    "customer_id": "390",
                                    "line1": "5 Washington St #1",
                                    "line2": "",
                                    "city": "Roseville",
                                    "state_code": "CA",
                                    "zip_code": "95678",
                                    "phone": "916-459-2433",
                                    "disabled_address": "0"
                                },
                                {
                                    "address_id": "415",
                                    "customer_id": "391",
                                    "line1": "17 Us Highway 111",
                                    "line2": "",
                                    "city": "Round Rock",
                                    "state_code": "TX",
                                    "zip_code": "78664",
                                    "phone": "512-528-9933",
                                    "disabled_address": "0"
                                },
                                {
                                    "address_id": "416",
                                    "customer_id": "392",
                                    "line1": "3158 Runamuck Pl",
                                    "line2": "",
                                    "city": "Round Rock",
                                    "state_code": "TX",
                                    "zip_code": "78664",
                                    "phone": "512-942-3411",
                                    "disabled_address": "0"
                                },
                                {
                                    "address_id": "417",
                                    "customer_id": "393",
                                    "line1": "6916 W Main St",
                                    "line2": "",
                                    "city": "Sacramento",
                                    "state_code": "CA",
                                    "zip_code": "95827",
                                    "phone": "916-770-7448",
                                    "disabled_address": "0"
                                },
                                {
                                    "address_id": "418",
                                    "customer_id": "394",
                                    "line1": "1953 Telegraph Rd",
                                    "line2": "",
                                    "city": "Saint Joseph",
                                    "state_code": "MO",
                                    "zip_code": "64504",
                                    "phone": "816-329-5565",
                                    "disabled_address": "0"
                                },
                                {
                                    "address_id": "419",
                                    "customer_id": "395",
                                    "line1": "4923 Carey Ave",
                                    "line2": "",
                                    "city": "Saint Louis",
                                    "state_code": "MO",
                                    "zip_code": "63104",
                                    "phone": "314-858-4832",
                                    "disabled_address": "0"
                                },
                                {
                                    "address_id": "420",
                                    "customer_id": "396",
                                    "line1": "369 Latham St #500",
                                    "line2": "",
                                    "city": "Saint Louis",
                                    "state_code": "MO",
                                    "zip_code": "63102",
                                    "phone": "314-697-3652",
                                    "disabled_address": "0"
                                },
                                {
                                    "address_id": "421",
                                    "customer_id": "397",
                                    "line1": "2023 Greg St",
                                    "line2": "",
                                    "city": "Saint Paul",
                                    "state_code": "MN",
                                    "zip_code": "55101",
                                    "phone": "651-776-9688",
                                    "disabled_address": "0"
                                },
                                {
                                    "address_id": "422",
                                    "customer_id": "398",
                                    "line1": "9 Church St",
                                    "line2": "",
                                    "city": "Salem",
                                    "state_code": "OR",
                                    "zip_code": "97302",
                                    "phone": "503-950-3068",
                                    "disabled_address": "0"
                                },
                                {
                                    "address_id": "423",
                                    "customer_id": "399",
                                    "line1": "9648 S Main",
                                    "line2": "",
                                    "city": "Salisbury",
                                    "state_code": "MD",
                                    "zip_code": "21801",
                                    "phone": "410-951-2667",
                                    "disabled_address": "0"
                                },
                                {
                                    "address_id": "424",
                                    "customer_id": "400",
                                    "line1": "51120 State Route 18",
                                    "line2": "",
                                    "city": "Salt Lake City",
                                    "state_code": "UT",
                                    "zip_code": "84115",
                                    "phone": "801-892-8781",
                                    "disabled_address": "0"
                                },
                                {
                                    "address_id": "425",
                                    "customer_id": "401",
                                    "line1": "775 W 17th St",
                                    "line2": "",
                                    "city": "San Antonio",
                                    "state_code": "TX",
                                    "zip_code": "78204",
                                    "phone": "210-300-6244",
                                    "disabled_address": "0"
                                },
                                {
                                    "address_id": "426",
                                    "customer_id": "402",
                                    "line1": "85092 Southern Blvd",
                                    "line2": "",
                                    "city": "San Antonio",
                                    "state_code": "TX",
                                    "zip_code": "78204",
                                    "phone": "210-634-2447",
                                    "disabled_address": "0"
                                },
                                {
                                    "address_id": "427",
                                    "customer_id": "403",
                                    "line1": "4 S Washington Ave",
                                    "line2": "",
                                    "city": "San Bernardino",
                                    "state_code": "CA",
                                    "zip_code": "92410",
                                    "phone": "909-665-3223",
                                    "disabled_address": "0"
                                },
                                {
                                    "address_id": "428",
                                    "customer_id": "404",
                                    "line1": "30 W 80th St #1995",
                                    "line2": "",
                                    "city": "San Carlos",
                                    "state_code": "CA",
                                    "zip_code": "94070",
                                    "phone": "650-811-9032",
                                    "disabled_address": "0"
                                },
                                {
                                    "address_id": "429",
                                    "customer_id": "405",
                                    "line1": "1 Century Park E",
                                    "line2": "",
                                    "city": "San Diego",
                                    "state_code": "CA",
                                    "zip_code": "92110",
                                    "phone": "858-228-5683",
                                    "disabled_address": "0"
                                },
                                {
                                    "address_id": "430",
                                    "customer_id": "406",
                                    "line1": "469 Outwater Ln",
                                    "line2": "",
                                    "city": "San Diego",
                                    "state_code": "CA",
                                    "zip_code": "92126",
                                    "phone": "858-732-1884",
                                    "disabled_address": "0"
                                },
                                {
                                    "address_id": "431",
                                    "customer_id": "407",
                                    "line1": "701 S Harrison Rd",
                                    "line2": "",
                                    "city": "San Francisco",
                                    "state_code": "CA",
                                    "zip_code": "94104",
                                    "phone": "415-604-7609",
                                    "disabled_address": "0"
                                },
                                {
                                    "address_id": "432",
                                    "customer_id": "408",
                                    "line1": "3717 Hamann Industrial Pky",
                                    "line2": "",
                                    "city": "San Francisco",
                                    "state_code": "CA",
                                    "zip_code": "94104",
                                    "phone": "415-712-9530",
                                    "disabled_address": "0"
                                },
                                {
                                    "address_id": "433",
                                    "customer_id": "409",
                                    "line1": "6 Middlegate Rd #106",
                                    "line2": "",
                                    "city": "San Francisco",
                                    "state_code": "CA",
                                    "zip_code": "94107",
                                    "phone": "415-874-2984",
                                    "disabled_address": "0"
                                },
                                {
                                    "address_id": "434",
                                    "customer_id": "410",
                                    "line1": "39 Moccasin Dr",
                                    "line2": "",
                                    "city": "San Francisco",
                                    "state_code": "CA",
                                    "zip_code": "94104",
                                    "phone": "415-284-2730",
                                    "disabled_address": "0"
                                },
                                {
                                    "address_id": "435",
                                    "customer_id": "411",
                                    "line1": "10276 Brooks St",
                                    "line2": "",
                                    "city": "San Francisco",
                                    "state_code": "CA",
                                    "zip_code": "94105",
                                    "phone": "415-419-1597",
                                    "disabled_address": "0"
                                },
                                {
                                    "address_id": "436",
                                    "customer_id": "412",
                                    "line1": "83649 W Belmont Ave",
                                    "line2": "",
                                    "city": "San Gabriel",
                                    "state_code": "CA",
                                    "zip_code": "91776",
                                    "phone": "626-696-2777",
                                    "disabled_address": "0"
                                },
                                {
                                    "address_id": "437",
                                    "customer_id": "413",
                                    "line1": "7 W Jackson Blvd",
                                    "line2": "",
                                    "city": "San Jose",
                                    "state_code": "CA",
                                    "zip_code": "95111",
                                    "phone": "408-813-1105",
                                    "disabled_address": "0"
                                },
                                {
                                    "address_id": "438",
                                    "customer_id": "414",
                                    "line1": "6 Greenleaf Ave",
                                    "line2": "",
                                    "city": "San Jose",
                                    "state_code": "CA",
                                    "zip_code": "95111",
                                    "phone": "408-813-4592",
                                    "disabled_address": "0"
                                },
                                {
                                    "address_id": "439",
                                    "customer_id": "415",
                                    "line1": "99385 Charity St #840",
                                    "line2": "",
                                    "city": "San Jose",
                                    "state_code": "CA",
                                    "zip_code": "95110",
                                    "phone": "408-440-8447",
                                    "disabled_address": "0"
                                },
                                {
                                    "address_id": "440",
                                    "customer_id": "416",
                                    "line1": "1128 Delaware St",
                                    "line2": "",
                                    "city": "San Jose",
                                    "state_code": "CA",
                                    "zip_code": "95132",
                                    "phone": "408-425-1994",
                                    "disabled_address": "0"
                                },
                                {
                                    "address_id": "441",
                                    "customer_id": "417",
                                    "line1": "68556 Central Hwy",
                                    "line2": "",
                                    "city": "San Leandro",
                                    "state_code": "CA",
                                    "zip_code": "94577",
                                    "phone": "510-452-4835",
                                    "disabled_address": "0"
                                },
                                {
                                    "address_id": "442",
                                    "customer_id": "417",
                                    "line1": "524 Louisiana Ave Nw",
                                    "line2": "",
                                    "city": "San Leandro",
                                    "state_code": "CA",
                                    "zip_code": "94577",
                                    "phone": "510-472-7758",
                                    "disabled_address": "0"
                                },
                                {
                                    "address_id": "443",
                                    "customer_id": "418",
                                    "line1": "2 Monroe St",
                                    "line2": "",
                                    "city": "San Mateo",
                                    "state_code": "CA",
                                    "zip_code": "94403",
                                    "phone": "650-247-2625",
                                    "disabled_address": "0"
                                },
                                {
                                    "address_id": "444",
                                    "customer_id": "419",
                                    "line1": "98 University Dr",
                                    "line2": "",
                                    "city": "San Ramon",
                                    "state_code": "CA",
                                    "zip_code": "94583",
                                    "phone": "925-943-3449",
                                    "disabled_address": "0"
                                },
                                {
                                    "address_id": "445",
                                    "customer_id": "420",
                                    "line1": "11360 S Halsted St",
                                    "line2": "",
                                    "city": "Santa Ana",
                                    "state_code": "CA",
                                    "zip_code": "92705",
                                    "phone": "714-531-1391",
                                    "disabled_address": "0"
                                },
                                {
                                    "address_id": "446",
                                    "customer_id": "421",
                                    "line1": "195 13n N",
                                    "line2": "",
                                    "city": "Santa Clara",
                                    "state_code": "CA",
                                    "zip_code": "95054",
                                    "phone": "408-346-2180",
                                    "disabled_address": "0"
                                },
                                {
                                    "address_id": "447",
                                    "customer_id": "422",
                                    "line1": "985 E 6th Ave",
                                    "line2": "",
                                    "city": "Santa Rosa",
                                    "state_code": "CA",
                                    "zip_code": "95407",
                                    "phone": "707-821-8037",
                                    "disabled_address": "0"
                                },
                                {
                                    "address_id": "448",
                                    "customer_id": "423",
                                    "line1": "251 Park Ave #979",
                                    "line2": "",
                                    "city": "Saratoga",
                                    "state_code": "CA",
                                    "zip_code": "95070",
                                    "phone": "408-997-7490",
                                    "disabled_address": "0"
                                },
                                {
                                    "address_id": "449",
                                    "customer_id": "424",
                                    "line1": "77 Massillon Rd #822",
                                    "line2": "",
                                    "city": "Satellite Beach",
                                    "state_code": "FL",
                                    "zip_code": "32937",
                                    "phone": "321-597-2159",
                                    "disabled_address": "0"
                                },
                                {
                                    "address_id": "450",
                                    "customer_id": "425",
                                    "line1": "4 58th St #3519",
                                    "line2": "",
                                    "city": "Scottsdale",
                                    "state_code": "AZ",
                                    "zip_code": "85254",
                                    "phone": "602-304-6433",
                                    "disabled_address": "0"
                                },
                                {
                                    "address_id": "451",
                                    "customer_id": "426",
                                    "line1": "10759 Main St",
                                    "line2": "",
                                    "city": "Scottsdale",
                                    "state_code": "AZ",
                                    "zip_code": "85260",
                                    "phone": "480-205-5121",
                                    "disabled_address": "0"
                                },
                                {
                                    "address_id": "452",
                                    "customer_id": "427",
                                    "line1": "63728 Poway Rd #1",
                                    "line2": "",
                                    "city": "Scranton",
                                    "state_code": "PA",
                                    "zip_code": "18509",
                                    "phone": "570-868-8688",
                                    "disabled_address": "0"
                                },
                                {
                                    "address_id": "453",
                                    "customer_id": "428",
                                    "line1": "67 E Chestnut Hill Rd",
                                    "line2": "",
                                    "city": "Seattle",
                                    "state_code": "WA",
                                    "zip_code": "98133",
                                    "phone": "206-295-5631",
                                    "disabled_address": "0"
                                },
                                {
                                    "address_id": "454",
                                    "customer_id": "429",
                                    "line1": "61556 W 20th Ave",
                                    "line2": "",
                                    "city": "Seattle",
                                    "state_code": "WA",
                                    "zip_code": "98104",
                                    "phone": "206-395-6284",
                                    "disabled_address": "0"
                                },
                                {
                                    "address_id": "455",
                                    "customer_id": "430",
                                    "line1": "636 Commerce Dr #42",
                                    "line2": "",
                                    "city": "Shakopee",
                                    "state_code": "MN",
                                    "zip_code": "55379",
                                    "phone": "952-906-4597",
                                    "disabled_address": "0"
                                },
                                {
                                    "address_id": "456",
                                    "customer_id": "431",
                                    "line1": "86 Nw 66th St #8673",
                                    "line2": "",
                                    "city": "Shawnee",
                                    "state_code": "KS",
                                    "zip_code": "66218",
                                    "phone": "913-899-1103",
                                    "disabled_address": "0"
                                },
                                {
                                    "address_id": "457",
                                    "customer_id": "432",
                                    "line1": "5 Boston Ave #88",
                                    "line2": "",
                                    "city": "Sioux Falls",
                                    "state_code": "SD",
                                    "zip_code": "57105",
                                    "phone": "605-794-4895",
                                    "disabled_address": "0"
                                },
                                {
                                    "address_id": "458",
                                    "customer_id": "433",
                                    "line1": "749 W 18th St #45",
                                    "line2": "",
                                    "city": "Smithfield",
                                    "state_code": "NC",
                                    "zip_code": "27577",
                                    "phone": "919-885-2453",
                                    "disabled_address": "0"
                                },
                                {
                                    "address_id": "459",
                                    "customer_id": "434",
                                    "line1": "61304 N French Rd",
                                    "line2": "",
                                    "city": "Somerset",
                                    "state_code": "NJ",
                                    "zip_code": "8873",
                                    "phone": "732-445-6940",
                                    "disabled_address": "0"
                                },
                                {
                                    "address_id": "460",
                                    "customer_id": "435",
                                    "line1": "406 Main St",
                                    "line2": "",
                                    "city": "Somerville",
                                    "state_code": "NJ",
                                    "zip_code": "8876",
                                    "phone": "908-943-6103",
                                    "disabled_address": "0"
                                },
                                {
                                    "address_id": "461",
                                    "customer_id": "436",
                                    "line1": "55713 Lake City Hwy",
                                    "line2": "",
                                    "city": "South Bend",
                                    "state_code": "IN",
                                    "zip_code": "46601",
                                    "phone": "574-405-1983",
                                    "disabled_address": "0"
                                },
                                {
                                    "address_id": "462",
                                    "customer_id": "437",
                                    "line1": "577 Parade St",
                                    "line2": "",
                                    "city": "South San Francisco",
                                    "state_code": "CA",
                                    "zip_code": "94080",
                                    "phone": "650-960-1069",
                                    "disabled_address": "0"
                                },
                                {
                                    "address_id": "463",
                                    "customer_id": "438",
                                    "line1": "5 Green Pond Rd #4",
                                    "line2": "",
                                    "city": "Southampton",
                                    "state_code": "PA",
                                    "zip_code": "18966",
                                    "phone": "215-846-9046",
                                    "disabled_address": "0"
                                },
                                {
                                    "address_id": "464",
                                    "customer_id": "439",
                                    "line1": "57 Haven Ave #90",
                                    "line2": "",
                                    "city": "Southfield",
                                    "state_code": "MI",
                                    "zip_code": "48075",
                                    "phone": "248-793-4966",
                                    "disabled_address": "0"
                                },
                                {
                                    "address_id": "465",
                                    "customer_id": "440",
                                    "line1": "84 Bloomfield Ave",
                                    "line2": "",
                                    "city": "Spartanburg",
                                    "state_code": "SC",
                                    "zip_code": "29301",
                                    "phone": "864-594-4578",
                                    "disabled_address": "0"
                                },
                                {
                                    "address_id": "466",
                                    "customer_id": "441",
                                    "line1": "44 W 4th St",
                                    "line2": "",
                                    "city": "Staten Island",
                                    "state_code": "NY",
                                    "zip_code": "10309",
                                    "phone": "718-654-7063",
                                    "disabled_address": "0"
                                },
                                {
                                    "address_id": "467",
                                    "customer_id": "442",
                                    "line1": "89 20th St E #779",
                                    "line2": "",
                                    "city": "Sterling Heights",
                                    "state_code": "MI",
                                    "zip_code": "48310",
                                    "phone": "586-247-1614",
                                    "disabled_address": "0"
                                },
                                {
                                    "address_id": "468",
                                    "customer_id": "443",
                                    "line1": "1 Central Ave",
                                    "line2": "",
                                    "city": "Stevens Point",
                                    "state_code": "WI",
                                    "zip_code": "54481",
                                    "phone": "715-530-9863",
                                    "disabled_address": "0"
                                },
                                {
                                    "address_id": "469",
                                    "customer_id": "444",
                                    "line1": "3196 S Rider Trl",
                                    "line2": "",
                                    "city": "Stockton",
                                    "state_code": "CA",
                                    "zip_code": "95207",
                                    "phone": "209-242-7022",
                                    "disabled_address": "0"
                                },
                                {
                                    "address_id": "470",
                                    "customer_id": "445",
                                    "line1": "944 Gaither Dr",
                                    "line2": "",
                                    "city": "Strongsville",
                                    "state_code": "OH",
                                    "zip_code": "44136",
                                    "phone": "440-327-2093",
                                    "disabled_address": "0"
                                },
                                {
                                    "address_id": "471",
                                    "customer_id": "446",
                                    "line1": "62 W Austin St",
                                    "line2": "",
                                    "city": "Syosset",
                                    "state_code": "NY",
                                    "zip_code": "11791",
                                    "phone": "516-749-3188",
                                    "disabled_address": "0"
                                },
                                {
                                    "address_id": "472",
                                    "customer_id": "447",
                                    "line1": "422 E 21st St",
                                    "line2": "",
                                    "city": "Syracuse",
                                    "state_code": "NY",
                                    "zip_code": "13214",
                                    "phone": "315-640-6357",
                                    "disabled_address": "0"
                                },
                                {
                                    "address_id": "473",
                                    "customer_id": "448",
                                    "line1": "37 N Elm St #916",
                                    "line2": "",
                                    "city": "Tacoma",
                                    "state_code": "WA",
                                    "zip_code": "98409",
                                    "phone": "253-875-9222",
                                    "disabled_address": "0"
                                },
                                {
                                    "address_id": "474",
                                    "customer_id": "449",
                                    "line1": "8 Fair Lawn Ave",
                                    "line2": "",
                                    "city": "Tampa",
                                    "state_code": "FL",
                                    "zip_code": "33614",
                                    "phone": "813-863-6467",
                                    "disabled_address": "0"
                                },
                                {
                                    "address_id": "475",
                                    "customer_id": "450",
                                    "line1": "3211 E Northeast Loop",
                                    "line2": "",
                                    "city": "Tampa",
                                    "state_code": "FL",
                                    "zip_code": "33619",
                                    "phone": "813-357-7296",
                                    "disabled_address": "0"
                                },
                                {
                                    "address_id": "476",
                                    "customer_id": "451",
                                    "line1": "1 State Route 27",
                                    "line2": "",
                                    "city": "Taylor",
                                    "state_code": "MI",
                                    "zip_code": "48180",
                                    "phone": "313-341-4470",
                                    "disabled_address": "0"
                                },
                                {
                                    "address_id": "477",
                                    "customer_id": "452",
                                    "line1": "5 N Cleveland Massillon Rd",
                                    "line2": "",
                                    "city": "Thousand Oaks",
                                    "state_code": "CA",
                                    "zip_code": "91362",
                                    "phone": "805-638-6617",
                                    "disabled_address": "0"
                                },
                                {
                                    "address_id": "478",
                                    "customer_id": "452",
                                    "line1": "326 E Main St #6496",
                                    "line2": "",
                                    "city": "Thousand Oaks",
                                    "state_code": "CA",
                                    "zip_code": "91362",
                                    "phone": "805-810-8964",
                                    "disabled_address": "0"
                                },
                                {
                                    "address_id": "479",
                                    "customer_id": "453",
                                    "line1": "62 Monroe St",
                                    "line2": "",
                                    "city": "Thousand Palms",
                                    "state_code": "CA",
                                    "zip_code": "92276",
                                    "phone": "760-493-9208",
                                    "disabled_address": "0"
                                },
                                {
                                    "address_id": "480",
                                    "customer_id": "454",
                                    "line1": "3 N Groesbeck Hwy",
                                    "line2": "",
                                    "city": "Toledo",
                                    "state_code": "OH",
                                    "zip_code": "43613",
                                    "phone": "419-313-5571",
                                    "disabled_address": "0"
                                },
                                {
                                    "address_id": "481",
                                    "customer_id": "455",
                                    "line1": "7422 Martin Ave #8",
                                    "line2": "",
                                    "city": "Toledo",
                                    "state_code": "OH",
                                    "zip_code": "43607",
                                    "phone": "419-399-1744",
                                    "disabled_address": "0"
                                },
                                {
                                    "address_id": "482",
                                    "customer_id": "456",
                                    "line1": "6201 S Nevada Ave",
                                    "line2": "",
                                    "city": "Toms River",
                                    "state_code": "NJ",
                                    "zip_code": "8755",
                                    "phone": "732-617-5310",
                                    "disabled_address": "0"
                                },
                                {
                                    "address_id": "483",
                                    "customer_id": "457",
                                    "line1": "7 Flowers Rd #403",
                                    "line2": "",
                                    "city": "Trenton",
                                    "state_code": "NJ",
                                    "zip_code": "8611",
                                    "phone": "609-398-2805",
                                    "disabled_address": "0"
                                },
                                {
                                    "address_id": "484",
                                    "customer_id": "458",
                                    "line1": "99 5th Ave #33",
                                    "line2": "",
                                    "city": "Trion",
                                    "state_code": "GA",
                                    "zip_code": "30753",
                                    "phone": "706-616-5131",
                                    "disabled_address": "0"
                                },
                                {
                                    "address_id": "485",
                                    "customer_id": "459",
                                    "line1": "9 Norristown Rd",
                                    "line2": "",
                                    "city": "Troy",
                                    "state_code": "NY",
                                    "zip_code": "12180",
                                    "phone": "518-931-7852",
                                    "disabled_address": "0"
                                },
                                {
                                    "address_id": "486",
                                    "customer_id": "460",
                                    "line1": "39 S 7th St",
                                    "line2": "",
                                    "city": "Tullahoma",
                                    "state_code": "TN",
                                    "zip_code": "37388",
                                    "phone": "931-303-6041",
                                    "disabled_address": "0"
                                },
                                {
                                    "address_id": "487",
                                    "customer_id": "461",
                                    "line1": "2239 Shawnee Mission Pky",
                                    "line2": "",
                                    "city": "Tullahoma",
                                    "state_code": "TN",
                                    "zip_code": "37388",
                                    "phone": "931-739-1551",
                                    "disabled_address": "0"
                                },
                                {
                                    "address_id": "488",
                                    "customer_id": "462",
                                    "line1": "649 Tulane Ave",
                                    "line2": "",
                                    "city": "Tulsa",
                                    "state_code": "OK",
                                    "zip_code": "74105",
                                    "phone": "918-565-1706",
                                    "disabled_address": "0"
                                },
                                {
                                    "address_id": "489",
                                    "customer_id": "463",
                                    "line1": "4 Stovall St #72",
                                    "line2": "",
                                    "city": "Union City",
                                    "state_code": "NJ",
                                    "zip_code": "7087",
                                    "phone": "201-856-2720",
                                    "disabled_address": "0"
                                },
                                {
                                    "address_id": "490",
                                    "customer_id": "464",
                                    "line1": "6 Sunrise Ave",
                                    "line2": "",
                                    "city": "Utica",
                                    "state_code": "NY",
                                    "zip_code": "13501",
                                    "phone": "315-474-5570",
                                    "disabled_address": "0"
                                },
                                {
                                    "address_id": "491",
                                    "customer_id": "465",
                                    "line1": "22 Bridle Ln",
                                    "line2": "",
                                    "city": "Valley Park",
                                    "state_code": "MO",
                                    "zip_code": "63088",
                                    "phone": "314-231-3514",
                                    "disabled_address": "0"
                                },
                                {
                                    "address_id": "492",
                                    "customer_id": "466",
                                    "line1": "4 Otis St",
                                    "line2": "",
                                    "city": "Van Nuys",
                                    "state_code": "CA",
                                    "zip_code": "91405",
                                    "phone": "818-749-8650",
                                    "disabled_address": "0"
                                },
                                {
                                    "address_id": "493",
                                    "customer_id": "467",
                                    "line1": "8739 Hudson St",
                                    "line2": "",
                                    "city": "Vashon",
                                    "state_code": "WA",
                                    "zip_code": "98070",
                                    "phone": "206-389-1482",
                                    "disabled_address": "0"
                                },
                                {
                                    "address_id": "494",
                                    "customer_id": "468",
                                    "line1": "88 15th Ave Ne",
                                    "line2": "",
                                    "city": "Vestal",
                                    "state_code": "NY",
                                    "zip_code": "13850",
                                    "phone": "607-350-7690",
                                    "disabled_address": "0"
                                },
                                {
                                    "address_id": "495",
                                    "customer_id": "469",
                                    "line1": "840 15th Ave",
                                    "line2": "",
                                    "city": "Waco",
                                    "state_code": "TX",
                                    "zip_code": "76708",
                                    "phone": "254-205-1422",
                                    "disabled_address": "0"
                                },
                                {
                                    "address_id": "496",
                                    "customer_id": "470",
                                    "line1": "8927 Vandever Ave",
                                    "line2": "",
                                    "city": "Waco",
                                    "state_code": "TX",
                                    "zip_code": "76707",
                                    "phone": "254-816-8417",
                                    "disabled_address": "0"
                                },
                                {
                                    "address_id": "497",
                                    "customer_id": "471",
                                    "line1": "96263 Greenwood Pl",
                                    "line2": "",
                                    "city": "Warren",
                                    "state_code": "ME",
                                    "zip_code": "4864",
                                    "phone": "207-297-5029",
                                    "disabled_address": "0"
                                },
                                {
                                    "address_id": "498",
                                    "customer_id": "472",
                                    "line1": "9 Front St",
                                    "line2": "",
                                    "city": "Washington",
                                    "state_code": "DC",
                                    "zip_code": "20001",
                                    "phone": "202-276-6826",
                                    "disabled_address": "0"
                                },
                                {
                                    "address_id": "499",
                                    "customer_id": "473",
                                    "line1": "40 9th Ave Sw #91",
                                    "line2": "",
                                    "city": "Waterford",
                                    "state_code": "MI",
                                    "zip_code": "48329",
                                    "phone": "248-697-7722",
                                    "disabled_address": "0"
                                },
                                {
                                    "address_id": "500",
                                    "customer_id": "474",
                                    "line1": "71 San Mateo Ave",
                                    "line2": "",
                                    "city": "Wayne",
                                    "state_code": "PA",
                                    "zip_code": "19087",
                                    "phone": "610-379-7125",
                                    "disabled_address": "0"
                                },
                                {
                                    "address_id": "501",
                                    "customer_id": "475",
                                    "line1": "74989 Brandon St",
                                    "line2": "",
                                    "city": "Wellsville",
                                    "state_code": "NY",
                                    "zip_code": "14895",
                                    "phone": "585-498-4278",
                                    "disabled_address": "0"
                                },
                                {
                                    "address_id": "502",
                                    "customer_id": "476",
                                    "line1": "1 Midway Rd",
                                    "line2": "",
                                    "city": "Westborough",
                                    "state_code": "MA",
                                    "zip_code": "1581",
                                    "phone": "508-504-6388",
                                    "disabled_address": "0"
                                },
                                {
                                    "address_id": "503",
                                    "customer_id": "477",
                                    "line1": "4545 Courthouse Rd",
                                    "line2": "",
                                    "city": "Westbury",
                                    "state_code": "NY",
                                    "zip_code": "11590",
                                    "phone": "516-333-4861",
                                    "disabled_address": "0"
                                },
                                {
                                    "address_id": "504",
                                    "customer_id": "478",
                                    "line1": "44 58th St",
                                    "line2": "",
                                    "city": "Wheeling",
                                    "state_code": "IL",
                                    "zip_code": "60090",
                                    "phone": "847-800-3054",
                                    "disabled_address": "0"
                                },
                                {
                                    "address_id": "505",
                                    "customer_id": "479",
                                    "line1": "65 Mountain View Dr",
                                    "line2": "",
                                    "city": "Whippany",
                                    "state_code": "NJ",
                                    "zip_code": "7981",
                                    "phone": "973-662-8988",
                                    "disabled_address": "0"
                                },
                                {
                                    "address_id": "506",
                                    "customer_id": "480",
                                    "line1": "6535 Joyce St",
                                    "line2": "",
                                    "city": "Wichita Falls",
                                    "state_code": "TX",
                                    "zip_code": "76301",
                                    "phone": "940-302-3036",
                                    "disabled_address": "0"
                                },
                                {
                                    "address_id": "507",
                                    "customer_id": "481",
                                    "line1": "5 Little River Tpke",
                                    "line2": "",
                                    "city": "Wilmington",
                                    "state_code": "MA",
                                    "zip_code": "1887",
                                    "phone": "978-679-7429",
                                    "disabled_address": "0"
                                },
                                {
                                    "address_id": "508",
                                    "customer_id": "482",
                                    "line1": "3 Aspen St",
                                    "line2": "",
                                    "city": "Worcester",
                                    "state_code": "MA",
                                    "zip_code": "1602",
                                    "phone": "508-843-1426",
                                    "disabled_address": "0"
                                },
                                {
                                    "address_id": "509",
                                    "customer_id": "482",
                                    "line1": "57254 Brickell Ave #372",
                                    "line2": "",
                                    "city": "Worcester",
                                    "state_code": "MA",
                                    "zip_code": "1602",
                                    "phone": "508-502-5634",
                                    "disabled_address": "0"
                                },
                                {
                                    "address_id": "510",
                                    "customer_id": "483",
                                    "line1": "2094 Ne 36th Ave",
                                    "line2": "",
                                    "city": "Worcester",
                                    "state_code": "MA",
                                    "zip_code": "1603",
                                    "phone": "508-658-7802",
                                    "disabled_address": "0"
                                },
                                {
                                    "address_id": "511",
                                    "customer_id": "484",
                                    "line1": "7667 S Hulen St #42",
                                    "line2": "",
                                    "city": "Yonkers",
                                    "state_code": "NY",
                                    "zip_code": "10701",
                                    "phone": "914-654-1426",
                                    "disabled_address": "0"
                                },
                                {
                                    "address_id": "512",
                                    "customer_id": "485",
                                    "line1": "8573 Lincoln Blvd",
                                    "line2": "",
                                    "city": "York",
                                    "state_code": "PA",
                                    "zip_code": "17404",
                                    "phone": "717-344-2804",
                                    "disabled_address": "0"
                                }
                            ]
                        },
                        "text/html": [
                            "<table>",
                            "<tr><th>address_id</th><th>customer_id</th><th>line1</th><th>line2</th><th>city</th><th>state_code</th><th>zip_code</th><th>phone</th><th>disabled_address</th></tr>",
                            "<tr><td>1</td><td>1</td><td>100 East Ridgewood Ave.</td><td></td><td>Paramus</td><td>NJ</td><td>07652</td><td>201-653-4472</td><td>0</td></tr>",
                            "<tr><td>2</td><td>1</td><td>21 Rosewood Rd.</td><td></td><td>Woodcliff Lake</td><td>NJ</td><td>07677</td><td>201-653-4472</td><td>0</td></tr>",
                            "<tr><td>3</td><td>2</td><td>16285 Wendell St.</td><td></td><td>Omaha</td><td>NE</td><td>68135</td><td>402-896-2576</td><td>0</td></tr>",
                            "<tr><td>4</td><td>3</td><td>19270 NW Cornell Rd.</td><td></td><td>Beaverton</td><td>OR</td><td>97006</td><td>503-654-1291</td><td>0</td></tr>",
                            "<tr><td>5</td><td>4</td><td>186 Vermont St.</td><td>Apt. 2</td><td>San Francisco</td><td>CA</td><td>94110</td><td>415-292-6651</td><td>0</td></tr>",
                            "<tr><td>6</td><td>4</td><td>1374 46th Ave.</td><td></td><td>San Francisco</td><td>CA</td><td>94129</td><td>415-292-6651</td><td>0</td></tr>",
                            "<tr><td>7</td><td>5</td><td>6982 Palm Ave.</td><td></td><td>Fresno</td><td>CA</td><td>93711</td><td>559-431-2398</td><td>0</td></tr>",
                            "<tr><td>8</td><td>6</td><td>23 Mountain View St.</td><td></td><td>Denver</td><td>CO</td><td>80208</td><td>303-912-3852</td><td>0</td></tr>",
                            "<tr><td>9</td><td>7</td><td>7361 N. 41st St.</td><td>Apt. B</td><td>New York</td><td>NY</td><td>10012</td><td>212-335-2093</td><td>0</td></tr>",
                            "<tr><td>10</td><td>7</td><td>3829 Broadway Ave.</td><td>Suite 2</td><td>New York</td><td>NY</td><td>10012</td><td>212-239-1208</td><td>0</td></tr>",
                            "<tr><td>11</td><td>8</td><td>2381 Buena Vista St.</td><td></td><td>Los Angeles</td><td>CA</td><td>90023</td><td>213-772-5033</td><td>0</td></tr>",
                            "<tr><td>12</td><td>8</td><td>291 W. Hollywood Blvd.</td><td></td><td>Los Angeles</td><td>CA</td><td>90024</td><td>213-391-2938</td><td>0</td></tr>",
                            "<tr><td>13</td><td>9</td><td>96950 Hidden Ln</td><td></td><td>Aberdeen</td><td>MD</td><td>21001</td><td>410-259-2118</td><td>0</td></tr>",
                            "<tr><td>14</td><td>10</td><td>6980 Dorsett Rd</td><td></td><td>Abilene</td><td>KS</td><td>67410</td><td>785-219-7724</td><td>0</td></tr>",
                            "<tr><td>15</td><td>11</td><td>33 State St</td><td></td><td>Abilene</td><td>TX</td><td>79601</td><td>325-667-7868</td><td>0</td></tr>",
                            "<tr><td>16</td><td>11</td><td>5 E Truman Rd</td><td></td><td>Abilene</td><td>TX</td><td>79602</td><td>325-740-3778</td><td>0</td></tr>",
                            "<tr><td>17</td><td>12</td><td>8284 Hart St</td><td></td><td>Abilene</td><td>KS</td><td>67410</td><td>785-253-7049</td><td>0</td></tr>",
                            "<tr><td>18</td><td>13</td><td>9387 Charcot Ave</td><td></td><td>Absecon</td><td>NJ</td><td>8201</td><td>609-234-8376</td><td>0</td></tr>",
                            "<tr><td>19</td><td>14</td><td>3777 E Richmond St #900</td><td></td><td>Akron</td><td>OH</td><td>44302</td><td>330-700-2312</td><td>0</td></tr>",
                            "<tr><td>20</td><td>15</td><td>74 S Westgate St</td><td></td><td>Albany</td><td>NY</td><td>12204</td><td>518-448-8982</td><td>0</td></tr>",
                            "<tr><td>21</td><td>15</td><td>9390 S Howell Ave</td><td></td><td>Albany</td><td>GA</td><td>31701</td><td>229-365-9658</td><td>0</td></tr>",
                            "<tr><td>22</td><td>16</td><td>89992 E 15th St</td><td></td><td>Alliance</td><td>NE</td><td>69301</td><td>308-250-6987</td><td>0</td></tr>",
                            "<tr><td>23</td><td>17</td><td>812 S Haven St</td><td></td><td>Amarillo</td><td>TX</td><td>79109</td><td>806-558-5848</td><td>0</td></tr>",
                            "<tr><td>24</td><td>18</td><td>72119 S Walker Ave #63</td><td></td><td>Anaheim</td><td>CA</td><td>92801</td><td>714-663-9740</td><td>0</td></tr>",
                            "<tr><td>25</td><td>19</td><td>639 Main St</td><td></td><td>Anchorage</td><td>AK</td><td>99501</td><td>907-921-2010</td><td>0</td></tr>",
                            "<tr><td>26</td><td>19</td><td>18 Fountain St</td><td></td><td>Anchorage</td><td>AK</td><td>99515</td><td>907-873-2882</td><td>0</td></tr>",
                            "<tr><td>27</td><td>20</td><td>1747 Calle Amanecer #2</td><td></td><td>Anchorage</td><td>AK</td><td>99501</td><td>907-914-9482</td><td>0</td></tr>",
                            "<tr><td>28</td><td>21</td><td>735 Crawford Dr</td><td></td><td>Anchorage</td><td>AK</td><td>99501</td><td>907-770-3542</td><td>0</td></tr>",
                            "<tr><td>29</td><td>22</td><td>560 Civic Center Dr</td><td></td><td>Ann Arbor</td><td>MI</td><td>48103</td><td>734-408-8174</td><td>0</td></tr>",
                            "<tr><td>30</td><td>23</td><td>747 Leonis Blvd</td><td></td><td>Annandale</td><td>VA</td><td>22003</td><td>703-874-4248</td><td>0</td></tr>",
                            "<tr><td>31</td><td>24</td><td>70099 E North Ave</td><td></td><td>Arlington</td><td>TX</td><td>76013</td><td>817-947-9480</td><td>0</td></tr>",
                            "<tr><td>32</td><td>25</td><td>73 W Barstow Ave</td><td></td><td>Arlington Heights</td><td>IL</td><td>60004</td><td>847-613-5866</td><td>0</td></tr>",
                            "<tr><td>33</td><td>26</td><td>3 Mcauley Dr</td><td></td><td>Ashland</td><td>OH</td><td>44805</td><td>419-800-6759</td><td>0</td></tr>",
                            "<tr><td>34</td><td>27</td><td>6 S 33rd St</td><td></td><td>Aston</td><td>PA</td><td>19014</td><td>610-492-4643</td><td>0</td></tr>",
                            "<tr><td>35</td><td>28</td><td>92 Broadway</td><td></td><td>Astoria</td><td>NY</td><td>11103</td><td>718-728-5051</td><td>0</td></tr>",
                            "<tr><td>36</td><td>29</td><td>45 2nd Ave #9759</td><td></td><td>Atlanta</td><td>GA</td><td>30328</td><td>770-531-2842</td><td>0</td></tr>",
                            "<tr><td>37</td><td>29</td><td>26 Montgomery St</td><td></td><td>Atlanta</td><td>GA</td><td>30328</td><td>770-930-9967</td><td>0</td></tr>",
                            "<tr><td>38</td><td>30</td><td>187 Market St</td><td></td><td>Atlanta</td><td>GA</td><td>30342</td><td>404-607-8435</td><td>0</td></tr>",
                            "<tr><td>39</td><td>31</td><td>82 Winsor St #54</td><td></td><td>Atlanta</td><td>GA</td><td>30340</td><td>770-584-4119</td><td>0</td></tr>",
                            "<tr><td>40</td><td>32</td><td>92 Main St</td><td></td><td>Atlantic City</td><td>NJ</td><td>8401</td><td>609-263-9243</td><td>0</td></tr>",
                            "<tr><td>41</td><td>32</td><td>506 S Hacienda Dr</td><td></td><td>Atlantic City</td><td>NJ</td><td>8401</td><td>609-854-7156</td><td>0</td></tr>",
                            "<tr><td>42</td><td>33</td><td>59 N Groesbeck Hwy</td><td></td><td>Austin</td><td>TX</td><td>78731</td><td>512-861-3814</td><td>0</td></tr>",
                            "<tr><td>43</td><td>33</td><td>2026 N Plankinton Ave #3</td><td></td><td>Austin</td><td>TX</td><td>78754</td><td>512-693-8345</td><td>0</td></tr>",
                            "<tr><td>44</td><td>34</td><td>3125 Packer Ave #9851</td><td></td><td>Austin</td><td>TX</td><td>78753</td><td>512-742-1149</td><td>0</td></tr>",
                            "<tr><td>45</td><td>35</td><td>228 Runamuck Pl #2808</td><td></td><td>Baltimore</td><td>MD</td><td>21224</td><td>410-804-4694</td><td>0</td></tr>",
                            "<tr><td>46</td><td>36</td><td>6 Kains Ave</td><td></td><td>Baltimore</td><td>MD</td><td>21215</td><td>410-957-6903</td><td>0</td></tr>",
                            "<tr><td>47</td><td>37</td><td>2 S Biscayne Blvd</td><td></td><td>Baltimore</td><td>MD</td><td>21230</td><td>410-773-3862</td><td>0</td></tr>",
                            "<tr><td>48</td><td>38</td><td>4 Iwaena St</td><td></td><td>Baltimore</td><td>MD</td><td>21202</td><td>410-429-4888</td><td>0</td></tr>",
                            "<tr><td>49</td><td>39</td><td>2 W Scyene Rd #3</td><td></td><td>Baltimore</td><td>MD</td><td>21217</td><td>410-522-7621</td><td>0</td></tr>",
                            "<tr><td>50</td><td>40</td><td>37855 Nolan Rd</td><td></td><td>Bangor</td><td>ME</td><td>4401</td><td>207-233-6185</td><td>0</td></tr>",
                            "<tr><td>51</td><td>40</td><td>34 Saint George Ave #2</td><td></td><td>Bangor</td><td>ME</td><td>4401</td><td>207-748-3722</td><td>0</td></tr>",
                            "<tr><td>52</td><td>41</td><td>95 Main Ave #2</td><td></td><td>Barberton</td><td>OH</td><td>44203</td><td>330-566-8898</td><td>0</td></tr>",
                            "<tr><td>53</td><td>42</td><td>70 W Main St</td><td></td><td>Beachwood</td><td>OH</td><td>44122</td><td>216-733-8494</td><td>0</td></tr>",
                            "<tr><td>54</td><td>43</td><td>3 Elmwood Dr</td><td></td><td>Beaverton</td><td>OR</td><td>97005</td><td>503-707-5812</td><td>0</td></tr>",
                            "<tr><td>55</td><td>44</td><td>34 Raritan Center Pky</td><td></td><td>Bellflower</td><td>CA</td><td>90706</td><td>562-719-7922</td><td>0</td></tr>",
                            "<tr><td>56</td><td>45</td><td>64 Lakeview Ave</td><td></td><td>Beloit</td><td>WI</td><td>53511</td><td>608-942-8836</td><td>0</td></tr>",
                            "<tr><td>57</td><td>46</td><td>2887 Knowlton St #5435</td><td></td><td>Berkeley</td><td>CA</td><td>94710</td><td>510-942-5916</td><td>0</td></tr>",
                            "<tr><td>58</td><td>47</td><td>429 Tiger Ln</td><td></td><td>Beverly Hills</td><td>CA</td><td>90212</td><td>310-969-7230</td><td>0</td></tr>",
                            "<tr><td>59</td><td>47</td><td>598 43rd St</td><td></td><td>Beverly Hills</td><td>CA</td><td>90210</td><td>310-652-2379</td><td>0</td></tr>",
                            "<tr><td>60</td><td>48</td><td>5 Elmwood Park Blvd</td><td></td><td>Biloxi</td><td>MS</td><td>39530</td><td>228-432-4635</td><td>0</td></tr>",
                            "<tr><td>61</td><td>49</td><td>9506 Edgemore Ave</td><td></td><td>Bladensburg</td><td>MD</td><td>20710</td><td>301-591-3034</td><td>0</td></tr>",
                            "<tr><td>62</td><td>50</td><td>539 Coldwater Canyon Ave</td><td></td><td>Bloomfield</td><td>NJ</td><td>7003</td><td>973-473-5108</td><td>0</td></tr>",
                            "<tr><td>63</td><td>51</td><td>772 W River Dr</td><td></td><td>Bloomington</td><td>IN</td><td>47404</td><td>812-442-8544</td><td>0</td></tr>",
                            "<tr><td>64</td><td>52</td><td>70 Euclid Ave #722</td><td></td><td>Bohemia</td><td>NY</td><td>11716</td><td>631-291-4976</td><td>0</td></tr>",
                            "<tr><td>65</td><td>53</td><td>74 W College St</td><td></td><td>Boise</td><td>ID</td><td>83707</td><td>208-737-8439</td><td>0</td></tr>",
                            "<tr><td>66</td><td>53</td><td>9635 S Main St</td><td></td><td>Boise</td><td>ID</td><td>83704</td><td>208-690-3315</td><td>0</td></tr>",
                            "<tr><td>67</td><td>54</td><td>67 Rv Cent</td><td></td><td>Boise</td><td>ID</td><td>83709</td><td>208-206-9848</td><td>0</td></tr>",
                            "<tr><td>68</td><td>55</td><td>38938 Park Blvd</td><td></td><td>Boston</td><td>MA</td><td>2128</td><td>617-997-5771</td><td>0</td></tr>",
                            "<tr><td>69</td><td>55</td><td>8 County Center Dr #647</td><td></td><td>Boston</td><td>MA</td><td>2210</td><td>617-697-6024</td><td>0</td></tr>",
                            "<tr><td>70</td><td>56</td><td>5 S Colorado Blvd #449</td><td></td><td>Bothell</td><td>WA</td><td>98021</td><td>425-700-3751</td><td>0</td></tr>",
                            "<tr><td>71</td><td>57</td><td>4 Webbs Chapel Rd</td><td></td><td>Boulder</td><td>CO</td><td>80303</td><td>303-521-9860</td><td>0</td></tr>",
                            "<tr><td>72</td><td>58</td><td>8590 Lake Lizzie Dr</td><td></td><td>Bowling Green</td><td>OH</td><td>43402</td><td>419-417-4674</td><td>0</td></tr>",
                            "<tr><td>73</td><td>59</td><td>70295 Pioneer Ct</td><td></td><td>Brandon</td><td>FL</td><td>33511</td><td>813-744-7100</td><td>0</td></tr>",
                            "<tr><td>74</td><td>60</td><td>8 W Cerritos Ave #54</td><td></td><td>Bridgeport</td><td>NJ</td><td>8014</td><td>856-264-4130</td><td>0</td></tr>",
                            "<tr><td>75</td><td>61</td><td>46314 Route 130</td><td></td><td>Bridgeport</td><td>CT</td><td>6610</td><td>203-918-3939</td><td>0</td></tr>",
                            "<tr><td>76</td><td>62</td><td>50 E Wacker Dr</td><td></td><td>Bridgewater</td><td>NJ</td><td>8807</td><td>908-602-5258</td><td>0</td></tr>",
                            "<tr><td>77</td><td>63</td><td>3732 Sherman Ave</td><td></td><td>Bridgewater</td><td>NJ</td><td>8807</td><td>908-670-4712</td><td>0</td></tr>",
                            "<tr><td>78</td><td>64</td><td>4 B Blue Ridge Blvd</td><td></td><td>Brighton</td><td>MI</td><td>48116</td><td>810-374-9840</td><td>0</td></tr>",
                            "<tr><td>79</td><td>65</td><td>6 Gilson St</td><td></td><td>Bronx</td><td>NY</td><td>10468</td><td>718-478-8568</td><td>0</td></tr>",
                            "<tr><td>80</td><td>66</td><td>617 Nw 36th Ave</td><td></td><td>Brook Park</td><td>OH</td><td>44142</td><td>216-871-6876</td><td>0</td></tr>",
                            "<tr><td>81</td><td>67</td><td>25657 Live Oak St</td><td></td><td>Brooklyn</td><td>NY</td><td>11226</td><td>718-280-4183</td><td>0</td></tr>",
                            "<tr><td>82</td><td>68</td><td>4 Kohler Memorial Dr</td><td></td><td>Brooklyn</td><td>NY</td><td>11230</td><td>718-732-9475</td><td>0</td></tr>",
                            "<tr><td>83</td><td>68</td><td>64 Newman Springs Rd E</td><td></td><td>Brooklyn</td><td>NY</td><td>11219</td><td>718-853-3740</td><td>0</td></tr>",
                            "<tr><td>84</td><td>69</td><td>61047 Mayfield Ave</td><td></td><td>Brooklyn</td><td>NY</td><td>11223</td><td>718-394-4974</td><td>0</td></tr>",
                            "<tr><td>85</td><td>70</td><td>49 N Mays St</td><td></td><td>Broussard</td><td>LA</td><td>70518</td><td>337-991-8070</td><td>0</td></tr>",
                            "<tr><td>86</td><td>71</td><td>8116 Mount Vernon Ave</td><td></td><td>Bucyrus</td><td>OH</td><td>44820</td><td>419-488-6648</td><td>0</td></tr>",
                            "<tr><td>87</td><td>72</td><td>42754 S Ash Ave</td><td></td><td>Buffalo</td><td>NY</td><td>14228</td><td>716-854-9845</td><td>0</td></tr>",
                            "<tr><td>88</td><td>73</td><td>4800 Black Horse Pike</td><td></td><td>Burlingame</td><td>CA</td><td>94010</td><td>650-216-5075</td><td>0</td></tr>",
                            "<tr><td>89</td><td>74</td><td>33 Lewis Rd #46</td><td></td><td>Burlington</td><td>NC</td><td>27215</td><td>336-467-3095</td><td>0</td></tr>",
                            "<tr><td>90</td><td>75</td><td>9 Tower Ave</td><td></td><td>Burlington</td><td>KY</td><td>41005</td><td>859-308-4286</td><td>0</td></tr>",
                            "<tr><td>91</td><td>76</td><td>170 Wyoming Ave</td><td></td><td>Burnsville</td><td>MN</td><td>55337</td><td>952-938-9457</td><td>0</td></tr>",
                            "<tr><td>92</td><td>77</td><td>7061 N 2nd St</td><td></td><td>Burnsville</td><td>MN</td><td>55337</td><td>952-314-5871</td><td>0</td></tr>",
                            "<tr><td>93</td><td>78</td><td>3829 Ventura Blvd</td><td></td><td>Butte</td><td>MT</td><td>59701</td><td>406-374-7752</td><td>0</td></tr>",
                            "<tr><td>94</td><td>79</td><td>17 Morena Blvd</td><td></td><td>Camarillo</td><td>CA</td><td>93012</td><td>805-609-1531</td><td>0</td></tr>",
                            "<tr><td>95</td><td>80</td><td>25 Se 176th Pl</td><td></td><td>Cambridge</td><td>MA</td><td>2138</td><td>617-544-2541</td><td>0</td></tr>",
                            "<tr><td>96</td><td>81</td><td>1 Garfield Ave #7</td><td></td><td>Canton</td><td>OH</td><td>44707</td><td>330-618-2579</td><td>0</td></tr>",
                            "<tr><td>97</td><td>82</td><td>94 W Dodge Rd</td><td></td><td>Carson City</td><td>NV</td><td>89701</td><td>775-578-1214</td><td>0</td></tr>",
                            "<tr><td>98</td><td>83</td><td>13252 Lighthouse Ave</td><td></td><td>Cathedral City</td><td>CA</td><td>92234</td><td>760-745-2649</td><td>0</td></tr>",
                            "<tr><td>99</td><td>84</td><td>6 S Broadway St</td><td></td><td>Cedar Grove</td><td>NJ</td><td>7009</td><td>973-582-5469</td><td>0</td></tr>",
                            "<tr><td>100</td><td>85</td><td>98 Connecticut Ave Nw</td><td></td><td>Chagrin Falls</td><td>OH</td><td>44023</td><td>440-579-7763</td><td>0</td></tr>",
                            "<tr><td>101</td><td>86</td><td>1088 Pinehurst St</td><td></td><td>Chapel Hill</td><td>NC</td><td>27514</td><td>919-715-3791</td><td>0</td></tr>",
                            "<tr><td>102</td><td>87</td><td>501 N 19th Ave</td><td></td><td>Cherry Hill</td><td>NJ</td><td>8002</td><td>856-702-3676</td><td>0</td></tr>",
                            "<tr><td>103</td><td>87</td><td>43496 Commercial Dr #29</td><td></td><td>Cherry Hill</td><td>NJ</td><td>8003</td><td>856-513-7024</td><td>0</td></tr>",
                            "<tr><td>104</td><td>88</td><td>38773 Gravois Ave</td><td></td><td>Cheyenne</td><td>WY</td><td>82001</td><td>307-816-7115</td><td>0</td></tr>",
                            "<tr><td>105</td><td>89</td><td>7 Eads St</td><td></td><td>Chicago</td><td>IL</td><td>60632</td><td>773-924-8565</td><td>0</td></tr>",
                            "<tr><td>106</td><td>90</td><td>4284 Dorigo Ln</td><td></td><td>Chicago</td><td>IL</td><td>60647</td><td>773-352-3437</td><td>0</td></tr>",
                            "<tr><td>107</td><td>91</td><td>4 Warehouse Point Rd #7</td><td></td><td>Chicago</td><td>IL</td><td>60638</td><td>773-539-1058</td><td>0</td></tr>",
                            "<tr><td>108</td><td>92</td><td>137 Pioneer Way</td><td></td><td>Chicago</td><td>IL</td><td>60604</td><td>312-512-2338</td><td>0</td></tr>",
                            "<tr><td>109</td><td>93</td><td>9 Murfreesboro Rd</td><td></td><td>Chicago</td><td>IL</td><td>60623</td><td>773-297-9391</td><td>0</td></tr>",
                            "<tr><td>110</td><td>94</td><td>45 E Acacia Ct</td><td></td><td>Chicago</td><td>IL</td><td>60624</td><td>773-359-6109</td><td>0</td></tr>",
                            "<tr><td>111</td><td>95</td><td>72 Beechwood Ter</td><td></td><td>Chicago</td><td>IL</td><td>60657</td><td>773-857-2231</td><td>0</td></tr>",
                            "<tr><td>112</td><td>96</td><td>72 Mannix Dr</td><td></td><td>Cincinnati</td><td>OH</td><td>45203</td><td>513-418-1566</td><td>0</td></tr>",
                            "<tr><td>113</td><td>97</td><td>868 State St #38</td><td></td><td>Cincinnati</td><td>OH</td><td>45251</td><td>513-747-9603</td><td>0</td></tr>",
                            "<tr><td>114</td><td>98</td><td>7 Tarrytown Rd</td><td></td><td>Cincinnati</td><td>OH</td><td>45217</td><td>513-863-9471</td><td>0</td></tr>",
                            "<tr><td>115</td><td>99</td><td>83 County Road 437 #8581</td><td></td><td>Clarks Summit</td><td>PA</td><td>18411</td><td>570-469-8401</td><td>0</td></tr>",
                            "<tr><td>116</td><td>100</td><td>2845 Boulder Crescent St</td><td></td><td>Cleveland</td><td>OH</td><td>44103</td><td>216-270-9653</td><td>0</td></tr>",
                            "<tr><td>117</td><td>101</td><td>80 Pittsford Victor Rd #9</td><td></td><td>Cleveland</td><td>OH</td><td>44103</td><td>216-937-5320</td><td>0</td></tr>",
                            "<tr><td>118</td><td>102</td><td>82 Us Highway 46</td><td></td><td>Clifton</td><td>NJ</td><td>7011</td><td>973-644-2974</td><td>0</td></tr>",
                            "<tr><td>119</td><td>103</td><td>47857 Coney Island Ave</td><td></td><td>Clinton</td><td>MD</td><td>20735</td><td>301-392-6698</td><td>0</td></tr>",
                            "<tr><td>120</td><td>104</td><td>31 Douglas Blvd #950</td><td></td><td>Clovis</td><td>NM</td><td>88101</td><td>505-950-1763</td><td>0</td></tr>",
                            "<tr><td>121</td><td>105</td><td>383 Gunderman Rd #197</td><td></td><td>Coatesville</td><td>PA</td><td>19320</td><td>610-752-2683</td><td>0</td></tr>",
                            "<tr><td>122</td><td>106</td><td>8597 W National Ave</td><td></td><td>Cocoa</td><td>FL</td><td>32922</td><td>321-632-4668</td><td>0</td></tr>",
                            "<tr><td>123</td><td>107</td><td>9 Vanowen St</td><td></td><td>College Station</td><td>TX</td><td>77840</td><td>979-809-5770</td><td>0</td></tr>",
                            "<tr><td>124</td><td>108</td><td>8 Us Highway 22</td><td></td><td>Colorado Springs</td><td>CO</td><td>80937</td><td>719-547-9543</td><td>0</td></tr>",
                            "<tr><td>125</td><td>109</td><td>721 Interstate 45 S</td><td></td><td>Colorado Springs</td><td>CO</td><td>80919</td><td>719-223-2074</td><td>0</td></tr>",
                            "<tr><td>126</td><td>110</td><td>98839 Hawthorne Blvd #6101</td><td></td><td>Columbia</td><td>SC</td><td>29201</td><td>803-681-3678</td><td>0</td></tr>",
                            "<tr><td>127</td><td>111</td><td>6882 Torresdale Ave</td><td></td><td>Columbia</td><td>SC</td><td>29201</td><td>803-975-3405</td><td>0</td></tr>",
                            "<tr><td>128</td><td>112</td><td>74874 Atlantic Ave</td><td></td><td>Columbus</td><td>OH</td><td>43215</td><td>614-648-3265</td><td>0</td></tr>",
                            "<tr><td>129</td><td>113</td><td>20932 Hedley St</td><td></td><td>Concord</td><td>CA</td><td>94520</td><td>925-522-7798</td><td>0</td></tr>",
                            "<tr><td>130</td><td>114</td><td>523 Marquette Ave</td><td></td><td>Concord</td><td>MA</td><td>1742</td><td>978-289-7717</td><td>0</td></tr>",
                            "<tr><td>131</td><td>115</td><td>386 9th Ave N</td><td></td><td>Conroe</td><td>TX</td><td>77301</td><td>936-597-3614</td><td>0</td></tr>",
                            "<tr><td>132</td><td>116</td><td>77132 Coon Rapids Blvd Nw</td><td></td><td>Conroe</td><td>TX</td><td>77301</td><td>936-988-8171</td><td>0</td></tr>",
                            "<tr><td>133</td><td>117</td><td>80312 W 32nd St</td><td></td><td>Conroe</td><td>TX</td><td>77301</td><td>936-937-2334</td><td>0</td></tr>",
                            "<tr><td>134</td><td>118</td><td>8728 S Broad St</td><td></td><td>Coram</td><td>NY</td><td>11727</td><td>631-288-2866</td><td>0</td></tr>",
                            "<tr><td>135</td><td>119</td><td>26659 N 13th St</td><td></td><td>Costa Mesa</td><td>CA</td><td>92626</td><td>949-903-3898</td><td>0</td></tr>",
                            "<tr><td>136</td><td>120</td><td>189 Village Park Rd</td><td></td><td>Crestview</td><td>FL</td><td>32536</td><td>850-330-8079</td><td>0</td></tr>",
                            "<tr><td>137</td><td>121</td><td>177 S Rider Trl #52</td><td></td><td>Crystal River</td><td>FL</td><td>34429</td><td>352-947-6152</td><td>0</td></tr>",
                            "<tr><td>138</td><td>122</td><td>627 Walford Ave</td><td></td><td>Dallas</td><td>TX</td><td>75227</td><td>214-225-5850</td><td>0</td></tr>",
                            "<tr><td>139</td><td>123</td><td>99586 Main St</td><td></td><td>Dallas</td><td>TX</td><td>75207</td><td>214-529-1949</td><td>0</td></tr>",
                            "<tr><td>140</td><td>124</td><td>75684 S Withlapopka Dr #32</td><td></td><td>Dallas</td><td>TX</td><td>75227</td><td>214-785-6750</td><td>0</td></tr>",
                            "<tr><td>141</td><td>125</td><td>8 S Haven St</td><td></td><td>Daytona Beach</td><td>FL</td><td>32114</td><td>386-208-6976</td><td>0</td></tr>",
                            "<tr><td>142</td><td>126</td><td>7116 Western Ave</td><td></td><td>Dearborn</td><td>MI</td><td>48126</td><td>313-390-7855</td><td>0</td></tr>",
                            "<tr><td>143</td><td>127</td><td>3270 Dequindre Rd</td><td></td><td>Deer Park</td><td>NY</td><td>11729</td><td>631-295-9879</td><td>0</td></tr>",
                            "<tr><td>144</td><td>128</td><td>866 34th Ave</td><td></td><td>Denver</td><td>CO</td><td>80231</td><td>303-692-3118</td><td>0</td></tr>",
                            "<tr><td>145</td><td>129</td><td>669 Packerland Dr #1438</td><td></td><td>Denver</td><td>CO</td><td>80212</td><td>303-794-1341</td><td>0</td></tr>",
                            "<tr><td>146</td><td>130</td><td>7563 Cornwall Rd #4462</td><td></td><td>Denver</td><td>PA</td><td>17517</td><td>717-583-1497</td><td>0</td></tr>",
                            "<tr><td>147</td><td>131</td><td>76598 Rd  I 95 #1</td><td></td><td>Denver</td><td>CO</td><td>80216</td><td>303-845-5408</td><td>0</td></tr>",
                            "<tr><td>148</td><td>132</td><td>78 Maryland Dr #146</td><td></td><td>Denville</td><td>NJ</td><td>7834</td><td>973-491-8723</td><td>0</td></tr>",
                            "<tr><td>149</td><td>133</td><td>29 Cherry St #7073</td><td></td><td>Des Moines</td><td>IA</td><td>50315</td><td>515-372-1738</td><td>0</td></tr>",
                            "<tr><td>150</td><td>134</td><td>5384 Southwyck Blvd</td><td></td><td>Douglasville</td><td>GA</td><td>30135</td><td>770-802-4003</td><td>0</td></tr>",
                            "<tr><td>151</td><td>135</td><td>4 Ralph Ct</td><td></td><td>Dunellen</td><td>NJ</td><td>8812</td><td>732-782-6701</td><td>0</td></tr>",
                            "<tr><td>152</td><td>136</td><td>2167 Sierra Rd</td><td></td><td>East Lansing</td><td>MI</td><td>48823</td><td>517-867-8077</td><td>0</td></tr>",
                            "<tr><td>153</td><td>137</td><td>2 Cedar Ave #84</td><td></td><td>Easton</td><td>MD</td><td>21601</td><td>410-235-8738</td><td>0</td></tr>",
                            "<tr><td>154</td><td>138</td><td>9 N 14th St</td><td></td><td>El Cajon</td><td>CA</td><td>92020</td><td>619-695-8086</td><td>0</td></tr>",
                            "<tr><td>155</td><td>139</td><td>395 S 6th St #2</td><td></td><td>El Cajon</td><td>CA</td><td>92020</td><td>619-935-6661</td><td>0</td></tr>",
                            "<tr><td>156</td><td>140</td><td>87 Sierra Rd</td><td></td><td>El Monte</td><td>CA</td><td>91731</td><td>626-638-4241</td><td>0</td></tr>",
                            "<tr><td>157</td><td>141</td><td>92899 Kalakaua Ave</td><td></td><td>El Paso</td><td>TX</td><td>79925</td><td>915-300-6100</td><td>0</td></tr>",
                            "<tr><td>158</td><td>142</td><td>35 E Main St #43</td><td></td><td>Elk Grove Village</td><td>IL</td><td>60007</td><td>847-740-5304</td><td>0</td></tr>",
                            "<tr><td>159</td><td>143</td><td>2 Sw Nyberg Rd</td><td></td><td>Elkhart</td><td>IN</td><td>46514</td><td>574-330-1884</td><td>0</td></tr>",
                            "<tr><td>160</td><td>144</td><td>28 S 7th St #2824</td><td></td><td>Englewood</td><td>NJ</td><td>7631</td><td>201-772-4377</td><td>0</td></tr>",
                            "<tr><td>161</td><td>145</td><td>17 Jersey Ave</td><td></td><td>Englewood</td><td>CO</td><td>80110</td><td>303-997-7760</td><td>0</td></tr>",
                            "<tr><td>162</td><td>146</td><td>7 W 32nd St</td><td></td><td>Erie</td><td>PA</td><td>16502</td><td>814-420-3553</td><td>0</td></tr>",
                            "<tr><td>163</td><td>147</td><td>555 Main St</td><td></td><td>Erie</td><td>PA</td><td>16502</td><td>814-299-2877</td><td>0</td></tr>",
                            "<tr><td>164</td><td>148</td><td>1 N San Saba</td><td></td><td>Erie</td><td>PA</td><td>16501</td><td>814-481-1700</td><td>0</td></tr>",
                            "<tr><td>165</td><td>149</td><td>3989 Portage Tr</td><td></td><td>Escondido</td><td>CA</td><td>92025</td><td>760-465-4762</td><td>0</td></tr>",
                            "<tr><td>166</td><td>150</td><td>105 Richmond Valley Rd</td><td></td><td>Escondido</td><td>CA</td><td>92025</td><td>760-261-4786</td><td>0</td></tr>",
                            "<tr><td>167</td><td>151</td><td>12270 Caton Center Dr</td><td></td><td>Eugene</td><td>OR</td><td>97401</td><td>541-801-5717</td><td>0</td></tr>",
                            "<tr><td>168</td><td>152</td><td>461 Prospect Pl #316</td><td></td><td>Euless</td><td>TX</td><td>76040</td><td>817-451-3518</td><td>0</td></tr>",
                            "<tr><td>169</td><td>153</td><td>37 Alabama Ave</td><td></td><td>Evanston</td><td>IL</td><td>60201</td><td>847-957-4614</td><td>0</td></tr>",
                            "<tr><td>170</td><td>154</td><td>1048 Main St</td><td></td><td>Fairbanks</td><td>AK</td><td>99708</td><td>907-335-6568</td><td>0</td></tr>",
                            "<tr><td>171</td><td>155</td><td>20 S Babcock St</td><td></td><td>Fairbanks</td><td>AK</td><td>99712</td><td>907-227-6777</td><td>0</td></tr>",
                            "<tr><td>172</td><td>156</td><td>48 Lenox St</td><td></td><td>Fairfax</td><td>VA</td><td>22030</td><td>703-938-7939</td><td>0</td></tr>",
                            "<tr><td>173</td><td>157</td><td>9 Waydell St</td><td></td><td>Fairfield</td><td>NJ</td><td>7004</td><td>973-976-8627</td><td>0</td></tr>",
                            "<tr><td>174</td><td>158</td><td>87 Imperial Ct #79</td><td></td><td>Fargo</td><td>ND</td><td>58102</td><td>701-421-7080</td><td>0</td></tr>",
                            "<tr><td>175</td><td>159</td><td>1482 College Ave</td><td></td><td>Fayetteville</td><td>NC</td><td>28301</td><td>910-200-7912</td><td>0</td></tr>",
                            "<tr><td>176</td><td>160</td><td>61 13 Stoneridge #835</td><td></td><td>Findlay</td><td>OH</td><td>45840</td><td>419-254-4591</td><td>0</td></tr>",
                            "<tr><td>177</td><td>161</td><td>76 Brooks St #9</td><td></td><td>Flemington</td><td>NJ</td><td>8822</td><td>908-470-4661</td><td>0</td></tr>",
                            "<tr><td>178</td><td>162</td><td>7 S Beverly Dr</td><td></td><td>Fort Wayne</td><td>IN</td><td>46802</td><td>260-382-4869</td><td>0</td></tr>",
                            "<tr><td>179</td><td>163</td><td>2 S 15th St</td><td></td><td>Fort Worth</td><td>TX</td><td>76107</td><td>817-819-7799</td><td>0</td></tr>",
                            "<tr><td>180</td><td>164</td><td>2 W Mount Royal Ave</td><td></td><td>Fortville</td><td>IN</td><td>46040</td><td>317-887-8486</td><td>0</td></tr>",
                            "<tr><td>181</td><td>165</td><td>7163 W Clark Rd</td><td></td><td>Freehold</td><td>NJ</td><td>7728</td><td>732-724-7251</td><td>0</td></tr>",
                            "<tr><td>182</td><td>166</td><td>455 N Main Ave</td><td></td><td>Garden City</td><td>NY</td><td>11530</td><td>516-376-4230</td><td>0</td></tr>",
                            "<tr><td>183</td><td>167</td><td>16452 Greenwich St</td><td></td><td>Garden City</td><td>NY</td><td>11530</td><td>516-407-9573</td><td>0</td></tr>",
                            "<tr><td>184</td><td>168</td><td>47154 Whipple Ave Nw</td><td></td><td>Gardena</td><td>CA</td><td>90247</td><td>310-968-1219</td><td>0</td></tr>",
                            "<tr><td>185</td><td>169</td><td>47939 Porter Ave</td><td></td><td>Gardena</td><td>CA</td><td>90248</td><td>310-694-8466</td><td>0</td></tr>",
                            "<tr><td>186</td><td>170</td><td>2972 Lafayette Ave</td><td></td><td>Gardena</td><td>CA</td><td>90248</td><td>310-499-4200</td><td>0</td></tr>",
                            "<tr><td>187</td><td>171</td><td>35433 Blake St #588</td><td></td><td>Gardena</td><td>CA</td><td>90248</td><td>310-955-5788</td><td>0</td></tr>",
                            "<tr><td>188</td><td>172</td><td>22 Spruce St #595</td><td></td><td>Gardena</td><td>CA</td><td>90248</td><td>310-936-2258</td><td>0</td></tr>",
                            "<tr><td>189</td><td>173</td><td>2853 S Central Expy</td><td></td><td>Glen Burnie</td><td>MD</td><td>21061</td><td>410-937-4543</td><td>0</td></tr>",
                            "<tr><td>190</td><td>174</td><td>79 S Howell Ave</td><td></td><td>Grand Rapids</td><td>MI</td><td>49546</td><td>616-568-4113</td><td>0</td></tr>",
                            "<tr><td>191</td><td>175</td><td>33 N Michigan Ave</td><td></td><td>Green Bay</td><td>WI</td><td>54301</td><td>920-355-1610</td><td>0</td></tr>",
                            "<tr><td>192</td><td>176</td><td>9 Plainsboro Rd #598</td><td></td><td>Greensboro</td><td>NC</td><td>27409</td><td>336-364-6037</td><td>0</td></tr>",
                            "<tr><td>193</td><td>177</td><td>88827 Frankford Ave</td><td></td><td>Greensboro</td><td>NC</td><td>27401</td><td>336-564-1492</td><td>0</td></tr>",
                            "<tr><td>194</td><td>178</td><td>4646 Kaahumanu St</td><td></td><td>Hackensack</td><td>NJ</td><td>7601</td><td>201-995-3149</td><td>0</td></tr>",
                            "<tr><td>195</td><td>179</td><td>34 Center St</td><td></td><td>Hamilton</td><td>OH</td><td>45011</td><td>513-549-4561</td><td>0</td></tr>",
                            "<tr><td>196</td><td>180</td><td>287 Youngstown Warren Rd</td><td></td><td>Hampstead</td><td>MD</td><td>21074</td><td>410-863-8263</td><td>0</td></tr>",
                            "<tr><td>197</td><td>181</td><td>3387 Ryan Dr</td><td></td><td>Hanover</td><td>MD</td><td>21076</td><td>410-912-6032</td><td>0</td></tr>",
                            "<tr><td>198</td><td>182</td><td>2 W Beverly Blvd</td><td></td><td>Harrisburg</td><td>PA</td><td>17110</td><td>717-632-5831</td><td>0</td></tr>",
                            "<tr><td>199</td><td>183</td><td>88 Sw 28th Ter</td><td></td><td>Harrison</td><td>NJ</td><td>7029</td><td>973-903-4175</td><td>0</td></tr>",
                            "<tr><td>200</td><td>184</td><td>2500 Pringle Rd Se #508</td><td></td><td>Hatfield</td><td>PA</td><td>19440</td><td>215-351-8523</td><td>0</td></tr>",
                            "<tr><td>201</td><td>185</td><td>8100 Jacksonville Rd #7</td><td></td><td>Hays</td><td>KS</td><td>67601</td><td>785-616-1685</td><td>0</td></tr>",
                            "<tr><td>202</td><td>186</td><td>69 Marquette Ave</td><td></td><td>Hayward</td><td>CA</td><td>94545</td><td>510-901-7640</td><td>0</td></tr>",
                            "<tr><td>203</td><td>186</td><td>38 Pleasant Hill Rd</td><td></td><td>Hayward</td><td>CA</td><td>94545</td><td>510-441-4055</td><td>0</td></tr>",
                            "<tr><td>204</td><td>187</td><td>2184 Worth St</td><td></td><td>Hayward</td><td>CA</td><td>94545</td><td>510-509-3496</td><td>0</td></tr>",
                            "<tr><td>205</td><td>188</td><td>99 Tank Farm Rd</td><td></td><td>Hazleton</td><td>PA</td><td>18201</td><td>570-355-1665</td><td>0</td></tr>",
                            "<tr><td>206</td><td>189</td><td>60 Old Dover Rd</td><td></td><td>Hialeah</td><td>FL</td><td>33014</td><td>305-302-1135</td><td>0</td></tr>",
                            "<tr><td>207</td><td>190</td><td>2 Flynn Rd</td><td></td><td>Hicksville</td><td>NY</td><td>11801</td><td>516-732-6649</td><td>0</td></tr>",
                            "<tr><td>208</td><td>191</td><td>4 10th St W</td><td></td><td>High Point</td><td>NC</td><td>27263</td><td>336-497-4407</td><td>0</td></tr>",
                            "<tr><td>209</td><td>192</td><td>18 Waterloo Geneva Rd</td><td></td><td>Highland Park</td><td>IL</td><td>60035</td><td>847-265-6609</td><td>0</td></tr>",
                            "<tr><td>210</td><td>193</td><td>303 N Radcliffe St</td><td></td><td>Hilo</td><td>HI</td><td>96720</td><td>808-746-1865</td><td>0</td></tr>",
                            "<tr><td>211</td><td>194</td><td>5161 Dorsett Rd</td><td></td><td>Homestead</td><td>FL</td><td>33030</td><td>305-575-8481</td><td>0</td></tr>",
                            "<tr><td>212</td><td>195</td><td>9 Wales Rd Ne #914</td><td></td><td>Homosassa</td><td>FL</td><td>34448</td><td>352-990-5946</td><td>0</td></tr>",
                            "<tr><td>213</td><td>196</td><td>185 Blackstone Bldge</td><td></td><td>Honolulu</td><td>HI</td><td>96817</td><td>808-475-2310</td><td>0</td></tr>",
                            "<tr><td>214</td><td>196</td><td>7 Benton Dr</td><td></td><td>Honolulu</td><td>HI</td><td>96819</td><td>808-240-5168</td><td>0</td></tr>",
                            "<tr><td>215</td><td>197</td><td>2 Lighthouse Ave</td><td></td><td>Hopkins</td><td>MN</td><td>55343</td><td>952-479-2375</td><td>0</td></tr>",
                            "<tr><td>216</td><td>198</td><td>6651 Municipal Rd</td><td></td><td>Houma</td><td>LA</td><td>70360</td><td>985-261-5783</td><td>0</td></tr>",
                            "<tr><td>217</td><td>199</td><td>14302 Pennsylvania Ave</td><td></td><td>Huntingdon Valley</td><td>PA</td><td>19006</td><td>215-417-9563</td><td>0</td></tr>",
                            "<tr><td>218</td><td>200</td><td>60 Fillmore Ave</td><td></td><td>Huntington Beach</td><td>CA</td><td>92647</td><td>714-698-2170</td><td>0</td></tr>",
                            "<tr><td>219</td><td>201</td><td>94 Chase Rd</td><td></td><td>Hyattsville</td><td>MD</td><td>20785</td><td>301-257-4883</td><td>0</td></tr>",
                            "<tr><td>220</td><td>202</td><td>55 Riverside Ave</td><td></td><td>Indianapolis</td><td>IN</td><td>46202</td><td>317-472-2412</td><td>0</td></tr>",
                            "<tr><td>221</td><td>203</td><td>55262 N French Rd</td><td></td><td>Indianapolis</td><td>IN</td><td>46240</td><td>317-787-5514</td><td>0</td></tr>",
                            "<tr><td>222</td><td>204</td><td>87393 E Highland Rd</td><td></td><td>Indianapolis</td><td>IN</td><td>46220</td><td>317-441-5848</td><td>0</td></tr>",
                            "<tr><td>223</td><td>205</td><td>6538 E Pomona St #60</td><td></td><td>Indianapolis</td><td>IN</td><td>46222</td><td>317-342-1532</td><td>0</td></tr>",
                            "<tr><td>224</td><td>206</td><td>618 W Yakima Ave</td><td></td><td>Irving</td><td>TX</td><td>75062</td><td>972-896-4882</td><td>0</td></tr>",
                            "<tr><td>225</td><td>207</td><td>4 Bloomfield Ave</td><td></td><td>Irving</td><td>TX</td><td>75061</td><td>972-821-7118</td><td>0</td></tr>",
                            "<tr><td>226</td><td>208</td><td>63517 Dupont St</td><td></td><td>Jackson</td><td>MS</td><td>39211</td><td>601-973-5754</td><td>0</td></tr>",
                            "<tr><td>227</td><td>209</td><td>11279 Loytan St</td><td></td><td>Jacksonville</td><td>FL</td><td>32254</td><td>904-514-9918</td><td>0</td></tr>",
                            "<tr><td>228</td><td>210</td><td>97 Airport Loop Dr</td><td></td><td>Jacksonville</td><td>FL</td><td>32216</td><td>904-627-4341</td><td>0</td></tr>",
                            "<tr><td>229</td><td>211</td><td>14288 Foster Ave #4121</td><td></td><td>Jenkintown</td><td>PA</td><td>19046</td><td>215-329-6386</td><td>0</td></tr>",
                            "<tr><td>230</td><td>212</td><td>4671 Alemany Blvd</td><td></td><td>Jersey City</td><td>NJ</td><td>7304</td><td>201-858-9960</td><td>0</td></tr>",
                            "<tr><td>231</td><td>213</td><td>8 Sheridan Rd</td><td></td><td>Jersey City</td><td>NJ</td><td>7304</td><td>201-412-3040</td><td>0</td></tr>",
                            "<tr><td>232</td><td>213</td><td>9 State Highway 57 #22</td><td></td><td>Jersey City</td><td>NJ</td><td>7306</td><td>201-772-7699</td><td>0</td></tr>",
                            "<tr><td>233</td><td>214</td><td>5 Williams St</td><td></td><td>Johnston</td><td>RI</td><td>2919</td><td>401-552-9059</td><td>0</td></tr>",
                            "<tr><td>234</td><td>215</td><td>2 A Kelley Dr</td><td></td><td>Katonah</td><td>NY</td><td>10536</td><td>914-396-2615</td><td>0</td></tr>",
                            "<tr><td>235</td><td>216</td><td>4 Cowesett Ave</td><td></td><td>Kearny</td><td>NJ</td><td>7032</td><td>201-969-7063</td><td>0</td></tr>",
                            "<tr><td>236</td><td>217</td><td>20113 4th Ave E</td><td></td><td>Kearny</td><td>NJ</td><td>7032</td><td>201-478-8540</td><td>0</td></tr>",
                            "<tr><td>237</td><td>218</td><td>4252 N Washington Ave #9</td><td></td><td>Kennedale</td><td>TX</td><td>76060</td><td>817-577-6151</td><td>0</td></tr>",
                            "<tr><td>238</td><td>219</td><td>8772 Old County Rd #5410</td><td></td><td>Kent</td><td>WA</td><td>98032</td><td>206-923-6042</td><td>0</td></tr>",
                            "<tr><td>239</td><td>220</td><td>3424 29th St Se</td><td></td><td>Kerrville</td><td>TX</td><td>78028</td><td>830-919-5991</td><td>0</td></tr>",
                            "<tr><td>240</td><td>221</td><td>810 N La Brea Ave</td><td></td><td>King of Prussia</td><td>PA</td><td>19406</td><td>610-378-7332</td><td>0</td></tr>",
                            "<tr><td>241</td><td>222</td><td>2371 Jerrold Ave</td><td></td><td>Kulpsville</td><td>PA</td><td>19443</td><td>215-422-8694</td><td>0</td></tr>",
                            "<tr><td>242</td><td>223</td><td>4 E Colonial Dr</td><td></td><td>La Mesa</td><td>CA</td><td>91942</td><td>619-666-4765</td><td>0</td></tr>",
                            "<tr><td>243</td><td>224</td><td>87895 Concord Rd</td><td></td><td>La Mesa</td><td>CA</td><td>91942</td><td>619-727-3892</td><td>0</td></tr>",
                            "<tr><td>244</td><td>225</td><td>55 Hawthorne Blvd</td><td></td><td>Lafayette</td><td>LA</td><td>70506</td><td>337-774-7564</td><td>0</td></tr>",
                            "<tr><td>245</td><td>226</td><td>43 Huey P Long Ave</td><td></td><td>Lafayette</td><td>LA</td><td>70508</td><td>337-751-2326</td><td>0</td></tr>",
                            "<tr><td>246</td><td>226</td><td>393 Hammond Dr</td><td></td><td>Lafayette</td><td>LA</td><td>70506</td><td>337-255-3427</td><td>0</td></tr>",
                            "<tr><td>247</td><td>227</td><td>1 Washington St</td><td></td><td>Lake Worth</td><td>FL</td><td>33461</td><td>561-951-9734</td><td>0</td></tr>",
                            "<tr><td>248</td><td>228</td><td>3943 N Highland Ave</td><td></td><td>Lancaster</td><td>PA</td><td>17601</td><td>717-686-7564</td><td>0</td></tr>",
                            "<tr><td>249</td><td>229</td><td>206 Main St #2804</td><td></td><td>Lansing</td><td>MI</td><td>48933</td><td>517-747-7664</td><td>0</td></tr>",
                            "<tr><td>250</td><td>230</td><td>56 E Morehead St</td><td></td><td>Laredo</td><td>TX</td><td>78045</td><td>956-841-7216</td><td>0</td></tr>",
                            "<tr><td>251</td><td>231</td><td>366 South Dr</td><td></td><td>Las Cruces</td><td>NM</td><td>88011</td><td>505-335-5293</td><td>0</td></tr>",
                            "<tr><td>252</td><td>232</td><td>3 Railway Ave #75</td><td></td><td>Little Falls</td><td>NJ</td><td>7424</td><td>973-822-8827</td><td>0</td></tr>",
                            "<tr><td>253</td><td>233</td><td>1844 Southern Blvd</td><td></td><td>Little Rock</td><td>AR</td><td>72202</td><td>501-409-6072</td><td>0</td></tr>",
                            "<tr><td>254</td><td>234</td><td>2664 Lewis Rd</td><td></td><td>Littleton</td><td>CO</td><td>80126</td><td>303-874-5160</td><td>0</td></tr>",
                            "<tr><td>255</td><td>235</td><td>13 S Hacienda Dr</td><td></td><td>Livingston</td><td>NJ</td><td>7039</td><td>973-563-9502</td><td>0</td></tr>",
                            "<tr><td>256</td><td>236</td><td>2737 Pistorio Rd #9230</td><td></td><td>London</td><td>OH</td><td>43140</td><td>740-526-5410</td><td>0</td></tr>",
                            "<tr><td>257</td><td>237</td><td>97 E 3rd St #9</td><td></td><td>Long Island City</td><td>NY</td><td>11101</td><td>718-613-9994</td><td>0</td></tr>",
                            "<tr><td>258</td><td>238</td><td>50126 N Plankinton Ave</td><td></td><td>Longwood</td><td>FL</td><td>32750</td><td>407-564-8113</td><td>0</td></tr>",
                            "<tr><td>259</td><td>239</td><td>25 E 75th St #69</td><td></td><td>Los Angeles</td><td>CA</td><td>90034</td><td>310-254-3084</td><td>0</td></tr>",
                            "<tr><td>260</td><td>240</td><td>5 Tomahawk Dr</td><td></td><td>Los Angeles</td><td>CA</td><td>90006</td><td>323-315-7314</td><td>0</td></tr>",
                            "<tr><td>261</td><td>240</td><td>3882 W Congress St #799</td><td></td><td>Los Angeles</td><td>CA</td><td>90016</td><td>323-842-8226</td><td>0</td></tr>",
                            "<tr><td>262</td><td>241</td><td>4119 Metropolitan Dr</td><td></td><td>Los Angeles</td><td>CA</td><td>90021</td><td>213-696-8004</td><td>0</td></tr>",
                            "<tr><td>263</td><td>242</td><td>7 W Pinhook Rd</td><td></td><td>Lynbrook</td><td>NY</td><td>11563</td><td>516-365-7266</td><td>0</td></tr>",
                            "<tr><td>264</td><td>243</td><td>2215 Prosperity Dr</td><td></td><td>Lyndhurst</td><td>NJ</td><td>7071</td><td>201-749-8866</td><td>0</td></tr>",
                            "<tr><td>265</td><td>244</td><td>762 S Main St</td><td></td><td>Madison</td><td>WI</td><td>53711</td><td>608-658-7940</td><td>0</td></tr>",
                            "<tr><td>266</td><td>245</td><td>4 Nw 12th St #3849</td><td></td><td>Madison</td><td>WI</td><td>53717</td><td>608-302-3387</td><td>0</td></tr>",
                            "<tr><td>267</td><td>246</td><td>40 Cambridge Ave</td><td></td><td>Madison</td><td>WI</td><td>53715</td><td>608-586-6912</td><td>0</td></tr>",
                            "<tr><td>268</td><td>247</td><td>3338 A Lockport Pl #6</td><td></td><td>Margate City</td><td>NJ</td><td>8402</td><td>609-826-4990</td><td>0</td></tr>",
                            "<tr><td>269</td><td>248</td><td>54169 N Main St</td><td></td><td>Massapequa</td><td>NY</td><td>11758</td><td>516-357-3362</td><td>0</td></tr>",
                            "<tr><td>270</td><td>249</td><td>64 5th Ave #1153</td><td></td><td>Mc Lean</td><td>VA</td><td>22102</td><td>703-475-7568</td><td>0</td></tr>",
                            "<tr><td>271</td><td>249</td><td>5 Cabot Rd</td><td></td><td>Mc Lean</td><td>VA</td><td>22102</td><td>703-892-2914</td><td>0</td></tr>",
                            "<tr><td>272</td><td>250</td><td>69734 E Carrillo St</td><td></td><td>Mc Minnville</td><td>TN</td><td>37110</td><td>931-235-7959</td><td>0</td></tr>",
                            "<tr><td>273</td><td>251</td><td>1 S Pine St</td><td></td><td>Memphis</td><td>TN</td><td>38112</td><td>901-573-9024</td><td>0</td></tr>",
                            "<tr><td>274</td><td>252</td><td>2759 Livingston Ave</td><td></td><td>Memphis</td><td>TN</td><td>38118</td><td>901-869-4314</td><td>0</td></tr>",
                            "<tr><td>275</td><td>253</td><td>2 W Grand Ave</td><td></td><td>Memphis</td><td>TN</td><td>38112</td><td>901-739-5892</td><td>0</td></tr>",
                            "<tr><td>276</td><td>254</td><td>919 Wall Blvd</td><td></td><td>Meridian</td><td>MS</td><td>39307</td><td>601-249-4511</td><td>0</td></tr>",
                            "<tr><td>277</td><td>255</td><td>72 Southern Blvd</td><td></td><td>Mesa</td><td>AZ</td><td>85204</td><td>480-866-6544</td><td>0</td></tr>",
                            "<tr><td>278</td><td>256</td><td>2 Se 3rd Ave</td><td></td><td>Mesquite</td><td>TX</td><td>75149</td><td>972-742-4000</td><td>0</td></tr>",
                            "<tr><td>279</td><td>257</td><td>596 Santa Maria Ave #7913</td><td></td><td>Mesquite</td><td>TX</td><td>75150</td><td>972-898-1033</td><td>0</td></tr>",
                            "<tr><td>280</td><td>258</td><td>426 Wolf St</td><td></td><td>Metairie</td><td>LA</td><td>70002</td><td>504-265-8174</td><td>0</td></tr>",
                            "<tr><td>281</td><td>259</td><td>678 3rd Ave</td><td></td><td>Miami</td><td>FL</td><td>33196</td><td>305-995-2078</td><td>0</td></tr>",
                            "<tr><td>282</td><td>260</td><td>32860 Sierra Rd</td><td></td><td>Miami</td><td>FL</td><td>33133</td><td>305-304-6573</td><td>0</td></tr>",
                            "<tr><td>283</td><td>261</td><td>23 Palo Alto Sq</td><td></td><td>Miami</td><td>FL</td><td>33134</td><td>305-287-4743</td><td>0</td></tr>",
                            "<tr><td>284</td><td>262</td><td>42744 Hamann Industrial Pky #82</td><td></td><td>Miami</td><td>FL</td><td>33136</td><td>305-573-1085</td><td>0</td></tr>",
                            "<tr><td>285</td><td>263</td><td>1644 Clove Rd</td><td></td><td>Miami</td><td>FL</td><td>33155</td><td>305-978-2069</td><td>0</td></tr>",
                            "<tr><td>286</td><td>264</td><td>19 Amboy Ave</td><td></td><td>Miami</td><td>FL</td><td>33142</td><td>305-306-7834</td><td>0</td></tr>",
                            "<tr><td>287</td><td>265</td><td>37275 St  Rt 17m M</td><td></td><td>Middle Island</td><td>NY</td><td>11953</td><td>631-677-3675</td><td>0</td></tr>",
                            "<tr><td>288</td><td>266</td><td>481 W Lemon St</td><td></td><td>Middleboro</td><td>MA</td><td>2346</td><td>508-315-3867</td><td>0</td></tr>",
                            "<tr><td>289</td><td>267</td><td>3273 State St</td><td></td><td>Middlesex</td><td>NJ</td><td>8846</td><td>732-635-3453</td><td>0</td></tr>",
                            "<tr><td>290</td><td>268</td><td>278 Bayview Ave</td><td></td><td>Milan</td><td>MI</td><td>48160</td><td>734-851-8571</td><td>0</td></tr>",
                            "<tr><td>291</td><td>269</td><td>322 New Horizon Blvd</td><td></td><td>Milwaukee</td><td>WI</td><td>53207</td><td>414-377-2880</td><td>0</td></tr>",
                            "<tr><td>292</td><td>269</td><td>59 Shady Ln #53</td><td></td><td>Milwaukee</td><td>WI</td><td>53214</td><td>414-573-7719</td><td>0</td></tr>",
                            "<tr><td>293</td><td>270</td><td>9 N College Ave #3</td><td></td><td>Milwaukee</td><td>WI</td><td>53216</td><td>414-838-3151</td><td>0</td></tr>",
                            "<tr><td>294</td><td>271</td><td>755 Harbor Way</td><td></td><td>Milwaukee</td><td>WI</td><td>53226</td><td>414-411-5744</td><td>0</td></tr>",
                            "<tr><td>295</td><td>272</td><td>1950 5th Ave</td><td></td><td>Milwaukee</td><td>WI</td><td>53209</td><td>414-660-9766</td><td>0</td></tr>",
                            "<tr><td>296</td><td>273</td><td>25 Minters Chapel Rd #9</td><td></td><td>Minneapolis</td><td>MN</td><td>55401</td><td>612-664-6304</td><td>0</td></tr>",
                            "<tr><td>297</td><td>274</td><td>53075 Sw 152nd Ter #615</td><td></td><td>Monroe Township</td><td>NJ</td><td>8831</td><td>732-904-2931</td><td>0</td></tr>",
                            "<tr><td>298</td><td>275</td><td>62260 Park Stre</td><td></td><td>Monroe Township</td><td>NJ</td><td>8831</td><td>732-705-6719</td><td>0</td></tr>",
                            "<tr><td>299</td><td>276</td><td>201 Ridgewood Rd</td><td></td><td>Moscow</td><td>ID</td><td>83843</td><td>208-793-4108</td><td>0</td></tr>",
                            "<tr><td>300</td><td>277</td><td>63 Smith Ln #8343</td><td></td><td>Moss</td><td>TN</td><td>38575</td><td>931-486-6946</td><td>0</td></tr>",
                            "<tr><td>301</td><td>278</td><td>6 Van Buren St</td><td></td><td>Mount Vernon</td><td>NY</td><td>10553</td><td>914-796-3775</td><td>0</td></tr>",
                            "<tr><td>302</td><td>279</td><td>2094 Montour Blvd</td><td></td><td>Muskegon</td><td>MI</td><td>49442</td><td>231-265-6940</td><td>0</td></tr>",
                            "<tr><td>303</td><td>280</td><td>134 Lewis Rd</td><td></td><td>Nashville</td><td>TN</td><td>37211</td><td>615-448-9249</td><td>0</td></tr>",
                            "<tr><td>304</td><td>280</td><td>5221 Bear Valley Rd</td><td></td><td>Nashville</td><td>TN</td><td>37211</td><td>615-825-4297</td><td>0</td></tr>",
                            "<tr><td>305</td><td>281</td><td>90177 N 55th Ave</td><td></td><td>Nashville</td><td>TN</td><td>37211</td><td>615-726-4537</td><td>0</td></tr>",
                            "<tr><td>306</td><td>282</td><td>8139 I Hwy 10 #92</td><td></td><td>New Bedford</td><td>MA</td><td>2745</td><td>508-897-7916</td><td>0</td></tr>",
                            "<tr><td>307</td><td>283</td><td>9122 Carpenter Ave</td><td></td><td>New Haven</td><td>CT</td><td>6511</td><td>203-840-8634</td><td>0</td></tr>",
                            "<tr><td>308</td><td>284</td><td>759 Eldora St</td><td></td><td>New Haven</td><td>CT</td><td>6515</td><td>203-801-8497</td><td>0</td></tr>",
                            "<tr><td>309</td><td>285</td><td>6649 N Blue Gum St</td><td></td><td>New Orleans</td><td>LA</td><td>70116</td><td>504-845-1427</td><td>0</td></tr>",
                            "<tr><td>310</td><td>286</td><td>3 Secor Rd</td><td></td><td>New Orleans</td><td>LA</td><td>70112</td><td>504-946-1807</td><td>0</td></tr>",
                            "<tr><td>311</td><td>287</td><td>3718 S Main St</td><td></td><td>New Orleans</td><td>LA</td><td>70130</td><td>504-635-8518</td><td>0</td></tr>",
                            "<tr><td>312</td><td>288</td><td>90991 Thorburn Ave</td><td></td><td>New York</td><td>NY</td><td>10011</td><td>212-934-5167</td><td>0</td></tr>",
                            "<tr><td>313</td><td>289</td><td>2742 Distribution Way</td><td></td><td>New York</td><td>NY</td><td>10025</td><td>212-753-2740</td><td>0</td></tr>",
                            "<tr><td>314</td><td>290</td><td>128 Bransten Rd</td><td></td><td>New York</td><td>NY</td><td>10011</td><td>212-569-4233</td><td>0</td></tr>",
                            "<tr><td>315</td><td>291</td><td>4486 W O St #1</td><td></td><td>New York</td><td>NY</td><td>10003</td><td>212-617-5063</td><td>0</td></tr>",
                            "<tr><td>316</td><td>292</td><td>3305 Nabell Ave #679</td><td></td><td>New York</td><td>NY</td><td>10009</td><td>212-462-9157</td><td>0</td></tr>",
                            "<tr><td>317</td><td>293</td><td>8 Industry Ln</td><td></td><td>New York</td><td>NY</td><td>10002</td><td>212-880-8865</td><td>0</td></tr>",
                            "<tr><td>318</td><td>294</td><td>229 N Forty Driv</td><td></td><td>New York</td><td>NY</td><td>10011</td><td>212-253-7448</td><td>0</td></tr>",
                            "<tr><td>319</td><td>295</td><td>5 Harrison Rd</td><td></td><td>New York</td><td>NY</td><td>10038</td><td>212-778-3063</td><td>0</td></tr>",
                            "<tr><td>320</td><td>296</td><td>38062 E Main St</td><td></td><td>New York</td><td>NY</td><td>10048</td><td>212-311-6377</td><td>0</td></tr>",
                            "<tr><td>321</td><td>297</td><td>25346 New Rd</td><td></td><td>New York</td><td>NY</td><td>10016</td><td>212-782-3493</td><td>0</td></tr>",
                            "<tr><td>322</td><td>298</td><td>7 S San Marcos Rd</td><td></td><td>New York</td><td>NY</td><td>10004</td><td>212-745-6948</td><td>0</td></tr>",
                            "<tr><td>323</td><td>299</td><td>87163 N Main Ave</td><td></td><td>New York</td><td>NY</td><td>10013</td><td>212-225-9676</td><td>0</td></tr>",
                            "<tr><td>324</td><td>300</td><td>3 Lawton St</td><td></td><td>New York</td><td>NY</td><td>10013</td><td>212-422-5427</td><td>0</td></tr>",
                            "<tr><td>325</td><td>301</td><td>18 3rd Ave</td><td></td><td>New York</td><td>NY</td><td>10016</td><td>212-428-9538</td><td>0</td></tr>",
                            "<tr><td>326</td><td>302</td><td>47565 W Grand Ave</td><td></td><td>Newark</td><td>NJ</td><td>7105</td><td>973-847-9611</td><td>0</td></tr>",
                            "<tr><td>327</td><td>303</td><td>6794 Lake Dr E</td><td></td><td>Newark</td><td>NJ</td><td>7104</td><td>973-796-3667</td><td>0</td></tr>",
                            "<tr><td>328</td><td>304</td><td>32820 Corkwood Rd</td><td></td><td>Newark</td><td>NJ</td><td>7104</td><td>973-605-6492</td><td>0</td></tr>",
                            "<tr><td>329</td><td>305</td><td>1610 14th St Nw</td><td></td><td>Newport News</td><td>VA</td><td>23608</td><td>757-940-1741</td><td>0</td></tr>",
                            "<tr><td>330</td><td>306</td><td>8977 Connecticut Ave Nw #3</td><td></td><td>Niles</td><td>MI</td><td>49120</td><td>269-431-9464</td><td>0</td></tr>",
                            "<tr><td>331</td><td>307</td><td>4 Carroll St</td><td></td><td>North Attleboro</td><td>MA</td><td>2760</td><td>508-618-7826</td><td>0</td></tr>",
                            "<tr><td>332</td><td>308</td><td>78112 Morris Ave</td><td></td><td>North Haven</td><td>CT</td><td>6473</td><td>203-564-1543</td><td>0</td></tr>",
                            "<tr><td>333</td><td>309</td><td>41 Steel Ct</td><td></td><td>Northfield</td><td>MN</td><td>55057</td><td>507-590-5237</td><td>0</td></tr>",
                            "<tr><td>334</td><td>310</td><td>70 Mechanic St</td><td></td><td>Northridge</td><td>CA</td><td>91325</td><td>818-481-5787</td><td>0</td></tr>",
                            "<tr><td>335</td><td>311</td><td>49440 Dearborn St</td><td></td><td>Norwalk</td><td>CT</td><td>6854</td><td>203-938-2557</td><td>0</td></tr>",
                            "<tr><td>336</td><td>312</td><td>1933 Packer Ave #2</td><td></td><td>Novato</td><td>CA</td><td>94945</td><td>415-926-6089</td><td>0</td></tr>",
                            "<tr><td>337</td><td>313</td><td>993 Washington Ave</td><td></td><td>Nutley</td><td>NJ</td><td>7110</td><td>973-986-4456</td><td>0</td></tr>",
                            "<tr><td>338</td><td>314</td><td>27846 Lafayette Ave</td><td></td><td>Oak Hill</td><td>FL</td><td>32759</td><td>386-599-7296</td><td>0</td></tr>",
                            "<tr><td>339</td><td>315</td><td>72868 Blackington Ave</td><td></td><td>Oakland</td><td>CA</td><td>94606</td><td>510-755-9274</td><td>0</td></tr>",
                            "<tr><td>340</td><td>316</td><td>82 N Highway 67</td><td></td><td>Oakley</td><td>CA</td><td>94561</td><td>925-541-8521</td><td>0</td></tr>",
                            "<tr><td>341</td><td>317</td><td>6 Ridgewood Center Dr</td><td></td><td>Old Forge</td><td>PA</td><td>18518</td><td>570-569-2356</td><td>0</td></tr>",
                            "<tr><td>342</td><td>318</td><td>21575 S Apple Creek Rd</td><td></td><td>Omaha</td><td>NE</td><td>68124</td><td>402-707-1602</td><td>0</td></tr>",
                            "<tr><td>343</td><td>319</td><td>52777 Leaders Heights Rd</td><td></td><td>Ontario</td><td>CA</td><td>91761</td><td>909-589-1693</td><td>0</td></tr>",
                            "<tr><td>344</td><td>320</td><td>703 Beville Rd</td><td></td><td>Opa Locka</td><td>FL</td><td>33054</td><td>305-857-5489</td><td>0</td></tr>",
                            "<tr><td>345</td><td>321</td><td>1 N Harlem Ave #9</td><td></td><td>Orange</td><td>NJ</td><td>7050</td><td>973-818-9788</td><td>0</td></tr>",
                            "<tr><td>346</td><td>322</td><td>93 Redmond Rd #492</td><td></td><td>Orlando</td><td>FL</td><td>32803</td><td>407-945-8566</td><td>0</td></tr>",
                            "<tr><td>347</td><td>323</td><td>7 W Wabansia Ave #227</td><td></td><td>Orlando</td><td>FL</td><td>32822</td><td>407-429-2145</td><td>0</td></tr>",
                            "<tr><td>348</td><td>324</td><td>2139 Santa Rosa Ave</td><td></td><td>Orlando</td><td>FL</td><td>32801</td><td>407-808-3254</td><td>0</td></tr>",
                            "<tr><td>349</td><td>324</td><td>75698 N Fiesta Blvd</td><td></td><td>Orlando</td><td>FL</td><td>32806</td><td>407-472-1332</td><td>0</td></tr>",
                            "<tr><td>350</td><td>326</td><td>63 E Aurora Dr</td><td></td><td>Orlando</td><td>FL</td><td>32804</td><td>407-557-8857</td><td>0</td></tr>",
                            "<tr><td>351</td><td>327</td><td>77 222 Dr</td><td></td><td>Oroville</td><td>CA</td><td>95965</td><td>530-399-3254</td><td>0</td></tr>",
                            "<tr><td>352</td><td>328</td><td>7219 Woodfield Rd</td><td></td><td>Overland Park</td><td>KS</td><td>66204</td><td>913-645-8918</td><td>0</td></tr>",
                            "<tr><td>353</td><td>329</td><td>55892 Jacksonville Rd</td><td></td><td>Owings Mills</td><td>MD</td><td>21117</td><td>410-916-8015</td><td>0</td></tr>",
                            "<tr><td>354</td><td>330</td><td>94290 S Buchanan St</td><td></td><td>Pacifica</td><td>CA</td><td>94044</td><td>650-749-9879</td><td>0</td></tr>",
                            "<tr><td>355</td><td>331</td><td>7 West Ave #1</td><td></td><td>Palatine</td><td>IL</td><td>60067</td><td>847-556-2909</td><td>0</td></tr>",
                            "<tr><td>356</td><td>332</td><td>3 State Route 35 S</td><td></td><td>Paramus</td><td>NJ</td><td>7652</td><td>201-247-8925</td><td>0</td></tr>",
                            "<tr><td>357</td><td>333</td><td>5 W 7th St</td><td></td><td>Parkville</td><td>MD</td><td>21234</td><td>410-234-2267</td><td>0</td></tr>",
                            "<tr><td>358</td><td>334</td><td>18 Coronado Ave #563</td><td></td><td>Pasadena</td><td>CA</td><td>91106</td><td>626-293-7678</td><td>0</td></tr>",
                            "<tr><td>359</td><td>335</td><td>3381 E 40th Ave</td><td></td><td>Passaic</td><td>NJ</td><td>7055</td><td>973-355-2120</td><td>0</td></tr>",
                            "<tr><td>360</td><td>336</td><td>2726 Charcot Ave</td><td></td><td>Paterson</td><td>NJ</td><td>7501</td><td>973-284-4048</td><td>0</td></tr>",
                            "<tr><td>361</td><td>337</td><td>36 Lancaster Dr Se</td><td></td><td>Pearl</td><td>MS</td><td>39208</td><td>601-637-5479</td><td>0</td></tr>",
                            "<tr><td>362</td><td>338</td><td>65 W Maple Ave</td><td></td><td>Pearl City</td><td>HI</td><td>96782</td><td>808-526-5863</td><td>0</td></tr>",
                            "<tr><td>363</td><td>339</td><td>8429 Miller Rd</td><td></td><td>Pelham</td><td>NY</td><td>10803</td><td>914-883-3061</td><td>0</td></tr>",
                            "<tr><td>364</td><td>340</td><td>347 Chestnut St</td><td></td><td>Peoria</td><td>AZ</td><td>85381</td><td>623-426-4907</td><td>0</td></tr>",
                            "<tr><td>365</td><td>341</td><td>6 Harry L Dr #6327</td><td></td><td>Perrysburg</td><td>OH</td><td>43551</td><td>419-573-2033</td><td>0</td></tr>",
                            "<tr><td>366</td><td>342</td><td>209 Decker Dr</td><td></td><td>Philadelphia</td><td>PA</td><td>19132</td><td>215-794-4519</td><td>0</td></tr>",
                            "<tr><td>367</td><td>343</td><td>3 Fort Worth Ave</td><td></td><td>Philadelphia</td><td>PA</td><td>19106</td><td>215-228-8264</td><td>0</td></tr>",
                            "<tr><td>368</td><td>344</td><td>63381 Jenks Ave</td><td></td><td>Philadelphia</td><td>PA</td><td>19134</td><td>215-346-4666</td><td>0</td></tr>",
                            "<tr><td>369</td><td>345</td><td>992 Civic Center Dr</td><td></td><td>Philadelphia</td><td>PA</td><td>19123</td><td>215-417-5612</td><td>0</td></tr>",
                            "<tr><td>370</td><td>346</td><td>73 Southern Blvd</td><td></td><td>Philadelphia</td><td>PA</td><td>19103</td><td>215-511-3531</td><td>0</td></tr>",
                            "<tr><td>371</td><td>347</td><td>4379 Highway 116</td><td></td><td>Philadelphia</td><td>PA</td><td>19103</td><td>215-483-3003</td><td>0</td></tr>",
                            "<tr><td>372</td><td>348</td><td>4441 Point Term Mkt</td><td></td><td>Philadelphia</td><td>PA</td><td>19143</td><td>215-829-4221</td><td>0</td></tr>",
                            "<tr><td>373</td><td>349</td><td>910 Rahway Ave</td><td></td><td>Philadelphia</td><td>PA</td><td>19102</td><td>215-380-8820</td><td>0</td></tr>",
                            "<tr><td>374</td><td>350</td><td>73 State Road 434 E</td><td></td><td>Phoenix</td><td>AZ</td><td>85013</td><td>602-953-6360</td><td>0</td></tr>",
                            "<tr><td>375</td><td>351</td><td>1 Huntwood Ave</td><td></td><td>Phoenix</td><td>AZ</td><td>85017</td><td>602-277-3025</td><td>0</td></tr>",
                            "<tr><td>376</td><td>352</td><td>96541 W Central Blvd</td><td></td><td>Phoenix</td><td>AZ</td><td>85034</td><td>602-330-6894</td><td>0</td></tr>",
                            "<tr><td>377</td><td>353</td><td>86350 Roszel Rd</td><td></td><td>Phoenix</td><td>AZ</td><td>85012</td><td>602-442-3092</td><td>0</td></tr>",
                            "<tr><td>378</td><td>354</td><td>9 W Central Ave</td><td></td><td>Phoenix</td><td>AZ</td><td>85013</td><td>602-575-3457</td><td>0</td></tr>",
                            "<tr><td>379</td><td>355</td><td>90131 J St</td><td></td><td>Pittstown</td><td>NJ</td><td>8867</td><td>908-448-1209</td><td>0</td></tr>",
                            "<tr><td>380</td><td>356</td><td>30553 Washington Rd</td><td></td><td>Plainfield</td><td>NJ</td><td>7062</td><td>908-426-8272</td><td>0</td></tr>",
                            "<tr><td>381</td><td>357</td><td>66552 Malone Rd</td><td></td><td>Plaistow</td><td>NH</td><td>3865</td><td>603-745-7497</td><td>0</td></tr>",
                            "<tr><td>382</td><td>358</td><td>13 Gunnison St</td><td></td><td>Plano</td><td>TX</td><td>75075</td><td>972-961-4968</td><td>0</td></tr>",
                            "<tr><td>383</td><td>359</td><td>48 Stratford Ave</td><td></td><td>Pomona</td><td>CA</td><td>91768</td><td>909-631-5703</td><td>0</td></tr>",
                            "<tr><td>384</td><td>360</td><td>53 W Carey St</td><td></td><td>Port Jervis</td><td>NY</td><td>12771</td><td>845-694-7919</td><td>0</td></tr>",
                            "<tr><td>385</td><td>361</td><td>1 Commerce Way</td><td></td><td>Portland</td><td>OR</td><td>97224</td><td>503-909-7167</td><td>0</td></tr>",
                            "<tr><td>386</td><td>362</td><td>4940 Pulaski Park Dr</td><td></td><td>Portland</td><td>OR</td><td>97202</td><td>503-455-3094</td><td>0</td></tr>",
                            "<tr><td>387</td><td>363</td><td>60480 Old Us Highway 51</td><td></td><td>Preston</td><td>MD</td><td>21655</td><td>410-724-6472</td><td>0</td></tr>",
                            "<tr><td>388</td><td>364</td><td>2881 Lewis Rd</td><td></td><td>Prineville</td><td>OR</td><td>97754</td><td>541-993-2611</td><td>0</td></tr>",
                            "<tr><td>389</td><td>365</td><td>65895 S 16th St</td><td></td><td>Providence</td><td>RI</td><td>2909</td><td>401-559-8961</td><td>0</td></tr>",
                            "<tr><td>390</td><td>366</td><td>201 Hawk Ct</td><td></td><td>Providence</td><td>RI</td><td>2904</td><td>401-300-8122</td><td>0</td></tr>",
                            "<tr><td>391</td><td>367</td><td>1 Rancho Del Mar Shopping C</td><td></td><td>Providence</td><td>RI</td><td>2903</td><td>401-885-7681</td><td>0</td></tr>",
                            "<tr><td>392</td><td>368</td><td>9 Hwy</td><td></td><td>Providence</td><td>RI</td><td>2906</td><td>401-893-1820</td><td>0</td></tr>",
                            "<tr><td>393</td><td>369</td><td>987 Main St</td><td></td><td>Raleigh</td><td>NC</td><td>27601</td><td>919-254-5987</td><td>0</td></tr>",
                            "<tr><td>394</td><td>370</td><td>3958 S Dupont Hwy #7</td><td></td><td>Ramsey</td><td>NJ</td><td>7446</td><td>201-365-8698</td><td>0</td></tr>",
                            "<tr><td>395</td><td>371</td><td>9745 W Main St</td><td></td><td>Randolph</td><td>NJ</td><td>7869</td><td>973-868-8660</td><td>0</td></tr>",
                            "<tr><td>396</td><td>372</td><td>73 Saint Ann St #86</td><td></td><td>Reno</td><td>NV</td><td>89502</td><td>775-848-9135</td><td>0</td></tr>",
                            "<tr><td>397</td><td>373</td><td>8 Mcarthur Ln</td><td></td><td>Richboro</td><td>PA</td><td>18954</td><td>215-647-2158</td><td>0</td></tr>",
                            "<tr><td>398</td><td>374</td><td>36 Enterprise St Se</td><td></td><td>Richland</td><td>WA</td><td>99352</td><td>509-595-6485</td><td>0</td></tr>",
                            "<tr><td>399</td><td>375</td><td>39 Franklin Ave</td><td></td><td>Richland</td><td>WA</td><td>99352</td><td>509-847-3352</td><td>0</td></tr>",
                            "<tr><td>400</td><td>376</td><td>9677 Commerce Dr</td><td></td><td>Richmond</td><td>VA</td><td>23219</td><td>804-858-1011</td><td>0</td></tr>",
                            "<tr><td>401</td><td>377</td><td>393 Lafayette Ave</td><td></td><td>Richmond</td><td>VA</td><td>23219</td><td>804-808-9574</td><td>0</td></tr>",
                            "<tr><td>402</td><td>378</td><td>45 E Liberty St</td><td></td><td>Ridgefield Park</td><td>NJ</td><td>7660</td><td>201-387-9093</td><td>0</td></tr>",
                            "<tr><td>403</td><td>379</td><td>2409 Alabama Rd</td><td></td><td>Riverside</td><td>CA</td><td>92501</td><td>951-248-6822</td><td>0</td></tr>",
                            "<tr><td>404</td><td>380</td><td>9939 N 14th St</td><td></td><td>Riverton</td><td>NJ</td><td>8077</td><td>856-828-6021</td><td>0</td></tr>",
                            "<tr><td>405</td><td>381</td><td>66697 Park Pl #3224</td><td></td><td>Riverton</td><td>WY</td><td>82501</td><td>307-453-7589</td><td>0</td></tr>",
                            "<tr><td>406</td><td>382</td><td>9581 E Arapahoe Rd</td><td></td><td>Rochester</td><td>MI</td><td>48307</td><td>248-811-5696</td><td>0</td></tr>",
                            "<tr><td>407</td><td>383</td><td>7140 University Ave</td><td></td><td>Rock Springs</td><td>WY</td><td>82901</td><td>307-279-3793</td><td>0</td></tr>",
                            "<tr><td>408</td><td>384</td><td>798 Lund Farm Way</td><td></td><td>Rockaway</td><td>NJ</td><td>7866</td><td>973-225-6259</td><td>0</td></tr>",
                            "<tr><td>409</td><td>385</td><td>394 Manchester Blvd</td><td></td><td>Rockford</td><td>IL</td><td>61109</td><td>815-426-5657</td><td>0</td></tr>",
                            "<tr><td>410</td><td>386</td><td>2140 Diamond Blvd</td><td></td><td>Rohnert Park</td><td>CA</td><td>94928</td><td>707-881-3154</td><td>0</td></tr>",
                            "<tr><td>411</td><td>387</td><td>26849 Jefferson Hwy</td><td></td><td>Rolling Meadows</td><td>IL</td><td>60008</td><td>847-755-9041</td><td>0</td></tr>",
                            "<tr><td>412</td><td>388</td><td>81 Norris Ave #525</td><td></td><td>Ronkonkoma</td><td>NY</td><td>11779</td><td>631-998-2102</td><td>0</td></tr>",
                            "<tr><td>413</td><td>389</td><td>433 Westminster Blvd #590</td><td></td><td>Roseville</td><td>CA</td><td>95661</td><td>916-289-4526</td><td>0</td></tr>",
                            "<tr><td>414</td><td>390</td><td>5 Washington St #1</td><td></td><td>Roseville</td><td>CA</td><td>95678</td><td>916-459-2433</td><td>0</td></tr>",
                            "<tr><td>415</td><td>391</td><td>17 Us Highway 111</td><td></td><td>Round Rock</td><td>TX</td><td>78664</td><td>512-528-9933</td><td>0</td></tr>",
                            "<tr><td>416</td><td>392</td><td>3158 Runamuck Pl</td><td></td><td>Round Rock</td><td>TX</td><td>78664</td><td>512-942-3411</td><td>0</td></tr>",
                            "<tr><td>417</td><td>393</td><td>6916 W Main St</td><td></td><td>Sacramento</td><td>CA</td><td>95827</td><td>916-770-7448</td><td>0</td></tr>",
                            "<tr><td>418</td><td>394</td><td>1953 Telegraph Rd</td><td></td><td>Saint Joseph</td><td>MO</td><td>64504</td><td>816-329-5565</td><td>0</td></tr>",
                            "<tr><td>419</td><td>395</td><td>4923 Carey Ave</td><td></td><td>Saint Louis</td><td>MO</td><td>63104</td><td>314-858-4832</td><td>0</td></tr>",
                            "<tr><td>420</td><td>396</td><td>369 Latham St #500</td><td></td><td>Saint Louis</td><td>MO</td><td>63102</td><td>314-697-3652</td><td>0</td></tr>",
                            "<tr><td>421</td><td>397</td><td>2023 Greg St</td><td></td><td>Saint Paul</td><td>MN</td><td>55101</td><td>651-776-9688</td><td>0</td></tr>",
                            "<tr><td>422</td><td>398</td><td>9 Church St</td><td></td><td>Salem</td><td>OR</td><td>97302</td><td>503-950-3068</td><td>0</td></tr>",
                            "<tr><td>423</td><td>399</td><td>9648 S Main</td><td></td><td>Salisbury</td><td>MD</td><td>21801</td><td>410-951-2667</td><td>0</td></tr>",
                            "<tr><td>424</td><td>400</td><td>51120 State Route 18</td><td></td><td>Salt Lake City</td><td>UT</td><td>84115</td><td>801-892-8781</td><td>0</td></tr>",
                            "<tr><td>425</td><td>401</td><td>775 W 17th St</td><td></td><td>San Antonio</td><td>TX</td><td>78204</td><td>210-300-6244</td><td>0</td></tr>",
                            "<tr><td>426</td><td>402</td><td>85092 Southern Blvd</td><td></td><td>San Antonio</td><td>TX</td><td>78204</td><td>210-634-2447</td><td>0</td></tr>",
                            "<tr><td>427</td><td>403</td><td>4 S Washington Ave</td><td></td><td>San Bernardino</td><td>CA</td><td>92410</td><td>909-665-3223</td><td>0</td></tr>",
                            "<tr><td>428</td><td>404</td><td>30 W 80th St #1995</td><td></td><td>San Carlos</td><td>CA</td><td>94070</td><td>650-811-9032</td><td>0</td></tr>",
                            "<tr><td>429</td><td>405</td><td>1 Century Park E</td><td></td><td>San Diego</td><td>CA</td><td>92110</td><td>858-228-5683</td><td>0</td></tr>",
                            "<tr><td>430</td><td>406</td><td>469 Outwater Ln</td><td></td><td>San Diego</td><td>CA</td><td>92126</td><td>858-732-1884</td><td>0</td></tr>",
                            "<tr><td>431</td><td>407</td><td>701 S Harrison Rd</td><td></td><td>San Francisco</td><td>CA</td><td>94104</td><td>415-604-7609</td><td>0</td></tr>",
                            "<tr><td>432</td><td>408</td><td>3717 Hamann Industrial Pky</td><td></td><td>San Francisco</td><td>CA</td><td>94104</td><td>415-712-9530</td><td>0</td></tr>",
                            "<tr><td>433</td><td>409</td><td>6 Middlegate Rd #106</td><td></td><td>San Francisco</td><td>CA</td><td>94107</td><td>415-874-2984</td><td>0</td></tr>",
                            "<tr><td>434</td><td>410</td><td>39 Moccasin Dr</td><td></td><td>San Francisco</td><td>CA</td><td>94104</td><td>415-284-2730</td><td>0</td></tr>",
                            "<tr><td>435</td><td>411</td><td>10276 Brooks St</td><td></td><td>San Francisco</td><td>CA</td><td>94105</td><td>415-419-1597</td><td>0</td></tr>",
                            "<tr><td>436</td><td>412</td><td>83649 W Belmont Ave</td><td></td><td>San Gabriel</td><td>CA</td><td>91776</td><td>626-696-2777</td><td>0</td></tr>",
                            "<tr><td>437</td><td>413</td><td>7 W Jackson Blvd</td><td></td><td>San Jose</td><td>CA</td><td>95111</td><td>408-813-1105</td><td>0</td></tr>",
                            "<tr><td>438</td><td>414</td><td>6 Greenleaf Ave</td><td></td><td>San Jose</td><td>CA</td><td>95111</td><td>408-813-4592</td><td>0</td></tr>",
                            "<tr><td>439</td><td>415</td><td>99385 Charity St #840</td><td></td><td>San Jose</td><td>CA</td><td>95110</td><td>408-440-8447</td><td>0</td></tr>",
                            "<tr><td>440</td><td>416</td><td>1128 Delaware St</td><td></td><td>San Jose</td><td>CA</td><td>95132</td><td>408-425-1994</td><td>0</td></tr>",
                            "<tr><td>441</td><td>417</td><td>68556 Central Hwy</td><td></td><td>San Leandro</td><td>CA</td><td>94577</td><td>510-452-4835</td><td>0</td></tr>",
                            "<tr><td>442</td><td>417</td><td>524 Louisiana Ave Nw</td><td></td><td>San Leandro</td><td>CA</td><td>94577</td><td>510-472-7758</td><td>0</td></tr>",
                            "<tr><td>443</td><td>418</td><td>2 Monroe St</td><td></td><td>San Mateo</td><td>CA</td><td>94403</td><td>650-247-2625</td><td>0</td></tr>",
                            "<tr><td>444</td><td>419</td><td>98 University Dr</td><td></td><td>San Ramon</td><td>CA</td><td>94583</td><td>925-943-3449</td><td>0</td></tr>",
                            "<tr><td>445</td><td>420</td><td>11360 S Halsted St</td><td></td><td>Santa Ana</td><td>CA</td><td>92705</td><td>714-531-1391</td><td>0</td></tr>",
                            "<tr><td>446</td><td>421</td><td>195 13n N</td><td></td><td>Santa Clara</td><td>CA</td><td>95054</td><td>408-346-2180</td><td>0</td></tr>",
                            "<tr><td>447</td><td>422</td><td>985 E 6th Ave</td><td></td><td>Santa Rosa</td><td>CA</td><td>95407</td><td>707-821-8037</td><td>0</td></tr>",
                            "<tr><td>448</td><td>423</td><td>251 Park Ave #979</td><td></td><td>Saratoga</td><td>CA</td><td>95070</td><td>408-997-7490</td><td>0</td></tr>",
                            "<tr><td>449</td><td>424</td><td>77 Massillon Rd #822</td><td></td><td>Satellite Beach</td><td>FL</td><td>32937</td><td>321-597-2159</td><td>0</td></tr>",
                            "<tr><td>450</td><td>425</td><td>4 58th St #3519</td><td></td><td>Scottsdale</td><td>AZ</td><td>85254</td><td>602-304-6433</td><td>0</td></tr>",
                            "<tr><td>451</td><td>426</td><td>10759 Main St</td><td></td><td>Scottsdale</td><td>AZ</td><td>85260</td><td>480-205-5121</td><td>0</td></tr>",
                            "<tr><td>452</td><td>427</td><td>63728 Poway Rd #1</td><td></td><td>Scranton</td><td>PA</td><td>18509</td><td>570-868-8688</td><td>0</td></tr>",
                            "<tr><td>453</td><td>428</td><td>67 E Chestnut Hill Rd</td><td></td><td>Seattle</td><td>WA</td><td>98133</td><td>206-295-5631</td><td>0</td></tr>",
                            "<tr><td>454</td><td>429</td><td>61556 W 20th Ave</td><td></td><td>Seattle</td><td>WA</td><td>98104</td><td>206-395-6284</td><td>0</td></tr>",
                            "<tr><td>455</td><td>430</td><td>636 Commerce Dr #42</td><td></td><td>Shakopee</td><td>MN</td><td>55379</td><td>952-906-4597</td><td>0</td></tr>",
                            "<tr><td>456</td><td>431</td><td>86 Nw 66th St #8673</td><td></td><td>Shawnee</td><td>KS</td><td>66218</td><td>913-899-1103</td><td>0</td></tr>",
                            "<tr><td>457</td><td>432</td><td>5 Boston Ave #88</td><td></td><td>Sioux Falls</td><td>SD</td><td>57105</td><td>605-794-4895</td><td>0</td></tr>",
                            "<tr><td>458</td><td>433</td><td>749 W 18th St #45</td><td></td><td>Smithfield</td><td>NC</td><td>27577</td><td>919-885-2453</td><td>0</td></tr>",
                            "<tr><td>459</td><td>434</td><td>61304 N French Rd</td><td></td><td>Somerset</td><td>NJ</td><td>8873</td><td>732-445-6940</td><td>0</td></tr>",
                            "<tr><td>460</td><td>435</td><td>406 Main St</td><td></td><td>Somerville</td><td>NJ</td><td>8876</td><td>908-943-6103</td><td>0</td></tr>",
                            "<tr><td>461</td><td>436</td><td>55713 Lake City Hwy</td><td></td><td>South Bend</td><td>IN</td><td>46601</td><td>574-405-1983</td><td>0</td></tr>",
                            "<tr><td>462</td><td>437</td><td>577 Parade St</td><td></td><td>South San Francisco</td><td>CA</td><td>94080</td><td>650-960-1069</td><td>0</td></tr>",
                            "<tr><td>463</td><td>438</td><td>5 Green Pond Rd #4</td><td></td><td>Southampton</td><td>PA</td><td>18966</td><td>215-846-9046</td><td>0</td></tr>",
                            "<tr><td>464</td><td>439</td><td>57 Haven Ave #90</td><td></td><td>Southfield</td><td>MI</td><td>48075</td><td>248-793-4966</td><td>0</td></tr>",
                            "<tr><td>465</td><td>440</td><td>84 Bloomfield Ave</td><td></td><td>Spartanburg</td><td>SC</td><td>29301</td><td>864-594-4578</td><td>0</td></tr>",
                            "<tr><td>466</td><td>441</td><td>44 W 4th St</td><td></td><td>Staten Island</td><td>NY</td><td>10309</td><td>718-654-7063</td><td>0</td></tr>",
                            "<tr><td>467</td><td>442</td><td>89 20th St E #779</td><td></td><td>Sterling Heights</td><td>MI</td><td>48310</td><td>586-247-1614</td><td>0</td></tr>",
                            "<tr><td>468</td><td>443</td><td>1 Central Ave</td><td></td><td>Stevens Point</td><td>WI</td><td>54481</td><td>715-530-9863</td><td>0</td></tr>",
                            "<tr><td>469</td><td>444</td><td>3196 S Rider Trl</td><td></td><td>Stockton</td><td>CA</td><td>95207</td><td>209-242-7022</td><td>0</td></tr>",
                            "<tr><td>470</td><td>445</td><td>944 Gaither Dr</td><td></td><td>Strongsville</td><td>OH</td><td>44136</td><td>440-327-2093</td><td>0</td></tr>",
                            "<tr><td>471</td><td>446</td><td>62 W Austin St</td><td></td><td>Syosset</td><td>NY</td><td>11791</td><td>516-749-3188</td><td>0</td></tr>",
                            "<tr><td>472</td><td>447</td><td>422 E 21st St</td><td></td><td>Syracuse</td><td>NY</td><td>13214</td><td>315-640-6357</td><td>0</td></tr>",
                            "<tr><td>473</td><td>448</td><td>37 N Elm St #916</td><td></td><td>Tacoma</td><td>WA</td><td>98409</td><td>253-875-9222</td><td>0</td></tr>",
                            "<tr><td>474</td><td>449</td><td>8 Fair Lawn Ave</td><td></td><td>Tampa</td><td>FL</td><td>33614</td><td>813-863-6467</td><td>0</td></tr>",
                            "<tr><td>475</td><td>450</td><td>3211 E Northeast Loop</td><td></td><td>Tampa</td><td>FL</td><td>33619</td><td>813-357-7296</td><td>0</td></tr>",
                            "<tr><td>476</td><td>451</td><td>1 State Route 27</td><td></td><td>Taylor</td><td>MI</td><td>48180</td><td>313-341-4470</td><td>0</td></tr>",
                            "<tr><td>477</td><td>452</td><td>5 N Cleveland Massillon Rd</td><td></td><td>Thousand Oaks</td><td>CA</td><td>91362</td><td>805-638-6617</td><td>0</td></tr>",
                            "<tr><td>478</td><td>452</td><td>326 E Main St #6496</td><td></td><td>Thousand Oaks</td><td>CA</td><td>91362</td><td>805-810-8964</td><td>0</td></tr>",
                            "<tr><td>479</td><td>453</td><td>62 Monroe St</td><td></td><td>Thousand Palms</td><td>CA</td><td>92276</td><td>760-493-9208</td><td>0</td></tr>",
                            "<tr><td>480</td><td>454</td><td>3 N Groesbeck Hwy</td><td></td><td>Toledo</td><td>OH</td><td>43613</td><td>419-313-5571</td><td>0</td></tr>",
                            "<tr><td>481</td><td>455</td><td>7422 Martin Ave #8</td><td></td><td>Toledo</td><td>OH</td><td>43607</td><td>419-399-1744</td><td>0</td></tr>",
                            "<tr><td>482</td><td>456</td><td>6201 S Nevada Ave</td><td></td><td>Toms River</td><td>NJ</td><td>8755</td><td>732-617-5310</td><td>0</td></tr>",
                            "<tr><td>483</td><td>457</td><td>7 Flowers Rd #403</td><td></td><td>Trenton</td><td>NJ</td><td>8611</td><td>609-398-2805</td><td>0</td></tr>",
                            "<tr><td>484</td><td>458</td><td>99 5th Ave #33</td><td></td><td>Trion</td><td>GA</td><td>30753</td><td>706-616-5131</td><td>0</td></tr>",
                            "<tr><td>485</td><td>459</td><td>9 Norristown Rd</td><td></td><td>Troy</td><td>NY</td><td>12180</td><td>518-931-7852</td><td>0</td></tr>",
                            "<tr><td>486</td><td>460</td><td>39 S 7th St</td><td></td><td>Tullahoma</td><td>TN</td><td>37388</td><td>931-303-6041</td><td>0</td></tr>",
                            "<tr><td>487</td><td>461</td><td>2239 Shawnee Mission Pky</td><td></td><td>Tullahoma</td><td>TN</td><td>37388</td><td>931-739-1551</td><td>0</td></tr>",
                            "<tr><td>488</td><td>462</td><td>649 Tulane Ave</td><td></td><td>Tulsa</td><td>OK</td><td>74105</td><td>918-565-1706</td><td>0</td></tr>",
                            "<tr><td>489</td><td>463</td><td>4 Stovall St #72</td><td></td><td>Union City</td><td>NJ</td><td>7087</td><td>201-856-2720</td><td>0</td></tr>",
                            "<tr><td>490</td><td>464</td><td>6 Sunrise Ave</td><td></td><td>Utica</td><td>NY</td><td>13501</td><td>315-474-5570</td><td>0</td></tr>",
                            "<tr><td>491</td><td>465</td><td>22 Bridle Ln</td><td></td><td>Valley Park</td><td>MO</td><td>63088</td><td>314-231-3514</td><td>0</td></tr>",
                            "<tr><td>492</td><td>466</td><td>4 Otis St</td><td></td><td>Van Nuys</td><td>CA</td><td>91405</td><td>818-749-8650</td><td>0</td></tr>",
                            "<tr><td>493</td><td>467</td><td>8739 Hudson St</td><td></td><td>Vashon</td><td>WA</td><td>98070</td><td>206-389-1482</td><td>0</td></tr>",
                            "<tr><td>494</td><td>468</td><td>88 15th Ave Ne</td><td></td><td>Vestal</td><td>NY</td><td>13850</td><td>607-350-7690</td><td>0</td></tr>",
                            "<tr><td>495</td><td>469</td><td>840 15th Ave</td><td></td><td>Waco</td><td>TX</td><td>76708</td><td>254-205-1422</td><td>0</td></tr>",
                            "<tr><td>496</td><td>470</td><td>8927 Vandever Ave</td><td></td><td>Waco</td><td>TX</td><td>76707</td><td>254-816-8417</td><td>0</td></tr>",
                            "<tr><td>497</td><td>471</td><td>96263 Greenwood Pl</td><td></td><td>Warren</td><td>ME</td><td>4864</td><td>207-297-5029</td><td>0</td></tr>",
                            "<tr><td>498</td><td>472</td><td>9 Front St</td><td></td><td>Washington</td><td>DC</td><td>20001</td><td>202-276-6826</td><td>0</td></tr>",
                            "<tr><td>499</td><td>473</td><td>40 9th Ave Sw #91</td><td></td><td>Waterford</td><td>MI</td><td>48329</td><td>248-697-7722</td><td>0</td></tr>",
                            "<tr><td>500</td><td>474</td><td>71 San Mateo Ave</td><td></td><td>Wayne</td><td>PA</td><td>19087</td><td>610-379-7125</td><td>0</td></tr>",
                            "<tr><td>501</td><td>475</td><td>74989 Brandon St</td><td></td><td>Wellsville</td><td>NY</td><td>14895</td><td>585-498-4278</td><td>0</td></tr>",
                            "<tr><td>502</td><td>476</td><td>1 Midway Rd</td><td></td><td>Westborough</td><td>MA</td><td>1581</td><td>508-504-6388</td><td>0</td></tr>",
                            "<tr><td>503</td><td>477</td><td>4545 Courthouse Rd</td><td></td><td>Westbury</td><td>NY</td><td>11590</td><td>516-333-4861</td><td>0</td></tr>",
                            "<tr><td>504</td><td>478</td><td>44 58th St</td><td></td><td>Wheeling</td><td>IL</td><td>60090</td><td>847-800-3054</td><td>0</td></tr>",
                            "<tr><td>505</td><td>479</td><td>65 Mountain View Dr</td><td></td><td>Whippany</td><td>NJ</td><td>7981</td><td>973-662-8988</td><td>0</td></tr>",
                            "<tr><td>506</td><td>480</td><td>6535 Joyce St</td><td></td><td>Wichita Falls</td><td>TX</td><td>76301</td><td>940-302-3036</td><td>0</td></tr>",
                            "<tr><td>507</td><td>481</td><td>5 Little River Tpke</td><td></td><td>Wilmington</td><td>MA</td><td>1887</td><td>978-679-7429</td><td>0</td></tr>",
                            "<tr><td>508</td><td>482</td><td>3 Aspen St</td><td></td><td>Worcester</td><td>MA</td><td>1602</td><td>508-843-1426</td><td>0</td></tr>",
                            "<tr><td>509</td><td>482</td><td>57254 Brickell Ave #372</td><td></td><td>Worcester</td><td>MA</td><td>1602</td><td>508-502-5634</td><td>0</td></tr>",
                            "<tr><td>510</td><td>483</td><td>2094 Ne 36th Ave</td><td></td><td>Worcester</td><td>MA</td><td>1603</td><td>508-658-7802</td><td>0</td></tr>",
                            "<tr><td>511</td><td>484</td><td>7667 S Hulen St #42</td><td></td><td>Yonkers</td><td>NY</td><td>10701</td><td>914-654-1426</td><td>0</td></tr>",
                            "<tr><td>512</td><td>485</td><td>8573 Lincoln Blvd</td><td></td><td>York</td><td>PA</td><td>17404</td><td>717-344-2804</td><td>0</td></tr>",
                            "</table>"
                        ]
                    }
                }
            ],
            "execution_count": 5
        },
        {
            "cell_type": "markdown",
            "source": [
                "## **Junction/Join Tables**\n",
                "\n",
                "Junciton, or join, tables are a special type of table that helps us resolve a many-to-many relationship. In the _guitar store_ example we have a many-to-many relationship between products and orders. This is because an individual product can be part of many orders, and an order can be made of many products. For example, Order #31 may contain products 1 and 6. At first this looks like a one-to-many relationship, however, Order # 41 contains products 6 and 8. We have multiple products appearing in different orders, which makes this a many-to-many relationship. To resolve this, we use a junction table. This junctino table, _OrderItems_, lists the OrderID and each associated ProductID in their own row so that we can query them. If we run the below code cells (2) we can see that there are no fields that we can use to join Prducts and Orders. They have no common data."
            ],
            "metadata": {
                "language": "sql",
                "azdata_cell_guid": "e6ce3dfd-3158-4e45-9847-b7d3a4eb39bc"
            },
            "attachments": {}
        },
        {
            "cell_type": "code",
            "source": [
                "SELECT *\n",
                "FROM gs_products AS p"
            ],
            "metadata": {
                "language": "sql",
                "azdata_cell_guid": "98664f63-37c0-45f4-9391-8acb8f45569b",
                "tags": []
            },
            "outputs": [],
            "execution_count": null
        },
        {
            "cell_type": "code",
            "source": [
                "SELECT *\n",
                "FROM gs_orders as o"
            ],
            "metadata": {
                "language": "sql",
                "azdata_cell_guid": "43cc8814-0b43-4c43-9dfd-eb5da36b6072",
                "tags": []
            },
            "outputs": [],
            "execution_count": null
        },
        {
            "cell_type": "markdown",
            "source": [
                "Now, if we look at the _OrderItems_ table then we can see that it contains information from both tables. This is showing which items (item\\_id) were part of which orders (order\\_id)"
            ],
            "metadata": {
                "language": "sql",
                "azdata_cell_guid": "4071386c-1875-4aeb-b3ca-22444cc22513"
            },
            "attachments": {}
        },
        {
            "cell_type": "code",
            "source": [
                "SELECT *\n",
                "FROM gs_order_items AS oi"
            ],
            "metadata": {
                "language": "sql",
                "azdata_cell_guid": "e3a9ae3f-e346-4105-8857-7013216f63b3"
            },
            "outputs": [],
            "execution_count": null
        },
        {
            "cell_type": "markdown",
            "source": [
                "This table also includes useful information such as what the discount on the product was at the time of the order, the price that was paid, and the quantity purchased. We can think of this as a transaction table that is storing transaction level data for each product in each order. It is the most granular stage of our data.\n",
                "\n",
                "If we want to connect products to orders, then we will need to join each of our products and orders tables to the OrderItems table. This can be done by using multiple join statements like in the cell below. At the end of one join statement, we just start the next one. The below code cell is showing the productID and orderID for each product/order pairing. If you scroll up, you will notice that these are the same combinations as what is in the ItemOrders table, but we are pulling from the Products and Orders table now instead!"
            ],
            "metadata": {
                "language": "sql",
                "azdata_cell_guid": "b0925851-84af-4fa1-a4a8-d9bb3c2f9ad3"
            },
            "attachments": {}
        },
        {
            "cell_type": "code",
            "source": [
                "SELECT p,product_id, o.order_id\n",
                "FROM gs_products as p\n",
                "JOIN gs_order_items as oi ON p.product_id = oi.product_id\n",
                "JOIN gs_orders as o ON oi.order_id = o.order_id"
            ],
            "metadata": {
                "language": "sql",
                "azdata_cell_guid": "0c2d767e-297a-46ca-8070-3755f5748873",
                "tags": [
                    "hide_input"
                ]
            },
            "outputs": [],
            "execution_count": null
        },
        {
            "cell_type": "markdown",
            "source": [
                "**✏️ Practice**\n",
                "\n",
                "Edit the below code cell so that you are returning the name of each product, as well as the customerID of the customer who placed the order, and the OrderDate."
            ],
            "metadata": {
                "language": "sql",
                "azdata_cell_guid": "852df7fc-5592-455f-b243-e23f39fd778f"
            },
            "attachments": {}
        },
        {
            "cell_type": "code",
            "source": [
                "SELECT p.product_name, o.customer_id, o.order_date\n",
                "FROM gs_products as p\n",
                "JOIN gs_order_items as oi ON p.product_id = oi.product_id\n",
                "JOIN gs_orders as o ON oi.order_id = o.order_id"
            ],
            "metadata": {
                "language": "sql",
                "azdata_cell_guid": "fd5d4291-8b42-4361-b596-6b8a5160dc4c",
                "tags": []
            },
            "outputs": [
                {
                    "output_type": "display_data",
                    "data": {
                        "text/html": "(47 rows affected)"
                    },
                    "metadata": {}
                },
                {
                    "output_type": "display_data",
                    "data": {
                        "text/html": "Total execution time: 00:00:00.050"
                    },
                    "metadata": {}
                },
                {
                    "output_type": "execute_result",
                    "metadata": {},
                    "execution_count": 7,
                    "data": {
                        "application/vnd.dataresource+json": {
                            "schema": {
                                "fields": [
                                    {
                                        "name": "product_name"
                                    },
                                    {
                                        "name": "customer_id"
                                    },
                                    {
                                        "name": "order_date"
                                    }
                                ]
                            },
                            "data": [
                                {
                                    "product_name": "Gibson Les Paul",
                                    "customer_id": "1",
                                    "order_date": "2016-03-28 09:40:28.000"
                                },
                                {
                                    "product_name": "Hofner Icon",
                                    "customer_id": "2",
                                    "order_date": "2016-03-28 11:23:20.000"
                                },
                                {
                                    "product_name": "Fender Stratocaster",
                                    "customer_id": "1",
                                    "order_date": "2016-03-29 09:44:58.000"
                                },
                                {
                                    "product_name": "Ludwig 5-piece Drum Set with Cymbals",
                                    "customer_id": "1",
                                    "order_date": "2016-03-29 09:44:58.000"
                                },
                                {
                                    "product_name": "Gibson Les Paul",
                                    "customer_id": "3",
                                    "order_date": "2016-03-30 15:22:31.000"
                                },
                                {
                                    "product_name": "Tama 5-Piece Drum Set with Cymbals",
                                    "customer_id": "4",
                                    "order_date": "2016-03-31 05:43:11.000"
                                },
                                {
                                    "product_name": "Tama 5-Piece Drum Set with Cymbals",
                                    "customer_id": "5",
                                    "order_date": "2016-03-31 18:37:22.000"
                                },
                                {
                                    "product_name": "Washburn D10S",
                                    "customer_id": "6",
                                    "order_date": "2016-04-01 23:11:12.000"
                                },
                                {
                                    "product_name": "Gibson SG",
                                    "customer_id": "6",
                                    "order_date": "2016-04-01 23:11:12.000"
                                },
                                {
                                    "product_name": "Washburn D10S",
                                    "customer_id": "6",
                                    "order_date": "2016-04-01 23:11:12.000"
                                },
                                {
                                    "product_name": "Yamaha FG700S",
                                    "customer_id": "7",
                                    "order_date": "2016-04-02 11:26:38.000"
                                },
                                {
                                    "product_name": "Rodriguez Caballero 11",
                                    "customer_id": "4",
                                    "order_date": "2016-04-03 12:22:31.000"
                                },
                                {
                                    "product_name": "Fender Precision",
                                    "customer_id": "8",
                                    "order_date": "2016-04-03 14:59:20.000"
                                },
                                {
                                    "product_name": "Rodriguez Caballero 11",
                                    "customer_id": "9",
                                    "order_date": "2016-04-04 06:24:44.000"
                                },
                                {
                                    "product_name": "Fender Stratocaster",
                                    "customer_id": "10",
                                    "order_date": "2016-04-04 08:15:12.000"
                                },
                                {
                                    "product_name": "Yamaha FG700S",
                                    "customer_id": "11",
                                    "order_date": "2016-04-04 11:20:31.000"
                                },
                                {
                                    "product_name": "Gibson Les Paul",
                                    "customer_id": "12",
                                    "order_date": "2016-04-05 09:24:53.000"
                                },
                                {
                                    "product_name": "Gibson SG",
                                    "customer_id": "13",
                                    "order_date": "2016-04-05 14:52:17.000"
                                },
                                {
                                    "product_name": "Rodriguez Caballero 11",
                                    "customer_id": "14",
                                    "order_date": "2016-04-06 07:53:42.000"
                                },
                                {
                                    "product_name": "Ludwig 5-piece Drum Set with Cymbals",
                                    "customer_id": "14",
                                    "order_date": "2016-04-06 07:53:42.000"
                                },
                                {
                                    "product_name": "Rodriguez Caballero 11",
                                    "customer_id": "15",
                                    "order_date": "2016-04-06 17:24:28.000"
                                },
                                {
                                    "product_name": "Rodriguez Caballero 11",
                                    "customer_id": "16",
                                    "order_date": "2016-04-06 18:41:53.000"
                                },
                                {
                                    "product_name": "Gibson Les Paul",
                                    "customer_id": "17",
                                    "order_date": "2016-04-08 12:21:31.000"
                                },
                                {
                                    "product_name": "Yamaha FG700S",
                                    "customer_id": "18",
                                    "order_date": "2016-04-10 09:33:23.000"
                                },
                                {
                                    "product_name": "Gibson SG",
                                    "customer_id": "19",
                                    "order_date": "2016-04-11 08:21:32.000"
                                },
                                {
                                    "product_name": "Fender Stratocaster",
                                    "customer_id": "8",
                                    "order_date": "2016-04-12 12:26:52.000"
                                },
                                {
                                    "product_name": "Rodriguez Caballero 11",
                                    "customer_id": "20",
                                    "order_date": "2016-04-14 07:59:31.000"
                                },
                                {
                                    "product_name": "Rodriguez Caballero 11",
                                    "customer_id": "21",
                                    "order_date": "2016-04-17 17:40:22.000"
                                },
                                {
                                    "product_name": "Gibson Les Paul",
                                    "customer_id": "22",
                                    "order_date": "2016-04-20 08:23:32.000"
                                },
                                {
                                    "product_name": "Rodriguez Caballero 11",
                                    "customer_id": "23",
                                    "order_date": "2016-04-20 08:14:45.000"
                                },
                                {
                                    "product_name": "Fender Stratocaster",
                                    "customer_id": "24",
                                    "order_date": "2016-04-20 09:17:52.000"
                                },
                                {
                                    "product_name": "Washburn D10S",
                                    "customer_id": "25",
                                    "order_date": "2016-04-21 17:52:24.000"
                                },
                                {
                                    "product_name": "Gibson SG",
                                    "customer_id": "4",
                                    "order_date": "2016-04-25 23:36:41.000"
                                },
                                {
                                    "product_name": "Fender Precision",
                                    "customer_id": "26",
                                    "order_date": "2016-04-27 16:21:31.000"
                                },
                                {
                                    "product_name": "Fender Stratocaster",
                                    "customer_id": "27",
                                    "order_date": "2016-04-29 06:47:14.000"
                                },
                                {
                                    "product_name": "Rodriguez Caballero 11",
                                    "customer_id": "27",
                                    "order_date": "2016-04-29 06:47:14.000"
                                },
                                {
                                    "product_name": "Fender Stratocaster",
                                    "customer_id": "18",
                                    "order_date": "2016-05-01 01:23:23.000"
                                },
                                {
                                    "product_name": "Tama 5-Piece Drum Set with Cymbals",
                                    "customer_id": "28",
                                    "order_date": "2016-05-01 09:11:51.000"
                                },
                                {
                                    "product_name": "Gibson Les Paul",
                                    "customer_id": "29",
                                    "order_date": "2016-05-02 11:36:12.000"
                                },
                                {
                                    "product_name": "Gibson SG",
                                    "customer_id": "30",
                                    "order_date": "2016-05-04 03:52:23.000"
                                },
                                {
                                    "product_name": "Hofner Icon",
                                    "customer_id": "31",
                                    "order_date": "2016-05-04 12:31:33.000"
                                },
                                {
                                    "product_name": "Fender Stratocaster",
                                    "customer_id": "32",
                                    "order_date": "2016-05-06 14:15:21.000"
                                },
                                {
                                    "product_name": "Gibson Les Paul",
                                    "customer_id": "33",
                                    "order_date": "2016-05-08 11:41:24.000"
                                },
                                {
                                    "product_name": "Rodriguez Caballero 11",
                                    "customer_id": "29",
                                    "order_date": "2016-05-08 22:22:26.000"
                                },
                                {
                                    "product_name": "Rodriguez Caballero 11",
                                    "customer_id": "34",
                                    "order_date": "2016-05-08 21:41:29.000"
                                },
                                {
                                    "product_name": "Hofner Icon",
                                    "customer_id": "35",
                                    "order_date": "2016-05-09 07:52:55.000"
                                },
                                {
                                    "product_name": "Rodriguez Caballero 11",
                                    "customer_id": "35",
                                    "order_date": "2016-05-09 07:52:55.000"
                                }
                            ]
                        },
                        "text/html": [
                            "<table>",
                            "<tr><th>product_name</th><th>customer_id</th><th>order_date</th></tr>",
                            "<tr><td>Gibson Les Paul</td><td>1</td><td>2016-03-28 09:40:28.000</td></tr>",
                            "<tr><td>Hofner Icon</td><td>2</td><td>2016-03-28 11:23:20.000</td></tr>",
                            "<tr><td>Fender Stratocaster</td><td>1</td><td>2016-03-29 09:44:58.000</td></tr>",
                            "<tr><td>Ludwig 5-piece Drum Set with Cymbals</td><td>1</td><td>2016-03-29 09:44:58.000</td></tr>",
                            "<tr><td>Gibson Les Paul</td><td>3</td><td>2016-03-30 15:22:31.000</td></tr>",
                            "<tr><td>Tama 5-Piece Drum Set with Cymbals</td><td>4</td><td>2016-03-31 05:43:11.000</td></tr>",
                            "<tr><td>Tama 5-Piece Drum Set with Cymbals</td><td>5</td><td>2016-03-31 18:37:22.000</td></tr>",
                            "<tr><td>Washburn D10S</td><td>6</td><td>2016-04-01 23:11:12.000</td></tr>",
                            "<tr><td>Gibson SG</td><td>6</td><td>2016-04-01 23:11:12.000</td></tr>",
                            "<tr><td>Washburn D10S</td><td>6</td><td>2016-04-01 23:11:12.000</td></tr>",
                            "<tr><td>Yamaha FG700S</td><td>7</td><td>2016-04-02 11:26:38.000</td></tr>",
                            "<tr><td>Rodriguez Caballero 11</td><td>4</td><td>2016-04-03 12:22:31.000</td></tr>",
                            "<tr><td>Fender Precision</td><td>8</td><td>2016-04-03 14:59:20.000</td></tr>",
                            "<tr><td>Rodriguez Caballero 11</td><td>9</td><td>2016-04-04 06:24:44.000</td></tr>",
                            "<tr><td>Fender Stratocaster</td><td>10</td><td>2016-04-04 08:15:12.000</td></tr>",
                            "<tr><td>Yamaha FG700S</td><td>11</td><td>2016-04-04 11:20:31.000</td></tr>",
                            "<tr><td>Gibson Les Paul</td><td>12</td><td>2016-04-05 09:24:53.000</td></tr>",
                            "<tr><td>Gibson SG</td><td>13</td><td>2016-04-05 14:52:17.000</td></tr>",
                            "<tr><td>Rodriguez Caballero 11</td><td>14</td><td>2016-04-06 07:53:42.000</td></tr>",
                            "<tr><td>Ludwig 5-piece Drum Set with Cymbals</td><td>14</td><td>2016-04-06 07:53:42.000</td></tr>",
                            "<tr><td>Rodriguez Caballero 11</td><td>15</td><td>2016-04-06 17:24:28.000</td></tr>",
                            "<tr><td>Rodriguez Caballero 11</td><td>16</td><td>2016-04-06 18:41:53.000</td></tr>",
                            "<tr><td>Gibson Les Paul</td><td>17</td><td>2016-04-08 12:21:31.000</td></tr>",
                            "<tr><td>Yamaha FG700S</td><td>18</td><td>2016-04-10 09:33:23.000</td></tr>",
                            "<tr><td>Gibson SG</td><td>19</td><td>2016-04-11 08:21:32.000</td></tr>",
                            "<tr><td>Fender Stratocaster</td><td>8</td><td>2016-04-12 12:26:52.000</td></tr>",
                            "<tr><td>Rodriguez Caballero 11</td><td>20</td><td>2016-04-14 07:59:31.000</td></tr>",
                            "<tr><td>Rodriguez Caballero 11</td><td>21</td><td>2016-04-17 17:40:22.000</td></tr>",
                            "<tr><td>Gibson Les Paul</td><td>22</td><td>2016-04-20 08:23:32.000</td></tr>",
                            "<tr><td>Rodriguez Caballero 11</td><td>23</td><td>2016-04-20 08:14:45.000</td></tr>",
                            "<tr><td>Fender Stratocaster</td><td>24</td><td>2016-04-20 09:17:52.000</td></tr>",
                            "<tr><td>Washburn D10S</td><td>25</td><td>2016-04-21 17:52:24.000</td></tr>",
                            "<tr><td>Gibson SG</td><td>4</td><td>2016-04-25 23:36:41.000</td></tr>",
                            "<tr><td>Fender Precision</td><td>26</td><td>2016-04-27 16:21:31.000</td></tr>",
                            "<tr><td>Fender Stratocaster</td><td>27</td><td>2016-04-29 06:47:14.000</td></tr>",
                            "<tr><td>Rodriguez Caballero 11</td><td>27</td><td>2016-04-29 06:47:14.000</td></tr>",
                            "<tr><td>Fender Stratocaster</td><td>18</td><td>2016-05-01 01:23:23.000</td></tr>",
                            "<tr><td>Tama 5-Piece Drum Set with Cymbals</td><td>28</td><td>2016-05-01 09:11:51.000</td></tr>",
                            "<tr><td>Gibson Les Paul</td><td>29</td><td>2016-05-02 11:36:12.000</td></tr>",
                            "<tr><td>Gibson SG</td><td>30</td><td>2016-05-04 03:52:23.000</td></tr>",
                            "<tr><td>Hofner Icon</td><td>31</td><td>2016-05-04 12:31:33.000</td></tr>",
                            "<tr><td>Fender Stratocaster</td><td>32</td><td>2016-05-06 14:15:21.000</td></tr>",
                            "<tr><td>Gibson Les Paul</td><td>33</td><td>2016-05-08 11:41:24.000</td></tr>",
                            "<tr><td>Rodriguez Caballero 11</td><td>29</td><td>2016-05-08 22:22:26.000</td></tr>",
                            "<tr><td>Rodriguez Caballero 11</td><td>34</td><td>2016-05-08 21:41:29.000</td></tr>",
                            "<tr><td>Hofner Icon</td><td>35</td><td>2016-05-09 07:52:55.000</td></tr>",
                            "<tr><td>Rodriguez Caballero 11</td><td>35</td><td>2016-05-09 07:52:55.000</td></tr>",
                            "</table>"
                        ]
                    }
                }
            ],
            "execution_count": 7
        },
        {
            "cell_type": "markdown",
            "source": [
                "## **Exercises**\n",
                "\n",
                "If you have not already, I would strongly recommend having access to the ERD Linked in Canvas for the Exercises."
            ],
            "metadata": {
                "language": "sql",
                "azdata_cell_guid": "d7e373a8-142b-43b0-96fb-b0323ddb4a77"
            },
            "attachments": {}
        },
        {
            "cell_type": "markdown",
            "source": [
                "1\\. Using the below code cell, return the order date, ship amount, and ship date for every order, as well as the name of the customer that placed the order."
            ],
            "metadata": {
                "language": "sql",
                "azdata_cell_guid": "24d078bb-beb3-4123-9fd2-6aadf59dae7f"
            },
            "attachments": {}
        },
        {
            "cell_type": "markdown",
            "source": [
                "**First 5 rows of correct solution**\n",
                "|order_date|ship_amount|ship_date|first_name|last_name|\n",
                "|---|---|---|---|---|\n",
                "|2016-03-28 09:40:28.000|5.00|2016-03-31 09:41:11.000|Allan|Sherwood|\n",
                "|2016-03-28 11:23:20.000|5.00|2016-03-31 11:24:03.000|Barry|Zimmer|\n",
                "|2016-03-29 09:44:58.000|10.00|2016-04-01 09:45:41.000|Allan|Sherwood|\n",
                "|2016-03-30 15:22:31.000|10.00|2016-04-02 15:23:14.000|Christine|Brown|\n",
                "|2016-03-31 05:43:11.000|5.00|2016-04-03 05:43:54.000|David|Goldstein|"
            ],
            "metadata": {
                "language": "sql",
                "azdata_cell_guid": "af7b0dee-9c25-4c0b-90f0-4240f1ce18a3"
            },
            "attachments": {}
        },
        {
            "cell_type": "code",
            "source": [
                "--Insert your code below this line. You can make your own comments by using two hyphens\n",
                "SELECT o.order_date, o.ship_amount, o.ship_date, c.first_name, c.last_name\n",
                "FROM gs_orders AS o\n",
                "JOIN gs_customers AS c ON o.customer_id = c.customer_id\n",
                ""
            ],
            "metadata": {
                "language": "sql",
                "azdata_cell_guid": "64659785-fedb-4b09-b4b4-52f68dcfca0d",
                "tags": []
            },
            "outputs": [
                {
                    "output_type": "display_data",
                    "data": {
                        "text/html": "(41 rows affected)"
                    },
                    "metadata": {}
                },
                {
                    "output_type": "display_data",
                    "data": {
                        "text/html": "Total execution time: 00:00:00.049"
                    },
                    "metadata": {}
                },
                {
                    "output_type": "execute_result",
                    "metadata": {},
                    "execution_count": 8,
                    "data": {
                        "application/vnd.dataresource+json": {
                            "schema": {
                                "fields": [
                                    {
                                        "name": "order_date"
                                    },
                                    {
                                        "name": "ship_amount"
                                    },
                                    {
                                        "name": "ship_date"
                                    },
                                    {
                                        "name": "first_name"
                                    },
                                    {
                                        "name": "last_name"
                                    }
                                ]
                            },
                            "data": [
                                {
                                    "order_date": "2016-03-28 09:40:28.000",
                                    "ship_amount": "5.00",
                                    "ship_date": "2016-03-31 09:41:11.000",
                                    "first_name": "Allan",
                                    "last_name": "Sherwood"
                                },
                                {
                                    "order_date": "2016-03-28 11:23:20.000",
                                    "ship_amount": "5.00",
                                    "ship_date": "2016-03-31 11:24:03.000",
                                    "first_name": "Barry",
                                    "last_name": "Zimmer"
                                },
                                {
                                    "order_date": "2016-03-29 09:44:58.000",
                                    "ship_amount": "10.00",
                                    "ship_date": "2016-04-01 09:45:41.000",
                                    "first_name": "Allan",
                                    "last_name": "Sherwood"
                                },
                                {
                                    "order_date": "2016-03-30 15:22:31.000",
                                    "ship_amount": "10.00",
                                    "ship_date": "2016-04-02 15:23:14.000",
                                    "first_name": "Christine",
                                    "last_name": "Brown"
                                },
                                {
                                    "order_date": "2016-03-31 05:43:11.000",
                                    "ship_amount": "5.00",
                                    "ship_date": "2016-04-03 05:43:54.000",
                                    "first_name": "David",
                                    "last_name": "Goldstein"
                                },
                                {
                                    "order_date": "2016-03-31 18:37:22.000",
                                    "ship_amount": "5.00",
                                    "ship_date": "2016-04-03 18:38:05.000",
                                    "first_name": "Erin",
                                    "last_name": "Valentino"
                                },
                                {
                                    "order_date": "2016-04-01 23:11:12.000",
                                    "ship_amount": "15.00",
                                    "ship_date": "2016-04-04 23:11:55.000",
                                    "first_name": "Frank Lee",
                                    "last_name": "Wilson"
                                },
                                {
                                    "order_date": "2016-04-02 11:26:38.000",
                                    "ship_amount": "5.00",
                                    "ship_date": "2016-04-05 11:27:21.000",
                                    "first_name": "Gary",
                                    "last_name": "Hernandez"
                                },
                                {
                                    "order_date": "2016-04-03 12:22:31.000",
                                    "ship_amount": "15.00",
                                    "ship_date": "2016-04-06 12:23:14.000",
                                    "first_name": "David",
                                    "last_name": "Goldstein"
                                },
                                {
                                    "order_date": "2016-04-03 14:59:20.000",
                                    "ship_amount": "5.00",
                                    "ship_date": "2016-04-06 15:00:03.000",
                                    "first_name": "Heather",
                                    "last_name": "Esway"
                                },
                                {
                                    "order_date": "2016-04-04 06:24:44.000",
                                    "ship_amount": "5.00",
                                    "ship_date": "2016-04-07 06:25:27.000",
                                    "first_name": "James",
                                    "last_name": "Butt"
                                },
                                {
                                    "order_date": "2016-04-04 08:15:12.000",
                                    "ship_amount": "5.00",
                                    "ship_date": "2016-04-07 08:15:55.000",
                                    "first_name": "Josephine",
                                    "last_name": "Darakjy"
                                },
                                {
                                    "order_date": "2016-04-04 11:20:31.000",
                                    "ship_amount": "5.00",
                                    "ship_date": "2016-04-07 11:21:14.000",
                                    "first_name": "Art",
                                    "last_name": "Venere"
                                },
                                {
                                    "order_date": "2016-04-05 09:24:53.000",
                                    "ship_amount": "10.00",
                                    "ship_date": "2016-04-08 09:25:36.000",
                                    "first_name": "Lenna",
                                    "last_name": "Paprocki"
                                },
                                {
                                    "order_date": "2016-04-05 14:52:17.000",
                                    "ship_amount": "5.00",
                                    "ship_date": "2016-04-08 14:53:00.000",
                                    "first_name": "Donette",
                                    "last_name": "Foller"
                                },
                                {
                                    "order_date": "2016-04-06 07:53:42.000",
                                    "ship_amount": "10.00",
                                    "ship_date": "2016-04-09 07:54:25.000",
                                    "first_name": "Simona",
                                    "last_name": "Morasca"
                                },
                                {
                                    "order_date": "2016-04-06 17:24:28.000",
                                    "ship_amount": "5.00",
                                    "ship_date": "2016-04-09 17:25:11.000",
                                    "first_name": "Mitsue",
                                    "last_name": "Tollner"
                                },
                                {
                                    "order_date": "2016-04-06 18:41:53.000",
                                    "ship_amount": "5.00",
                                    "ship_date": "2016-04-09 18:42:36.000",
                                    "first_name": "Leota",
                                    "last_name": "Dilliard"
                                },
                                {
                                    "order_date": "2016-04-08 12:21:31.000",
                                    "ship_amount": "10.00",
                                    "ship_date": "2016-04-11 12:22:14.000",
                                    "first_name": "Sage",
                                    "last_name": "Wieser"
                                },
                                {
                                    "order_date": "2016-04-10 09:33:23.000",
                                    "ship_amount": "5.00",
                                    "ship_date": "2016-04-13 09:34:06.000",
                                    "first_name": "Kris",
                                    "last_name": "Marrier"
                                },
                                {
                                    "order_date": "2016-04-11 08:21:32.000",
                                    "ship_amount": "10.00",
                                    "ship_date": "2016-04-14 08:22:15.000",
                                    "first_name": "Minna",
                                    "last_name": "Amigon"
                                },
                                {
                                    "order_date": "2016-04-12 12:26:52.000",
                                    "ship_amount": "5.00",
                                    "ship_date": "2016-04-15 12:27:35.000",
                                    "first_name": "Heather",
                                    "last_name": "Esway"
                                },
                                {
                                    "order_date": "2016-04-14 07:59:31.000",
                                    "ship_amount": "5.00",
                                    "ship_date": "2016-04-17 08:00:14.000",
                                    "first_name": "Abel",
                                    "last_name": "Maclead"
                                },
                                {
                                    "order_date": "2016-04-17 17:40:22.000",
                                    "ship_amount": "5.00",
                                    "ship_date": "2016-04-20 17:41:05.000",
                                    "first_name": "Kiley",
                                    "last_name": "Caldarera"
                                },
                                {
                                    "order_date": "2016-04-20 08:23:32.000",
                                    "ship_amount": "10.00",
                                    "ship_date": "2016-04-23 08:24:15.000",
                                    "first_name": "Graciela",
                                    "last_name": "Ruta"
                                },
                                {
                                    "order_date": "2016-04-20 08:14:45.000",
                                    "ship_amount": "5.00",
                                    "ship_date": "2016-04-23 08:15:28.000",
                                    "first_name": "Cammy",
                                    "last_name": "Albares"
                                },
                                {
                                    "order_date": "2016-04-20 09:17:52.000",
                                    "ship_amount": "5.00",
                                    "ship_date": "2016-04-23 09:18:35.000",
                                    "first_name": "Mattie",
                                    "last_name": "Poquette"
                                },
                                {
                                    "order_date": "2016-04-21 17:52:24.000",
                                    "ship_amount": "5.00",
                                    "ship_date": "2016-04-24 17:53:07.000",
                                    "first_name": "Meaghan",
                                    "last_name": "Garufi"
                                },
                                {
                                    "order_date": "2016-04-25 23:36:41.000",
                                    "ship_amount": "25.00",
                                    "ship_date": "2016-04-28 23:37:24.000",
                                    "first_name": "David",
                                    "last_name": "Goldstein"
                                },
                                {
                                    "order_date": "2016-04-27 16:21:31.000",
                                    "ship_amount": "5.00",
                                    "ship_date": "2016-04-30 16:22:14.000",
                                    "first_name": "Gladys",
                                    "last_name": "Rim"
                                },
                                {
                                    "order_date": "2016-04-29 06:47:14.000",
                                    "ship_amount": "10.00",
                                    "ship_date": "2016-05-02 06:47:57.000",
                                    "first_name": "Yuki",
                                    "last_name": "Whobrey"
                                },
                                {
                                    "order_date": "2016-05-01 01:23:23.000",
                                    "ship_amount": "5.00",
                                    "ship_date": "NULL",
                                    "first_name": "Kris",
                                    "last_name": "Marrier"
                                },
                                {
                                    "order_date": "2016-05-01 09:11:51.000",
                                    "ship_amount": "10.00",
                                    "ship_date": "2016-05-04 09:12:34.000",
                                    "first_name": "Fletcher",
                                    "last_name": "Flosi"
                                },
                                {
                                    "order_date": "2016-05-02 11:36:12.000",
                                    "ship_amount": "5.00",
                                    "ship_date": "2016-05-05 11:36:55.000",
                                    "first_name": "Bette",
                                    "last_name": "Nicka"
                                },
                                {
                                    "order_date": "2016-05-04 03:52:23.000",
                                    "ship_amount": "5.00",
                                    "ship_date": "2016-05-07 03:53:06.000",
                                    "first_name": "Veronika",
                                    "last_name": "Inouye"
                                },
                                {
                                    "order_date": "2016-05-04 12:31:33.000",
                                    "ship_amount": "5.00",
                                    "ship_date": "2016-05-07 12:32:16.000",
                                    "first_name": "Willard",
                                    "last_name": "Kolmetz"
                                },
                                {
                                    "order_date": "2016-05-06 14:15:21.000",
                                    "ship_amount": "5.00",
                                    "ship_date": "2016-05-09 14:16:04.000",
                                    "first_name": "Maryann",
                                    "last_name": "Royster"
                                },
                                {
                                    "order_date": "2016-05-08 11:41:24.000",
                                    "ship_amount": "10.00",
                                    "ship_date": "NULL",
                                    "first_name": "Alisha",
                                    "last_name": "Slusarski"
                                },
                                {
                                    "order_date": "2016-05-08 22:22:26.000",
                                    "ship_amount": "5.00",
                                    "ship_date": "NULL",
                                    "first_name": "Bette",
                                    "last_name": "Nicka"
                                },
                                {
                                    "order_date": "2016-05-08 21:41:29.000",
                                    "ship_amount": "5.00",
                                    "ship_date": "NULL",
                                    "first_name": "Allene",
                                    "last_name": "Iturbide"
                                },
                                {
                                    "order_date": "2016-05-09 07:52:55.000",
                                    "ship_amount": "10.00",
                                    "ship_date": "NULL",
                                    "first_name": "Chanel",
                                    "last_name": "Caudy"
                                }
                            ]
                        },
                        "text/html": [
                            "<table>",
                            "<tr><th>order_date</th><th>ship_amount</th><th>ship_date</th><th>first_name</th><th>last_name</th></tr>",
                            "<tr><td>2016-03-28 09:40:28.000</td><td>5.00</td><td>2016-03-31 09:41:11.000</td><td>Allan</td><td>Sherwood</td></tr>",
                            "<tr><td>2016-03-28 11:23:20.000</td><td>5.00</td><td>2016-03-31 11:24:03.000</td><td>Barry</td><td>Zimmer</td></tr>",
                            "<tr><td>2016-03-29 09:44:58.000</td><td>10.00</td><td>2016-04-01 09:45:41.000</td><td>Allan</td><td>Sherwood</td></tr>",
                            "<tr><td>2016-03-30 15:22:31.000</td><td>10.00</td><td>2016-04-02 15:23:14.000</td><td>Christine</td><td>Brown</td></tr>",
                            "<tr><td>2016-03-31 05:43:11.000</td><td>5.00</td><td>2016-04-03 05:43:54.000</td><td>David</td><td>Goldstein</td></tr>",
                            "<tr><td>2016-03-31 18:37:22.000</td><td>5.00</td><td>2016-04-03 18:38:05.000</td><td>Erin</td><td>Valentino</td></tr>",
                            "<tr><td>2016-04-01 23:11:12.000</td><td>15.00</td><td>2016-04-04 23:11:55.000</td><td>Frank Lee</td><td>Wilson</td></tr>",
                            "<tr><td>2016-04-02 11:26:38.000</td><td>5.00</td><td>2016-04-05 11:27:21.000</td><td>Gary</td><td>Hernandez</td></tr>",
                            "<tr><td>2016-04-03 12:22:31.000</td><td>15.00</td><td>2016-04-06 12:23:14.000</td><td>David</td><td>Goldstein</td></tr>",
                            "<tr><td>2016-04-03 14:59:20.000</td><td>5.00</td><td>2016-04-06 15:00:03.000</td><td>Heather</td><td>Esway</td></tr>",
                            "<tr><td>2016-04-04 06:24:44.000</td><td>5.00</td><td>2016-04-07 06:25:27.000</td><td>James</td><td>Butt</td></tr>",
                            "<tr><td>2016-04-04 08:15:12.000</td><td>5.00</td><td>2016-04-07 08:15:55.000</td><td>Josephine</td><td>Darakjy</td></tr>",
                            "<tr><td>2016-04-04 11:20:31.000</td><td>5.00</td><td>2016-04-07 11:21:14.000</td><td>Art</td><td>Venere</td></tr>",
                            "<tr><td>2016-04-05 09:24:53.000</td><td>10.00</td><td>2016-04-08 09:25:36.000</td><td>Lenna</td><td>Paprocki</td></tr>",
                            "<tr><td>2016-04-05 14:52:17.000</td><td>5.00</td><td>2016-04-08 14:53:00.000</td><td>Donette</td><td>Foller</td></tr>",
                            "<tr><td>2016-04-06 07:53:42.000</td><td>10.00</td><td>2016-04-09 07:54:25.000</td><td>Simona</td><td>Morasca</td></tr>",
                            "<tr><td>2016-04-06 17:24:28.000</td><td>5.00</td><td>2016-04-09 17:25:11.000</td><td>Mitsue</td><td>Tollner</td></tr>",
                            "<tr><td>2016-04-06 18:41:53.000</td><td>5.00</td><td>2016-04-09 18:42:36.000</td><td>Leota</td><td>Dilliard</td></tr>",
                            "<tr><td>2016-04-08 12:21:31.000</td><td>10.00</td><td>2016-04-11 12:22:14.000</td><td>Sage</td><td>Wieser</td></tr>",
                            "<tr><td>2016-04-10 09:33:23.000</td><td>5.00</td><td>2016-04-13 09:34:06.000</td><td>Kris</td><td>Marrier</td></tr>",
                            "<tr><td>2016-04-11 08:21:32.000</td><td>10.00</td><td>2016-04-14 08:22:15.000</td><td>Minna</td><td>Amigon</td></tr>",
                            "<tr><td>2016-04-12 12:26:52.000</td><td>5.00</td><td>2016-04-15 12:27:35.000</td><td>Heather</td><td>Esway</td></tr>",
                            "<tr><td>2016-04-14 07:59:31.000</td><td>5.00</td><td>2016-04-17 08:00:14.000</td><td>Abel</td><td>Maclead</td></tr>",
                            "<tr><td>2016-04-17 17:40:22.000</td><td>5.00</td><td>2016-04-20 17:41:05.000</td><td>Kiley</td><td>Caldarera</td></tr>",
                            "<tr><td>2016-04-20 08:23:32.000</td><td>10.00</td><td>2016-04-23 08:24:15.000</td><td>Graciela</td><td>Ruta</td></tr>",
                            "<tr><td>2016-04-20 08:14:45.000</td><td>5.00</td><td>2016-04-23 08:15:28.000</td><td>Cammy</td><td>Albares</td></tr>",
                            "<tr><td>2016-04-20 09:17:52.000</td><td>5.00</td><td>2016-04-23 09:18:35.000</td><td>Mattie</td><td>Poquette</td></tr>",
                            "<tr><td>2016-04-21 17:52:24.000</td><td>5.00</td><td>2016-04-24 17:53:07.000</td><td>Meaghan</td><td>Garufi</td></tr>",
                            "<tr><td>2016-04-25 23:36:41.000</td><td>25.00</td><td>2016-04-28 23:37:24.000</td><td>David</td><td>Goldstein</td></tr>",
                            "<tr><td>2016-04-27 16:21:31.000</td><td>5.00</td><td>2016-04-30 16:22:14.000</td><td>Gladys</td><td>Rim</td></tr>",
                            "<tr><td>2016-04-29 06:47:14.000</td><td>10.00</td><td>2016-05-02 06:47:57.000</td><td>Yuki</td><td>Whobrey</td></tr>",
                            "<tr><td>2016-05-01 01:23:23.000</td><td>5.00</td><td>NULL</td><td>Kris</td><td>Marrier</td></tr>",
                            "<tr><td>2016-05-01 09:11:51.000</td><td>10.00</td><td>2016-05-04 09:12:34.000</td><td>Fletcher</td><td>Flosi</td></tr>",
                            "<tr><td>2016-05-02 11:36:12.000</td><td>5.00</td><td>2016-05-05 11:36:55.000</td><td>Bette</td><td>Nicka</td></tr>",
                            "<tr><td>2016-05-04 03:52:23.000</td><td>5.00</td><td>2016-05-07 03:53:06.000</td><td>Veronika</td><td>Inouye</td></tr>",
                            "<tr><td>2016-05-04 12:31:33.000</td><td>5.00</td><td>2016-05-07 12:32:16.000</td><td>Willard</td><td>Kolmetz</td></tr>",
                            "<tr><td>2016-05-06 14:15:21.000</td><td>5.00</td><td>2016-05-09 14:16:04.000</td><td>Maryann</td><td>Royster</td></tr>",
                            "<tr><td>2016-05-08 11:41:24.000</td><td>10.00</td><td>NULL</td><td>Alisha</td><td>Slusarski</td></tr>",
                            "<tr><td>2016-05-08 22:22:26.000</td><td>5.00</td><td>NULL</td><td>Bette</td><td>Nicka</td></tr>",
                            "<tr><td>2016-05-08 21:41:29.000</td><td>5.00</td><td>NULL</td><td>Allene</td><td>Iturbide</td></tr>",
                            "<tr><td>2016-05-09 07:52:55.000</td><td>10.00</td><td>NULL</td><td>Chanel</td><td>Caudy</td></tr>",
                            "</table>"
                        ]
                    }
                }
            ],
            "execution_count": 8
        },
        {
            "cell_type": "markdown",
            "source": [
                "2\\. Using the below code cell, return the first name, last name, and email address for each customer who has placed and order and has a yahoo email address."
            ],
            "metadata": {
                "language": "sql",
                "azdata_cell_guid": "530e4b0a-3a53-4072-8c43-ce52893be083"
            },
            "attachments": {}
        },
        {
            "cell_type": "markdown",
            "source": [
                "**First 5 rows of correct solution**\n",
                "|first_name|last_name|email_address|\n",
                "|---|---|---|\n",
                "|Allan|Sherwood|allan.sherwood@yahoo.com|\n",
                "|Allan|Sherwood|allan.sherwood@yahoo.com|\n",
                "|Gary|Hernandez|gary_hernandez@yahoo.com|\n",
                "|Mitsue|Tollner|mitsue_tollner@yahoo.com|\n",
                "|Minna|Amigon|minna_amigon@yahoo.com|"
            ],
            "metadata": {
                "language": "sql",
                "azdata_cell_guid": "ecc35976-5933-4bd3-860a-86170de9a29f"
            },
            "attachments": {}
        },
        {
            "cell_type": "code",
            "source": [
                "--Insert your code below this line. You can make your own comments by using two hyphens\n",
                "SELECT c.first_name, c.last_name, c.email_address\n",
                "FROM gs_customers AS c\n",
                "WHERE c.email_address LIKE '%@yahoo.com'"
            ],
            "metadata": {
                "language": "sql",
                "azdata_cell_guid": "9669f4a0-ff02-4021-8120-233b1af0c852",
                "tags": []
            },
            "outputs": [
                {
                    "output_type": "display_data",
                    "data": {
                        "text/html": "(85 rows affected)"
                    },
                    "metadata": {}
                },
                {
                    "output_type": "display_data",
                    "data": {
                        "text/html": "Total execution time: 00:00:00.050"
                    },
                    "metadata": {}
                },
                {
                    "output_type": "execute_result",
                    "metadata": {},
                    "execution_count": 9,
                    "data": {
                        "application/vnd.dataresource+json": {
                            "schema": {
                                "fields": [
                                    {
                                        "name": "first_name"
                                    },
                                    {
                                        "name": "last_name"
                                    },
                                    {
                                        "name": "email_address"
                                    }
                                ]
                            },
                            "data": [
                                {
                                    "first_name": "Allan",
                                    "last_name": "Sherwood",
                                    "email_address": "allan.sherwood@yahoo.com"
                                },
                                {
                                    "first_name": "Gary",
                                    "last_name": "Hernandez",
                                    "email_address": "gary_hernandez@yahoo.com"
                                },
                                {
                                    "first_name": "Mitsue",
                                    "last_name": "Tollner",
                                    "email_address": "mitsue_tollner@yahoo.com"
                                },
                                {
                                    "first_name": "Minna",
                                    "last_name": "Amigon",
                                    "email_address": "minna_amigon@yahoo.com"
                                },
                                {
                                    "first_name": "Fletcher",
                                    "last_name": "Flosi",
                                    "email_address": "fletcher.flosi@yahoo.com"
                                },
                                {
                                    "first_name": "Willow",
                                    "last_name": "Kusko",
                                    "email_address": "wkusko@yahoo.com"
                                },
                                {
                                    "first_name": "Jose",
                                    "last_name": "Stockham",
                                    "email_address": "jose@yahoo.com"
                                },
                                {
                                    "first_name": "Kanisha",
                                    "last_name": "Waycott",
                                    "email_address": "kanisha_waycott@yahoo.com"
                                },
                                {
                                    "first_name": "Blair",
                                    "last_name": "Malet",
                                    "email_address": "bmalet@yahoo.com"
                                },
                                {
                                    "first_name": "Brock",
                                    "last_name": "Bolognia",
                                    "email_address": "bbolognia@yahoo.com"
                                },
                                {
                                    "first_name": "Karl",
                                    "last_name": "Klonowski",
                                    "email_address": "karl_klonowski@yahoo.com"
                                },
                                {
                                    "first_name": "Moon",
                                    "last_name": "Parlato",
                                    "email_address": "moon@yahoo.com"
                                },
                                {
                                    "first_name": "Elza",
                                    "last_name": "Lipke",
                                    "email_address": "elza@yahoo.com"
                                },
                                {
                                    "first_name": "Lettie",
                                    "last_name": "Isenhower",
                                    "email_address": "lettie_isenhower@yahoo.com"
                                },
                                {
                                    "first_name": "Malinda",
                                    "last_name": "Hochard",
                                    "email_address": "malinda.hochard@yahoo.com"
                                },
                                {
                                    "first_name": "Scarlet",
                                    "last_name": "Cartan",
                                    "email_address": "scarlet.cartan@yahoo.com"
                                },
                                {
                                    "first_name": "Oretha",
                                    "last_name": "Menter",
                                    "email_address": "oretha_menter@yahoo.com"
                                },
                                {
                                    "first_name": "Thurman",
                                    "last_name": "Manno",
                                    "email_address": "thurman.manno@yahoo.com"
                                },
                                {
                                    "first_name": "Beatriz",
                                    "last_name": "Corrington",
                                    "email_address": "beatriz@yahoo.com"
                                },
                                {
                                    "first_name": "Marti",
                                    "last_name": "Maybury",
                                    "email_address": "marti.maybury@yahoo.com"
                                },
                                {
                                    "first_name": "Carissa",
                                    "last_name": "Batman",
                                    "email_address": "carissa.batman@yahoo.com"
                                },
                                {
                                    "first_name": "Gregoria",
                                    "last_name": "Pawlowicz",
                                    "email_address": "gpawlowicz@yahoo.com"
                                },
                                {
                                    "first_name": "Chantell",
                                    "last_name": "Maynerich",
                                    "email_address": "chantell@yahoo.com"
                                },
                                {
                                    "first_name": "Dierdre",
                                    "last_name": "Yum",
                                    "email_address": "dyum@yahoo.com"
                                },
                                {
                                    "first_name": "Dorthy",
                                    "last_name": "Hidvegi",
                                    "email_address": "dhidvegi@yahoo.com"
                                },
                                {
                                    "first_name": "Fannie",
                                    "last_name": "Lungren",
                                    "email_address": "fannie.lungren@yahoo.com"
                                },
                                {
                                    "first_name": "Jennifer",
                                    "last_name": "Fallick",
                                    "email_address": "jfallick@yahoo.com"
                                },
                                {
                                    "first_name": "Eun",
                                    "last_name": "Coody",
                                    "email_address": "eun@yahoo.com"
                                },
                                {
                                    "first_name": "Helga",
                                    "last_name": "Fredicks",
                                    "email_address": "helga_fredicks@yahoo.com"
                                },
                                {
                                    "first_name": "Fausto",
                                    "last_name": "Agramonte",
                                    "email_address": "fausto_agramonte@yahoo.com"
                                },
                                {
                                    "first_name": "Ressie",
                                    "last_name": "Auffrey",
                                    "email_address": "ressie.auffrey@yahoo.com"
                                },
                                {
                                    "first_name": "Justine",
                                    "last_name": "Mugnolo",
                                    "email_address": "jmugnolo@yahoo.com"
                                },
                                {
                                    "first_name": "Marvel",
                                    "last_name": "Raymo",
                                    "email_address": "mraymo@yahoo.com"
                                },
                                {
                                    "first_name": "Deandrea",
                                    "last_name": "Hughey",
                                    "email_address": "deandrea@yahoo.com"
                                },
                                {
                                    "first_name": "Kimberlie",
                                    "last_name": "Duenas",
                                    "email_address": "kimberlie_duenas@yahoo.com"
                                },
                                {
                                    "first_name": "Skye",
                                    "last_name": "Fillingim",
                                    "email_address": "skye_fillingim@yahoo.com"
                                },
                                {
                                    "first_name": "Jade",
                                    "last_name": "Farrar",
                                    "email_address": "jade.farrar@yahoo.com"
                                },
                                {
                                    "first_name": "Stevie",
                                    "last_name": "Westerbeck",
                                    "email_address": "stevie.westerbeck@yahoo.com"
                                },
                                {
                                    "first_name": "Buddy",
                                    "last_name": "Cloney",
                                    "email_address": "buddy.cloney@yahoo.com"
                                },
                                {
                                    "first_name": "Matthew",
                                    "last_name": "Neither",
                                    "email_address": "mneither@yahoo.com"
                                },
                                {
                                    "first_name": "Raul",
                                    "last_name": "Upthegrove",
                                    "email_address": "rupthegrove@yahoo.com"
                                },
                                {
                                    "first_name": "Kayleigh",
                                    "last_name": "Lace",
                                    "email_address": "kayleigh.lace@yahoo.com"
                                },
                                {
                                    "first_name": "Christiane",
                                    "last_name": "Eschberger",
                                    "email_address": "christiane.eschberger@yahoo.com"
                                },
                                {
                                    "first_name": "Goldie",
                                    "last_name": "Schirpke",
                                    "email_address": "goldie.schirpke@yahoo.com"
                                },
                                {
                                    "first_name": "Amie",
                                    "last_name": "Perigo",
                                    "email_address": "amie.perigo@yahoo.com"
                                },
                                {
                                    "first_name": "Helaine",
                                    "last_name": "Halter",
                                    "email_address": "hhalter@yahoo.com"
                                },
                                {
                                    "first_name": "France",
                                    "last_name": "Buzick",
                                    "email_address": "france.buzick@yahoo.com"
                                },
                                {
                                    "first_name": "Jerry",
                                    "last_name": "Dallen",
                                    "email_address": "jerry.dallen@yahoo.com"
                                },
                                {
                                    "first_name": "Leonora",
                                    "last_name": "Mauson",
                                    "email_address": "leonora@yahoo.com"
                                },
                                {
                                    "first_name": "Dulce",
                                    "last_name": "Labreche",
                                    "email_address": "dulce_labreche@yahoo.com"
                                },
                                {
                                    "first_name": "Kate",
                                    "last_name": "Keneipp",
                                    "email_address": "kate_keneipp@yahoo.com"
                                },
                                {
                                    "first_name": "Nobuko",
                                    "last_name": "Halsey",
                                    "email_address": "nobuko.halsey@yahoo.com"
                                },
                                {
                                    "first_name": "Margart",
                                    "last_name": "Meisel",
                                    "email_address": "margart_meisel@yahoo.com"
                                },
                                {
                                    "first_name": "Kristofer",
                                    "last_name": "Bennick",
                                    "email_address": "kristofer.bennick@yahoo.com"
                                },
                                {
                                    "first_name": "Elouise",
                                    "last_name": "Gwalthney",
                                    "email_address": "egwalthney@yahoo.com"
                                },
                                {
                                    "first_name": "Maile",
                                    "last_name": "Linahan",
                                    "email_address": "mlinahan@yahoo.com"
                                },
                                {
                                    "first_name": "Markus",
                                    "last_name": "Lukasik",
                                    "email_address": "markus@yahoo.com"
                                },
                                {
                                    "first_name": "Ciara",
                                    "last_name": "Ventura",
                                    "email_address": "cventura@yahoo.com"
                                },
                                {
                                    "first_name": "Galen",
                                    "last_name": "Cantres",
                                    "email_address": "galen@yahoo.com"
                                },
                                {
                                    "first_name": "Truman",
                                    "last_name": "Feichtner",
                                    "email_address": "tfeichtner@yahoo.com"
                                },
                                {
                                    "first_name": "Lizbeth",
                                    "last_name": "Kohl",
                                    "email_address": "lizbeth@yahoo.com"
                                },
                                {
                                    "first_name": "Lashandra",
                                    "last_name": "Klang",
                                    "email_address": "lashandra@yahoo.com"
                                },
                                {
                                    "first_name": "Laurel",
                                    "last_name": "Pagliuca",
                                    "email_address": "laurel@yahoo.com"
                                },
                                {
                                    "first_name": "Annelle",
                                    "last_name": "Tagala",
                                    "email_address": "annelle@yahoo.com"
                                },
                                {
                                    "first_name": "Mollie",
                                    "last_name": "Mcdoniel",
                                    "email_address": "mollie_mcdoniel@yahoo.com"
                                },
                                {
                                    "first_name": "Tasia",
                                    "last_name": "Andreason",
                                    "email_address": "tasia_andreason@yahoo.com"
                                },
                                {
                                    "first_name": "Arthur",
                                    "last_name": "Farrow",
                                    "email_address": "arthur.farrow@yahoo.com"
                                },
                                {
                                    "first_name": "Mitzie",
                                    "last_name": "Hudnall",
                                    "email_address": "mitzie_hudnall@yahoo.com"
                                },
                                {
                                    "first_name": "Bernardine",
                                    "last_name": "Rodefer",
                                    "email_address": "bernardine_rodefer@yahoo.com"
                                },
                                {
                                    "first_name": "Janine",
                                    "last_name": "Rhoden",
                                    "email_address": "jrhoden@yahoo.com"
                                },
                                {
                                    "first_name": "Eden",
                                    "last_name": "Jayson",
                                    "email_address": "eden_jayson@yahoo.com"
                                },
                                {
                                    "first_name": "Golda",
                                    "last_name": "Kaniecki",
                                    "email_address": "golda_kaniecki@yahoo.com"
                                },
                                {
                                    "first_name": "Jolene",
                                    "last_name": "Ostolaza",
                                    "email_address": "jolene@yahoo.com"
                                },
                                {
                                    "first_name": "Keneth",
                                    "last_name": "Borgman",
                                    "email_address": "keneth@yahoo.com"
                                },
                                {
                                    "first_name": "Elke",
                                    "last_name": "Sengbusch",
                                    "email_address": "elke_sengbusch@yahoo.com"
                                },
                                {
                                    "first_name": "Trinidad",
                                    "last_name": "Mcrae",
                                    "email_address": "trinidad_mcrae@yahoo.com"
                                },
                                {
                                    "first_name": "Mari",
                                    "last_name": "Lueckenbach",
                                    "email_address": "mari_lueckenbach@yahoo.com"
                                },
                                {
                                    "first_name": "Dick",
                                    "last_name": "Wenzinger",
                                    "email_address": "dick@yahoo.com"
                                },
                                {
                                    "first_name": "Iluminada",
                                    "last_name": "Ohms",
                                    "email_address": "iluminada.ohms@yahoo.com"
                                },
                                {
                                    "first_name": "Quentin",
                                    "last_name": "Swayze",
                                    "email_address": "quentin_swayze@yahoo.com"
                                },
                                {
                                    "first_name": "Jeanice",
                                    "last_name": "Claucherty",
                                    "email_address": "jeanice.claucherty@yahoo.com"
                                },
                                {
                                    "first_name": "Jacqueline",
                                    "last_name": "Rowling",
                                    "email_address": "jacqueline.rowling@yahoo.com"
                                },
                                {
                                    "first_name": "Colette",
                                    "last_name": "Kardas",
                                    "email_address": "colette.kardas@yahoo.com"
                                },
                                {
                                    "first_name": "Sharen",
                                    "last_name": "Bourbon",
                                    "email_address": "sbourbon@yahoo.com"
                                },
                                {
                                    "first_name": "Glory",
                                    "last_name": "Schieler",
                                    "email_address": "glory@yahoo.com"
                                }
                            ]
                        },
                        "text/html": [
                            "<table>",
                            "<tr><th>first_name</th><th>last_name</th><th>email_address</th></tr>",
                            "<tr><td>Allan</td><td>Sherwood</td><td>allan.sherwood@yahoo.com</td></tr>",
                            "<tr><td>Gary</td><td>Hernandez</td><td>gary_hernandez@yahoo.com</td></tr>",
                            "<tr><td>Mitsue</td><td>Tollner</td><td>mitsue_tollner@yahoo.com</td></tr>",
                            "<tr><td>Minna</td><td>Amigon</td><td>minna_amigon@yahoo.com</td></tr>",
                            "<tr><td>Fletcher</td><td>Flosi</td><td>fletcher.flosi@yahoo.com</td></tr>",
                            "<tr><td>Willow</td><td>Kusko</td><td>wkusko@yahoo.com</td></tr>",
                            "<tr><td>Jose</td><td>Stockham</td><td>jose@yahoo.com</td></tr>",
                            "<tr><td>Kanisha</td><td>Waycott</td><td>kanisha_waycott@yahoo.com</td></tr>",
                            "<tr><td>Blair</td><td>Malet</td><td>bmalet@yahoo.com</td></tr>",
                            "<tr><td>Brock</td><td>Bolognia</td><td>bbolognia@yahoo.com</td></tr>",
                            "<tr><td>Karl</td><td>Klonowski</td><td>karl_klonowski@yahoo.com</td></tr>",
                            "<tr><td>Moon</td><td>Parlato</td><td>moon@yahoo.com</td></tr>",
                            "<tr><td>Elza</td><td>Lipke</td><td>elza@yahoo.com</td></tr>",
                            "<tr><td>Lettie</td><td>Isenhower</td><td>lettie_isenhower@yahoo.com</td></tr>",
                            "<tr><td>Malinda</td><td>Hochard</td><td>malinda.hochard@yahoo.com</td></tr>",
                            "<tr><td>Scarlet</td><td>Cartan</td><td>scarlet.cartan@yahoo.com</td></tr>",
                            "<tr><td>Oretha</td><td>Menter</td><td>oretha_menter@yahoo.com</td></tr>",
                            "<tr><td>Thurman</td><td>Manno</td><td>thurman.manno@yahoo.com</td></tr>",
                            "<tr><td>Beatriz</td><td>Corrington</td><td>beatriz@yahoo.com</td></tr>",
                            "<tr><td>Marti</td><td>Maybury</td><td>marti.maybury@yahoo.com</td></tr>",
                            "<tr><td>Carissa</td><td>Batman</td><td>carissa.batman@yahoo.com</td></tr>",
                            "<tr><td>Gregoria</td><td>Pawlowicz</td><td>gpawlowicz@yahoo.com</td></tr>",
                            "<tr><td>Chantell</td><td>Maynerich</td><td>chantell@yahoo.com</td></tr>",
                            "<tr><td>Dierdre</td><td>Yum</td><td>dyum@yahoo.com</td></tr>",
                            "<tr><td>Dorthy</td><td>Hidvegi</td><td>dhidvegi@yahoo.com</td></tr>",
                            "<tr><td>Fannie</td><td>Lungren</td><td>fannie.lungren@yahoo.com</td></tr>",
                            "<tr><td>Jennifer</td><td>Fallick</td><td>jfallick@yahoo.com</td></tr>",
                            "<tr><td>Eun</td><td>Coody</td><td>eun@yahoo.com</td></tr>",
                            "<tr><td>Helga</td><td>Fredicks</td><td>helga_fredicks@yahoo.com</td></tr>",
                            "<tr><td>Fausto</td><td>Agramonte</td><td>fausto_agramonte@yahoo.com</td></tr>",
                            "<tr><td>Ressie</td><td>Auffrey</td><td>ressie.auffrey@yahoo.com</td></tr>",
                            "<tr><td>Justine</td><td>Mugnolo</td><td>jmugnolo@yahoo.com</td></tr>",
                            "<tr><td>Marvel</td><td>Raymo</td><td>mraymo@yahoo.com</td></tr>",
                            "<tr><td>Deandrea</td><td>Hughey</td><td>deandrea@yahoo.com</td></tr>",
                            "<tr><td>Kimberlie</td><td>Duenas</td><td>kimberlie_duenas@yahoo.com</td></tr>",
                            "<tr><td>Skye</td><td>Fillingim</td><td>skye_fillingim@yahoo.com</td></tr>",
                            "<tr><td>Jade</td><td>Farrar</td><td>jade.farrar@yahoo.com</td></tr>",
                            "<tr><td>Stevie</td><td>Westerbeck</td><td>stevie.westerbeck@yahoo.com</td></tr>",
                            "<tr><td>Buddy</td><td>Cloney</td><td>buddy.cloney@yahoo.com</td></tr>",
                            "<tr><td>Matthew</td><td>Neither</td><td>mneither@yahoo.com</td></tr>",
                            "<tr><td>Raul</td><td>Upthegrove</td><td>rupthegrove@yahoo.com</td></tr>",
                            "<tr><td>Kayleigh</td><td>Lace</td><td>kayleigh.lace@yahoo.com</td></tr>",
                            "<tr><td>Christiane</td><td>Eschberger</td><td>christiane.eschberger@yahoo.com</td></tr>",
                            "<tr><td>Goldie</td><td>Schirpke</td><td>goldie.schirpke@yahoo.com</td></tr>",
                            "<tr><td>Amie</td><td>Perigo</td><td>amie.perigo@yahoo.com</td></tr>",
                            "<tr><td>Helaine</td><td>Halter</td><td>hhalter@yahoo.com</td></tr>",
                            "<tr><td>France</td><td>Buzick</td><td>france.buzick@yahoo.com</td></tr>",
                            "<tr><td>Jerry</td><td>Dallen</td><td>jerry.dallen@yahoo.com</td></tr>",
                            "<tr><td>Leonora</td><td>Mauson</td><td>leonora@yahoo.com</td></tr>",
                            "<tr><td>Dulce</td><td>Labreche</td><td>dulce_labreche@yahoo.com</td></tr>",
                            "<tr><td>Kate</td><td>Keneipp</td><td>kate_keneipp@yahoo.com</td></tr>",
                            "<tr><td>Nobuko</td><td>Halsey</td><td>nobuko.halsey@yahoo.com</td></tr>",
                            "<tr><td>Margart</td><td>Meisel</td><td>margart_meisel@yahoo.com</td></tr>",
                            "<tr><td>Kristofer</td><td>Bennick</td><td>kristofer.bennick@yahoo.com</td></tr>",
                            "<tr><td>Elouise</td><td>Gwalthney</td><td>egwalthney@yahoo.com</td></tr>",
                            "<tr><td>Maile</td><td>Linahan</td><td>mlinahan@yahoo.com</td></tr>",
                            "<tr><td>Markus</td><td>Lukasik</td><td>markus@yahoo.com</td></tr>",
                            "<tr><td>Ciara</td><td>Ventura</td><td>cventura@yahoo.com</td></tr>",
                            "<tr><td>Galen</td><td>Cantres</td><td>galen@yahoo.com</td></tr>",
                            "<tr><td>Truman</td><td>Feichtner</td><td>tfeichtner@yahoo.com</td></tr>",
                            "<tr><td>Lizbeth</td><td>Kohl</td><td>lizbeth@yahoo.com</td></tr>",
                            "<tr><td>Lashandra</td><td>Klang</td><td>lashandra@yahoo.com</td></tr>",
                            "<tr><td>Laurel</td><td>Pagliuca</td><td>laurel@yahoo.com</td></tr>",
                            "<tr><td>Annelle</td><td>Tagala</td><td>annelle@yahoo.com</td></tr>",
                            "<tr><td>Mollie</td><td>Mcdoniel</td><td>mollie_mcdoniel@yahoo.com</td></tr>",
                            "<tr><td>Tasia</td><td>Andreason</td><td>tasia_andreason@yahoo.com</td></tr>",
                            "<tr><td>Arthur</td><td>Farrow</td><td>arthur.farrow@yahoo.com</td></tr>",
                            "<tr><td>Mitzie</td><td>Hudnall</td><td>mitzie_hudnall@yahoo.com</td></tr>",
                            "<tr><td>Bernardine</td><td>Rodefer</td><td>bernardine_rodefer@yahoo.com</td></tr>",
                            "<tr><td>Janine</td><td>Rhoden</td><td>jrhoden@yahoo.com</td></tr>",
                            "<tr><td>Eden</td><td>Jayson</td><td>eden_jayson@yahoo.com</td></tr>",
                            "<tr><td>Golda</td><td>Kaniecki</td><td>golda_kaniecki@yahoo.com</td></tr>",
                            "<tr><td>Jolene</td><td>Ostolaza</td><td>jolene@yahoo.com</td></tr>",
                            "<tr><td>Keneth</td><td>Borgman</td><td>keneth@yahoo.com</td></tr>",
                            "<tr><td>Elke</td><td>Sengbusch</td><td>elke_sengbusch@yahoo.com</td></tr>",
                            "<tr><td>Trinidad</td><td>Mcrae</td><td>trinidad_mcrae@yahoo.com</td></tr>",
                            "<tr><td>Mari</td><td>Lueckenbach</td><td>mari_lueckenbach@yahoo.com</td></tr>",
                            "<tr><td>Dick</td><td>Wenzinger</td><td>dick@yahoo.com</td></tr>",
                            "<tr><td>Iluminada</td><td>Ohms</td><td>iluminada.ohms@yahoo.com</td></tr>",
                            "<tr><td>Quentin</td><td>Swayze</td><td>quentin_swayze@yahoo.com</td></tr>",
                            "<tr><td>Jeanice</td><td>Claucherty</td><td>jeanice.claucherty@yahoo.com</td></tr>",
                            "<tr><td>Jacqueline</td><td>Rowling</td><td>jacqueline.rowling@yahoo.com</td></tr>",
                            "<tr><td>Colette</td><td>Kardas</td><td>colette.kardas@yahoo.com</td></tr>",
                            "<tr><td>Sharen</td><td>Bourbon</td><td>sbourbon@yahoo.com</td></tr>",
                            "<tr><td>Glory</td><td>Schieler</td><td>glory@yahoo.com</td></tr>",
                            "</table>"
                        ]
                    }
                }
            ],
            "execution_count": 9
        },
        {
            "cell_type": "markdown",
            "source": [
                "3\\. Using the below code cell, return the order\\_id and order date for items ordered by Kris Marrier"
            ],
            "metadata": {
                "language": "sql",
                "azdata_cell_guid": "dc267393-1872-4cf4-8604-b43d72c5954f"
            },
            "attachments": {}
        },
        {
            "cell_type": "markdown",
            "source": [
                "**First 5 rows of correct solution**\n",
                "\n",
                "| order\\_id | order\\_date |\n",
                "| --- | --- |\n",
                "| 20 | 2016-04-10 09:33:23.000 |\n",
                "| 32 | 2016-05-01 01:23:23.000 |"
            ],
            "metadata": {
                "language": "sql",
                "azdata_cell_guid": "953521f1-8b26-4ffa-b771-5ecef257f5cc"
            },
            "attachments": {}
        },
        {
            "cell_type": "code",
            "source": [
                "--Insert your code below this line. You can make your own comments by using two hyphens\n",
                "SELECT o.order_id, o.order_date\n",
                "FROM gs_orders AS o\n",
                "JOIN gs_customers AS c ON o.customer_id = c.customer_id\n",
                "WHERE c.first_name = 'Kris' AND c.last_name = 'Marrier'"
            ],
            "metadata": {
                "language": "sql",
                "azdata_cell_guid": "ffcab349-f4a5-4bcf-b6c7-4079a3e583c2"
            },
            "outputs": [
                {
                    "output_type": "display_data",
                    "data": {
                        "text/html": "(2 rows affected)"
                    },
                    "metadata": {}
                },
                {
                    "output_type": "display_data",
                    "data": {
                        "text/html": "Total execution time: 00:00:00.049"
                    },
                    "metadata": {}
                },
                {
                    "output_type": "execute_result",
                    "metadata": {},
                    "execution_count": 10,
                    "data": {
                        "application/vnd.dataresource+json": {
                            "schema": {
                                "fields": [
                                    {
                                        "name": "order_id"
                                    },
                                    {
                                        "name": "order_date"
                                    }
                                ]
                            },
                            "data": [
                                {
                                    "order_id": "20",
                                    "order_date": "2016-04-10 09:33:23.000"
                                },
                                {
                                    "order_id": "32",
                                    "order_date": "2016-05-01 01:23:23.000"
                                }
                            ]
                        },
                        "text/html": [
                            "<table>",
                            "<tr><th>order_id</th><th>order_date</th></tr>",
                            "<tr><td>20</td><td>2016-04-10 09:33:23.000</td></tr>",
                            "<tr><td>32</td><td>2016-05-01 01:23:23.000</td></tr>",
                            "</table>"
                        ]
                    }
                }
            ],
            "execution_count": 10
        },
        {
            "cell_type": "markdown",
            "source": [
                "4\\. Expand the query from exercise 3 to also include the product name, price, and quantity. You will have to join a total of four tables."
            ],
            "metadata": {
                "language": "sql",
                "azdata_cell_guid": "3854a92b-202f-4506-aa6e-4452841de4c4"
            },
            "attachments": {}
        },
        {
            "cell_type": "markdown",
            "source": [
                "**First 5 rows of correct solution**\n",
                "|order_id|order_date|product_name|item_price|quantity|\n",
                "|---|---|---|---|---|\n",
                "|20|2016-04-10 09:33:23.000|Yamaha FG700S|799.99|1|\n",
                "|32|2016-05-01 01:23:23.000|Fender Stratocaster|2517.00|1|\n",
                ""
            ],
            "metadata": {
                "language": "sql",
                "azdata_cell_guid": "e158e054-6901-478e-8909-f2caf7b9324f"
            },
            "attachments": {}
        },
        {
            "cell_type": "code",
            "source": [
                "--Insert your code below this line. You can make your own comments by using two hyphens\n",
                "SELECT o.order_id, o.order_date, p.product_name, oi.item_price, oi.quantity\n",
                "FROM gs_orders AS o\n",
                "JOIN gs_customers AS c ON o.customer_id = c.customer_id\n",
                "JOIN gs_order_items AS oi ON o.order_id = oi.order_id\n",
                "JOIN gs_products AS p ON oi.product_id = p.product_id\n",
                "WHERE c.first_name = 'Kris' AND c.last_name = 'Marrier'\n",
                ""
            ],
            "metadata": {
                "language": "sql",
                "azdata_cell_guid": "962e0f14-46af-46a1-979d-ca8e595f8fe2",
                "tags": []
            },
            "outputs": [
                {
                    "output_type": "display_data",
                    "data": {
                        "text/html": "(2 rows affected)"
                    },
                    "metadata": {}
                },
                {
                    "output_type": "display_data",
                    "data": {
                        "text/html": "Total execution time: 00:00:00.060"
                    },
                    "metadata": {}
                },
                {
                    "output_type": "execute_result",
                    "metadata": {},
                    "execution_count": 12,
                    "data": {
                        "application/vnd.dataresource+json": {
                            "schema": {
                                "fields": [
                                    {
                                        "name": "order_id"
                                    },
                                    {
                                        "name": "order_date"
                                    },
                                    {
                                        "name": "product_name"
                                    },
                                    {
                                        "name": "item_price"
                                    },
                                    {
                                        "name": "quantity"
                                    }
                                ]
                            },
                            "data": [
                                {
                                    "order_id": "20",
                                    "order_date": "2016-04-10 09:33:23.000",
                                    "product_name": "Yamaha FG700S",
                                    "item_price": "799.99",
                                    "quantity": "1"
                                },
                                {
                                    "order_id": "32",
                                    "order_date": "2016-05-01 01:23:23.000",
                                    "product_name": "Fender Stratocaster",
                                    "item_price": "2517.00",
                                    "quantity": "1"
                                }
                            ]
                        },
                        "text/html": [
                            "<table>",
                            "<tr><th>order_id</th><th>order_date</th><th>product_name</th><th>item_price</th><th>quantity</th></tr>",
                            "<tr><td>20</td><td>2016-04-10 09:33:23.000</td><td>Yamaha FG700S</td><td>799.99</td><td>1</td></tr>",
                            "<tr><td>32</td><td>2016-05-01 01:23:23.000</td><td>Fender Stratocaster</td><td>2517.00</td><td>1</td></tr>",
                            "</table>"
                        ]
                    }
                }
            ],
            "execution_count": 12
        },
        {
            "cell_type": "markdown",
            "source": [
                "## **Scenario**\n",
                "\n",
                "The owner of Guitar Store wants you to create a query that shows all of the needed information for creating a batch of invoices. Your query should contain the Cateegory Name, Products Name, Description, List Price, Item Price, Discount Amount, Quantity, OrderDate, Shipping and tax costs, Customer name, Customer Shipping address, and their email.\n",
                "\n",
                "Create your query in the code cell below:"
            ],
            "metadata": {
                "language": "sql",
                "azdata_cell_guid": "bff7c513-20ee-4831-b822-ad9d9d14edd0"
            },
            "attachments": {}
        },
        {
            "cell_type": "markdown",
            "source": [
                "**First 5 rows of correct solution**\n",
                "|category_name|product_name|product_description|list_price|item_price|discount_amount|quantity|order_date|ship_amount|tax_amount|first_name|last_name|Line1|line2|city|state_code|zip_code|email_address|\n",
                "|---|---|---|---|---|---|---|---|---|---|---|---|---|---|---|---|---|---|\n",
                "|Guitars|Gibson Les Paul|This Les Paul guitar offers a carved top and humbucking pickups. It has a simple yet elegant design. Cutting-yet-rich tone?the hallmark of the Les Paul?pours out of the 490R and 498T Alnico II magnet humbucker pickups, which are mounted on a carved maple top with a mahogany back. The faded finish models are equipped with BurstBucker Pro pickups and a mahogany top. This guitar includes a Gibson hardshell case (Faded and satin finish models come with a gig bag) and a limited lifetime warranty.\\r\\n\\r\\nFeatures:\\r\\n\\r\\n* Carved maple top and mahogany back (Mahogany top on faded finish models)\\r\\n* Mahogany neck, &#39;59 Rounded Les Paul\\r\\n* Rosewood fingerboard (Ebony on Alpine white)\\r\\n* Tune-O-Matic bridge with stopbar\\r\\n* Chrome or gold hardware\\r\\n* 490R and 498T Alnico 2 magnet humbucker pickups (BurstBucker Pro on faded finish models)\\r\\n* 2 volume and 2 tone knobs, 3-way switch|1199.00|1199.00|359.70|1|2016-03-28 09:40:28.000|5.00|58.75|Allan|Sherwood|100 East Ridgewood Ave.||Paramus|NJ|07652|allan.sherwood@yahoo.com|\n",
                "|Basses|Hofner Icon|With authentic details inspired by the original, the Hofner Icon makes the legendary violin bass available to the rest of us. Don&#39;t get the idea that this a just a &quot;nowhere man&quot; look-alike. This quality instrument features a real spruce top and beautiful flamed maple back and sides. The semi-hollow body and set neck will give you the warm, round tone you expect from the violin bass.\\r\\n\\r\\nFeatures:\\r\\n\\r\\n* Authentic details inspired by the original\\r\\n* Spruce top\\r\\n* Flamed maple back and sides\\r\\n* Set neck\\r\\n* Rosewood fretboard\\r\\n* 30&quot; scale\\r\\n* 22 frets\\r\\n* Dot inlay|499.99|489.99|186.20|1|2016-03-28 11:23:20.000|5.00|21.27|Barry|Zimmer|16285 Wendell St.||Omaha|NE|68135|barryz@gmail.com|\n",
                "|Guitars|Fender Stratocaster|The Fender Stratocaster is the electric guitar design that changed the world. New features include a tinted neck, parchment pickguard and control knobs, and a &#39;70s-style logo. Includes select alder body, 21-fret maple neck with your choice of a rosewood or maple fretboard, 3 single-coil pickups, vintage-style tremolo, and die-cast tuning keys. This guitar features a thicker bridge block for increased sustain and a more stable point of contact with the strings. At this low price, why play anything but the real thing?\\r\\n\\r\\nFeatures:\\r\\n\\r\\n* New features:\\r\\n* Thicker bridge block\\r\\n* 3-ply parchment pick guard\\r\\n* Tinted neck|699.00|2517.00|1308.84|1|2016-03-29 09:44:58.000|10.00|102.29|Allan|Sherwood|100 East Ridgewood Ave.||Paramus|NJ|07652|allan.sherwood@yahoo.com|\n",
                "|Drums|Ludwig 5-piece Drum Set with Cymbals|This product includes a Ludwig 5-piece drum set and a Zildjian starter cymbal pack.\\r\\n\\r\\nWith the Ludwig drum set, you get famous Ludwig quality. This set features a bass drum, two toms, a floor tom, and a snare?each with a wrapped finish. Drum hardware includes LA214FP bass pedal, snare stand, cymbal stand, hi-hat stand, and a throne.\\r\\n\\r\\nWith the Zildjian cymbal pack, you get a 14&quot; crash, 18&quot; crash/ride, and a pair of 13&quot; hi-hats. Sound grooves and round hammer strikes in a simple circular pattern on the top surface of these cymbals magnify the basic sound of the distinctive alloy.\\r\\n\\r\\nFeatures:\\r\\n\\r\\n* Famous Ludwig quality\\r\\n* Wrapped finishes\\r\\n* 22&quot; x 16&quot; kick drum\\r\\n* 12&quot; x 10&quot; and 13&quot; x 11&quot; toms\\r\\n* 16&quot; x 16&quot; floor tom\\r\\n* 14&quot; x 6-1/2&quot; snare drum kick pedal\\r\\n* Snare stand\\r\\n* Straight cymbal stand hi-hat stand\\r\\n* FREE throne|699.99|415.00|161.85|1|2016-03-29 09:44:58.000|10.00|102.29|Allan|Sherwood|100 East Ridgewood Ave.||Paramus|NJ|07652|allan.sherwood@yahoo.com|\n",
                "|Guitars|Gibson Les Paul|This Les Paul guitar offers a carved top and humbucking pickups. It has a simple yet elegant design. Cutting-yet-rich tone?the hallmark of the Les Paul?pours out of the 490R and 498T Alnico II magnet humbucker pickups, which are mounted on a carved maple top with a mahogany back. The faded finish models are equipped with BurstBucker Pro pickups and a mahogany top. This guitar includes a Gibson hardshell case (Faded and satin finish models come with a gig bag) and a limited lifetime warranty.\\r\\n\\r\\nFeatures:\\r\\n\\r\\n* Carved maple top and mahogany back (Mahogany top on faded finish models)\\r\\n* Mahogany neck, &#39;59 Rounded Les Paul\\r\\n* Rosewood fingerboard (Ebony on Alpine white)\\r\\n* Tune-O-Matic bridge with stopbar\\r\\n* Chrome or gold hardware\\r\\n* 490R and 498T Alnico 2 magnet humbucker pickups (BurstBucker Pro on faded finish models)\\r\\n* 2 volume and 2 tone knobs, 3-way switch|1199.00|1199.00|359.70|2|2016-03-30 15:22:31.000|10.00|117.50|Christine|Brown|19270 NW Cornell Rd.||Beaverton|OR|97006|christineb@solarone.com|\n",
                ""
            ],
            "metadata": {
                "language": "",
                "azdata_cell_guid": "f6736a62-a80a-4fb6-ab70-3464f90d834f"
            },
            "attachments": {}
        },
        {
            "cell_type": "code",
            "source": [
                "--Insert your code below this line. You can make your own comments by using two hyphens\n",
                "SELECT cat.category_name, p.product_name, p.product_description, p.list_price, oi.item_price, oi.discount_amount, oi.quantity, o.ship_amount, o.tax_amount, c.first_name, c.last_name, a.line1, a.line2, a.city, a.state_code, a.zip_code, c.email_address\n",
                "FROM gs_categories AS cat\n",
                "JOIN gs_products AS p ON cat.category_id = p.category_id\n",
                "JOIN gs_order_items AS oi ON p.product_id = oi.product_id\n",
                "JOIN gs_orders AS o ON oi.order_id = o.order_id\n",
                "JOIN gs_customers AS c ON o.customer_id = c.customer_id\n",
                "JOIN gs_addresses AS a ON c.customer_id = a.customer_id"
            ],
            "metadata": {
                "language": "sql",
                "azdata_cell_guid": "68de0a1f-f02e-47a7-bbdb-2a15cae9f1fb",
                "tags": []
            },
            "outputs": [
{
    "output_type": "display_data",
    "data": {
        "text/html": "(63 rows affected)"
    },
    "metadata": {}
}, {
    "output_type": "display_data",
    "data": {
        "text/html": "Total execution time: 00:00:00.060"
    },
    "metadata": {}
}, {
    "output_type": "execute_result",
    "metadata": {},
    "execution_count": 17,
    "data": {
        "application/vnd.dataresource+json": {
            "schema": {
                "fields": [
                    {
                        "name": "category_name"
                    },
                    {
                        "name": "product_name"
                    },
                    {
                        "name": "product_description"
                    },
                    {
                        "name": "list_price"
                    },
                    {
                        "name": "item_price"
                    },
                    {
                        "name": "discount_amount"
                    },
                    {
                        "name": "quantity"
                    },
                    {
                        "name": "ship_amount"
                    },
                    {
                        "name": "tax_amount"
                    },
                    {
                        "name": "first_name"
                    },
                    {
                        "name": "last_name"
                    },
                    {
                        "name": "line1"
                    },
                    {
                        "name": "line2"
                    },
                    {
                        "name": "city"
                    },
                    {
                        "name": "state_code"
                    },
                    {
                        "name": "zip_code"
                    },
                    {
                        "name": "email_address"
                    }
                ]
            },
            "data": [
                {
                    "category_name": "Guitars",
                    "product_name": "Gibson Les Paul",
                    "product_description": "This Les Paul guitar offers a carved top and humbucking pickups. It has a simple yet elegant design. Cutting-yet-rich tone?the hallmark of the Les Paul?pours out of the 490R and 498T Alnico II magnet humbucker pickups, which are mounted on a carved maple top with a mahogany back. The faded finish models are equipped with BurstBucker Pro pickups and a mahogany top. This guitar includes a Gibson hardshell case (Faded and satin finish models come with a gig bag) and a limited lifetime warranty.\\r\\n\\r\\nFeatures:\\r\\n\\r\\n* Carved maple top and mahogany back (Mahogany top on faded finish models)\\r\\n* Mahogany neck, '59 Rounded Les Paul\\r\\n* Rosewood fingerboard (Ebony on Alpine white)\\r\\n* Tune-O-Matic bridge with stopbar\\r\\n* Chrome or gold hardware\\r\\n* 490R and 498T Alnico 2 magnet humbucker pickups (BurstBucker Pro on faded finish models)\\r\\n* 2 volume and 2 tone knobs, 3-way switch",
                    "list_price": "1199.00",
                    "item_price": "1199.00",
                    "discount_amount": "359.70",
                    "quantity": "1",
                    "ship_amount": "5.00",
                    "tax_amount": "58.75",
                    "first_name": "Allan",
                    "last_name": "Sherwood",
                    "line1": "100 East Ridgewood Ave.",
                    "line2": "",
                    "city": "Paramus",
                    "state_code": "NJ",
                    "zip_code": "07652",
                    "email_address": "allan.sherwood@yahoo.com"
                },
                {
                    "category_name": "Guitars",
                    "product_name": "Fender Stratocaster",
                    "product_description": "The Fender Stratocaster is the electric guitar design that changed the world. New features include a tinted neck, parchment pickguard and control knobs, and a '70s-style logo. Includes select alder body, 21-fret maple neck with your choice of a rosewood or maple fretboard, 3 single-coil pickups, vintage-style tremolo, and die-cast tuning keys. This guitar features a thicker bridge block for increased sustain and a more stable point of contact with the strings. At this low price, why play anything but the real thing?\\r\\n\\r\\nFeatures:\\r\\n\\r\\n* New features:\\r\\n* Thicker bridge block\\r\\n* 3-ply parchment pick guard\\r\\n* Tinted neck",
                    "list_price": "699.00",
                    "item_price": "2517.00",
                    "discount_amount": "1308.84",
                    "quantity": "1",
                    "ship_amount": "10.00",
                    "tax_amount": "102.29",
                    "first_name": "Allan",
                    "last_name": "Sherwood",
                    "line1": "100 East Ridgewood Ave.",
                    "line2": "",
                    "city": "Paramus",
                    "state_code": "NJ",
                    "zip_code": "07652",
                    "email_address": "allan.sherwood@yahoo.com"
                },
                {
                    "category_name": "Drums",
                    "product_name": "Ludwig 5-piece Drum Set with Cymbals",
                    "product_description": "This product includes a Ludwig 5-piece drum set and a Zildjian starter cymbal pack.\\r\\n\\r\\nWith the Ludwig drum set, you get famous Ludwig quality. This set features a bass drum, two toms, a floor tom, and a snare?each with a wrapped finish. Drum hardware includes LA214FP bass pedal, snare stand, cymbal stand, hi-hat stand, and a throne.\\r\\n\\r\\nWith the Zildjian cymbal pack, you get a 14\" crash, 18\" crash/ride, and a pair of 13\" hi-hats. Sound grooves and round hammer strikes in a simple circular pattern on the top surface of these cymbals magnify the basic sound of the distinctive alloy.\\r\\n\\r\\nFeatures:\\r\\n\\r\\n* Famous Ludwig quality\\r\\n* Wrapped finishes\\r\\n* 22\" x 16\" kick drum\\r\\n* 12\" x 10\" and 13\" x 11\" toms\\r\\n* 16\" x 16\" floor tom\\r\\n* 14\" x 6-1/2\" snare drum kick pedal\\r\\n* Snare stand\\r\\n* Straight cymbal stand hi-hat stand\\r\\n* FREE throne",
                    "list_price": "699.99",
                    "item_price": "415.00",
                    "discount_amount": "161.85",
                    "quantity": "1",
                    "ship_amount": "10.00",
                    "tax_amount": "102.29",
                    "first_name": "Allan",
                    "last_name": "Sherwood",
                    "line1": "100 East Ridgewood Ave.",
                    "line2": "",
                    "city": "Paramus",
                    "state_code": "NJ",
                    "zip_code": "07652",
                    "email_address": "allan.sherwood@yahoo.com"
                },
                {
                    "category_name": "Guitars",
                    "product_name": "Gibson Les Paul",
                    "product_description": "This Les Paul guitar offers a carved top and humbucking pickups. It has a simple yet elegant design. Cutting-yet-rich tone?the hallmark of the Les Paul?pours out of the 490R and 498T Alnico II magnet humbucker pickups, which are mounted on a carved maple top with a mahogany back. The faded finish models are equipped with BurstBucker Pro pickups and a mahogany top. This guitar includes a Gibson hardshell case (Faded and satin finish models come with a gig bag) and a limited lifetime warranty.\\r\\n\\r\\nFeatures:\\r\\n\\r\\n* Carved maple top and mahogany back (Mahogany top on faded finish models)\\r\\n* Mahogany neck, '59 Rounded Les Paul\\r\\n* Rosewood fingerboard (Ebony on Alpine white)\\r\\n* Tune-O-Matic bridge with stopbar\\r\\n* Chrome or gold hardware\\r\\n* 490R and 498T Alnico 2 magnet humbucker pickups (BurstBucker Pro on faded finish models)\\r\\n* 2 volume and 2 tone knobs, 3-way switch",
                    "list_price": "1199.00",
                    "item_price": "1199.00",
                    "discount_amount": "359.70",
                    "quantity": "1",
                    "ship_amount": "5.00",
                    "tax_amount": "58.75",
                    "first_name": "Allan",
                    "last_name": "Sherwood",
                    "line1": "21 Rosewood Rd.",
                    "line2": "",
                    "city": "Woodcliff Lake",
                    "state_code": "NJ",
                    "zip_code": "07677",
                    "email_address": "allan.sherwood@yahoo.com"
                },
                {
                    "category_name": "Guitars",
                    "product_name": "Fender Stratocaster",
                    "product_description": "The Fender Stratocaster is the electric guitar design that changed the world. New features include a tinted neck, parchment pickguard and control knobs, and a '70s-style logo. Includes select alder body, 21-fret maple neck with your choice of a rosewood or maple fretboard, 3 single-coil pickups, vintage-style tremolo, and die-cast tuning keys. This guitar features a thicker bridge block for increased sustain and a more stable point of contact with the strings. At this low price, why play anything but the real thing?\\r\\n\\r\\nFeatures:\\r\\n\\r\\n* New features:\\r\\n* Thicker bridge block\\r\\n* 3-ply parchment pick guard\\r\\n* Tinted neck",
                    "list_price": "699.00",
                    "item_price": "2517.00",
                    "discount_amount": "1308.84",
                    "quantity": "1",
                    "ship_amount": "10.00",
                    "tax_amount": "102.29",
                    "first_name": "Allan",
                    "last_name": "Sherwood",
                    "line1": "21 Rosewood Rd.",
                    "line2": "",
                    "city": "Woodcliff Lake",
                    "state_code": "NJ",
                    "zip_code": "07677",
                    "email_address": "allan.sherwood@yahoo.com"
                },
                {
                    "category_name": "Drums",
                    "product_name": "Ludwig 5-piece Drum Set with Cymbals",
                    "product_description": "This product includes a Ludwig 5-piece drum set and a Zildjian starter cymbal pack.\\r\\n\\r\\nWith the Ludwig drum set, you get famous Ludwig quality. This set features a bass drum, two toms, a floor tom, and a snare?each with a wrapped finish. Drum hardware includes LA214FP bass pedal, snare stand, cymbal stand, hi-hat stand, and a throne.\\r\\n\\r\\nWith the Zildjian cymbal pack, you get a 14\" crash, 18\" crash/ride, and a pair of 13\" hi-hats. Sound grooves and round hammer strikes in a simple circular pattern on the top surface of these cymbals magnify the basic sound of the distinctive alloy.\\r\\n\\r\\nFeatures:\\r\\n\\r\\n* Famous Ludwig quality\\r\\n* Wrapped finishes\\r\\n* 22\" x 16\" kick drum\\r\\n* 12\" x 10\" and 13\" x 11\" toms\\r\\n* 16\" x 16\" floor tom\\r\\n* 14\" x 6-1/2\" snare drum kick pedal\\r\\n* Snare stand\\r\\n* Straight cymbal stand hi-hat stand\\r\\n* FREE throne",
                    "list_price": "699.99",
                    "item_price": "415.00",
                    "discount_amount": "161.85",
                    "quantity": "1",
                    "ship_amount": "10.00",
                    "tax_amount": "102.29",
                    "first_name": "Allan",
                    "last_name": "Sherwood",
                    "line1": "21 Rosewood Rd.",
                    "line2": "",
                    "city": "Woodcliff Lake",
                    "state_code": "NJ",
                    "zip_code": "07677",
                    "email_address": "allan.sherwood@yahoo.com"
                },
                {
                    "category_name": "Basses",
                    "product_name": "Hofner Icon",
                    "product_description": "With authentic details inspired by the original, the Hofner Icon makes the legendary violin bass available to the rest of us. Don't get the idea that this a just a \"nowhere man\" look-alike. This quality instrument features a real spruce top and beautiful flamed maple back and sides. The semi-hollow body and set neck will give you the warm, round tone you expect from the violin bass.\\r\\n\\r\\nFeatures:\\r\\n\\r\\n* Authentic details inspired by the original\\r\\n* Spruce top\\r\\n* Flamed maple back and sides\\r\\n* Set neck\\r\\n* Rosewood fretboard\\r\\n* 30\" scale\\r\\n* 22 frets\\r\\n* Dot inlay",
                    "list_price": "499.99",
                    "item_price": "489.99",
                    "discount_amount": "186.20",
                    "quantity": "1",
                    "ship_amount": "5.00",
                    "tax_amount": "21.27",
                    "first_name": "Barry",
                    "last_name": "Zimmer",
                    "line1": "16285 Wendell St.",
                    "line2": "",
                    "city": "Omaha",
                    "state_code": "NE",
                    "zip_code": "68135",
                    "email_address": "barryz@gmail.com"
                },
                {
                    "category_name": "Guitars",
                    "product_name": "Gibson Les Paul",
                    "product_description": "This Les Paul guitar offers a carved top and humbucking pickups. It has a simple yet elegant design. Cutting-yet-rich tone?the hallmark of the Les Paul?pours out of the 490R and 498T Alnico II magnet humbucker pickups, which are mounted on a carved maple top with a mahogany back. The faded finish models are equipped with BurstBucker Pro pickups and a mahogany top. This guitar includes a Gibson hardshell case (Faded and satin finish models come with a gig bag) and a limited lifetime warranty.\\r\\n\\r\\nFeatures:\\r\\n\\r\\n* Carved maple top and mahogany back (Mahogany top on faded finish models)\\r\\n* Mahogany neck, '59 Rounded Les Paul\\r\\n* Rosewood fingerboard (Ebony on Alpine white)\\r\\n* Tune-O-Matic bridge with stopbar\\r\\n* Chrome or gold hardware\\r\\n* 490R and 498T Alnico 2 magnet humbucker pickups (BurstBucker Pro on faded finish models)\\r\\n* 2 volume and 2 tone knobs, 3-way switch",
                    "list_price": "1199.00",
                    "item_price": "1199.00",
                    "discount_amount": "359.70",
                    "quantity": "2",
                    "ship_amount": "10.00",
                    "tax_amount": "117.50",
                    "first_name": "Christine",
                    "last_name": "Brown",
                    "line1": "19270 NW Cornell Rd.",
                    "line2": "",
                    "city": "Beaverton",
                    "state_code": "OR",
                    "zip_code": "97006",
                    "email_address": "christineb@solarone.com"
                },
                {
                    "category_name": "Drums",
                    "product_name": "Tama 5-Piece Drum Set with Cymbals",
                    "product_description": "The Tama 5-piece Drum Set is the most affordable Tama drum kit ever to incorporate so many high-end features.\\r\\n\\r\\nWith over 40 years of experience, Tama knows what drummers really want. Which is why, no matter how long you've been playing the drums, no matter what budget you have to work with, Tama has the set you need, want, and can afford. Every aspect of the modern drum kit was exhaustively examined and reexamined and then improved before it was accepted as part of the Tama design. Which is why, if you start playing Tama now as a beginner, you'll still enjoy playing it when you've achieved pro-status. That's how good these groundbreaking new drums are.\\r\\n\\r\\nOnly Tama comes with a complete set of genuine Meinl HCS cymbals. These high-quality brass cymbals are made in Germany and are sonically matched so they sound great together. They are even lathed for a more refined tonal character. The set includes 14\" hi-hats, 16\" crash cymbal, and a 20\" ride cymbal.\\r\\n\\r\\nFeatures:\\r\\n\\r\\n* 100% poplar 6-ply/7.5mm shells\\r\\n* Precise bearing edges\\r\\n* 100% glued finishes\\r\\n* Original small lugs\\r\\n* Drum heads\\r\\n* Accu-tune bass drum hoops\\r\\n* Spur brackets\\r\\n* Tom holder\\r\\n* Tom brackets",
                    "list_price": "799.99",
                    "item_price": "299.00",
                    "discount_amount": "0.00",
                    "quantity": "1",
                    "ship_amount": "5.00",
                    "tax_amount": "20.93",
                    "first_name": "David",
                    "last_name": "Goldstein",
                    "line1": "186 Vermont St.",
                    "line2": "Apt. 2",
                    "city": "San Francisco",
                    "state_code": "CA",
                    "zip_code": "94110",
                    "email_address": "david.goldstein@hotmail.com"
                },
                {
                    "category_name": "Guitars",
                    "product_name": "Rodriguez Caballero 11",
                    "product_description": "Featuring a carefully chosen, solid Canadian cedar top and laminated bubinga back and sides, the Caballero 11 classical guitar is a beauty to behold and play. The headstock and fretboard are of Indian rosewood. Nickel-plated tuners and Silver-plated frets are installed to last a lifetime. The body binding and wood rosette are exquisite.\\r\\n\\r\\nThe Rodriguez Guitar is hand crafted and glued to create precise balances. From the invisible careful sanding, even inside the body, that ensures the finished instrument's purity of tone, to the beautifully unique rosette inlays around the soundhole and on the back of the neck, each guitar is a credit to its luthier and worthy of being handed down from one generation to another.\\r\\n\\r\\nThe tone, resonance and beauty of fine guitars are all dependent upon the wood from which they are made. The wood used in the construction of Rodriguez guitars is carefully chosen and aged to guarantee the highest quality. No wood is purchased before the tree has been cut down, and at least 2 years must elapse before the tree is turned into lumber. The wood has to be well cut from the log. The grain must be close and absolutely vertical. The shop is totally free from humidity.",
                    "list_price": "415.00",
                    "item_price": "699.00",
                    "discount_amount": "209.70",
                    "quantity": "3",
                    "ship_amount": "15.00",
                    "tax_amount": "102.75",
                    "first_name": "David",
                    "last_name": "Goldstein",
                    "line1": "186 Vermont St.",
                    "line2": "Apt. 2",
                    "city": "San Francisco",
                    "state_code": "CA",
                    "zip_code": "94110",
                    "email_address": "david.goldstein@hotmail.com"
                },
                {
                    "category_name": "Guitars",
                    "product_name": "Gibson SG",
                    "product_description": "This Gibson SG electric guitar takes the best of the '62 original and adds the longer and sturdier neck joint of the late '60s models. All the classic features you'd expect from a historic guitar. Hot humbuckers go from rich, sweet lightning to warm, tingling waves of sustain. A silky-fast rosewood fretboard plays like a dream. The original-style beveled mahogany body looks like a million bucks. Plus, Tune-O-Matic bridge and chrome hardware. Limited lifetime warranty. Includes hardshell case.\\r\\n\\r\\nFeatures:\\r\\n\\r\\n* Double-cutaway beveled mahogany body\\r\\n* Set mahogany neck with rounded '50s profile\\r\\n* Bound rosewood fingerboard with trapezoid inlays\\r\\n* Tune-O-Matic bridge with stopbar tailpiece\\r\\n* Chrome hardware\\r\\n* 490R humbucker in the neck position\\r\\n* 498T humbucker in the bridge position\\r\\n* 2 volume knobs, 2 tone knobs, 3-way switch\\r\\n* 24-3/4\" scale",
                    "list_price": "2517.00",
                    "item_price": "799.99",
                    "discount_amount": "240.00",
                    "quantity": "5",
                    "ship_amount": "25.00",
                    "tax_amount": "196.00",
                    "first_name": "David",
                    "last_name": "Goldstein",
                    "line1": "186 Vermont St.",
                    "line2": "Apt. 2",
                    "city": "San Francisco",
                    "state_code": "CA",
                    "zip_code": "94110",
                    "email_address": "david.goldstein@hotmail.com"
                },
                {
                    "category_name": "Drums",
                    "product_name": "Tama 5-Piece Drum Set with Cymbals",
                    "product_description": "The Tama 5-piece Drum Set is the most affordable Tama drum kit ever to incorporate so many high-end features.\\r\\n\\r\\nWith over 40 years of experience, Tama knows what drummers really want. Which is why, no matter how long you've been playing the drums, no matter what budget you have to work with, Tama has the set you need, want, and can afford. Every aspect of the modern drum kit was exhaustively examined and reexamined and then improved before it was accepted as part of the Tama design. Which is why, if you start playing Tama now as a beginner, you'll still enjoy playing it when you've achieved pro-status. That's how good these groundbreaking new drums are.\\r\\n\\r\\nOnly Tama comes with a complete set of genuine Meinl HCS cymbals. These high-quality brass cymbals are made in Germany and are sonically matched so they sound great together. They are even lathed for a more refined tonal character. The set includes 14\" hi-hats, 16\" crash cymbal, and a 20\" ride cymbal.\\r\\n\\r\\nFeatures:\\r\\n\\r\\n* 100% poplar 6-ply/7.5mm shells\\r\\n* Precise bearing edges\\r\\n* 100% glued finishes\\r\\n* Original small lugs\\r\\n* Drum heads\\r\\n* Accu-tune bass drum hoops\\r\\n* Spur brackets\\r\\n* Tom holder\\r\\n* Tom brackets",
                    "list_price": "799.99",
                    "item_price": "299.00",
                    "discount_amount": "0.00",
                    "quantity": "1",
                    "ship_amount": "5.00",
                    "tax_amount": "20.93",
                    "first_name": "David",
                    "last_name": "Goldstein",
                    "line1": "1374 46th Ave.",
                    "line2": "",
                    "city": "San Francisco",
                    "state_code": "CA",
                    "zip_code": "94129",
                    "email_address": "david.goldstein@hotmail.com"
                },
                {
                    "category_name": "Guitars",
                    "product_name": "Rodriguez Caballero 11",
                    "product_description": "Featuring a carefully chosen, solid Canadian cedar top and laminated bubinga back and sides, the Caballero 11 classical guitar is a beauty to behold and play. The headstock and fretboard are of Indian rosewood. Nickel-plated tuners and Silver-plated frets are installed to last a lifetime. The body binding and wood rosette are exquisite.\\r\\n\\r\\nThe Rodriguez Guitar is hand crafted and glued to create precise balances. From the invisible careful sanding, even inside the body, that ensures the finished instrument's purity of tone, to the beautifully unique rosette inlays around the soundhole and on the back of the neck, each guitar is a credit to its luthier and worthy of being handed down from one generation to another.\\r\\n\\r\\nThe tone, resonance and beauty of fine guitars are all dependent upon the wood from which they are made. The wood used in the construction of Rodriguez guitars is carefully chosen and aged to guarantee the highest quality. No wood is purchased before the tree has been cut down, and at least 2 years must elapse before the tree is turned into lumber. The wood has to be well cut from the log. The grain must be close and absolutely vertical. The shop is totally free from humidity.",
                    "list_price": "415.00",
                    "item_price": "699.00",
                    "discount_amount": "209.70",
                    "quantity": "3",
                    "ship_amount": "15.00",
                    "tax_amount": "102.75",
                    "first_name": "David",
                    "last_name": "Goldstein",
                    "line1": "1374 46th Ave.",
                    "line2": "",
                    "city": "San Francisco",
                    "state_code": "CA",
                    "zip_code": "94129",
                    "email_address": "david.goldstein@hotmail.com"
                },
                {
                    "category_name": "Guitars",
                    "product_name": "Gibson SG",
                    "product_description": "This Gibson SG electric guitar takes the best of the '62 original and adds the longer and sturdier neck joint of the late '60s models. All the classic features you'd expect from a historic guitar. Hot humbuckers go from rich, sweet lightning to warm, tingling waves of sustain. A silky-fast rosewood fretboard plays like a dream. The original-style beveled mahogany body looks like a million bucks. Plus, Tune-O-Matic bridge and chrome hardware. Limited lifetime warranty. Includes hardshell case.\\r\\n\\r\\nFeatures:\\r\\n\\r\\n* Double-cutaway beveled mahogany body\\r\\n* Set mahogany neck with rounded '50s profile\\r\\n* Bound rosewood fingerboard with trapezoid inlays\\r\\n* Tune-O-Matic bridge with stopbar tailpiece\\r\\n* Chrome hardware\\r\\n* 490R humbucker in the neck position\\r\\n* 498T humbucker in the bridge position\\r\\n* 2 volume knobs, 2 tone knobs, 3-way switch\\r\\n* 24-3/4\" scale",
                    "list_price": "2517.00",
                    "item_price": "799.99",
                    "discount_amount": "240.00",
                    "quantity": "5",
                    "ship_amount": "25.00",
                    "tax_amount": "196.00",
                    "first_name": "David",
                    "last_name": "Goldstein",
                    "line1": "1374 46th Ave.",
                    "line2": "",
                    "city": "San Francisco",
                    "state_code": "CA",
                    "zip_code": "94129",
                    "email_address": "david.goldstein@hotmail.com"
                },
                {
                    "category_name": "Drums",
                    "product_name": "Tama 5-Piece Drum Set with Cymbals",
                    "product_description": "The Tama 5-piece Drum Set is the most affordable Tama drum kit ever to incorporate so many high-end features.\\r\\n\\r\\nWith over 40 years of experience, Tama knows what drummers really want. Which is why, no matter how long you've been playing the drums, no matter what budget you have to work with, Tama has the set you need, want, and can afford. Every aspect of the modern drum kit was exhaustively examined and reexamined and then improved before it was accepted as part of the Tama design. Which is why, if you start playing Tama now as a beginner, you'll still enjoy playing it when you've achieved pro-status. That's how good these groundbreaking new drums are.\\r\\n\\r\\nOnly Tama comes with a complete set of genuine Meinl HCS cymbals. These high-quality brass cymbals are made in Germany and are sonically matched so they sound great together. They are even lathed for a more refined tonal character. The set includes 14\" hi-hats, 16\" crash cymbal, and a 20\" ride cymbal.\\r\\n\\r\\nFeatures:\\r\\n\\r\\n* 100% poplar 6-ply/7.5mm shells\\r\\n* Precise bearing edges\\r\\n* 100% glued finishes\\r\\n* Original small lugs\\r\\n* Drum heads\\r\\n* Accu-tune bass drum hoops\\r\\n* Spur brackets\\r\\n* Tom holder\\r\\n* Tom brackets",
                    "list_price": "799.99",
                    "item_price": "299.00",
                    "discount_amount": "0.00",
                    "quantity": "1",
                    "ship_amount": "5.00",
                    "tax_amount": "20.93",
                    "first_name": "Erin",
                    "last_name": "Valentino",
                    "line1": "6982 Palm Ave.",
                    "line2": "",
                    "city": "Fresno",
                    "state_code": "CA",
                    "zip_code": "93711",
                    "email_address": "erinv@gmail.com"
                },
                {
                    "category_name": "Guitars",
                    "product_name": "Washburn D10S",
                    "product_description": "The Washburn D10S acoustic guitar is superbly crafted with a solid spruce top and mahogany back and sides for exceptional tone. A mahogany neck and rosewood fingerboard make fretwork a breeze, while chrome Grover-style machines keep you perfectly tuned. The Washburn D10S comes with a limited lifetime warranty.\\r\\n\\r\\nFeatures:\\r\\n\\r\\n    * Spruce top\\r\\n    * Mahogany back, sides\\r\\n    * Mahogany neck Rosewood fingerboard\\r\\n    * Chrome Grover-style machines",
                    "list_price": "299.00",
                    "item_price": "699.99",
                    "discount_amount": "210.00",
                    "quantity": "1",
                    "ship_amount": "15.00",
                    "tax_amount": "107.80",
                    "first_name": "Frank Lee",
                    "last_name": "Wilson",
                    "line1": "23 Mountain View St.",
                    "line2": "",
                    "city": "Denver",
                    "state_code": "CO",
                    "zip_code": "80208",
                    "email_address": "frankwilson@sbcglobal.net"
                },
                {
                    "category_name": "Guitars",
                    "product_name": "Gibson SG",
                    "product_description": "This Gibson SG electric guitar takes the best of the '62 original and adds the longer and sturdier neck joint of the late '60s models. All the classic features you'd expect from a historic guitar. Hot humbuckers go from rich, sweet lightning to warm, tingling waves of sustain. A silky-fast rosewood fretboard plays like a dream. The original-style beveled mahogany body looks like a million bucks. Plus, Tune-O-Matic bridge and chrome hardware. Limited lifetime warranty. Includes hardshell case.\\r\\n\\r\\nFeatures:\\r\\n\\r\\n* Double-cutaway beveled mahogany body\\r\\n* Set mahogany neck with rounded '50s profile\\r\\n* Bound rosewood fingerboard with trapezoid inlays\\r\\n* Tune-O-Matic bridge with stopbar tailpiece\\r\\n* Chrome hardware\\r\\n* 490R humbucker in the neck position\\r\\n* 498T humbucker in the bridge position\\r\\n* 2 volume knobs, 2 tone knobs, 3-way switch\\r\\n* 24-3/4\" scale",
                    "list_price": "2517.00",
                    "item_price": "799.99",
                    "discount_amount": "240.00",
                    "quantity": "1",
                    "ship_amount": "15.00",
                    "tax_amount": "107.80",
                    "first_name": "Frank Lee",
                    "last_name": "Wilson",
                    "line1": "23 Mountain View St.",
                    "line2": "",
                    "city": "Denver",
                    "state_code": "CO",
                    "zip_code": "80208",
                    "email_address": "frankwilson@sbcglobal.net"
                },
                {
                    "category_name": "Guitars",
                    "product_name": "Washburn D10S",
                    "product_description": "The Washburn D10S acoustic guitar is superbly crafted with a solid spruce top and mahogany back and sides for exceptional tone. A mahogany neck and rosewood fingerboard make fretwork a breeze, while chrome Grover-style machines keep you perfectly tuned. The Washburn D10S comes with a limited lifetime warranty.\\r\\n\\r\\nFeatures:\\r\\n\\r\\n    * Spruce top\\r\\n    * Mahogany back, sides\\r\\n    * Mahogany neck Rosewood fingerboard\\r\\n    * Chrome Grover-style machines",
                    "list_price": "299.00",
                    "item_price": "699.99",
                    "discount_amount": "210.00",
                    "quantity": "1",
                    "ship_amount": "15.00",
                    "tax_amount": "107.80",
                    "first_name": "Frank Lee",
                    "last_name": "Wilson",
                    "line1": "23 Mountain View St.",
                    "line2": "",
                    "city": "Denver",
                    "state_code": "CO",
                    "zip_code": "80208",
                    "email_address": "frankwilson@sbcglobal.net"
                },
                {
                    "category_name": "Guitars",
                    "product_name": "Yamaha FG700S",
                    "product_description": "The Yamaha FG700S solid top acoustic guitar has the ultimate combo for projection and pure tone. The expertly braced spruce top speaks clearly atop the rosewood body. It has a rosewood fingerboard, rosewood bridge, die-cast tuners, body and neck binding, and a tortoise pickguard.\\r\\n\\r\\nFeatures:\\r\\n\\r\\n* Solid Sitka spruce top\\r\\n* Rosewood back and sides\\r\\n* Rosewood fingerboard\\r\\n* Rosewood bridge\\r\\n* White/black body and neck binding\\r\\n* Die-cast tuners\\r\\n* Tortoise pickguard\\r\\n* Limited lifetime warranty",
                    "list_price": "489.99",
                    "item_price": "799.99",
                    "discount_amount": "120.00",
                    "quantity": "1",
                    "ship_amount": "5.00",
                    "tax_amount": "47.60",
                    "first_name": "Gary",
                    "last_name": "Hernandez",
                    "line1": "7361 N. 41st St.",
                    "line2": "Apt. B",
                    "city": "New York",
                    "state_code": "NY",
                    "zip_code": "10012",
                    "email_address": "gary_hernandez@yahoo.com"
                },
                {
                    "category_name": "Guitars",
                    "product_name": "Yamaha FG700S",
                    "product_description": "The Yamaha FG700S solid top acoustic guitar has the ultimate combo for projection and pure tone. The expertly braced spruce top speaks clearly atop the rosewood body. It has a rosewood fingerboard, rosewood bridge, die-cast tuners, body and neck binding, and a tortoise pickguard.\\r\\n\\r\\nFeatures:\\r\\n\\r\\n* Solid Sitka spruce top\\r\\n* Rosewood back and sides\\r\\n* Rosewood fingerboard\\r\\n* Rosewood bridge\\r\\n* White/black body and neck binding\\r\\n* Die-cast tuners\\r\\n* Tortoise pickguard\\r\\n* Limited lifetime warranty",
                    "list_price": "489.99",
                    "item_price": "799.99",
                    "discount_amount": "120.00",
                    "quantity": "1",
                    "ship_amount": "5.00",
                    "tax_amount": "47.60",
                    "first_name": "Gary",
                    "last_name": "Hernandez",
                    "line1": "3829 Broadway Ave.",
                    "line2": "Suite 2",
                    "city": "New York",
                    "state_code": "NY",
                    "zip_code": "10012",
                    "email_address": "gary_hernandez@yahoo.com"
                },
                {
                    "category_name": "Basses",
                    "product_name": "Fender Precision",
                    "product_description": "The Fender Precision bass guitar delivers the sound, look, and feel today's bass players demand. This bass features that classic P-Bass old-school design. Each Precision bass boasts contemporary features and refinements that make it an excellent value. Featuring an alder body and a split single-coil pickup, this classic electric bass guitar lives up to its Fender legacy.\\r\\n\\r\\nFeatures:\\r\\n\\r\\n* Body: Alder\\r\\n* Neck: Maple, modern C shape, tinted satin urethane finish\\r\\n* Fingerboard: Rosewood or maple (depending on color)\\r\\n* 9-1/2\" Radius (241 mm)\\r\\n* Frets: 20 Medium-jumbo frets\\r\\n* Pickups: 1 Standard Precision Bass split single-coil pickup (Mid)\\r\\n* Controls: Volume, Tone\\r\\n* Bridge: Standard vintage style with single groove saddles\\r\\n* Machine heads: Standard\\r\\n* Hardware: Chrome\\r\\n* Pickguard: 3-Ply Parchment\\r\\n* Scale Length: 34\" (864 mm)\\r\\n* Width at Nut: 1-5/8\" (41.3 mm)\\r\\n* Unique features: Knurled chrome P Bass knobs, Fender transition logo",
                    "list_price": "799.99",
                    "item_price": "499.99",
                    "discount_amount": "125.00",
                    "quantity": "1",
                    "ship_amount": "5.00",
                    "tax_amount": "26.25",
                    "first_name": "Heather",
                    "last_name": "Esway",
                    "line1": "2381 Buena Vista St.",
                    "line2": "",
                    "city": "Los Angeles",
                    "state_code": "CA",
                    "zip_code": "90023",
                    "email_address": "heatheresway@mac.com"
                },
                {
                    "category_name": "Guitars",
                    "product_name": "Fender Stratocaster",
                    "product_description": "The Fender Stratocaster is the electric guitar design that changed the world. New features include a tinted neck, parchment pickguard and control knobs, and a '70s-style logo. Includes select alder body, 21-fret maple neck with your choice of a rosewood or maple fretboard, 3 single-coil pickups, vintage-style tremolo, and die-cast tuning keys. This guitar features a thicker bridge block for increased sustain and a more stable point of contact with the strings. At this low price, why play anything but the real thing?\\r\\n\\r\\nFeatures:\\r\\n\\r\\n* New features:\\r\\n* Thicker bridge block\\r\\n* 3-ply parchment pick guard\\r\\n* Tinted neck",
                    "list_price": "699.00",
                    "item_price": "2517.00",
                    "discount_amount": "1308.84",
                    "quantity": "1",
                    "ship_amount": "5.00",
                    "tax_amount": "84.57",
                    "first_name": "Heather",
                    "last_name": "Esway",
                    "line1": "2381 Buena Vista St.",
                    "line2": "",
                    "city": "Los Angeles",
                    "state_code": "CA",
                    "zip_code": "90023",
                    "email_address": "heatheresway@mac.com"
                },
                {
                    "category_name": "Basses",
                    "product_name": "Fender Precision",
                    "product_description": "The Fender Precision bass guitar delivers the sound, look, and feel today's bass players demand. This bass features that classic P-Bass old-school design. Each Precision bass boasts contemporary features and refinements that make it an excellent value. Featuring an alder body and a split single-coil pickup, this classic electric bass guitar lives up to its Fender legacy.\\r\\n\\r\\nFeatures:\\r\\n\\r\\n* Body: Alder\\r\\n* Neck: Maple, modern C shape, tinted satin urethane finish\\r\\n* Fingerboard: Rosewood or maple (depending on color)\\r\\n* 9-1/2\" Radius (241 mm)\\r\\n* Frets: 20 Medium-jumbo frets\\r\\n* Pickups: 1 Standard Precision Bass split single-coil pickup (Mid)\\r\\n* Controls: Volume, Tone\\r\\n* Bridge: Standard vintage style with single groove saddles\\r\\n* Machine heads: Standard\\r\\n* Hardware: Chrome\\r\\n* Pickguard: 3-Ply Parchment\\r\\n* Scale Length: 34\" (864 mm)\\r\\n* Width at Nut: 1-5/8\" (41.3 mm)\\r\\n* Unique features: Knurled chrome P Bass knobs, Fender transition logo",
                    "list_price": "799.99",
                    "item_price": "499.99",
                    "discount_amount": "125.00",
                    "quantity": "1",
                    "ship_amount": "5.00",
                    "tax_amount": "26.25",
                    "first_name": "Heather",
                    "last_name": "Esway",
                    "line1": "291 W. Hollywood Blvd.",
                    "line2": "",
                    "city": "Los Angeles",
                    "state_code": "CA",
                    "zip_code": "90024",
                    "email_address": "heatheresway@mac.com"
                },
                {
                    "category_name": "Guitars",
                    "product_name": "Fender Stratocaster",
                    "product_description": "The Fender Stratocaster is the electric guitar design that changed the world. New features include a tinted neck, parchment pickguard and control knobs, and a '70s-style logo. Includes select alder body, 21-fret maple neck with your choice of a rosewood or maple fretboard, 3 single-coil pickups, vintage-style tremolo, and die-cast tuning keys. This guitar features a thicker bridge block for increased sustain and a more stable point of contact with the strings. At this low price, why play anything but the real thing?\\r\\n\\r\\nFeatures:\\r\\n\\r\\n* New features:\\r\\n* Thicker bridge block\\r\\n* 3-ply parchment pick guard\\r\\n* Tinted neck",
                    "list_price": "699.00",
                    "item_price": "2517.00",
                    "discount_amount": "1308.84",
                    "quantity": "1",
                    "ship_amount": "5.00",
                    "tax_amount": "84.57",
                    "first_name": "Heather",
                    "last_name": "Esway",
                    "line1": "291 W. Hollywood Blvd.",
                    "line2": "",
                    "city": "Los Angeles",
                    "state_code": "CA",
                    "zip_code": "90024",
                    "email_address": "heatheresway@mac.com"
                },
                {
                    "category_name": "Guitars",
                    "product_name": "Rodriguez Caballero 11",
                    "product_description": "Featuring a carefully chosen, solid Canadian cedar top and laminated bubinga back and sides, the Caballero 11 classical guitar is a beauty to behold and play. The headstock and fretboard are of Indian rosewood. Nickel-plated tuners and Silver-plated frets are installed to last a lifetime. The body binding and wood rosette are exquisite.\\r\\n\\r\\nThe Rodriguez Guitar is hand crafted and glued to create precise balances. From the invisible careful sanding, even inside the body, that ensures the finished instrument's purity of tone, to the beautifully unique rosette inlays around the soundhole and on the back of the neck, each guitar is a credit to its luthier and worthy of being handed down from one generation to another.\\r\\n\\r\\nThe tone, resonance and beauty of fine guitars are all dependent upon the wood from which they are made. The wood used in the construction of Rodriguez guitars is carefully chosen and aged to guarantee the highest quality. No wood is purchased before the tree has been cut down, and at least 2 years must elapse before the tree is turned into lumber. The wood has to be well cut from the log. The grain must be close and absolutely vertical. The shop is totally free from humidity.",
                    "list_price": "415.00",
                    "item_price": "699.00",
                    "discount_amount": "209.70",
                    "quantity": "1",
                    "ship_amount": "5.00",
                    "tax_amount": "34.25",
                    "first_name": "James",
                    "last_name": "Butt",
                    "line1": "96950 Hidden Ln",
                    "line2": "",
                    "city": "Aberdeen",
                    "state_code": "MD",
                    "zip_code": "21001",
                    "email_address": "jbutt@gmail.com"
                },
                {
                    "category_name": "Guitars",
                    "product_name": "Fender Stratocaster",
                    "product_description": "The Fender Stratocaster is the electric guitar design that changed the world. New features include a tinted neck, parchment pickguard and control knobs, and a '70s-style logo. Includes select alder body, 21-fret maple neck with your choice of a rosewood or maple fretboard, 3 single-coil pickups, vintage-style tremolo, and die-cast tuning keys. This guitar features a thicker bridge block for increased sustain and a more stable point of contact with the strings. At this low price, why play anything but the real thing?\\r\\n\\r\\nFeatures:\\r\\n\\r\\n* New features:\\r\\n* Thicker bridge block\\r\\n* 3-ply parchment pick guard\\r\\n* Tinted neck",
                    "list_price": "699.00",
                    "item_price": "2517.00",
                    "discount_amount": "1308.84",
                    "quantity": "1",
                    "ship_amount": "5.00",
                    "tax_amount": "84.57",
                    "first_name": "Josephine",
                    "last_name": "Darakjy",
                    "line1": "6980 Dorsett Rd",
                    "line2": "",
                    "city": "Abilene",
                    "state_code": "KS",
                    "zip_code": "67410",
                    "email_address": "josephine_darakjy@darakjy.org"
                },
                {
                    "category_name": "Guitars",
                    "product_name": "Yamaha FG700S",
                    "product_description": "The Yamaha FG700S solid top acoustic guitar has the ultimate combo for projection and pure tone. The expertly braced spruce top speaks clearly atop the rosewood body. It has a rosewood fingerboard, rosewood bridge, die-cast tuners, body and neck binding, and a tortoise pickguard.\\r\\n\\r\\nFeatures:\\r\\n\\r\\n* Solid Sitka spruce top\\r\\n* Rosewood back and sides\\r\\n* Rosewood fingerboard\\r\\n* Rosewood bridge\\r\\n* White/black body and neck binding\\r\\n* Die-cast tuners\\r\\n* Tortoise pickguard\\r\\n* Limited lifetime warranty",
                    "list_price": "489.99",
                    "item_price": "799.99",
                    "discount_amount": "120.00",
                    "quantity": "1",
                    "ship_amount": "5.00",
                    "tax_amount": "47.60",
                    "first_name": "Art",
                    "last_name": "Venere",
                    "line1": "33 State St",
                    "line2": "",
                    "city": "Abilene",
                    "state_code": "TX",
                    "zip_code": "79601",
                    "email_address": "art@venere.org"
                },
                {
                    "category_name": "Guitars",
                    "product_name": "Yamaha FG700S",
                    "product_description": "The Yamaha FG700S solid top acoustic guitar has the ultimate combo for projection and pure tone. The expertly braced spruce top speaks clearly atop the rosewood body. It has a rosewood fingerboard, rosewood bridge, die-cast tuners, body and neck binding, and a tortoise pickguard.\\r\\n\\r\\nFeatures:\\r\\n\\r\\n* Solid Sitka spruce top\\r\\n* Rosewood back and sides\\r\\n* Rosewood fingerboard\\r\\n* Rosewood bridge\\r\\n* White/black body and neck binding\\r\\n* Die-cast tuners\\r\\n* Tortoise pickguard\\r\\n* Limited lifetime warranty",
                    "list_price": "489.99",
                    "item_price": "799.99",
                    "discount_amount": "120.00",
                    "quantity": "1",
                    "ship_amount": "5.00",
                    "tax_amount": "47.60",
                    "first_name": "Art",
                    "last_name": "Venere",
                    "line1": "5 E Truman Rd",
                    "line2": "",
                    "city": "Abilene",
                    "state_code": "TX",
                    "zip_code": "79602",
                    "email_address": "art@venere.org"
                },
                {
                    "category_name": "Guitars",
                    "product_name": "Gibson Les Paul",
                    "product_description": "This Les Paul guitar offers a carved top and humbucking pickups. It has a simple yet elegant design. Cutting-yet-rich tone?the hallmark of the Les Paul?pours out of the 490R and 498T Alnico II magnet humbucker pickups, which are mounted on a carved maple top with a mahogany back. The faded finish models are equipped with BurstBucker Pro pickups and a mahogany top. This guitar includes a Gibson hardshell case (Faded and satin finish models come with a gig bag) and a limited lifetime warranty.\\r\\n\\r\\nFeatures:\\r\\n\\r\\n* Carved maple top and mahogany back (Mahogany top on faded finish models)\\r\\n* Mahogany neck, '59 Rounded Les Paul\\r\\n* Rosewood fingerboard (Ebony on Alpine white)\\r\\n* Tune-O-Matic bridge with stopbar\\r\\n* Chrome or gold hardware\\r\\n* 490R and 498T Alnico 2 magnet humbucker pickups (BurstBucker Pro on faded finish models)\\r\\n* 2 volume and 2 tone knobs, 3-way switch",
                    "list_price": "1199.00",
                    "item_price": "1199.00",
                    "discount_amount": "359.70",
                    "quantity": "2",
                    "ship_amount": "10.00",
                    "tax_amount": "117.50",
                    "first_name": "Lenna",
                    "last_name": "Paprocki",
                    "line1": "8284 Hart St",
                    "line2": "",
                    "city": "Abilene",
                    "state_code": "KS",
                    "zip_code": "67410",
                    "email_address": "lpaprocki@hotmail.com"
                },
                {
                    "category_name": "Guitars",
                    "product_name": "Gibson SG",
                    "product_description": "This Gibson SG electric guitar takes the best of the '62 original and adds the longer and sturdier neck joint of the late '60s models. All the classic features you'd expect from a historic guitar. Hot humbuckers go from rich, sweet lightning to warm, tingling waves of sustain. A silky-fast rosewood fretboard plays like a dream. The original-style beveled mahogany body looks like a million bucks. Plus, Tune-O-Matic bridge and chrome hardware. Limited lifetime warranty. Includes hardshell case.\\r\\n\\r\\nFeatures:\\r\\n\\r\\n* Double-cutaway beveled mahogany body\\r\\n* Set mahogany neck with rounded '50s profile\\r\\n* Bound rosewood fingerboard with trapezoid inlays\\r\\n* Tune-O-Matic bridge with stopbar tailpiece\\r\\n* Chrome hardware\\r\\n* 490R humbucker in the neck position\\r\\n* 498T humbucker in the bridge position\\r\\n* 2 volume knobs, 2 tone knobs, 3-way switch\\r\\n* 24-3/4\" scale",
                    "list_price": "2517.00",
                    "item_price": "799.99",
                    "discount_amount": "240.00",
                    "quantity": "1",
                    "ship_amount": "5.00",
                    "tax_amount": "39.20",
                    "first_name": "Donette",
                    "last_name": "Foller",
                    "line1": "9387 Charcot Ave",
                    "line2": "",
                    "city": "Absecon",
                    "state_code": "NJ",
                    "zip_code": "8201",
                    "email_address": "donette.foller@cox.net"
                },
                {
                    "category_name": "Guitars",
                    "product_name": "Rodriguez Caballero 11",
                    "product_description": "Featuring a carefully chosen, solid Canadian cedar top and laminated bubinga back and sides, the Caballero 11 classical guitar is a beauty to behold and play. The headstock and fretboard are of Indian rosewood. Nickel-plated tuners and Silver-plated frets are installed to last a lifetime. The body binding and wood rosette are exquisite.\\r\\n\\r\\nThe Rodriguez Guitar is hand crafted and glued to create precise balances. From the invisible careful sanding, even inside the body, that ensures the finished instrument's purity of tone, to the beautifully unique rosette inlays around the soundhole and on the back of the neck, each guitar is a credit to its luthier and worthy of being handed down from one generation to another.\\r\\n\\r\\nThe tone, resonance and beauty of fine guitars are all dependent upon the wood from which they are made. The wood used in the construction of Rodriguez guitars is carefully chosen and aged to guarantee the highest quality. No wood is purchased before the tree has been cut down, and at least 2 years must elapse before the tree is turned into lumber. The wood has to be well cut from the log. The grain must be close and absolutely vertical. The shop is totally free from humidity.",
                    "list_price": "415.00",
                    "item_price": "699.00",
                    "discount_amount": "209.70",
                    "quantity": "1",
                    "ship_amount": "10.00",
                    "tax_amount": "51.97",
                    "first_name": "Simona",
                    "last_name": "Morasca",
                    "line1": "3777 E Richmond St #900",
                    "line2": "",
                    "city": "Akron",
                    "state_code": "OH",
                    "zip_code": "44302",
                    "email_address": "simona@morasca.com"
                },
                {
                    "category_name": "Drums",
                    "product_name": "Ludwig 5-piece Drum Set with Cymbals",
                    "product_description": "This product includes a Ludwig 5-piece drum set and a Zildjian starter cymbal pack.\\r\\n\\r\\nWith the Ludwig drum set, you get famous Ludwig quality. This set features a bass drum, two toms, a floor tom, and a snare?each with a wrapped finish. Drum hardware includes LA214FP bass pedal, snare stand, cymbal stand, hi-hat stand, and a throne.\\r\\n\\r\\nWith the Zildjian cymbal pack, you get a 14\" crash, 18\" crash/ride, and a pair of 13\" hi-hats. Sound grooves and round hammer strikes in a simple circular pattern on the top surface of these cymbals magnify the basic sound of the distinctive alloy.\\r\\n\\r\\nFeatures:\\r\\n\\r\\n* Famous Ludwig quality\\r\\n* Wrapped finishes\\r\\n* 22\" x 16\" kick drum\\r\\n* 12\" x 10\" and 13\" x 11\" toms\\r\\n* 16\" x 16\" floor tom\\r\\n* 14\" x 6-1/2\" snare drum kick pedal\\r\\n* Snare stand\\r\\n* Straight cymbal stand hi-hat stand\\r\\n* FREE throne",
                    "list_price": "699.99",
                    "item_price": "415.00",
                    "discount_amount": "161.85",
                    "quantity": "1",
                    "ship_amount": "10.00",
                    "tax_amount": "51.97",
                    "first_name": "Simona",
                    "last_name": "Morasca",
                    "line1": "3777 E Richmond St #900",
                    "line2": "",
                    "city": "Akron",
                    "state_code": "OH",
                    "zip_code": "44302",
                    "email_address": "simona@morasca.com"
                },
                {
                    "category_name": "Guitars",
                    "product_name": "Rodriguez Caballero 11",
                    "product_description": "Featuring a carefully chosen, solid Canadian cedar top and laminated bubinga back and sides, the Caballero 11 classical guitar is a beauty to behold and play. The headstock and fretboard are of Indian rosewood. Nickel-plated tuners and Silver-plated frets are installed to last a lifetime. The body binding and wood rosette are exquisite.\\r\\n\\r\\nThe Rodriguez Guitar is hand crafted and glued to create precise balances. From the invisible careful sanding, even inside the body, that ensures the finished instrument's purity of tone, to the beautifully unique rosette inlays around the soundhole and on the back of the neck, each guitar is a credit to its luthier and worthy of being handed down from one generation to another.\\r\\n\\r\\nThe tone, resonance and beauty of fine guitars are all dependent upon the wood from which they are made. The wood used in the construction of Rodriguez guitars is carefully chosen and aged to guarantee the highest quality. No wood is purchased before the tree has been cut down, and at least 2 years must elapse before the tree is turned into lumber. The wood has to be well cut from the log. The grain must be close and absolutely vertical. The shop is totally free from humidity.",
                    "list_price": "415.00",
                    "item_price": "699.00",
                    "discount_amount": "209.70",
                    "quantity": "1",
                    "ship_amount": "5.00",
                    "tax_amount": "34.25",
                    "first_name": "Mitsue",
                    "last_name": "Tollner",
                    "line1": "74 S Westgate St",
                    "line2": "",
                    "city": "Albany",
                    "state_code": "NY",
                    "zip_code": "12204",
                    "email_address": "mitsue_tollner@yahoo.com"
                },
                {
                    "category_name": "Guitars",
                    "product_name": "Rodriguez Caballero 11",
                    "product_description": "Featuring a carefully chosen, solid Canadian cedar top and laminated bubinga back and sides, the Caballero 11 classical guitar is a beauty to behold and play. The headstock and fretboard are of Indian rosewood. Nickel-plated tuners and Silver-plated frets are installed to last a lifetime. The body binding and wood rosette are exquisite.\\r\\n\\r\\nThe Rodriguez Guitar is hand crafted and glued to create precise balances. From the invisible careful sanding, even inside the body, that ensures the finished instrument's purity of tone, to the beautifully unique rosette inlays around the soundhole and on the back of the neck, each guitar is a credit to its luthier and worthy of being handed down from one generation to another.\\r\\n\\r\\nThe tone, resonance and beauty of fine guitars are all dependent upon the wood from which they are made. The wood used in the construction of Rodriguez guitars is carefully chosen and aged to guarantee the highest quality. No wood is purchased before the tree has been cut down, and at least 2 years must elapse before the tree is turned into lumber. The wood has to be well cut from the log. The grain must be close and absolutely vertical. The shop is totally free from humidity.",
                    "list_price": "415.00",
                    "item_price": "699.00",
                    "discount_amount": "209.70",
                    "quantity": "1",
                    "ship_amount": "5.00",
                    "tax_amount": "34.25",
                    "first_name": "Mitsue",
                    "last_name": "Tollner",
                    "line1": "9390 S Howell Ave",
                    "line2": "",
                    "city": "Albany",
                    "state_code": "GA",
                    "zip_code": "31701",
                    "email_address": "mitsue_tollner@yahoo.com"
                },
                {
                    "category_name": "Guitars",
                    "product_name": "Rodriguez Caballero 11",
                    "product_description": "Featuring a carefully chosen, solid Canadian cedar top and laminated bubinga back and sides, the Caballero 11 classical guitar is a beauty to behold and play. The headstock and fretboard are of Indian rosewood. Nickel-plated tuners and Silver-plated frets are installed to last a lifetime. The body binding and wood rosette are exquisite.\\r\\n\\r\\nThe Rodriguez Guitar is hand crafted and glued to create precise balances. From the invisible careful sanding, even inside the body, that ensures the finished instrument's purity of tone, to the beautifully unique rosette inlays around the soundhole and on the back of the neck, each guitar is a credit to its luthier and worthy of being handed down from one generation to another.\\r\\n\\r\\nThe tone, resonance and beauty of fine guitars are all dependent upon the wood from which they are made. The wood used in the construction of Rodriguez guitars is carefully chosen and aged to guarantee the highest quality. No wood is purchased before the tree has been cut down, and at least 2 years must elapse before the tree is turned into lumber. The wood has to be well cut from the log. The grain must be close and absolutely vertical. The shop is totally free from humidity.",
                    "list_price": "415.00",
                    "item_price": "699.00",
                    "discount_amount": "209.70",
                    "quantity": "1",
                    "ship_amount": "5.00",
                    "tax_amount": "34.25",
                    "first_name": "Leota",
                    "last_name": "Dilliard",
                    "line1": "89992 E 15th St",
                    "line2": "",
                    "city": "Alliance",
                    "state_code": "NE",
                    "zip_code": "69301",
                    "email_address": "leota@hotmail.com"
                },
                {
                    "category_name": "Guitars",
                    "product_name": "Gibson Les Paul",
                    "product_description": "This Les Paul guitar offers a carved top and humbucking pickups. It has a simple yet elegant design. Cutting-yet-rich tone?the hallmark of the Les Paul?pours out of the 490R and 498T Alnico II magnet humbucker pickups, which are mounted on a carved maple top with a mahogany back. The faded finish models are equipped with BurstBucker Pro pickups and a mahogany top. This guitar includes a Gibson hardshell case (Faded and satin finish models come with a gig bag) and a limited lifetime warranty.\\r\\n\\r\\nFeatures:\\r\\n\\r\\n* Carved maple top and mahogany back (Mahogany top on faded finish models)\\r\\n* Mahogany neck, '59 Rounded Les Paul\\r\\n* Rosewood fingerboard (Ebony on Alpine white)\\r\\n* Tune-O-Matic bridge with stopbar\\r\\n* Chrome or gold hardware\\r\\n* 490R and 498T Alnico 2 magnet humbucker pickups (BurstBucker Pro on faded finish models)\\r\\n* 2 volume and 2 tone knobs, 3-way switch",
                    "list_price": "1199.00",
                    "item_price": "1199.00",
                    "discount_amount": "359.70",
                    "quantity": "2",
                    "ship_amount": "10.00",
                    "tax_amount": "117.50",
                    "first_name": "Sage",
                    "last_name": "Wieser",
                    "line1": "812 S Haven St",
                    "line2": "",
                    "city": "Amarillo",
                    "state_code": "TX",
                    "zip_code": "79109",
                    "email_address": "sage_wieser@cox.net"
                },
                {
                    "category_name": "Guitars",
                    "product_name": "Yamaha FG700S",
                    "product_description": "The Yamaha FG700S solid top acoustic guitar has the ultimate combo for projection and pure tone. The expertly braced spruce top speaks clearly atop the rosewood body. It has a rosewood fingerboard, rosewood bridge, die-cast tuners, body and neck binding, and a tortoise pickguard.\\r\\n\\r\\nFeatures:\\r\\n\\r\\n* Solid Sitka spruce top\\r\\n* Rosewood back and sides\\r\\n* Rosewood fingerboard\\r\\n* Rosewood bridge\\r\\n* White/black body and neck binding\\r\\n* Die-cast tuners\\r\\n* Tortoise pickguard\\r\\n* Limited lifetime warranty",
                    "list_price": "489.99",
                    "item_price": "799.99",
                    "discount_amount": "120.00",
                    "quantity": "1",
                    "ship_amount": "5.00",
                    "tax_amount": "47.60",
                    "first_name": "Kris",
                    "last_name": "Marrier",
                    "line1": "72119 S Walker Ave #63",
                    "line2": "",
                    "city": "Anaheim",
                    "state_code": "CA",
                    "zip_code": "92801",
                    "email_address": "kris@gmail.com"
                },
                {
                    "category_name": "Guitars",
                    "product_name": "Fender Stratocaster",
                    "product_description": "The Fender Stratocaster is the electric guitar design that changed the world. New features include a tinted neck, parchment pickguard and control knobs, and a '70s-style logo. Includes select alder body, 21-fret maple neck with your choice of a rosewood or maple fretboard, 3 single-coil pickups, vintage-style tremolo, and die-cast tuning keys. This guitar features a thicker bridge block for increased sustain and a more stable point of contact with the strings. At this low price, why play anything but the real thing?\\r\\n\\r\\nFeatures:\\r\\n\\r\\n* New features:\\r\\n* Thicker bridge block\\r\\n* 3-ply parchment pick guard\\r\\n* Tinted neck",
                    "list_price": "699.00",
                    "item_price": "2517.00",
                    "discount_amount": "1308.84",
                    "quantity": "1",
                    "ship_amount": "5.00",
                    "tax_amount": "84.57",
                    "first_name": "Kris",
                    "last_name": "Marrier",
                    "line1": "72119 S Walker Ave #63",
                    "line2": "",
                    "city": "Anaheim",
                    "state_code": "CA",
                    "zip_code": "92801",
                    "email_address": "kris@gmail.com"
                },
                {
                    "category_name": "Guitars",
                    "product_name": "Gibson SG",
                    "product_description": "This Gibson SG electric guitar takes the best of the '62 original and adds the longer and sturdier neck joint of the late '60s models. All the classic features you'd expect from a historic guitar. Hot humbuckers go from rich, sweet lightning to warm, tingling waves of sustain. A silky-fast rosewood fretboard plays like a dream. The original-style beveled mahogany body looks like a million bucks. Plus, Tune-O-Matic bridge and chrome hardware. Limited lifetime warranty. Includes hardshell case.\\r\\n\\r\\nFeatures:\\r\\n\\r\\n* Double-cutaway beveled mahogany body\\r\\n* Set mahogany neck with rounded '50s profile\\r\\n* Bound rosewood fingerboard with trapezoid inlays\\r\\n* Tune-O-Matic bridge with stopbar tailpiece\\r\\n* Chrome hardware\\r\\n* 490R humbucker in the neck position\\r\\n* 498T humbucker in the bridge position\\r\\n* 2 volume knobs, 2 tone knobs, 3-way switch\\r\\n* 24-3/4\" scale",
                    "list_price": "2517.00",
                    "item_price": "799.99",
                    "discount_amount": "240.00",
                    "quantity": "1",
                    "ship_amount": "10.00",
                    "tax_amount": "39.20",
                    "first_name": "Minna",
                    "last_name": "Amigon",
                    "line1": "639 Main St",
                    "line2": "",
                    "city": "Anchorage",
                    "state_code": "AK",
                    "zip_code": "99501",
                    "email_address": "minna_amigon@yahoo.com"
                },
                {
                    "category_name": "Guitars",
                    "product_name": "Gibson SG",
                    "product_description": "This Gibson SG electric guitar takes the best of the '62 original and adds the longer and sturdier neck joint of the late '60s models. All the classic features you'd expect from a historic guitar. Hot humbuckers go from rich, sweet lightning to warm, tingling waves of sustain. A silky-fast rosewood fretboard plays like a dream. The original-style beveled mahogany body looks like a million bucks. Plus, Tune-O-Matic bridge and chrome hardware. Limited lifetime warranty. Includes hardshell case.\\r\\n\\r\\nFeatures:\\r\\n\\r\\n* Double-cutaway beveled mahogany body\\r\\n* Set mahogany neck with rounded '50s profile\\r\\n* Bound rosewood fingerboard with trapezoid inlays\\r\\n* Tune-O-Matic bridge with stopbar tailpiece\\r\\n* Chrome hardware\\r\\n* 490R humbucker in the neck position\\r\\n* 498T humbucker in the bridge position\\r\\n* 2 volume knobs, 2 tone knobs, 3-way switch\\r\\n* 24-3/4\" scale",
                    "list_price": "2517.00",
                    "item_price": "799.99",
                    "discount_amount": "240.00",
                    "quantity": "1",
                    "ship_amount": "10.00",
                    "tax_amount": "39.20",
                    "first_name": "Minna",
                    "last_name": "Amigon",
                    "line1": "18 Fountain St",
                    "line2": "",
                    "city": "Anchorage",
                    "state_code": "AK",
                    "zip_code": "99515",
                    "email_address": "minna_amigon@yahoo.com"
                },
                {
                    "category_name": "Guitars",
                    "product_name": "Rodriguez Caballero 11",
                    "product_description": "Featuring a carefully chosen, solid Canadian cedar top and laminated bubinga back and sides, the Caballero 11 classical guitar is a beauty to behold and play. The headstock and fretboard are of Indian rosewood. Nickel-plated tuners and Silver-plated frets are installed to last a lifetime. The body binding and wood rosette are exquisite.\\r\\n\\r\\nThe Rodriguez Guitar is hand crafted and glued to create precise balances. From the invisible careful sanding, even inside the body, that ensures the finished instrument's purity of tone, to the beautifully unique rosette inlays around the soundhole and on the back of the neck, each guitar is a credit to its luthier and worthy of being handed down from one generation to another.\\r\\n\\r\\nThe tone, resonance and beauty of fine guitars are all dependent upon the wood from which they are made. The wood used in the construction of Rodriguez guitars is carefully chosen and aged to guarantee the highest quality. No wood is purchased before the tree has been cut down, and at least 2 years must elapse before the tree is turned into lumber. The wood has to be well cut from the log. The grain must be close and absolutely vertical. The shop is totally free from humidity.",
                    "list_price": "415.00",
                    "item_price": "699.00",
                    "discount_amount": "209.70",
                    "quantity": "1",
                    "ship_amount": "5.00",
                    "tax_amount": "34.25",
                    "first_name": "Abel",
                    "last_name": "Maclead",
                    "line1": "1747 Calle Amanecer #2",
                    "line2": "",
                    "city": "Anchorage",
                    "state_code": "AK",
                    "zip_code": "99501",
                    "email_address": "amaclead@gmail.com"
                },
                {
                    "category_name": "Guitars",
                    "product_name": "Rodriguez Caballero 11",
                    "product_description": "Featuring a carefully chosen, solid Canadian cedar top and laminated bubinga back and sides, the Caballero 11 classical guitar is a beauty to behold and play. The headstock and fretboard are of Indian rosewood. Nickel-plated tuners and Silver-plated frets are installed to last a lifetime. The body binding and wood rosette are exquisite.\\r\\n\\r\\nThe Rodriguez Guitar is hand crafted and glued to create precise balances. From the invisible careful sanding, even inside the body, that ensures the finished instrument's purity of tone, to the beautifully unique rosette inlays around the soundhole and on the back of the neck, each guitar is a credit to its luthier and worthy of being handed down from one generation to another.\\r\\n\\r\\nThe tone, resonance and beauty of fine guitars are all dependent upon the wood from which they are made. The wood used in the construction of Rodriguez guitars is carefully chosen and aged to guarantee the highest quality. No wood is purchased before the tree has been cut down, and at least 2 years must elapse before the tree is turned into lumber. The wood has to be well cut from the log. The grain must be close and absolutely vertical. The shop is totally free from humidity.",
                    "list_price": "415.00",
                    "item_price": "699.00",
                    "discount_amount": "209.70",
                    "quantity": "1",
                    "ship_amount": "5.00",
                    "tax_amount": "34.25",
                    "first_name": "Kiley",
                    "last_name": "Caldarera",
                    "line1": "735 Crawford Dr",
                    "line2": "",
                    "city": "Anchorage",
                    "state_code": "AK",
                    "zip_code": "99501",
                    "email_address": "kiley.caldarera@aol.com"
                },
                {
                    "category_name": "Guitars",
                    "product_name": "Gibson Les Paul",
                    "product_description": "This Les Paul guitar offers a carved top and humbucking pickups. It has a simple yet elegant design. Cutting-yet-rich tone?the hallmark of the Les Paul?pours out of the 490R and 498T Alnico II magnet humbucker pickups, which are mounted on a carved maple top with a mahogany back. The faded finish models are equipped with BurstBucker Pro pickups and a mahogany top. This guitar includes a Gibson hardshell case (Faded and satin finish models come with a gig bag) and a limited lifetime warranty.\\r\\n\\r\\nFeatures:\\r\\n\\r\\n* Carved maple top and mahogany back (Mahogany top on faded finish models)\\r\\n* Mahogany neck, '59 Rounded Les Paul\\r\\n* Rosewood fingerboard (Ebony on Alpine white)\\r\\n* Tune-O-Matic bridge with stopbar\\r\\n* Chrome or gold hardware\\r\\n* 490R and 498T Alnico 2 magnet humbucker pickups (BurstBucker Pro on faded finish models)\\r\\n* 2 volume and 2 tone knobs, 3-way switch",
                    "list_price": "1199.00",
                    "item_price": "1199.00",
                    "discount_amount": "359.70",
                    "quantity": "2",
                    "ship_amount": "10.00",
                    "tax_amount": "117.50",
                    "first_name": "Graciela",
                    "last_name": "Ruta",
                    "line1": "560 Civic Center Dr",
                    "line2": "",
                    "city": "Ann Arbor",
                    "state_code": "MI",
                    "zip_code": "48103",
                    "email_address": "gruta@cox.net"
                },
                {
                    "category_name": "Guitars",
                    "product_name": "Rodriguez Caballero 11",
                    "product_description": "Featuring a carefully chosen, solid Canadian cedar top and laminated bubinga back and sides, the Caballero 11 classical guitar is a beauty to behold and play. The headstock and fretboard are of Indian rosewood. Nickel-plated tuners and Silver-plated frets are installed to last a lifetime. The body binding and wood rosette are exquisite.\\r\\n\\r\\nThe Rodriguez Guitar is hand crafted and glued to create precise balances. From the invisible careful sanding, even inside the body, that ensures the finished instrument's purity of tone, to the beautifully unique rosette inlays around the soundhole and on the back of the neck, each guitar is a credit to its luthier and worthy of being handed down from one generation to another.\\r\\n\\r\\nThe tone, resonance and beauty of fine guitars are all dependent upon the wood from which they are made. The wood used in the construction of Rodriguez guitars is carefully chosen and aged to guarantee the highest quality. No wood is purchased before the tree has been cut down, and at least 2 years must elapse before the tree is turned into lumber. The wood has to be well cut from the log. The grain must be close and absolutely vertical. The shop is totally free from humidity.",
                    "list_price": "415.00",
                    "item_price": "699.00",
                    "discount_amount": "209.70",
                    "quantity": "1",
                    "ship_amount": "5.00",
                    "tax_amount": "0.00",
                    "first_name": "Cammy",
                    "last_name": "Albares",
                    "line1": "747 Leonis Blvd",
                    "line2": "",
                    "city": "Annandale",
                    "state_code": "VA",
                    "zip_code": "22003",
                    "email_address": "calbares@gmail.com"
                },
                {
                    "category_name": "Guitars",
                    "product_name": "Fender Stratocaster",
                    "product_description": "The Fender Stratocaster is the electric guitar design that changed the world. New features include a tinted neck, parchment pickguard and control knobs, and a '70s-style logo. Includes select alder body, 21-fret maple neck with your choice of a rosewood or maple fretboard, 3 single-coil pickups, vintage-style tremolo, and die-cast tuning keys. This guitar features a thicker bridge block for increased sustain and a more stable point of contact with the strings. At this low price, why play anything but the real thing?\\r\\n\\r\\nFeatures:\\r\\n\\r\\n* New features:\\r\\n* Thicker bridge block\\r\\n* 3-ply parchment pick guard\\r\\n* Tinted neck",
                    "list_price": "699.00",
                    "item_price": "2517.00",
                    "discount_amount": "1308.84",
                    "quantity": "1",
                    "ship_amount": "5.00",
                    "tax_amount": "84.57",
                    "first_name": "Mattie",
                    "last_name": "Poquette",
                    "line1": "70099 E North Ave",
                    "line2": "",
                    "city": "Arlington",
                    "state_code": "TX",
                    "zip_code": "76013",
                    "email_address": "mattie@aol.com"
                },
                {
                    "category_name": "Guitars",
                    "product_name": "Washburn D10S",
                    "product_description": "The Washburn D10S acoustic guitar is superbly crafted with a solid spruce top and mahogany back and sides for exceptional tone. A mahogany neck and rosewood fingerboard make fretwork a breeze, while chrome Grover-style machines keep you perfectly tuned. The Washburn D10S comes with a limited lifetime warranty.\\r\\n\\r\\nFeatures:\\r\\n\\r\\n    * Spruce top\\r\\n    * Mahogany back, sides\\r\\n    * Mahogany neck Rosewood fingerboard\\r\\n    * Chrome Grover-style machines",
                    "list_price": "299.00",
                    "item_price": "699.99",
                    "discount_amount": "210.00",
                    "quantity": "1",
                    "ship_amount": "5.00",
                    "tax_amount": "34.30",
                    "first_name": "Meaghan",
                    "last_name": "Garufi",
                    "line1": "73 W Barstow Ave",
                    "line2": "",
                    "city": "Arlington Heights",
                    "state_code": "IL",
                    "zip_code": "60004",
                    "email_address": "meaghan@hotmail.com"
                },
                {
                    "category_name": "Basses",
                    "product_name": "Fender Precision",
                    "product_description": "The Fender Precision bass guitar delivers the sound, look, and feel today's bass players demand. This bass features that classic P-Bass old-school design. Each Precision bass boasts contemporary features and refinements that make it an excellent value. Featuring an alder body and a split single-coil pickup, this classic electric bass guitar lives up to its Fender legacy.\\r\\n\\r\\nFeatures:\\r\\n\\r\\n* Body: Alder\\r\\n* Neck: Maple, modern C shape, tinted satin urethane finish\\r\\n* Fingerboard: Rosewood or maple (depending on color)\\r\\n* 9-1/2\" Radius (241 mm)\\r\\n* Frets: 20 Medium-jumbo frets\\r\\n* Pickups: 1 Standard Precision Bass split single-coil pickup (Mid)\\r\\n* Controls: Volume, Tone\\r\\n* Bridge: Standard vintage style with single groove saddles\\r\\n* Machine heads: Standard\\r\\n* Hardware: Chrome\\r\\n* Pickguard: 3-Ply Parchment\\r\\n* Scale Length: 34\" (864 mm)\\r\\n* Width at Nut: 1-5/8\" (41.3 mm)\\r\\n* Unique features: Knurled chrome P Bass knobs, Fender transition logo",
                    "list_price": "799.99",
                    "item_price": "499.99",
                    "discount_amount": "125.00",
                    "quantity": "1",
                    "ship_amount": "5.00",
                    "tax_amount": "26.25",
                    "first_name": "Gladys",
                    "last_name": "Rim",
                    "line1": "3 Mcauley Dr",
                    "line2": "",
                    "city": "Ashland",
                    "state_code": "OH",
                    "zip_code": "44805",
                    "email_address": "gladys.rim@rim.org"
                },
                {
                    "category_name": "Guitars",
                    "product_name": "Fender Stratocaster",
                    "product_description": "The Fender Stratocaster is the electric guitar design that changed the world. New features include a tinted neck, parchment pickguard and control knobs, and a '70s-style logo. Includes select alder body, 21-fret maple neck with your choice of a rosewood or maple fretboard, 3 single-coil pickups, vintage-style tremolo, and die-cast tuning keys. This guitar features a thicker bridge block for increased sustain and a more stable point of contact with the strings. At this low price, why play anything but the real thing?\\r\\n\\r\\nFeatures:\\r\\n\\r\\n* New features:\\r\\n* Thicker bridge block\\r\\n* 3-ply parchment pick guard\\r\\n* Tinted neck",
                    "list_price": "699.00",
                    "item_price": "2517.00",
                    "discount_amount": "1308.84",
                    "quantity": "1",
                    "ship_amount": "10.00",
                    "tax_amount": "118.82",
                    "first_name": "Yuki",
                    "last_name": "Whobrey",
                    "line1": "6 S 33rd St",
                    "line2": "",
                    "city": "Aston",
                    "state_code": "PA",
                    "zip_code": "19014",
                    "email_address": "yuki_whobrey@aol.com"
                },
                {
                    "category_name": "Guitars",
                    "product_name": "Rodriguez Caballero 11",
                    "product_description": "Featuring a carefully chosen, solid Canadian cedar top and laminated bubinga back and sides, the Caballero 11 classical guitar is a beauty to behold and play. The headstock and fretboard are of Indian rosewood. Nickel-plated tuners and Silver-plated frets are installed to last a lifetime. The body binding and wood rosette are exquisite.\\r\\n\\r\\nThe Rodriguez Guitar is hand crafted and glued to create precise balances. From the invisible careful sanding, even inside the body, that ensures the finished instrument's purity of tone, to the beautifully unique rosette inlays around the soundhole and on the back of the neck, each guitar is a credit to its luthier and worthy of being handed down from one generation to another.\\r\\n\\r\\nThe tone, resonance and beauty of fine guitars are all dependent upon the wood from which they are made. The wood used in the construction of Rodriguez guitars is carefully chosen and aged to guarantee the highest quality. No wood is purchased before the tree has been cut down, and at least 2 years must elapse before the tree is turned into lumber. The wood has to be well cut from the log. The grain must be close and absolutely vertical. The shop is totally free from humidity.",
                    "list_price": "415.00",
                    "item_price": "699.00",
                    "discount_amount": "209.70",
                    "quantity": "1",
                    "ship_amount": "10.00",
                    "tax_amount": "118.82",
                    "first_name": "Yuki",
                    "last_name": "Whobrey",
                    "line1": "6 S 33rd St",
                    "line2": "",
                    "city": "Aston",
                    "state_code": "PA",
                    "zip_code": "19014",
                    "email_address": "yuki_whobrey@aol.com"
                },
                {
                    "category_name": "Drums",
                    "product_name": "Tama 5-Piece Drum Set with Cymbals",
                    "product_description": "The Tama 5-piece Drum Set is the most affordable Tama drum kit ever to incorporate so many high-end features.\\r\\n\\r\\nWith over 40 years of experience, Tama knows what drummers really want. Which is why, no matter how long you've been playing the drums, no matter what budget you have to work with, Tama has the set you need, want, and can afford. Every aspect of the modern drum kit was exhaustively examined and reexamined and then improved before it was accepted as part of the Tama design. Which is why, if you start playing Tama now as a beginner, you'll still enjoy playing it when you've achieved pro-status. That's how good these groundbreaking new drums are.\\r\\n\\r\\nOnly Tama comes with a complete set of genuine Meinl HCS cymbals. These high-quality brass cymbals are made in Germany and are sonically matched so they sound great together. They are even lathed for a more refined tonal character. The set includes 14\" hi-hats, 16\" crash cymbal, and a 20\" ride cymbal.\\r\\n\\r\\nFeatures:\\r\\n\\r\\n* 100% poplar 6-ply/7.5mm shells\\r\\n* Precise bearing edges\\r\\n* 100% glued finishes\\r\\n* Original small lugs\\r\\n* Drum heads\\r\\n* Accu-tune bass drum hoops\\r\\n* Spur brackets\\r\\n* Tom holder\\r\\n* Tom brackets",
                    "list_price": "799.99",
                    "item_price": "299.00",
                    "discount_amount": "0.00",
                    "quantity": "2",
                    "ship_amount": "10.00",
                    "tax_amount": "41.86",
                    "first_name": "Fletcher",
                    "last_name": "Flosi",
                    "line1": "92 Broadway",
                    "line2": "",
                    "city": "Astoria",
                    "state_code": "NY",
                    "zip_code": "11103",
                    "email_address": "fletcher.flosi@yahoo.com"
                },
                {
                    "category_name": "Guitars",
                    "product_name": "Gibson Les Paul",
                    "product_description": "This Les Paul guitar offers a carved top and humbucking pickups. It has a simple yet elegant design. Cutting-yet-rich tone?the hallmark of the Les Paul?pours out of the 490R and 498T Alnico II magnet humbucker pickups, which are mounted on a carved maple top with a mahogany back. The faded finish models are equipped with BurstBucker Pro pickups and a mahogany top. This guitar includes a Gibson hardshell case (Faded and satin finish models come with a gig bag) and a limited lifetime warranty.\\r\\n\\r\\nFeatures:\\r\\n\\r\\n* Carved maple top and mahogany back (Mahogany top on faded finish models)\\r\\n* Mahogany neck, '59 Rounded Les Paul\\r\\n* Rosewood fingerboard (Ebony on Alpine white)\\r\\n* Tune-O-Matic bridge with stopbar\\r\\n* Chrome or gold hardware\\r\\n* 490R and 498T Alnico 2 magnet humbucker pickups (BurstBucker Pro on faded finish models)\\r\\n* 2 volume and 2 tone knobs, 3-way switch",
                    "list_price": "1199.00",
                    "item_price": "1199.00",
                    "discount_amount": "359.70",
                    "quantity": "1",
                    "ship_amount": "5.00",
                    "tax_amount": "58.75",
                    "first_name": "Bette",
                    "last_name": "Nicka",
                    "line1": "45 2nd Ave #9759",
                    "line2": "",
                    "city": "Atlanta",
                    "state_code": "GA",
                    "zip_code": "30328",
                    "email_address": "bette_nicka@cox.net"
                },
                {
                    "category_name": "Guitars",
                    "product_name": "Rodriguez Caballero 11",
                    "product_description": "Featuring a carefully chosen, solid Canadian cedar top and laminated bubinga back and sides, the Caballero 11 classical guitar is a beauty to behold and play. The headstock and fretboard are of Indian rosewood. Nickel-plated tuners and Silver-plated frets are installed to last a lifetime. The body binding and wood rosette are exquisite.\\r\\n\\r\\nThe Rodriguez Guitar is hand crafted and glued to create precise balances. From the invisible careful sanding, even inside the body, that ensures the finished instrument's purity of tone, to the beautifully unique rosette inlays around the soundhole and on the back of the neck, each guitar is a credit to its luthier and worthy of being handed down from one generation to another.\\r\\n\\r\\nThe tone, resonance and beauty of fine guitars are all dependent upon the wood from which they are made. The wood used in the construction of Rodriguez guitars is carefully chosen and aged to guarantee the highest quality. No wood is purchased before the tree has been cut down, and at least 2 years must elapse before the tree is turned into lumber. The wood has to be well cut from the log. The grain must be close and absolutely vertical. The shop is totally free from humidity.",
                    "list_price": "415.00",
                    "item_price": "699.00",
                    "discount_amount": "209.70",
                    "quantity": "1",
                    "ship_amount": "5.00",
                    "tax_amount": "0.00",
                    "first_name": "Bette",
                    "last_name": "Nicka",
                    "line1": "45 2nd Ave #9759",
                    "line2": "",
                    "city": "Atlanta",
                    "state_code": "GA",
                    "zip_code": "30328",
                    "email_address": "bette_nicka@cox.net"
                },
                {
                    "category_name": "Guitars",
                    "product_name": "Gibson Les Paul",
                    "product_description": "This Les Paul guitar offers a carved top and humbucking pickups. It has a simple yet elegant design. Cutting-yet-rich tone?the hallmark of the Les Paul?pours out of the 490R and 498T Alnico II magnet humbucker pickups, which are mounted on a carved maple top with a mahogany back. The faded finish models are equipped with BurstBucker Pro pickups and a mahogany top. This guitar includes a Gibson hardshell case (Faded and satin finish models come with a gig bag) and a limited lifetime warranty.\\r\\n\\r\\nFeatures:\\r\\n\\r\\n* Carved maple top and mahogany back (Mahogany top on faded finish models)\\r\\n* Mahogany neck, '59 Rounded Les Paul\\r\\n* Rosewood fingerboard (Ebony on Alpine white)\\r\\n* Tune-O-Matic bridge with stopbar\\r\\n* Chrome or gold hardware\\r\\n* 490R and 498T Alnico 2 magnet humbucker pickups (BurstBucker Pro on faded finish models)\\r\\n* 2 volume and 2 tone knobs, 3-way switch",
                    "list_price": "1199.00",
                    "item_price": "1199.00",
                    "discount_amount": "359.70",
                    "quantity": "1",
                    "ship_amount": "5.00",
                    "tax_amount": "58.75",
                    "first_name": "Bette",
                    "last_name": "Nicka",
                    "line1": "26 Montgomery St",
                    "line2": "",
                    "city": "Atlanta",
                    "state_code": "GA",
                    "zip_code": "30328",
                    "email_address": "bette_nicka@cox.net"
                },
                {
                    "category_name": "Guitars",
                    "product_name": "Rodriguez Caballero 11",
                    "product_description": "Featuring a carefully chosen, solid Canadian cedar top and laminated bubinga back and sides, the Caballero 11 classical guitar is a beauty to behold and play. The headstock and fretboard are of Indian rosewood. Nickel-plated tuners and Silver-plated frets are installed to last a lifetime. The body binding and wood rosette are exquisite.\\r\\n\\r\\nThe Rodriguez Guitar is hand crafted and glued to create precise balances. From the invisible careful sanding, even inside the body, that ensures the finished instrument's purity of tone, to the beautifully unique rosette inlays around the soundhole and on the back of the neck, each guitar is a credit to its luthier and worthy of being handed down from one generation to another.\\r\\n\\r\\nThe tone, resonance and beauty of fine guitars are all dependent upon the wood from which they are made. The wood used in the construction of Rodriguez guitars is carefully chosen and aged to guarantee the highest quality. No wood is purchased before the tree has been cut down, and at least 2 years must elapse before the tree is turned into lumber. The wood has to be well cut from the log. The grain must be close and absolutely vertical. The shop is totally free from humidity.",
                    "list_price": "415.00",
                    "item_price": "699.00",
                    "discount_amount": "209.70",
                    "quantity": "1",
                    "ship_amount": "5.00",
                    "tax_amount": "0.00",
                    "first_name": "Bette",
                    "last_name": "Nicka",
                    "line1": "26 Montgomery St",
                    "line2": "",
                    "city": "Atlanta",
                    "state_code": "GA",
                    "zip_code": "30328",
                    "email_address": "bette_nicka@cox.net"
                },
                {
                    "category_name": "Guitars",
                    "product_name": "Gibson SG",
                    "product_description": "This Gibson SG electric guitar takes the best of the '62 original and adds the longer and sturdier neck joint of the late '60s models. All the classic features you'd expect from a historic guitar. Hot humbuckers go from rich, sweet lightning to warm, tingling waves of sustain. A silky-fast rosewood fretboard plays like a dream. The original-style beveled mahogany body looks like a million bucks. Plus, Tune-O-Matic bridge and chrome hardware. Limited lifetime warranty. Includes hardshell case.\\r\\n\\r\\nFeatures:\\r\\n\\r\\n* Double-cutaway beveled mahogany body\\r\\n* Set mahogany neck with rounded '50s profile\\r\\n* Bound rosewood fingerboard with trapezoid inlays\\r\\n* Tune-O-Matic bridge with stopbar tailpiece\\r\\n* Chrome hardware\\r\\n* 490R humbucker in the neck position\\r\\n* 498T humbucker in the bridge position\\r\\n* 2 volume knobs, 2 tone knobs, 3-way switch\\r\\n* 24-3/4\" scale",
                    "list_price": "2517.00",
                    "item_price": "799.99",
                    "discount_amount": "240.00",
                    "quantity": "1",
                    "ship_amount": "5.00",
                    "tax_amount": "39.20",
                    "first_name": "Veronika",
                    "last_name": "Inouye",
                    "line1": "187 Market St",
                    "line2": "",
                    "city": "Atlanta",
                    "state_code": "GA",
                    "zip_code": "30342",
                    "email_address": "vinouye@aol.com"
                },
                {
                    "category_name": "Basses",
                    "product_name": "Hofner Icon",
                    "product_description": "With authentic details inspired by the original, the Hofner Icon makes the legendary violin bass available to the rest of us. Don't get the idea that this a just a \"nowhere man\" look-alike. This quality instrument features a real spruce top and beautiful flamed maple back and sides. The semi-hollow body and set neck will give you the warm, round tone you expect from the violin bass.\\r\\n\\r\\nFeatures:\\r\\n\\r\\n* Authentic details inspired by the original\\r\\n* Spruce top\\r\\n* Flamed maple back and sides\\r\\n* Set neck\\r\\n* Rosewood fretboard\\r\\n* 30\" scale\\r\\n* 22 frets\\r\\n* Dot inlay",
                    "list_price": "499.99",
                    "item_price": "489.99",
                    "discount_amount": "186.20",
                    "quantity": "1",
                    "ship_amount": "5.00",
                    "tax_amount": "21.27",
                    "first_name": "Willard",
                    "last_name": "Kolmetz",
                    "line1": "82 Winsor St #54",
                    "line2": "",
                    "city": "Atlanta",
                    "state_code": "GA",
                    "zip_code": "30340",
                    "email_address": "willard@hotmail.com"
                },
                {
                    "category_name": "Guitars",
                    "product_name": "Fender Stratocaster",
                    "product_description": "The Fender Stratocaster is the electric guitar design that changed the world. New features include a tinted neck, parchment pickguard and control knobs, and a '70s-style logo. Includes select alder body, 21-fret maple neck with your choice of a rosewood or maple fretboard, 3 single-coil pickups, vintage-style tremolo, and die-cast tuning keys. This guitar features a thicker bridge block for increased sustain and a more stable point of contact with the strings. At this low price, why play anything but the real thing?\\r\\n\\r\\nFeatures:\\r\\n\\r\\n* New features:\\r\\n* Thicker bridge block\\r\\n* 3-ply parchment pick guard\\r\\n* Tinted neck",
                    "list_price": "699.00",
                    "item_price": "2517.00",
                    "discount_amount": "1308.84",
                    "quantity": "1",
                    "ship_amount": "5.00",
                    "tax_amount": "84.57",
                    "first_name": "Maryann",
                    "last_name": "Royster",
                    "line1": "92 Main St",
                    "line2": "",
                    "city": "Atlantic City",
                    "state_code": "NJ",
                    "zip_code": "8401",
                    "email_address": "mroyster@royster.com"
                },
                {
                    "category_name": "Guitars",
                    "product_name": "Fender Stratocaster",
                    "product_description": "The Fender Stratocaster is the electric guitar design that changed the world. New features include a tinted neck, parchment pickguard and control knobs, and a '70s-style logo. Includes select alder body, 21-fret maple neck with your choice of a rosewood or maple fretboard, 3 single-coil pickups, vintage-style tremolo, and die-cast tuning keys. This guitar features a thicker bridge block for increased sustain and a more stable point of contact with the strings. At this low price, why play anything but the real thing?\\r\\n\\r\\nFeatures:\\r\\n\\r\\n* New features:\\r\\n* Thicker bridge block\\r\\n* 3-ply parchment pick guard\\r\\n* Tinted neck",
                    "list_price": "699.00",
                    "item_price": "2517.00",
                    "discount_amount": "1308.84",
                    "quantity": "1",
                    "ship_amount": "5.00",
                    "tax_amount": "84.57",
                    "first_name": "Maryann",
                    "last_name": "Royster",
                    "line1": "506 S Hacienda Dr",
                    "line2": "",
                    "city": "Atlantic City",
                    "state_code": "NJ",
                    "zip_code": "8401",
                    "email_address": "mroyster@royster.com"
                },
                {
                    "category_name": "Guitars",
                    "product_name": "Gibson Les Paul",
                    "product_description": "This Les Paul guitar offers a carved top and humbucking pickups. It has a simple yet elegant design. Cutting-yet-rich tone?the hallmark of the Les Paul?pours out of the 490R and 498T Alnico II magnet humbucker pickups, which are mounted on a carved maple top with a mahogany back. The faded finish models are equipped with BurstBucker Pro pickups and a mahogany top. This guitar includes a Gibson hardshell case (Faded and satin finish models come with a gig bag) and a limited lifetime warranty.\\r\\n\\r\\nFeatures:\\r\\n\\r\\n* Carved maple top and mahogany back (Mahogany top on faded finish models)\\r\\n* Mahogany neck, '59 Rounded Les Paul\\r\\n* Rosewood fingerboard (Ebony on Alpine white)\\r\\n* Tune-O-Matic bridge with stopbar\\r\\n* Chrome or gold hardware\\r\\n* 490R and 498T Alnico 2 magnet humbucker pickups (BurstBucker Pro on faded finish models)\\r\\n* 2 volume and 2 tone knobs, 3-way switch",
                    "list_price": "1199.00",
                    "item_price": "1199.00",
                    "discount_amount": "359.70",
                    "quantity": "2",
                    "ship_amount": "10.00",
                    "tax_amount": "117.50",
                    "first_name": "Alisha",
                    "last_name": "Slusarski",
                    "line1": "59 N Groesbeck Hwy",
                    "line2": "",
                    "city": "Austin",
                    "state_code": "TX",
                    "zip_code": "78731",
                    "email_address": "alisha@slusarski.com"
                },
                {
                    "category_name": "Guitars",
                    "product_name": "Gibson Les Paul",
                    "product_description": "This Les Paul guitar offers a carved top and humbucking pickups. It has a simple yet elegant design. Cutting-yet-rich tone?the hallmark of the Les Paul?pours out of the 490R and 498T Alnico II magnet humbucker pickups, which are mounted on a carved maple top with a mahogany back. The faded finish models are equipped with BurstBucker Pro pickups and a mahogany top. This guitar includes a Gibson hardshell case (Faded and satin finish models come with a gig bag) and a limited lifetime warranty.\\r\\n\\r\\nFeatures:\\r\\n\\r\\n* Carved maple top and mahogany back (Mahogany top on faded finish models)\\r\\n* Mahogany neck, '59 Rounded Les Paul\\r\\n* Rosewood fingerboard (Ebony on Alpine white)\\r\\n* Tune-O-Matic bridge with stopbar\\r\\n* Chrome or gold hardware\\r\\n* 490R and 498T Alnico 2 magnet humbucker pickups (BurstBucker Pro on faded finish models)\\r\\n* 2 volume and 2 tone knobs, 3-way switch",
                    "list_price": "1199.00",
                    "item_price": "1199.00",
                    "discount_amount": "359.70",
                    "quantity": "2",
                    "ship_amount": "10.00",
                    "tax_amount": "117.50",
                    "first_name": "Alisha",
                    "last_name": "Slusarski",
                    "line1": "2026 N Plankinton Ave #3",
                    "line2": "",
                    "city": "Austin",
                    "state_code": "TX",
                    "zip_code": "78754",
                    "email_address": "alisha@slusarski.com"
                },
                {
                    "category_name": "Guitars",
                    "product_name": "Rodriguez Caballero 11",
                    "product_description": "Featuring a carefully chosen, solid Canadian cedar top and laminated bubinga back and sides, the Caballero 11 classical guitar is a beauty to behold and play. The headstock and fretboard are of Indian rosewood. Nickel-plated tuners and Silver-plated frets are installed to last a lifetime. The body binding and wood rosette are exquisite.\\r\\n\\r\\nThe Rodriguez Guitar is hand crafted and glued to create precise balances. From the invisible careful sanding, even inside the body, that ensures the finished instrument's purity of tone, to the beautifully unique rosette inlays around the soundhole and on the back of the neck, each guitar is a credit to its luthier and worthy of being handed down from one generation to another.\\r\\n\\r\\nThe tone, resonance and beauty of fine guitars are all dependent upon the wood from which they are made. The wood used in the construction of Rodriguez guitars is carefully chosen and aged to guarantee the highest quality. No wood is purchased before the tree has been cut down, and at least 2 years must elapse before the tree is turned into lumber. The wood has to be well cut from the log. The grain must be close and absolutely vertical. The shop is totally free from humidity.",
                    "list_price": "415.00",
                    "item_price": "699.00",
                    "discount_amount": "209.70",
                    "quantity": "1",
                    "ship_amount": "5.00",
                    "tax_amount": "34.25",
                    "first_name": "Allene",
                    "last_name": "Iturbide",
                    "line1": "3125 Packer Ave #9851",
                    "line2": "",
                    "city": "Austin",
                    "state_code": "TX",
                    "zip_code": "78753",
                    "email_address": "allene_iturbide@cox.net"
                },
                {
                    "category_name": "Basses",
                    "product_name": "Hofner Icon",
                    "product_description": "With authentic details inspired by the original, the Hofner Icon makes the legendary violin bass available to the rest of us. Don't get the idea that this a just a \"nowhere man\" look-alike. This quality instrument features a real spruce top and beautiful flamed maple back and sides. The semi-hollow body and set neck will give you the warm, round tone you expect from the violin bass.\\r\\n\\r\\nFeatures:\\r\\n\\r\\n* Authentic details inspired by the original\\r\\n* Spruce top\\r\\n* Flamed maple back and sides\\r\\n* Set neck\\r\\n* Rosewood fretboard\\r\\n* 30\" scale\\r\\n* 22 frets\\r\\n* Dot inlay",
                    "list_price": "499.99",
                    "item_price": "489.99",
                    "discount_amount": "186.20",
                    "quantity": "1",
                    "ship_amount": "10.00",
                    "tax_amount": "55.52",
                    "first_name": "Chanel",
                    "last_name": "Caudy",
                    "line1": "228 Runamuck Pl #2808",
                    "line2": "",
                    "city": "Baltimore",
                    "state_code": "MD",
                    "zip_code": "21224",
                    "email_address": "chanel.caudy@caudy.org"
                },
                {
                    "category_name": "Guitars",
                    "product_name": "Rodriguez Caballero 11",
                    "product_description": "Featuring a carefully chosen, solid Canadian cedar top and laminated bubinga back and sides, the Caballero 11 classical guitar is a beauty to behold and play. The headstock and fretboard are of Indian rosewood. Nickel-plated tuners and Silver-plated frets are installed to last a lifetime. The body binding and wood rosette are exquisite.\\r\\n\\r\\nThe Rodriguez Guitar is hand crafted and glued to create precise balances. From the invisible careful sanding, even inside the body, that ensures the finished instrument's purity of tone, to the beautifully unique rosette inlays around the soundhole and on the back of the neck, each guitar is a credit to its luthier and worthy of being handed down from one generation to another.\\r\\n\\r\\nThe tone, resonance and beauty of fine guitars are all dependent upon the wood from which they are made. The wood used in the construction of Rodriguez guitars is carefully chosen and aged to guarantee the highest quality. No wood is purchased before the tree has been cut down, and at least 2 years must elapse before the tree is turned into lumber. The wood has to be well cut from the log. The grain must be close and absolutely vertical. The shop is totally free from humidity.",
                    "list_price": "415.00",
                    "item_price": "699.00",
                    "discount_amount": "209.70",
                    "quantity": "1",
                    "ship_amount": "10.00",
                    "tax_amount": "55.52",
                    "first_name": "Chanel",
                    "last_name": "Caudy",
                    "line1": "228 Runamuck Pl #2808",
                    "line2": "",
                    "city": "Baltimore",
                    "state_code": "MD",
                    "zip_code": "21224",
                    "email_address": "chanel.caudy@caudy.org"
                }
            ]
        },
        "text/html": [
            "<table>",
            "<tr><th>category_name</th><th>product_name</th><th>product_description</th><th>list_price</th><th>item_price</th><th>discount_amount</th><th>quantity</th><th>ship_amount</th><th>tax_amount</th><th>first_name</th><th>last_name</th><th>line1</th><th>line2</th><th>city</th><th>state_code</th><th>zip_code</th><th>email_address</th></tr>",
            "<tr><td>Guitars</td><td>Gibson Les Paul</td><td>This Les Paul guitar offers a carved top and humbucking pickups. It has a simple yet elegant design. Cutting-yet-rich tone?the hallmark of the Les Paul?pours out of the 490R and 498T Alnico II magnet humbucker pickups, which are mounted on a carved maple top with a mahogany back. The faded finish models are equipped with BurstBucker Pro pickups and a mahogany top. This guitar includes a Gibson hardshell case (Faded and satin finish models come with a gig bag) and a limited lifetime warranty.\\r\\n\\r\\nFeatures:\\r\\n\\r\\n* Carved maple top and mahogany back (Mahogany top on faded finish models)\\r\\n* Mahogany neck, &#39;59 Rounded Les Paul\\r\\n* Rosewood fingerboard (Ebony on Alpine white)\\r\\n* Tune-O-Matic bridge with stopbar\\r\\n* Chrome or gold hardware\\r\\n* 490R and 498T Alnico 2 magnet humbucker pickups (BurstBucker Pro on faded finish models)\\r\\n* 2 volume and 2 tone knobs, 3-way switch</td><td>1199.00</td><td>1199.00</td><td>359.70</td><td>1</td><td>5.00</td><td>58.75</td><td>Allan</td><td>Sherwood</td><td>100 East Ridgewood Ave.</td><td></td><td>Paramus</td><td>NJ</td><td>07652</td><td>allan.sherwood@yahoo.com</td></tr>",
            "<tr><td>Guitars</td><td>Fender Stratocaster</td><td>The Fender Stratocaster is the electric guitar design that changed the world. New features include a tinted neck, parchment pickguard and control knobs, and a &#39;70s-style logo. Includes select alder body, 21-fret maple neck with your choice of a rosewood or maple fretboard, 3 single-coil pickups, vintage-style tremolo, and die-cast tuning keys. This guitar features a thicker bridge block for increased sustain and a more stable point of contact with the strings. At this low price, why play anything but the real thing?\\r\\n\\r\\nFeatures:\\r\\n\\r\\n* New features:\\r\\n* Thicker bridge block\\r\\n* 3-ply parchment pick guard\\r\\n* Tinted neck</td><td>699.00</td><td>2517.00</td><td>1308.84</td><td>1</td><td>10.00</td><td>102.29</td><td>Allan</td><td>Sherwood</td><td>100 East Ridgewood Ave.</td><td></td><td>Paramus</td><td>NJ</td><td>07652</td><td>allan.sherwood@yahoo.com</td></tr>",
            "<tr><td>Drums</td><td>Ludwig 5-piece Drum Set with Cymbals</td><td>This product includes a Ludwig 5-piece drum set and a Zildjian starter cymbal pack.\\r\\n\\r\\nWith the Ludwig drum set, you get famous Ludwig quality. This set features a bass drum, two toms, a floor tom, and a snare?each with a wrapped finish. Drum hardware includes LA214FP bass pedal, snare stand, cymbal stand, hi-hat stand, and a throne.\\r\\n\\r\\nWith the Zildjian cymbal pack, you get a 14&quot; crash, 18&quot; crash/ride, and a pair of 13&quot; hi-hats. Sound grooves and round hammer strikes in a simple circular pattern on the top surface of these cymbals magnify the basic sound of the distinctive alloy.\\r\\n\\r\\nFeatures:\\r\\n\\r\\n* Famous Ludwig quality\\r\\n* Wrapped finishes\\r\\n* 22&quot; x 16&quot; kick drum\\r\\n* 12&quot; x 10&quot; and 13&quot; x 11&quot; toms\\r\\n* 16&quot; x 16&quot; floor tom\\r\\n* 14&quot; x 6-1/2&quot; snare drum kick pedal\\r\\n* Snare stand\\r\\n* Straight cymbal stand hi-hat stand\\r\\n* FREE throne</td><td>699.99</td><td>415.00</td><td>161.85</td><td>1</td><td>10.00</td><td>102.29</td><td>Allan</td><td>Sherwood</td><td>100 East Ridgewood Ave.</td><td></td><td>Paramus</td><td>NJ</td><td>07652</td><td>allan.sherwood@yahoo.com</td></tr>",
            "<tr><td>Guitars</td><td>Gibson Les Paul</td><td>This Les Paul guitar offers a carved top and humbucking pickups. It has a simple yet elegant design. Cutting-yet-rich tone?the hallmark of the Les Paul?pours out of the 490R and 498T Alnico II magnet humbucker pickups, which are mounted on a carved maple top with a mahogany back. The faded finish models are equipped with BurstBucker Pro pickups and a mahogany top. This guitar includes a Gibson hardshell case (Faded and satin finish models come with a gig bag) and a limited lifetime warranty.\\r\\n\\r\\nFeatures:\\r\\n\\r\\n* Carved maple top and mahogany back (Mahogany top on faded finish models)\\r\\n* Mahogany neck, &#39;59 Rounded Les Paul\\r\\n* Rosewood fingerboard (Ebony on Alpine white)\\r\\n* Tune-O-Matic bridge with stopbar\\r\\n* Chrome or gold hardware\\r\\n* 490R and 498T Alnico 2 magnet humbucker pickups (BurstBucker Pro on faded finish models)\\r\\n* 2 volume and 2 tone knobs, 3-way switch</td><td>1199.00</td><td>1199.00</td><td>359.70</td><td>1</td><td>5.00</td><td>58.75</td><td>Allan</td><td>Sherwood</td><td>21 Rosewood Rd.</td><td></td><td>Woodcliff Lake</td><td>NJ</td><td>07677</td><td>allan.sherwood@yahoo.com</td></tr>",
            "<tr><td>Guitars</td><td>Fender Stratocaster</td><td>The Fender Stratocaster is the electric guitar design that changed the world. New features include a tinted neck, parchment pickguard and control knobs, and a &#39;70s-style logo. Includes select alder body, 21-fret maple neck with your choice of a rosewood or maple fretboard, 3 single-coil pickups, vintage-style tremolo, and die-cast tuning keys. This guitar features a thicker bridge block for increased sustain and a more stable point of contact with the strings. At this low price, why play anything but the real thing?\\r\\n\\r\\nFeatures:\\r\\n\\r\\n* New features:\\r\\n* Thicker bridge block\\r\\n* 3-ply parchment pick guard\\r\\n* Tinted neck</td><td>699.00</td><td>2517.00</td><td>1308.84</td><td>1</td><td>10.00</td><td>102.29</td><td>Allan</td><td>Sherwood</td><td>21 Rosewood Rd.</td><td></td><td>Woodcliff Lake</td><td>NJ</td><td>07677</td><td>allan.sherwood@yahoo.com</td></tr>",
            "<tr><td>Drums</td><td>Ludwig 5-piece Drum Set with Cymbals</td><td>This product includes a Ludwig 5-piece drum set and a Zildjian starter cymbal pack.\\r\\n\\r\\nWith the Ludwig drum set, you get famous Ludwig quality. This set features a bass drum, two toms, a floor tom, and a snare?each with a wrapped finish. Drum hardware includes LA214FP bass pedal, snare stand, cymbal stand, hi-hat stand, and a throne.\\r\\n\\r\\nWith the Zildjian cymbal pack, you get a 14&quot; crash, 18&quot; crash/ride, and a pair of 13&quot; hi-hats. Sound grooves and round hammer strikes in a simple circular pattern on the top surface of these cymbals magnify the basic sound of the distinctive alloy.\\r\\n\\r\\nFeatures:\\r\\n\\r\\n* Famous Ludwig quality\\r\\n* Wrapped finishes\\r\\n* 22&quot; x 16&quot; kick drum\\r\\n* 12&quot; x 10&quot; and 13&quot; x 11&quot; toms\\r\\n* 16&quot; x 16&quot; floor tom\\r\\n* 14&quot; x 6-1/2&quot; snare drum kick pedal\\r\\n* Snare stand\\r\\n* Straight cymbal stand hi-hat stand\\r\\n* FREE throne</td><td>699.99</td><td>415.00</td><td>161.85</td><td>1</td><td>10.00</td><td>102.29</td><td>Allan</td><td>Sherwood</td><td>21 Rosewood Rd.</td><td></td><td>Woodcliff Lake</td><td>NJ</td><td>07677</td><td>allan.sherwood@yahoo.com</td></tr>",
            "<tr><td>Basses</td><td>Hofner Icon</td><td>With authentic details inspired by the original, the Hofner Icon makes the legendary violin bass available to the rest of us. Don&#39;t get the idea that this a just a &quot;nowhere man&quot; look-alike. This quality instrument features a real spruce top and beautiful flamed maple back and sides. The semi-hollow body and set neck will give you the warm, round tone you expect from the violin bass.\\r\\n\\r\\nFeatures:\\r\\n\\r\\n* Authentic details inspired by the original\\r\\n* Spruce top\\r\\n* Flamed maple back and sides\\r\\n* Set neck\\r\\n* Rosewood fretboard\\r\\n* 30&quot; scale\\r\\n* 22 frets\\r\\n* Dot inlay</td><td>499.99</td><td>489.99</td><td>186.20</td><td>1</td><td>5.00</td><td>21.27</td><td>Barry</td><td>Zimmer</td><td>16285 Wendell St.</td><td></td><td>Omaha</td><td>NE</td><td>68135</td><td>barryz@gmail.com</td></tr>",
            "<tr><td>Guitars</td><td>Gibson Les Paul</td><td>This Les Paul guitar offers a carved top and humbucking pickups. It has a simple yet elegant design. Cutting-yet-rich tone?the hallmark of the Les Paul?pours out of the 490R and 498T Alnico II magnet humbucker pickups, which are mounted on a carved maple top with a mahogany back. The faded finish models are equipped with BurstBucker Pro pickups and a mahogany top. This guitar includes a Gibson hardshell case (Faded and satin finish models come with a gig bag) and a limited lifetime warranty.\\r\\n\\r\\nFeatures:\\r\\n\\r\\n* Carved maple top and mahogany back (Mahogany top on faded finish models)\\r\\n* Mahogany neck, &#39;59 Rounded Les Paul\\r\\n* Rosewood fingerboard (Ebony on Alpine white)\\r\\n* Tune-O-Matic bridge with stopbar\\r\\n* Chrome or gold hardware\\r\\n* 490R and 498T Alnico 2 magnet humbucker pickups (BurstBucker Pro on faded finish models)\\r\\n* 2 volume and 2 tone knobs, 3-way switch</td><td>1199.00</td><td>1199.00</td><td>359.70</td><td>2</td><td>10.00</td><td>117.50</td><td>Christine</td><td>Brown</td><td>19270 NW Cornell Rd.</td><td></td><td>Beaverton</td><td>OR</td><td>97006</td><td>christineb@solarone.com</td></tr>",
            "<tr><td>Drums</td><td>Tama 5-Piece Drum Set with Cymbals</td><td>The Tama 5-piece Drum Set is the most affordable Tama drum kit ever to incorporate so many high-end features.\\r\\n\\r\\nWith over 40 years of experience, Tama knows what drummers really want. Which is why, no matter how long you&#39;ve been playing the drums, no matter what budget you have to work with, Tama has the set you need, want, and can afford. Every aspect of the modern drum kit was exhaustively examined and reexamined and then improved before it was accepted as part of the Tama design. Which is why, if you start playing Tama now as a beginner, you&#39;ll still enjoy playing it when you&#39;ve achieved pro-status. That&#39;s how good these groundbreaking new drums are.\\r\\n\\r\\nOnly Tama comes with a complete set of genuine Meinl HCS cymbals. These high-quality brass cymbals are made in Germany and are sonically matched so they sound great together. They are even lathed for a more refined tonal character. The set includes 14&quot; hi-hats, 16&quot; crash cymbal, and a 20&quot; ride cymbal.\\r\\n\\r\\nFeatures:\\r\\n\\r\\n* 100% poplar 6-ply/7.5mm shells\\r\\n* Precise bearing edges\\r\\n* 100% glued finishes\\r\\n* Original small lugs\\r\\n* Drum heads\\r\\n* Accu-tune bass drum hoops\\r\\n* Spur brackets\\r\\n* Tom holder\\r\\n* Tom brackets</td><td>799.99</td><td>299.00</td><td>0.00</td><td>1</td><td>5.00</td><td>20.93</td><td>David</td><td>Goldstein</td><td>186 Vermont St.</td><td>Apt. 2</td><td>San Francisco</td><td>CA</td><td>94110</td><td>david.goldstein@hotmail.com</td></tr>",
            "<tr><td>Guitars</td><td>Rodriguez Caballero 11</td><td>Featuring a carefully chosen, solid Canadian cedar top and laminated bubinga back and sides, the Caballero 11 classical guitar is a beauty to behold and play. The headstock and fretboard are of Indian rosewood. Nickel-plated tuners and Silver-plated frets are installed to last a lifetime. The body binding and wood rosette are exquisite.\\r\\n\\r\\nThe Rodriguez Guitar is hand crafted and glued to create precise balances. From the invisible careful sanding, even inside the body, that ensures the finished instrument&#39;s purity of tone, to the beautifully unique rosette inlays around the soundhole and on the back of the neck, each guitar is a credit to its luthier and worthy of being handed down from one generation to another.\\r\\n\\r\\nThe tone, resonance and beauty of fine guitars are all dependent upon the wood from which they are made. The wood used in the construction of Rodriguez guitars is carefully chosen and aged to guarantee the highest quality. No wood is purchased before the tree has been cut down, and at least 2 years must elapse before the tree is turned into lumber. The wood has to be well cut from the log. The grain must be close and absolutely vertical. The shop is totally free from humidity.</td><td>415.00</td><td>699.00</td><td>209.70</td><td>3</td><td>15.00</td><td>102.75</td><td>David</td><td>Goldstein</td><td>186 Vermont St.</td><td>Apt. 2</td><td>San Francisco</td><td>CA</td><td>94110</td><td>david.goldstein@hotmail.com</td></tr>",
            "<tr><td>Guitars</td><td>Gibson SG</td><td>This Gibson SG electric guitar takes the best of the &#39;62 original and adds the longer and sturdier neck joint of the late &#39;60s models. All the classic features you&#39;d expect from a historic guitar. Hot humbuckers go from rich, sweet lightning to warm, tingling waves of sustain. A silky-fast rosewood fretboard plays like a dream. The original-style beveled mahogany body looks like a million bucks. Plus, Tune-O-Matic bridge and chrome hardware. Limited lifetime warranty. Includes hardshell case.\\r\\n\\r\\nFeatures:\\r\\n\\r\\n* Double-cutaway beveled mahogany body\\r\\n* Set mahogany neck with rounded &#39;50s profile\\r\\n* Bound rosewood fingerboard with trapezoid inlays\\r\\n* Tune-O-Matic bridge with stopbar tailpiece\\r\\n* Chrome hardware\\r\\n* 490R humbucker in the neck position\\r\\n* 498T humbucker in the bridge position\\r\\n* 2 volume knobs, 2 tone knobs, 3-way switch\\r\\n* 24-3/4&quot; scale</td><td>2517.00</td><td>799.99</td><td>240.00</td><td>5</td><td>25.00</td><td>196.00</td><td>David</td><td>Goldstein</td><td>186 Vermont St.</td><td>Apt. 2</td><td>San Francisco</td><td>CA</td><td>94110</td><td>david.goldstein@hotmail.com</td></tr>",
            "<tr><td>Drums</td><td>Tama 5-Piece Drum Set with Cymbals</td><td>The Tama 5-piece Drum Set is the most affordable Tama drum kit ever to incorporate so many high-end features.\\r\\n\\r\\nWith over 40 years of experience, Tama knows what drummers really want. Which is why, no matter how long you&#39;ve been playing the drums, no matter what budget you have to work with, Tama has the set you need, want, and can afford. Every aspect of the modern drum kit was exhaustively examined and reexamined and then improved before it was accepted as part of the Tama design. Which is why, if you start playing Tama now as a beginner, you&#39;ll still enjoy playing it when you&#39;ve achieved pro-status. That&#39;s how good these groundbreaking new drums are.\\r\\n\\r\\nOnly Tama comes with a complete set of genuine Meinl HCS cymbals. These high-quality brass cymbals are made in Germany and are sonically matched so they sound great together. They are even lathed for a more refined tonal character. The set includes 14&quot; hi-hats, 16&quot; crash cymbal, and a 20&quot; ride cymbal.\\r\\n\\r\\nFeatures:\\r\\n\\r\\n* 100% poplar 6-ply/7.5mm shells\\r\\n* Precise bearing edges\\r\\n* 100% glued finishes\\r\\n* Original small lugs\\r\\n* Drum heads\\r\\n* Accu-tune bass drum hoops\\r\\n* Spur brackets\\r\\n* Tom holder\\r\\n* Tom brackets</td><td>799.99</td><td>299.00</td><td>0.00</td><td>1</td><td>5.00</td><td>20.93</td><td>David</td><td>Goldstein</td><td>1374 46th Ave.</td><td></td><td>San Francisco</td><td>CA</td><td>94129</td><td>david.goldstein@hotmail.com</td></tr>",
            "<tr><td>Guitars</td><td>Rodriguez Caballero 11</td><td>Featuring a carefully chosen, solid Canadian cedar top and laminated bubinga back and sides, the Caballero 11 classical guitar is a beauty to behold and play. The headstock and fretboard are of Indian rosewood. Nickel-plated tuners and Silver-plated frets are installed to last a lifetime. The body binding and wood rosette are exquisite.\\r\\n\\r\\nThe Rodriguez Guitar is hand crafted and glued to create precise balances. From the invisible careful sanding, even inside the body, that ensures the finished instrument&#39;s purity of tone, to the beautifully unique rosette inlays around the soundhole and on the back of the neck, each guitar is a credit to its luthier and worthy of being handed down from one generation to another.\\r\\n\\r\\nThe tone, resonance and beauty of fine guitars are all dependent upon the wood from which they are made. The wood used in the construction of Rodriguez guitars is carefully chosen and aged to guarantee the highest quality. No wood is purchased before the tree has been cut down, and at least 2 years must elapse before the tree is turned into lumber. The wood has to be well cut from the log. The grain must be close and absolutely vertical. The shop is totally free from humidity.</td><td>415.00</td><td>699.00</td><td>209.70</td><td>3</td><td>15.00</td><td>102.75</td><td>David</td><td>Goldstein</td><td>1374 46th Ave.</td><td></td><td>San Francisco</td><td>CA</td><td>94129</td><td>david.goldstein@hotmail.com</td></tr>",
            "<tr><td>Guitars</td><td>Gibson SG</td><td>This Gibson SG electric guitar takes the best of the &#39;62 original and adds the longer and sturdier neck joint of the late &#39;60s models. All the classic features you&#39;d expect from a historic guitar. Hot humbuckers go from rich, sweet lightning to warm, tingling waves of sustain. A silky-fast rosewood fretboard plays like a dream. The original-style beveled mahogany body looks like a million bucks. Plus, Tune-O-Matic bridge and chrome hardware. Limited lifetime warranty. Includes hardshell case.\\r\\n\\r\\nFeatures:\\r\\n\\r\\n* Double-cutaway beveled mahogany body\\r\\n* Set mahogany neck with rounded &#39;50s profile\\r\\n* Bound rosewood fingerboard with trapezoid inlays\\r\\n* Tune-O-Matic bridge with stopbar tailpiece\\r\\n* Chrome hardware\\r\\n* 490R humbucker in the neck position\\r\\n* 498T humbucker in the bridge position\\r\\n* 2 volume knobs, 2 tone knobs, 3-way switch\\r\\n* 24-3/4&quot; scale</td><td>2517.00</td><td>799.99</td><td>240.00</td><td>5</td><td>25.00</td><td>196.00</td><td>David</td><td>Goldstein</td><td>1374 46th Ave.</td><td></td><td>San Francisco</td><td>CA</td><td>94129</td><td>david.goldstein@hotmail.com</td></tr>",
            "<tr><td>Drums</td><td>Tama 5-Piece Drum Set with Cymbals</td><td>The Tama 5-piece Drum Set is the most affordable Tama drum kit ever to incorporate so many high-end features.\\r\\n\\r\\nWith over 40 years of experience, Tama knows what drummers really want. Which is why, no matter how long you&#39;ve been playing the drums, no matter what budget you have to work with, Tama has the set you need, want, and can afford. Every aspect of the modern drum kit was exhaustively examined and reexamined and then improved before it was accepted as part of the Tama design. Which is why, if you start playing Tama now as a beginner, you&#39;ll still enjoy playing it when you&#39;ve achieved pro-status. That&#39;s how good these groundbreaking new drums are.\\r\\n\\r\\nOnly Tama comes with a complete set of genuine Meinl HCS cymbals. These high-quality brass cymbals are made in Germany and are sonically matched so they sound great together. They are even lathed for a more refined tonal character. The set includes 14&quot; hi-hats, 16&quot; crash cymbal, and a 20&quot; ride cymbal.\\r\\n\\r\\nFeatures:\\r\\n\\r\\n* 100% poplar 6-ply/7.5mm shells\\r\\n* Precise bearing edges\\r\\n* 100% glued finishes\\r\\n* Original small lugs\\r\\n* Drum heads\\r\\n* Accu-tune bass drum hoops\\r\\n* Spur brackets\\r\\n* Tom holder\\r\\n* Tom brackets</td><td>799.99</td><td>299.00</td><td>0.00</td><td>1</td><td>5.00</td><td>20.93</td><td>Erin</td><td>Valentino</td><td>6982 Palm Ave.</td><td></td><td>Fresno</td><td>CA</td><td>93711</td><td>erinv@gmail.com</td></tr>",
            "<tr><td>Guitars</td><td>Washburn D10S</td><td>The Washburn D10S acoustic guitar is superbly crafted with a solid spruce top and mahogany back and sides for exceptional tone. A mahogany neck and rosewood fingerboard make fretwork a breeze, while chrome Grover-style machines keep you perfectly tuned. The Washburn D10S comes with a limited lifetime warranty.\\r\\n\\r\\nFeatures:\\r\\n\\r\\n    * Spruce top\\r\\n    * Mahogany back, sides\\r\\n    * Mahogany neck Rosewood fingerboard\\r\\n    * Chrome Grover-style machines</td><td>299.00</td><td>699.99</td><td>210.00</td><td>1</td><td>15.00</td><td>107.80</td><td>Frank Lee</td><td>Wilson</td><td>23 Mountain View St.</td><td></td><td>Denver</td><td>CO</td><td>80208</td><td>frankwilson@sbcglobal.net</td></tr>",
            "<tr><td>Guitars</td><td>Gibson SG</td><td>This Gibson SG electric guitar takes the best of the &#39;62 original and adds the longer and sturdier neck joint of the late &#39;60s models. All the classic features you&#39;d expect from a historic guitar. Hot humbuckers go from rich, sweet lightning to warm, tingling waves of sustain. A silky-fast rosewood fretboard plays like a dream. The original-style beveled mahogany body looks like a million bucks. Plus, Tune-O-Matic bridge and chrome hardware. Limited lifetime warranty. Includes hardshell case.\\r\\n\\r\\nFeatures:\\r\\n\\r\\n* Double-cutaway beveled mahogany body\\r\\n* Set mahogany neck with rounded &#39;50s profile\\r\\n* Bound rosewood fingerboard with trapezoid inlays\\r\\n* Tune-O-Matic bridge with stopbar tailpiece\\r\\n* Chrome hardware\\r\\n* 490R humbucker in the neck position\\r\\n* 498T humbucker in the bridge position\\r\\n* 2 volume knobs, 2 tone knobs, 3-way switch\\r\\n* 24-3/4&quot; scale</td><td>2517.00</td><td>799.99</td><td>240.00</td><td>1</td><td>15.00</td><td>107.80</td><td>Frank Lee</td><td>Wilson</td><td>23 Mountain View St.</td><td></td><td>Denver</td><td>CO</td><td>80208</td><td>frankwilson@sbcglobal.net</td></tr>",
            "<tr><td>Guitars</td><td>Washburn D10S</td><td>The Washburn D10S acoustic guitar is superbly crafted with a solid spruce top and mahogany back and sides for exceptional tone. A mahogany neck and rosewood fingerboard make fretwork a breeze, while chrome Grover-style machines keep you perfectly tuned. The Washburn D10S comes with a limited lifetime warranty.\\r\\n\\r\\nFeatures:\\r\\n\\r\\n    * Spruce top\\r\\n    * Mahogany back, sides\\r\\n    * Mahogany neck Rosewood fingerboard\\r\\n    * Chrome Grover-style machines</td><td>299.00</td><td>699.99</td><td>210.00</td><td>1</td><td>15.00</td><td>107.80</td><td>Frank Lee</td><td>Wilson</td><td>23 Mountain View St.</td><td></td><td>Denver</td><td>CO</td><td>80208</td><td>frankwilson@sbcglobal.net</td></tr>",
            "<tr><td>Guitars</td><td>Yamaha FG700S</td><td>The Yamaha FG700S solid top acoustic guitar has the ultimate combo for projection and pure tone. The expertly braced spruce top speaks clearly atop the rosewood body. It has a rosewood fingerboard, rosewood bridge, die-cast tuners, body and neck binding, and a tortoise pickguard.\\r\\n\\r\\nFeatures:\\r\\n\\r\\n* Solid Sitka spruce top\\r\\n* Rosewood back and sides\\r\\n* Rosewood fingerboard\\r\\n* Rosewood bridge\\r\\n* White/black body and neck binding\\r\\n* Die-cast tuners\\r\\n* Tortoise pickguard\\r\\n* Limited lifetime warranty</td><td>489.99</td><td>799.99</td><td>120.00</td><td>1</td><td>5.00</td><td>47.60</td><td>Gary</td><td>Hernandez</td><td>7361 N. 41st St.</td><td>Apt. B</td><td>New York</td><td>NY</td><td>10012</td><td>gary_hernandez@yahoo.com</td></tr>",
            "<tr><td>Guitars</td><td>Yamaha FG700S</td><td>The Yamaha FG700S solid top acoustic guitar has the ultimate combo for projection and pure tone. The expertly braced spruce top speaks clearly atop the rosewood body. It has a rosewood fingerboard, rosewood bridge, die-cast tuners, body and neck binding, and a tortoise pickguard.\\r\\n\\r\\nFeatures:\\r\\n\\r\\n* Solid Sitka spruce top\\r\\n* Rosewood back and sides\\r\\n* Rosewood fingerboard\\r\\n* Rosewood bridge\\r\\n* White/black body and neck binding\\r\\n* Die-cast tuners\\r\\n* Tortoise pickguard\\r\\n* Limited lifetime warranty</td><td>489.99</td><td>799.99</td><td>120.00</td><td>1</td><td>5.00</td><td>47.60</td><td>Gary</td><td>Hernandez</td><td>3829 Broadway Ave.</td><td>Suite 2</td><td>New York</td><td>NY</td><td>10012</td><td>gary_hernandez@yahoo.com</td></tr>",
            "<tr><td>Basses</td><td>Fender Precision</td><td>The Fender Precision bass guitar delivers the sound, look, and feel today&#39;s bass players demand. This bass features that classic P-Bass old-school design. Each Precision bass boasts contemporary features and refinements that make it an excellent value. Featuring an alder body and a split single-coil pickup, this classic electric bass guitar lives up to its Fender legacy.\\r\\n\\r\\nFeatures:\\r\\n\\r\\n* Body: Alder\\r\\n* Neck: Maple, modern C shape, tinted satin urethane finish\\r\\n* Fingerboard: Rosewood or maple (depending on color)\\r\\n* 9-1/2&quot; Radius (241 mm)\\r\\n* Frets: 20 Medium-jumbo frets\\r\\n* Pickups: 1 Standard Precision Bass split single-coil pickup (Mid)\\r\\n* Controls: Volume, Tone\\r\\n* Bridge: Standard vintage style with single groove saddles\\r\\n* Machine heads: Standard\\r\\n* Hardware: Chrome\\r\\n* Pickguard: 3-Ply Parchment\\r\\n* Scale Length: 34&quot; (864 mm)\\r\\n* Width at Nut: 1-5/8&quot; (41.3 mm)\\r\\n* Unique features: Knurled chrome P Bass knobs, Fender transition logo</td><td>799.99</td><td>499.99</td><td>125.00</td><td>1</td><td>5.00</td><td>26.25</td><td>Heather</td><td>Esway</td><td>2381 Buena Vista St.</td><td></td><td>Los Angeles</td><td>CA</td><td>90023</td><td>heatheresway@mac.com</td></tr>",
            "<tr><td>Guitars</td><td>Fender Stratocaster</td><td>The Fender Stratocaster is the electric guitar design that changed the world. New features include a tinted neck, parchment pickguard and control knobs, and a &#39;70s-style logo. Includes select alder body, 21-fret maple neck with your choice of a rosewood or maple fretboard, 3 single-coil pickups, vintage-style tremolo, and die-cast tuning keys. This guitar features a thicker bridge block for increased sustain and a more stable point of contact with the strings. At this low price, why play anything but the real thing?\\r\\n\\r\\nFeatures:\\r\\n\\r\\n* New features:\\r\\n* Thicker bridge block\\r\\n* 3-ply parchment pick guard\\r\\n* Tinted neck</td><td>699.00</td><td>2517.00</td><td>1308.84</td><td>1</td><td>5.00</td><td>84.57</td><td>Heather</td><td>Esway</td><td>2381 Buena Vista St.</td><td></td><td>Los Angeles</td><td>CA</td><td>90023</td><td>heatheresway@mac.com</td></tr>",
            "<tr><td>Basses</td><td>Fender Precision</td><td>The Fender Precision bass guitar delivers the sound, look, and feel today&#39;s bass players demand. This bass features that classic P-Bass old-school design. Each Precision bass boasts contemporary features and refinements that make it an excellent value. Featuring an alder body and a split single-coil pickup, this classic electric bass guitar lives up to its Fender legacy.\\r\\n\\r\\nFeatures:\\r\\n\\r\\n* Body: Alder\\r\\n* Neck: Maple, modern C shape, tinted satin urethane finish\\r\\n* Fingerboard: Rosewood or maple (depending on color)\\r\\n* 9-1/2&quot; Radius (241 mm)\\r\\n* Frets: 20 Medium-jumbo frets\\r\\n* Pickups: 1 Standard Precision Bass split single-coil pickup (Mid)\\r\\n* Controls: Volume, Tone\\r\\n* Bridge: Standard vintage style with single groove saddles\\r\\n* Machine heads: Standard\\r\\n* Hardware: Chrome\\r\\n* Pickguard: 3-Ply Parchment\\r\\n* Scale Length: 34&quot; (864 mm)\\r\\n* Width at Nut: 1-5/8&quot; (41.3 mm)\\r\\n* Unique features: Knurled chrome P Bass knobs, Fender transition logo</td><td>799.99</td><td>499.99</td><td>125.00</td><td>1</td><td>5.00</td><td>26.25</td><td>Heather</td><td>Esway</td><td>291 W. Hollywood Blvd.</td><td></td><td>Los Angeles</td><td>CA</td><td>90024</td><td>heatheresway@mac.com</td></tr>",
            "<tr><td>Guitars</td><td>Fender Stratocaster</td><td>The Fender Stratocaster is the electric guitar design that changed the world. New features include a tinted neck, parchment pickguard and control knobs, and a &#39;70s-style logo. Includes select alder body, 21-fret maple neck with your choice of a rosewood or maple fretboard, 3 single-coil pickups, vintage-style tremolo, and die-cast tuning keys. This guitar features a thicker bridge block for increased sustain and a more stable point of contact with the strings. At this low price, why play anything but the real thing?\\r\\n\\r\\nFeatures:\\r\\n\\r\\n* New features:\\r\\n* Thicker bridge block\\r\\n* 3-ply parchment pick guard\\r\\n* Tinted neck</td><td>699.00</td><td>2517.00</td><td>1308.84</td><td>1</td><td>5.00</td><td>84.57</td><td>Heather</td><td>Esway</td><td>291 W. Hollywood Blvd.</td><td></td><td>Los Angeles</td><td>CA</td><td>90024</td><td>heatheresway@mac.com</td></tr>",
            "<tr><td>Guitars</td><td>Rodriguez Caballero 11</td><td>Featuring a carefully chosen, solid Canadian cedar top and laminated bubinga back and sides, the Caballero 11 classical guitar is a beauty to behold and play. The headstock and fretboard are of Indian rosewood. Nickel-plated tuners and Silver-plated frets are installed to last a lifetime. The body binding and wood rosette are exquisite.\\r\\n\\r\\nThe Rodriguez Guitar is hand crafted and glued to create precise balances. From the invisible careful sanding, even inside the body, that ensures the finished instrument&#39;s purity of tone, to the beautifully unique rosette inlays around the soundhole and on the back of the neck, each guitar is a credit to its luthier and worthy of being handed down from one generation to another.\\r\\n\\r\\nThe tone, resonance and beauty of fine guitars are all dependent upon the wood from which they are made. The wood used in the construction of Rodriguez guitars is carefully chosen and aged to guarantee the highest quality. No wood is purchased before the tree has been cut down, and at least 2 years must elapse before the tree is turned into lumber. The wood has to be well cut from the log. The grain must be close and absolutely vertical. The shop is totally free from humidity.</td><td>415.00</td><td>699.00</td><td>209.70</td><td>1</td><td>5.00</td><td>34.25</td><td>James</td><td>Butt</td><td>96950 Hidden Ln</td><td></td><td>Aberdeen</td><td>MD</td><td>21001</td><td>jbutt@gmail.com</td></tr>",
            "<tr><td>Guitars</td><td>Fender Stratocaster</td><td>The Fender Stratocaster is the electric guitar design that changed the world. New features include a tinted neck, parchment pickguard and control knobs, and a &#39;70s-style logo. Includes select alder body, 21-fret maple neck with your choice of a rosewood or maple fretboard, 3 single-coil pickups, vintage-style tremolo, and die-cast tuning keys. This guitar features a thicker bridge block for increased sustain and a more stable point of contact with the strings. At this low price, why play anything but the real thing?\\r\\n\\r\\nFeatures:\\r\\n\\r\\n* New features:\\r\\n* Thicker bridge block\\r\\n* 3-ply parchment pick guard\\r\\n* Tinted neck</td><td>699.00</td><td>2517.00</td><td>1308.84</td><td>1</td><td>5.00</td><td>84.57</td><td>Josephine</td><td>Darakjy</td><td>6980 Dorsett Rd</td><td></td><td>Abilene</td><td>KS</td><td>67410</td><td>josephine_darakjy@darakjy.org</td></tr>",
            "<tr><td>Guitars</td><td>Yamaha FG700S</td><td>The Yamaha FG700S solid top acoustic guitar has the ultimate combo for projection and pure tone. The expertly braced spruce top speaks clearly atop the rosewood body. It has a rosewood fingerboard, rosewood bridge, die-cast tuners, body and neck binding, and a tortoise pickguard.\\r\\n\\r\\nFeatures:\\r\\n\\r\\n* Solid Sitka spruce top\\r\\n* Rosewood back and sides\\r\\n* Rosewood fingerboard\\r\\n* Rosewood bridge\\r\\n* White/black body and neck binding\\r\\n* Die-cast tuners\\r\\n* Tortoise pickguard\\r\\n* Limited lifetime warranty</td><td>489.99</td><td>799.99</td><td>120.00</td><td>1</td><td>5.00</td><td>47.60</td><td>Art</td><td>Venere</td><td>33 State St</td><td></td><td>Abilene</td><td>TX</td><td>79601</td><td>art@venere.org</td></tr>",
            "<tr><td>Guitars</td><td>Yamaha FG700S</td><td>The Yamaha FG700S solid top acoustic guitar has the ultimate combo for projection and pure tone. The expertly braced spruce top speaks clearly atop the rosewood body. It has a rosewood fingerboard, rosewood bridge, die-cast tuners, body and neck binding, and a tortoise pickguard.\\r\\n\\r\\nFeatures:\\r\\n\\r\\n* Solid Sitka spruce top\\r\\n* Rosewood back and sides\\r\\n* Rosewood fingerboard\\r\\n* Rosewood bridge\\r\\n* White/black body and neck binding\\r\\n* Die-cast tuners\\r\\n* Tortoise pickguard\\r\\n* Limited lifetime warranty</td><td>489.99</td><td>799.99</td><td>120.00</td><td>1</td><td>5.00</td><td>47.60</td><td>Art</td><td>Venere</td><td>5 E Truman Rd</td><td></td><td>Abilene</td><td>TX</td><td>79602</td><td>art@venere.org</td></tr>",
            "<tr><td>Guitars</td><td>Gibson Les Paul</td><td>This Les Paul guitar offers a carved top and humbucking pickups. It has a simple yet elegant design. Cutting-yet-rich tone?the hallmark of the Les Paul?pours out of the 490R and 498T Alnico II magnet humbucker pickups, which are mounted on a carved maple top with a mahogany back. The faded finish models are equipped with BurstBucker Pro pickups and a mahogany top. This guitar includes a Gibson hardshell case (Faded and satin finish models come with a gig bag) and a limited lifetime warranty.\\r\\n\\r\\nFeatures:\\r\\n\\r\\n* Carved maple top and mahogany back (Mahogany top on faded finish models)\\r\\n* Mahogany neck, &#39;59 Rounded Les Paul\\r\\n* Rosewood fingerboard (Ebony on Alpine white)\\r\\n* Tune-O-Matic bridge with stopbar\\r\\n* Chrome or gold hardware\\r\\n* 490R and 498T Alnico 2 magnet humbucker pickups (BurstBucker Pro on faded finish models)\\r\\n* 2 volume and 2 tone knobs, 3-way switch</td><td>1199.00</td><td>1199.00</td><td>359.70</td><td>2</td><td>10.00</td><td>117.50</td><td>Lenna</td><td>Paprocki</td><td>8284 Hart St</td><td></td><td>Abilene</td><td>KS</td><td>67410</td><td>lpaprocki@hotmail.com</td></tr>",
            "<tr><td>Guitars</td><td>Gibson SG</td><td>This Gibson SG electric guitar takes the best of the &#39;62 original and adds the longer and sturdier neck joint of the late &#39;60s models. All the classic features you&#39;d expect from a historic guitar. Hot humbuckers go from rich, sweet lightning to warm, tingling waves of sustain. A silky-fast rosewood fretboard plays like a dream. The original-style beveled mahogany body looks like a million bucks. Plus, Tune-O-Matic bridge and chrome hardware. Limited lifetime warranty. Includes hardshell case.\\r\\n\\r\\nFeatures:\\r\\n\\r\\n* Double-cutaway beveled mahogany body\\r\\n* Set mahogany neck with rounded &#39;50s profile\\r\\n* Bound rosewood fingerboard with trapezoid inlays\\r\\n* Tune-O-Matic bridge with stopbar tailpiece\\r\\n* Chrome hardware\\r\\n* 490R humbucker in the neck position\\r\\n* 498T humbucker in the bridge position\\r\\n* 2 volume knobs, 2 tone knobs, 3-way switch\\r\\n* 24-3/4&quot; scale</td><td>2517.00</td><td>799.99</td><td>240.00</td><td>1</td><td>5.00</td><td>39.20</td><td>Donette</td><td>Foller</td><td>9387 Charcot Ave</td><td></td><td>Absecon</td><td>NJ</td><td>8201</td><td>donette.foller@cox.net</td></tr>",
            "<tr><td>Guitars</td><td>Rodriguez Caballero 11</td><td>Featuring a carefully chosen, solid Canadian cedar top and laminated bubinga back and sides, the Caballero 11 classical guitar is a beauty to behold and play. The headstock and fretboard are of Indian rosewood. Nickel-plated tuners and Silver-plated frets are installed to last a lifetime. The body binding and wood rosette are exquisite.\\r\\n\\r\\nThe Rodriguez Guitar is hand crafted and glued to create precise balances. From the invisible careful sanding, even inside the body, that ensures the finished instrument&#39;s purity of tone, to the beautifully unique rosette inlays around the soundhole and on the back of the neck, each guitar is a credit to its luthier and worthy of being handed down from one generation to another.\\r\\n\\r\\nThe tone, resonance and beauty of fine guitars are all dependent upon the wood from which they are made. The wood used in the construction of Rodriguez guitars is carefully chosen and aged to guarantee the highest quality. No wood is purchased before the tree has been cut down, and at least 2 years must elapse before the tree is turned into lumber. The wood has to be well cut from the log. The grain must be close and absolutely vertical. The shop is totally free from humidity.</td><td>415.00</td><td>699.00</td><td>209.70</td><td>1</td><td>10.00</td><td>51.97</td><td>Simona</td><td>Morasca</td><td>3777 E Richmond St #900</td><td></td><td>Akron</td><td>OH</td><td>44302</td><td>simona@morasca.com</td></tr>",
            "<tr><td>Drums</td><td>Ludwig 5-piece Drum Set with Cymbals</td><td>This product includes a Ludwig 5-piece drum set and a Zildjian starter cymbal pack.\\r\\n\\r\\nWith the Ludwig drum set, you get famous Ludwig quality. This set features a bass drum, two toms, a floor tom, and a snare?each with a wrapped finish. Drum hardware includes LA214FP bass pedal, snare stand, cymbal stand, hi-hat stand, and a throne.\\r\\n\\r\\nWith the Zildjian cymbal pack, you get a 14&quot; crash, 18&quot; crash/ride, and a pair of 13&quot; hi-hats. Sound grooves and round hammer strikes in a simple circular pattern on the top surface of these cymbals magnify the basic sound of the distinctive alloy.\\r\\n\\r\\nFeatures:\\r\\n\\r\\n* Famous Ludwig quality\\r\\n* Wrapped finishes\\r\\n* 22&quot; x 16&quot; kick drum\\r\\n* 12&quot; x 10&quot; and 13&quot; x 11&quot; toms\\r\\n* 16&quot; x 16&quot; floor tom\\r\\n* 14&quot; x 6-1/2&quot; snare drum kick pedal\\r\\n* Snare stand\\r\\n* Straight cymbal stand hi-hat stand\\r\\n* FREE throne</td><td>699.99</td><td>415.00</td><td>161.85</td><td>1</td><td>10.00</td><td>51.97</td><td>Simona</td><td>Morasca</td><td>3777 E Richmond St #900</td><td></td><td>Akron</td><td>OH</td><td>44302</td><td>simona@morasca.com</td></tr>",
            "<tr><td>Guitars</td><td>Rodriguez Caballero 11</td><td>Featuring a carefully chosen, solid Canadian cedar top and laminated bubinga back and sides, the Caballero 11 classical guitar is a beauty to behold and play. The headstock and fretboard are of Indian rosewood. Nickel-plated tuners and Silver-plated frets are installed to last a lifetime. The body binding and wood rosette are exquisite.\\r\\n\\r\\nThe Rodriguez Guitar is hand crafted and glued to create precise balances. From the invisible careful sanding, even inside the body, that ensures the finished instrument&#39;s purity of tone, to the beautifully unique rosette inlays around the soundhole and on the back of the neck, each guitar is a credit to its luthier and worthy of being handed down from one generation to another.\\r\\n\\r\\nThe tone, resonance and beauty of fine guitars are all dependent upon the wood from which they are made. The wood used in the construction of Rodriguez guitars is carefully chosen and aged to guarantee the highest quality. No wood is purchased before the tree has been cut down, and at least 2 years must elapse before the tree is turned into lumber. The wood has to be well cut from the log. The grain must be close and absolutely vertical. The shop is totally free from humidity.</td><td>415.00</td><td>699.00</td><td>209.70</td><td>1</td><td>5.00</td><td>34.25</td><td>Mitsue</td><td>Tollner</td><td>74 S Westgate St</td><td></td><td>Albany</td><td>NY</td><td>12204</td><td>mitsue_tollner@yahoo.com</td></tr>",
            "<tr><td>Guitars</td><td>Rodriguez Caballero 11</td><td>Featuring a carefully chosen, solid Canadian cedar top and laminated bubinga back and sides, the Caballero 11 classical guitar is a beauty to behold and play. The headstock and fretboard are of Indian rosewood. Nickel-plated tuners and Silver-plated frets are installed to last a lifetime. The body binding and wood rosette are exquisite.\\r\\n\\r\\nThe Rodriguez Guitar is hand crafted and glued to create precise balances. From the invisible careful sanding, even inside the body, that ensures the finished instrument&#39;s purity of tone, to the beautifully unique rosette inlays around the soundhole and on the back of the neck, each guitar is a credit to its luthier and worthy of being handed down from one generation to another.\\r\\n\\r\\nThe tone, resonance and beauty of fine guitars are all dependent upon the wood from which they are made. The wood used in the construction of Rodriguez guitars is carefully chosen and aged to guarantee the highest quality. No wood is purchased before the tree has been cut down, and at least 2 years must elapse before the tree is turned into lumber. The wood has to be well cut from the log. The grain must be close and absolutely vertical. The shop is totally free from humidity.</td><td>415.00</td><td>699.00</td><td>209.70</td><td>1</td><td>5.00</td><td>34.25</td><td>Mitsue</td><td>Tollner</td><td>9390 S Howell Ave</td><td></td><td>Albany</td><td>GA</td><td>31701</td><td>mitsue_tollner@yahoo.com</td></tr>",
            "<tr><td>Guitars</td><td>Rodriguez Caballero 11</td><td>Featuring a carefully chosen, solid Canadian cedar top and laminated bubinga back and sides, the Caballero 11 classical guitar is a beauty to behold and play. The headstock and fretboard are of Indian rosewood. Nickel-plated tuners and Silver-plated frets are installed to last a lifetime. The body binding and wood rosette are exquisite.\\r\\n\\r\\nThe Rodriguez Guitar is hand crafted and glued to create precise balances. From the invisible careful sanding, even inside the body, that ensures the finished instrument&#39;s purity of tone, to the beautifully unique rosette inlays around the soundhole and on the back of the neck, each guitar is a credit to its luthier and worthy of being handed down from one generation to another.\\r\\n\\r\\nThe tone, resonance and beauty of fine guitars are all dependent upon the wood from which they are made. The wood used in the construction of Rodriguez guitars is carefully chosen and aged to guarantee the highest quality. No wood is purchased before the tree has been cut down, and at least 2 years must elapse before the tree is turned into lumber. The wood has to be well cut from the log. The grain must be close and absolutely vertical. The shop is totally free from humidity.</td><td>415.00</td><td>699.00</td><td>209.70</td><td>1</td><td>5.00</td><td>34.25</td><td>Leota</td><td>Dilliard</td><td>89992 E 15th St</td><td></td><td>Alliance</td><td>NE</td><td>69301</td><td>leota@hotmail.com</td></tr>",
            "<tr><td>Guitars</td><td>Gibson Les Paul</td><td>This Les Paul guitar offers a carved top and humbucking pickups. It has a simple yet elegant design. Cutting-yet-rich tone?the hallmark of the Les Paul?pours out of the 490R and 498T Alnico II magnet humbucker pickups, which are mounted on a carved maple top with a mahogany back. The faded finish models are equipped with BurstBucker Pro pickups and a mahogany top. This guitar includes a Gibson hardshell case (Faded and satin finish models come with a gig bag) and a limited lifetime warranty.\\r\\n\\r\\nFeatures:\\r\\n\\r\\n* Carved maple top and mahogany back (Mahogany top on faded finish models)\\r\\n* Mahogany neck, &#39;59 Rounded Les Paul\\r\\n* Rosewood fingerboard (Ebony on Alpine white)\\r\\n* Tune-O-Matic bridge with stopbar\\r\\n* Chrome or gold hardware\\r\\n* 490R and 498T Alnico 2 magnet humbucker pickups (BurstBucker Pro on faded finish models)\\r\\n* 2 volume and 2 tone knobs, 3-way switch</td><td>1199.00</td><td>1199.00</td><td>359.70</td><td>2</td><td>10.00</td><td>117.50</td><td>Sage</td><td>Wieser</td><td>812 S Haven St</td><td></td><td>Amarillo</td><td>TX</td><td>79109</td><td>sage_wieser@cox.net</td></tr>",
            "<tr><td>Guitars</td><td>Yamaha FG700S</td><td>The Yamaha FG700S solid top acoustic guitar has the ultimate combo for projection and pure tone. The expertly braced spruce top speaks clearly atop the rosewood body. It has a rosewood fingerboard, rosewood bridge, die-cast tuners, body and neck binding, and a tortoise pickguard.\\r\\n\\r\\nFeatures:\\r\\n\\r\\n* Solid Sitka spruce top\\r\\n* Rosewood back and sides\\r\\n* Rosewood fingerboard\\r\\n* Rosewood bridge\\r\\n* White/black body and neck binding\\r\\n* Die-cast tuners\\r\\n* Tortoise pickguard\\r\\n* Limited lifetime warranty</td><td>489.99</td><td>799.99</td><td>120.00</td><td>1</td><td>5.00</td><td>47.60</td><td>Kris</td><td>Marrier</td><td>72119 S Walker Ave #63</td><td></td><td>Anaheim</td><td>CA</td><td>92801</td><td>kris@gmail.com</td></tr>",
            "<tr><td>Guitars</td><td>Fender Stratocaster</td><td>The Fender Stratocaster is the electric guitar design that changed the world. New features include a tinted neck, parchment pickguard and control knobs, and a &#39;70s-style logo. Includes select alder body, 21-fret maple neck with your choice of a rosewood or maple fretboard, 3 single-coil pickups, vintage-style tremolo, and die-cast tuning keys. This guitar features a thicker bridge block for increased sustain and a more stable point of contact with the strings. At this low price, why play anything but the real thing?\\r\\n\\r\\nFeatures:\\r\\n\\r\\n* New features:\\r\\n* Thicker bridge block\\r\\n* 3-ply parchment pick guard\\r\\n* Tinted neck</td><td>699.00</td><td>2517.00</td><td>1308.84</td><td>1</td><td>5.00</td><td>84.57</td><td>Kris</td><td>Marrier</td><td>72119 S Walker Ave #63</td><td></td><td>Anaheim</td><td>CA</td><td>92801</td><td>kris@gmail.com</td></tr>",
            "<tr><td>Guitars</td><td>Gibson SG</td><td>This Gibson SG electric guitar takes the best of the &#39;62 original and adds the longer and sturdier neck joint of the late &#39;60s models. All the classic features you&#39;d expect from a historic guitar. Hot humbuckers go from rich, sweet lightning to warm, tingling waves of sustain. A silky-fast rosewood fretboard plays like a dream. The original-style beveled mahogany body looks like a million bucks. Plus, Tune-O-Matic bridge and chrome hardware. Limited lifetime warranty. Includes hardshell case.\\r\\n\\r\\nFeatures:\\r\\n\\r\\n* Double-cutaway beveled mahogany body\\r\\n* Set mahogany neck with rounded &#39;50s profile\\r\\n* Bound rosewood fingerboard with trapezoid inlays\\r\\n* Tune-O-Matic bridge with stopbar tailpiece\\r\\n* Chrome hardware\\r\\n* 490R humbucker in the neck position\\r\\n* 498T humbucker in the bridge position\\r\\n* 2 volume knobs, 2 tone knobs, 3-way switch\\r\\n* 24-3/4&quot; scale</td><td>2517.00</td><td>799.99</td><td>240.00</td><td>1</td><td>10.00</td><td>39.20</td><td>Minna</td><td>Amigon</td><td>639 Main St</td><td></td><td>Anchorage</td><td>AK</td><td>99501</td><td>minna_amigon@yahoo.com</td></tr>",
            "<tr><td>Guitars</td><td>Gibson SG</td><td>This Gibson SG electric guitar takes the best of the &#39;62 original and adds the longer and sturdier neck joint of the late &#39;60s models. All the classic features you&#39;d expect from a historic guitar. Hot humbuckers go from rich, sweet lightning to warm, tingling waves of sustain. A silky-fast rosewood fretboard plays like a dream. The original-style beveled mahogany body looks like a million bucks. Plus, Tune-O-Matic bridge and chrome hardware. Limited lifetime warranty. Includes hardshell case.\\r\\n\\r\\nFeatures:\\r\\n\\r\\n* Double-cutaway beveled mahogany body\\r\\n* Set mahogany neck with rounded &#39;50s profile\\r\\n* Bound rosewood fingerboard with trapezoid inlays\\r\\n* Tune-O-Matic bridge with stopbar tailpiece\\r\\n* Chrome hardware\\r\\n* 490R humbucker in the neck position\\r\\n* 498T humbucker in the bridge position\\r\\n* 2 volume knobs, 2 tone knobs, 3-way switch\\r\\n* 24-3/4&quot; scale</td><td>2517.00</td><td>799.99</td><td>240.00</td><td>1</td><td>10.00</td><td>39.20</td><td>Minna</td><td>Amigon</td><td>18 Fountain St</td><td></td><td>Anchorage</td><td>AK</td><td>99515</td><td>minna_amigon@yahoo.com</td></tr>",
            "<tr><td>Guitars</td><td>Rodriguez Caballero 11</td><td>Featuring a carefully chosen, solid Canadian cedar top and laminated bubinga back and sides, the Caballero 11 classical guitar is a beauty to behold and play. The headstock and fretboard are of Indian rosewood. Nickel-plated tuners and Silver-plated frets are installed to last a lifetime. The body binding and wood rosette are exquisite.\\r\\n\\r\\nThe Rodriguez Guitar is hand crafted and glued to create precise balances. From the invisible careful sanding, even inside the body, that ensures the finished instrument&#39;s purity of tone, to the beautifully unique rosette inlays around the soundhole and on the back of the neck, each guitar is a credit to its luthier and worthy of being handed down from one generation to another.\\r\\n\\r\\nThe tone, resonance and beauty of fine guitars are all dependent upon the wood from which they are made. The wood used in the construction of Rodriguez guitars is carefully chosen and aged to guarantee the highest quality. No wood is purchased before the tree has been cut down, and at least 2 years must elapse before the tree is turned into lumber. The wood has to be well cut from the log. The grain must be close and absolutely vertical. The shop is totally free from humidity.</td><td>415.00</td><td>699.00</td><td>209.70</td><td>1</td><td>5.00</td><td>34.25</td><td>Abel</td><td>Maclead</td><td>1747 Calle Amanecer #2</td><td></td><td>Anchorage</td><td>AK</td><td>99501</td><td>amaclead@gmail.com</td></tr>",
            "<tr><td>Guitars</td><td>Rodriguez Caballero 11</td><td>Featuring a carefully chosen, solid Canadian cedar top and laminated bubinga back and sides, the Caballero 11 classical guitar is a beauty to behold and play. The headstock and fretboard are of Indian rosewood. Nickel-plated tuners and Silver-plated frets are installed to last a lifetime. The body binding and wood rosette are exquisite.\\r\\n\\r\\nThe Rodriguez Guitar is hand crafted and glued to create precise balances. From the invisible careful sanding, even inside the body, that ensures the finished instrument&#39;s purity of tone, to the beautifully unique rosette inlays around the soundhole and on the back of the neck, each guitar is a credit to its luthier and worthy of being handed down from one generation to another.\\r\\n\\r\\nThe tone, resonance and beauty of fine guitars are all dependent upon the wood from which they are made. The wood used in the construction of Rodriguez guitars is carefully chosen and aged to guarantee the highest quality. No wood is purchased before the tree has been cut down, and at least 2 years must elapse before the tree is turned into lumber. The wood has to be well cut from the log. The grain must be close and absolutely vertical. The shop is totally free from humidity.</td><td>415.00</td><td>699.00</td><td>209.70</td><td>1</td><td>5.00</td><td>34.25</td><td>Kiley</td><td>Caldarera</td><td>735 Crawford Dr</td><td></td><td>Anchorage</td><td>AK</td><td>99501</td><td>kiley.caldarera@aol.com</td></tr>",
            "<tr><td>Guitars</td><td>Gibson Les Paul</td><td>This Les Paul guitar offers a carved top and humbucking pickups. It has a simple yet elegant design. Cutting-yet-rich tone?the hallmark of the Les Paul?pours out of the 490R and 498T Alnico II magnet humbucker pickups, which are mounted on a carved maple top with a mahogany back. The faded finish models are equipped with BurstBucker Pro pickups and a mahogany top. This guitar includes a Gibson hardshell case (Faded and satin finish models come with a gig bag) and a limited lifetime warranty.\\r\\n\\r\\nFeatures:\\r\\n\\r\\n* Carved maple top and mahogany back (Mahogany top on faded finish models)\\r\\n* Mahogany neck, &#39;59 Rounded Les Paul\\r\\n* Rosewood fingerboard (Ebony on Alpine white)\\r\\n* Tune-O-Matic bridge with stopbar\\r\\n* Chrome or gold hardware\\r\\n* 490R and 498T Alnico 2 magnet humbucker pickups (BurstBucker Pro on faded finish models)\\r\\n* 2 volume and 2 tone knobs, 3-way switch</td><td>1199.00</td><td>1199.00</td><td>359.70</td><td>2</td><td>10.00</td><td>117.50</td><td>Graciela</td><td>Ruta</td><td>560 Civic Center Dr</td><td></td><td>Ann Arbor</td><td>MI</td><td>48103</td><td>gruta@cox.net</td></tr>",
            "<tr><td>Guitars</td><td>Rodriguez Caballero 11</td><td>Featuring a carefully chosen, solid Canadian cedar top and laminated bubinga back and sides, the Caballero 11 classical guitar is a beauty to behold and play. The headstock and fretboard are of Indian rosewood. Nickel-plated tuners and Silver-plated frets are installed to last a lifetime. The body binding and wood rosette are exquisite.\\r\\n\\r\\nThe Rodriguez Guitar is hand crafted and glued to create precise balances. From the invisible careful sanding, even inside the body, that ensures the finished instrument&#39;s purity of tone, to the beautifully unique rosette inlays around the soundhole and on the back of the neck, each guitar is a credit to its luthier and worthy of being handed down from one generation to another.\\r\\n\\r\\nThe tone, resonance and beauty of fine guitars are all dependent upon the wood from which they are made. The wood used in the construction of Rodriguez guitars is carefully chosen and aged to guarantee the highest quality. No wood is purchased before the tree has been cut down, and at least 2 years must elapse before the tree is turned into lumber. The wood has to be well cut from the log. The grain must be close and absolutely vertical. The shop is totally free from humidity.</td><td>415.00</td><td>699.00</td><td>209.70</td><td>1</td><td>5.00</td><td>0.00</td><td>Cammy</td><td>Albares</td><td>747 Leonis Blvd</td><td></td><td>Annandale</td><td>VA</td><td>22003</td><td>calbares@gmail.com</td></tr>",
            "<tr><td>Guitars</td><td>Fender Stratocaster</td><td>The Fender Stratocaster is the electric guitar design that changed the world. New features include a tinted neck, parchment pickguard and control knobs, and a &#39;70s-style logo. Includes select alder body, 21-fret maple neck with your choice of a rosewood or maple fretboard, 3 single-coil pickups, vintage-style tremolo, and die-cast tuning keys. This guitar features a thicker bridge block for increased sustain and a more stable point of contact with the strings. At this low price, why play anything but the real thing?\\r\\n\\r\\nFeatures:\\r\\n\\r\\n* New features:\\r\\n* Thicker bridge block\\r\\n* 3-ply parchment pick guard\\r\\n* Tinted neck</td><td>699.00</td><td>2517.00</td><td>1308.84</td><td>1</td><td>5.00</td><td>84.57</td><td>Mattie</td><td>Poquette</td><td>70099 E North Ave</td><td></td><td>Arlington</td><td>TX</td><td>76013</td><td>mattie@aol.com</td></tr>",
            "<tr><td>Guitars</td><td>Washburn D10S</td><td>The Washburn D10S acoustic guitar is superbly crafted with a solid spruce top and mahogany back and sides for exceptional tone. A mahogany neck and rosewood fingerboard make fretwork a breeze, while chrome Grover-style machines keep you perfectly tuned. The Washburn D10S comes with a limited lifetime warranty.\\r\\n\\r\\nFeatures:\\r\\n\\r\\n    * Spruce top\\r\\n    * Mahogany back, sides\\r\\n    * Mahogany neck Rosewood fingerboard\\r\\n    * Chrome Grover-style machines</td><td>299.00</td><td>699.99</td><td>210.00</td><td>1</td><td>5.00</td><td>34.30</td><td>Meaghan</td><td>Garufi</td><td>73 W Barstow Ave</td><td></td><td>Arlington Heights</td><td>IL</td><td>60004</td><td>meaghan@hotmail.com</td></tr>",
            "<tr><td>Basses</td><td>Fender Precision</td><td>The Fender Precision bass guitar delivers the sound, look, and feel today&#39;s bass players demand. This bass features that classic P-Bass old-school design. Each Precision bass boasts contemporary features and refinements that make it an excellent value. Featuring an alder body and a split single-coil pickup, this classic electric bass guitar lives up to its Fender legacy.\\r\\n\\r\\nFeatures:\\r\\n\\r\\n* Body: Alder\\r\\n* Neck: Maple, modern C shape, tinted satin urethane finish\\r\\n* Fingerboard: Rosewood or maple (depending on color)\\r\\n* 9-1/2&quot; Radius (241 mm)\\r\\n* Frets: 20 Medium-jumbo frets\\r\\n* Pickups: 1 Standard Precision Bass split single-coil pickup (Mid)\\r\\n* Controls: Volume, Tone\\r\\n* Bridge: Standard vintage style with single groove saddles\\r\\n* Machine heads: Standard\\r\\n* Hardware: Chrome\\r\\n* Pickguard: 3-Ply Parchment\\r\\n* Scale Length: 34&quot; (864 mm)\\r\\n* Width at Nut: 1-5/8&quot; (41.3 mm)\\r\\n* Unique features: Knurled chrome P Bass knobs, Fender transition logo</td><td>799.99</td><td>499.99</td><td>125.00</td><td>1</td><td>5.00</td><td>26.25</td><td>Gladys</td><td>Rim</td><td>3 Mcauley Dr</td><td></td><td>Ashland</td><td>OH</td><td>44805</td><td>gladys.rim@rim.org</td></tr>",
            "<tr><td>Guitars</td><td>Fender Stratocaster</td><td>The Fender Stratocaster is the electric guitar design that changed the world. New features include a tinted neck, parchment pickguard and control knobs, and a &#39;70s-style logo. Includes select alder body, 21-fret maple neck with your choice of a rosewood or maple fretboard, 3 single-coil pickups, vintage-style tremolo, and die-cast tuning keys. This guitar features a thicker bridge block for increased sustain and a more stable point of contact with the strings. At this low price, why play anything but the real thing?\\r\\n\\r\\nFeatures:\\r\\n\\r\\n* New features:\\r\\n* Thicker bridge block\\r\\n* 3-ply parchment pick guard\\r\\n* Tinted neck</td><td>699.00</td><td>2517.00</td><td>1308.84</td><td>1</td><td>10.00</td><td>118.82</td><td>Yuki</td><td>Whobrey</td><td>6 S 33rd St</td><td></td><td>Aston</td><td>PA</td><td>19014</td><td>yuki_whobrey@aol.com</td></tr>",
            "<tr><td>Guitars</td><td>Rodriguez Caballero 11</td><td>Featuring a carefully chosen, solid Canadian cedar top and laminated bubinga back and sides, the Caballero 11 classical guitar is a beauty to behold and play. The headstock and fretboard are of Indian rosewood. Nickel-plated tuners and Silver-plated frets are installed to last a lifetime. The body binding and wood rosette are exquisite.\\r\\n\\r\\nThe Rodriguez Guitar is hand crafted and glued to create precise balances. From the invisible careful sanding, even inside the body, that ensures the finished instrument&#39;s purity of tone, to the beautifully unique rosette inlays around the soundhole and on the back of the neck, each guitar is a credit to its luthier and worthy of being handed down from one generation to another.\\r\\n\\r\\nThe tone, resonance and beauty of fine guitars are all dependent upon the wood from which they are made. The wood used in the construction of Rodriguez guitars is carefully chosen and aged to guarantee the highest quality. No wood is purchased before the tree has been cut down, and at least 2 years must elapse before the tree is turned into lumber. The wood has to be well cut from the log. The grain must be close and absolutely vertical. The shop is totally free from humidity.</td><td>415.00</td><td>699.00</td><td>209.70</td><td>1</td><td>10.00</td><td>118.82</td><td>Yuki</td><td>Whobrey</td><td>6 S 33rd St</td><td></td><td>Aston</td><td>PA</td><td>19014</td><td>yuki_whobrey@aol.com</td></tr>",
            "<tr><td>Drums</td><td>Tama 5-Piece Drum Set with Cymbals</td><td>The Tama 5-piece Drum Set is the most affordable Tama drum kit ever to incorporate so many high-end features.\\r\\n\\r\\nWith over 40 years of experience, Tama knows what drummers really want. Which is why, no matter how long you&#39;ve been playing the drums, no matter what budget you have to work with, Tama has the set you need, want, and can afford. Every aspect of the modern drum kit was exhaustively examined and reexamined and then improved before it was accepted as part of the Tama design. Which is why, if you start playing Tama now as a beginner, you&#39;ll still enjoy playing it when you&#39;ve achieved pro-status. That&#39;s how good these groundbreaking new drums are.\\r\\n\\r\\nOnly Tama comes with a complete set of genuine Meinl HCS cymbals. These high-quality brass cymbals are made in Germany and are sonically matched so they sound great together. They are even lathed for a more refined tonal character. The set includes 14&quot; hi-hats, 16&quot; crash cymbal, and a 20&quot; ride cymbal.\\r\\n\\r\\nFeatures:\\r\\n\\r\\n* 100% poplar 6-ply/7.5mm shells\\r\\n* Precise bearing edges\\r\\n* 100% glued finishes\\r\\n* Original small lugs\\r\\n* Drum heads\\r\\n* Accu-tune bass drum hoops\\r\\n* Spur brackets\\r\\n* Tom holder\\r\\n* Tom brackets</td><td>799.99</td><td>299.00</td><td>0.00</td><td>2</td><td>10.00</td><td>41.86</td><td>Fletcher</td><td>Flosi</td><td>92 Broadway</td><td></td><td>Astoria</td><td>NY</td><td>11103</td><td>fletcher.flosi@yahoo.com</td></tr>",
            "<tr><td>Guitars</td><td>Gibson Les Paul</td><td>This Les Paul guitar offers a carved top and humbucking pickups. It has a simple yet elegant design. Cutting-yet-rich tone?the hallmark of the Les Paul?pours out of the 490R and 498T Alnico II magnet humbucker pickups, which are mounted on a carved maple top with a mahogany back. The faded finish models are equipped with BurstBucker Pro pickups and a mahogany top. This guitar includes a Gibson hardshell case (Faded and satin finish models come with a gig bag) and a limited lifetime warranty.\\r\\n\\r\\nFeatures:\\r\\n\\r\\n* Carved maple top and mahogany back (Mahogany top on faded finish models)\\r\\n* Mahogany neck, &#39;59 Rounded Les Paul\\r\\n* Rosewood fingerboard (Ebony on Alpine white)\\r\\n* Tune-O-Matic bridge with stopbar\\r\\n* Chrome or gold hardware\\r\\n* 490R and 498T Alnico 2 magnet humbucker pickups (BurstBucker Pro on faded finish models)\\r\\n* 2 volume and 2 tone knobs, 3-way switch</td><td>1199.00</td><td>1199.00</td><td>359.70</td><td>1</td><td>5.00</td><td>58.75</td><td>Bette</td><td>Nicka</td><td>45 2nd Ave #9759</td><td></td><td>Atlanta</td><td>GA</td><td>30328</td><td>bette_nicka@cox.net</td></tr>",
            "<tr><td>Guitars</td><td>Rodriguez Caballero 11</td><td>Featuring a carefully chosen, solid Canadian cedar top and laminated bubinga back and sides, the Caballero 11 classical guitar is a beauty to behold and play. The headstock and fretboard are of Indian rosewood. Nickel-plated tuners and Silver-plated frets are installed to last a lifetime. The body binding and wood rosette are exquisite.\\r\\n\\r\\nThe Rodriguez Guitar is hand crafted and glued to create precise balances. From the invisible careful sanding, even inside the body, that ensures the finished instrument&#39;s purity of tone, to the beautifully unique rosette inlays around the soundhole and on the back of the neck, each guitar is a credit to its luthier and worthy of being handed down from one generation to another.\\r\\n\\r\\nThe tone, resonance and beauty of fine guitars are all dependent upon the wood from which they are made. The wood used in the construction of Rodriguez guitars is carefully chosen and aged to guarantee the highest quality. No wood is purchased before the tree has been cut down, and at least 2 years must elapse before the tree is turned into lumber. The wood has to be well cut from the log. The grain must be close and absolutely vertical. The shop is totally free from humidity.</td><td>415.00</td><td>699.00</td><td>209.70</td><td>1</td><td>5.00</td><td>0.00</td><td>Bette</td><td>Nicka</td><td>45 2nd Ave #9759</td><td></td><td>Atlanta</td><td>GA</td><td>30328</td><td>bette_nicka@cox.net</td></tr>",
            "<tr><td>Guitars</td><td>Gibson Les Paul</td><td>This Les Paul guitar offers a carved top and humbucking pickups. It has a simple yet elegant design. Cutting-yet-rich tone?the hallmark of the Les Paul?pours out of the 490R and 498T Alnico II magnet humbucker pickups, which are mounted on a carved maple top with a mahogany back. The faded finish models are equipped with BurstBucker Pro pickups and a mahogany top. This guitar includes a Gibson hardshell case (Faded and satin finish models come with a gig bag) and a limited lifetime warranty.\\r\\n\\r\\nFeatures:\\r\\n\\r\\n* Carved maple top and mahogany back (Mahogany top on faded finish models)\\r\\n* Mahogany neck, &#39;59 Rounded Les Paul\\r\\n* Rosewood fingerboard (Ebony on Alpine white)\\r\\n* Tune-O-Matic bridge with stopbar\\r\\n* Chrome or gold hardware\\r\\n* 490R and 498T Alnico 2 magnet humbucker pickups (BurstBucker Pro on faded finish models)\\r\\n* 2 volume and 2 tone knobs, 3-way switch</td><td>1199.00</td><td>1199.00</td><td>359.70</td><td>1</td><td>5.00</td><td>58.75</td><td>Bette</td><td>Nicka</td><td>26 Montgomery St</td><td></td><td>Atlanta</td><td>GA</td><td>30328</td><td>bette_nicka@cox.net</td></tr>",
            "<tr><td>Guitars</td><td>Rodriguez Caballero 11</td><td>Featuring a carefully chosen, solid Canadian cedar top and laminated bubinga back and sides, the Caballero 11 classical guitar is a beauty to behold and play. The headstock and fretboard are of Indian rosewood. Nickel-plated tuners and Silver-plated frets are installed to last a lifetime. The body binding and wood rosette are exquisite.\\r\\n\\r\\nThe Rodriguez Guitar is hand crafted and glued to create precise balances. From the invisible careful sanding, even inside the body, that ensures the finished instrument&#39;s purity of tone, to the beautifully unique rosette inlays around the soundhole and on the back of the neck, each guitar is a credit to its luthier and worthy of being handed down from one generation to another.\\r\\n\\r\\nThe tone, resonance and beauty of fine guitars are all dependent upon the wood from which they are made. The wood used in the construction of Rodriguez guitars is carefully chosen and aged to guarantee the highest quality. No wood is purchased before the tree has been cut down, and at least 2 years must elapse before the tree is turned into lumber. The wood has to be well cut from the log. The grain must be close and absolutely vertical. The shop is totally free from humidity.</td><td>415.00</td><td>699.00</td><td>209.70</td><td>1</td><td>5.00</td><td>0.00</td><td>Bette</td><td>Nicka</td><td>26 Montgomery St</td><td></td><td>Atlanta</td><td>GA</td><td>30328</td><td>bette_nicka@cox.net</td></tr>",
            "<tr><td>Guitars</td><td>Gibson SG</td><td>This Gibson SG electric guitar takes the best of the &#39;62 original and adds the longer and sturdier neck joint of the late &#39;60s models. All the classic features you&#39;d expect from a historic guitar. Hot humbuckers go from rich, sweet lightning to warm, tingling waves of sustain. A silky-fast rosewood fretboard plays like a dream. The original-style beveled mahogany body looks like a million bucks. Plus, Tune-O-Matic bridge and chrome hardware. Limited lifetime warranty. Includes hardshell case.\\r\\n\\r\\nFeatures:\\r\\n\\r\\n* Double-cutaway beveled mahogany body\\r\\n* Set mahogany neck with rounded &#39;50s profile\\r\\n* Bound rosewood fingerboard with trapezoid inlays\\r\\n* Tune-O-Matic bridge with stopbar tailpiece\\r\\n* Chrome hardware\\r\\n* 490R humbucker in the neck position\\r\\n* 498T humbucker in the bridge position\\r\\n* 2 volume knobs, 2 tone knobs, 3-way switch\\r\\n* 24-3/4&quot; scale</td><td>2517.00</td><td>799.99</td><td>240.00</td><td>1</td><td>5.00</td><td>39.20</td><td>Veronika</td><td>Inouye</td><td>187 Market St</td><td></td><td>Atlanta</td><td>GA</td><td>30342</td><td>vinouye@aol.com</td></tr>",
            "<tr><td>Basses</td><td>Hofner Icon</td><td>With authentic details inspired by the original, the Hofner Icon makes the legendary violin bass available to the rest of us. Don&#39;t get the idea that this a just a &quot;nowhere man&quot; look-alike. This quality instrument features a real spruce top and beautiful flamed maple back and sides. The semi-hollow body and set neck will give you the warm, round tone you expect from the violin bass.\\r\\n\\r\\nFeatures:\\r\\n\\r\\n* Authentic details inspired by the original\\r\\n* Spruce top\\r\\n* Flamed maple back and sides\\r\\n* Set neck\\r\\n* Rosewood fretboard\\r\\n* 30&quot; scale\\r\\n* 22 frets\\r\\n* Dot inlay</td><td>499.99</td><td>489.99</td><td>186.20</td><td>1</td><td>5.00</td><td>21.27</td><td>Willard</td><td>Kolmetz</td><td>82 Winsor St #54</td><td></td><td>Atlanta</td><td>GA</td><td>30340</td><td>willard@hotmail.com</td></tr>",
            "<tr><td>Guitars</td><td>Fender Stratocaster</td><td>The Fender Stratocaster is the electric guitar design that changed the world. New features include a tinted neck, parchment pickguard and control knobs, and a &#39;70s-style logo. Includes select alder body, 21-fret maple neck with your choice of a rosewood or maple fretboard, 3 single-coil pickups, vintage-style tremolo, and die-cast tuning keys. This guitar features a thicker bridge block for increased sustain and a more stable point of contact with the strings. At this low price, why play anything but the real thing?\\r\\n\\r\\nFeatures:\\r\\n\\r\\n* New features:\\r\\n* Thicker bridge block\\r\\n* 3-ply parchment pick guard\\r\\n* Tinted neck</td><td>699.00</td><td>2517.00</td><td>1308.84</td><td>1</td><td>5.00</td><td>84.57</td><td>Maryann</td><td>Royster</td><td>92 Main St</td><td></td><td>Atlantic City</td><td>NJ</td><td>8401</td><td>mroyster@royster.com</td></tr>",
            "<tr><td>Guitars</td><td>Fender Stratocaster</td><td>The Fender Stratocaster is the electric guitar design that changed the world. New features include a tinted neck, parchment pickguard and control knobs, and a &#39;70s-style logo. Includes select alder body, 21-fret maple neck with your choice of a rosewood or maple fretboard, 3 single-coil pickups, vintage-style tremolo, and die-cast tuning keys. This guitar features a thicker bridge block for increased sustain and a more stable point of contact with the strings. At this low price, why play anything but the real thing?\\r\\n\\r\\nFeatures:\\r\\n\\r\\n* New features:\\r\\n* Thicker bridge block\\r\\n* 3-ply parchment pick guard\\r\\n* Tinted neck</td><td>699.00</td><td>2517.00</td><td>1308.84</td><td>1</td><td>5.00</td><td>84.57</td><td>Maryann</td><td>Royster</td><td>506 S Hacienda Dr</td><td></td><td>Atlantic City</td><td>NJ</td><td>8401</td><td>mroyster@royster.com</td></tr>",
            "<tr><td>Guitars</td><td>Gibson Les Paul</td><td>This Les Paul guitar offers a carved top and humbucking pickups. It has a simple yet elegant design. Cutting-yet-rich tone?the hallmark of the Les Paul?pours out of the 490R and 498T Alnico II magnet humbucker pickups, which are mounted on a carved maple top with a mahogany back. The faded finish models are equipped with BurstBucker Pro pickups and a mahogany top. This guitar includes a Gibson hardshell case (Faded and satin finish models come with a gig bag) and a limited lifetime warranty.\\r\\n\\r\\nFeatures:\\r\\n\\r\\n* Carved maple top and mahogany back (Mahogany top on faded finish models)\\r\\n* Mahogany neck, &#39;59 Rounded Les Paul\\r\\n* Rosewood fingerboard (Ebony on Alpine white)\\r\\n* Tune-O-Matic bridge with stopbar\\r\\n* Chrome or gold hardware\\r\\n* 490R and 498T Alnico 2 magnet humbucker pickups (BurstBucker Pro on faded finish models)\\r\\n* 2 volume and 2 tone knobs, 3-way switch</td><td>1199.00</td><td>1199.00</td><td>359.70</td><td>2</td><td>10.00</td><td>117.50</td><td>Alisha</td><td>Slusarski</td><td>59 N Groesbeck Hwy</td><td></td><td>Austin</td><td>TX</td><td>78731</td><td>alisha@slusarski.com</td></tr>",
            "<tr><td>Guitars</td><td>Gibson Les Paul</td><td>This Les Paul guitar offers a carved top and humbucking pickups. It has a simple yet elegant design. Cutting-yet-rich tone?the hallmark of the Les Paul?pours out of the 490R and 498T Alnico II magnet humbucker pickups, which are mounted on a carved maple top with a mahogany back. The faded finish models are equipped with BurstBucker Pro pickups and a mahogany top. This guitar includes a Gibson hardshell case (Faded and satin finish models come with a gig bag) and a limited lifetime warranty.\\r\\n\\r\\nFeatures:\\r\\n\\r\\n* Carved maple top and mahogany back (Mahogany top on faded finish models)\\r\\n* Mahogany neck, &#39;59 Rounded Les Paul\\r\\n* Rosewood fingerboard (Ebony on Alpine white)\\r\\n* Tune-O-Matic bridge with stopbar\\r\\n* Chrome or gold hardware\\r\\n* 490R and 498T Alnico 2 magnet humbucker pickups (BurstBucker Pro on faded finish models)\\r\\n* 2 volume and 2 tone knobs, 3-way switch</td><td>1199.00</td><td>1199.00</td><td>359.70</td><td>2</td><td>10.00</td><td>117.50</td><td>Alisha</td><td>Slusarski</td><td>2026 N Plankinton Ave #3</td><td></td><td>Austin</td><td>TX</td><td>78754</td><td>alisha@slusarski.com</td></tr>",
            "<tr><td>Guitars</td><td>Rodriguez Caballero 11</td><td>Featuring a carefully chosen, solid Canadian cedar top and laminated bubinga back and sides, the Caballero 11 classical guitar is a beauty to behold and play. The headstock and fretboard are of Indian rosewood. Nickel-plated tuners and Silver-plated frets are installed to last a lifetime. The body binding and wood rosette are exquisite.\\r\\n\\r\\nThe Rodriguez Guitar is hand crafted and glued to create precise balances. From the invisible careful sanding, even inside the body, that ensures the finished instrument&#39;s purity of tone, to the beautifully unique rosette inlays around the soundhole and on the back of the neck, each guitar is a credit to its luthier and worthy of being handed down from one generation to another.\\r\\n\\r\\nThe tone, resonance and beauty of fine guitars are all dependent upon the wood from which they are made. The wood used in the construction of Rodriguez guitars is carefully chosen and aged to guarantee the highest quality. No wood is purchased before the tree has been cut down, and at least 2 years must elapse before the tree is turned into lumber. The wood has to be well cut from the log. The grain must be close and absolutely vertical. The shop is totally free from humidity.</td><td>415.00</td><td>699.00</td><td>209.70</td><td>1</td><td>5.00</td><td>34.25</td><td>Allene</td><td>Iturbide</td><td>3125 Packer Ave #9851</td><td></td><td>Austin</td><td>TX</td><td>78753</td><td>allene_iturbide@cox.net</td></tr>",
            "<tr><td>Basses</td><td>Hofner Icon</td><td>With authentic details inspired by the original, the Hofner Icon makes the legendary violin bass available to the rest of us. Don&#39;t get the idea that this a just a &quot;nowhere man&quot; look-alike. This quality instrument features a real spruce top and beautiful flamed maple back and sides. The semi-hollow body and set neck will give you the warm, round tone you expect from the violin bass.\\r\\n\\r\\nFeatures:\\r\\n\\r\\n* Authentic details inspired by the original\\r\\n* Spruce top\\r\\n* Flamed maple back and sides\\r\\n* Set neck\\r\\n* Rosewood fretboard\\r\\n* 30&quot; scale\\r\\n* 22 frets\\r\\n* Dot inlay</td><td>499.99</td><td>489.99</td><td>186.20</td><td>1</td><td>10.00</td><td>55.52</td><td>Chanel</td><td>Caudy</td><td>228 Runamuck Pl #2808</td><td></td><td>Baltimore</td><td>MD</td><td>21224</td><td>chanel.caudy@caudy.org</td></tr>",
            "<tr><td>Guitars</td><td>Rodriguez Caballero 11</td><td>Featuring a carefully chosen, solid Canadian cedar top and laminated bubinga back and sides, the Caballero 11 classical guitar is a beauty to behold and play. The headstock and fretboard are of Indian rosewood. Nickel-plated tuners and Silver-plated frets are installed to last a lifetime. The body binding and wood rosette are exquisite.\\r\\n\\r\\nThe Rodriguez Guitar is hand crafted and glued to create precise balances. From the invisible careful sanding, even inside the body, that ensures the finished instrument&#39;s purity of tone, to the beautifully unique rosette inlays around the soundhole and on the back of the neck, each guitar is a credit to its luthier and worthy of being handed down from one generation to another.\\r\\n\\r\\nThe tone, resonance and beauty of fine guitars are all dependent upon the wood from which they are made. The wood used in the construction of Rodriguez guitars is carefully chosen and aged to guarantee the highest quality. No wood is purchased before the tree has been cut down, and at least 2 years must elapse before the tree is turned into lumber. The wood has to be well cut from the log. The grain must be close and absolutely vertical. The shop is totally free from humidity.</td><td>415.00</td><td>699.00</td><td>209.70</td><td>1</td><td>10.00</td><td>55.52</td><td>Chanel</td><td>Caudy</td><td>228 Runamuck Pl #2808</td><td></td><td>Baltimore</td><td>MD</td><td>21224</td><td>chanel.caudy@caudy.org</td></tr>",
            "</table>"
        ]
    }
}
],
            "execution_count": 17
        }
    ]
}